{
  "cells": [
    {
      "cell_type": "markdown",
      "metadata": {
        "id": "uCL_kEI5MaBQ"
      },
      "source": [
        "#**Drive mount**"
      ]
    },
    {
      "cell_type": "code",
      "execution_count": null,
      "metadata": {
        "id": "VPcE5wbH8VwQ",
        "colab": {
          "base_uri": "https://localhost:8080/"
        },
        "outputId": "83cd7314-8bdb-4467-a8ee-47632d6a442e"
      },
      "outputs": [
        {
          "output_type": "stream",
          "name": "stdout",
          "text": [
            "Mounted at /content/drive\n"
          ]
        }
      ],
      "source": [
        "from google.colab import drive\n",
        "import shutil\n",
        "drive.mount('/content/drive')"
      ]
    },
    {
      "cell_type": "markdown",
      "source": [
        "## Imports"
      ],
      "metadata": {
        "id": "G5q0EK6ErlHP"
      }
    },
    {
      "cell_type": "code",
      "source": [
        "!pip install torch-scatter torch-sparse torch-cluster torch-spline-conv torch-geometric -f https://data.pyg.org/whl/torch-1.12.0+cu113.html\n",
        "!pip install pingouin"
      ],
      "metadata": {
        "id": "BIHhHNfot4rS"
      },
      "execution_count": null,
      "outputs": []
    },
    {
      "cell_type": "code",
      "source": [
        "import scipy.io\n",
        "import pandas as pd\n",
        "import os\n",
        "import random\n",
        "\n",
        "import torch\n",
        "from torch.nn import Linear\n",
        "import torch.nn.functional as F\n",
        "from torch_geometric.nn import GCNConv, global_mean_pool, SAGEConv\n",
        "from torch_geometric.nn import global_mean_pool as gap, global_max_pool as gmp, global_add_pool as gaddp\n",
        "\n",
        "import numpy as np\n",
        "import pickle\n",
        "\n",
        "import pingouin\n",
        "from scipy import signal"
      ],
      "metadata": {
        "id": "A8np-oJYrXe2"
      },
      "execution_count": null,
      "outputs": []
    },
    {
      "cell_type": "markdown",
      "source": [
        "## Loading first dataset (working memory)"
      ],
      "metadata": {
        "id": "DrgmrkR0rEzX"
      }
    },
    {
      "cell_type": "code",
      "source": [
        "SUBJECTS_FOLDER = '/content/drive/MyDrive/Social memory cuing full dataset/derivatives/EEGPreprocessedDataTableStudy'\n",
        "CURR_SUB = \"sub-41\"\n",
        "SINGLE_SUBJECT = os.path.join(SUBJECTS_FOLDER, os.path.join(CURR_SUB, \"ProcessedData/data_ica.mat\"))\n",
        "SUBJECTS = [ name for name in os.listdir(SUBJECTS_FOLDER) if os.path.isdir(os.path.join(SUBJECTS_FOLDER, name)) ]\n",
        "SUBJECTS.sort()\n",
        "DATA = \"ProcessedData/data_ica.mat\""
      ],
      "metadata": {
        "id": "JT0xivNP7u_g"
      },
      "execution_count": null,
      "outputs": []
    },
    {
      "cell_type": "markdown",
      "source": [
        "## Single subject data"
      ],
      "metadata": {
        "id": "jW5f3BY9aD-N"
      }
    },
    {
      "cell_type": "code",
      "source": [
        "mat = scipy.io.loadmat(SINGLE_SUBJECT)\n",
        "trial = mat['trial']\n",
        "trialinfo = mat['trialinfo']"
      ],
      "metadata": {
        "id": "JJ_WE8zHrBTU"
      },
      "execution_count": null,
      "outputs": []
    },
    {
      "cell_type": "code",
      "source": [
        "channels = []\n",
        "for channel in mat['label']:\n",
        "  channels.append(channel[0][0])\n",
        "\n",
        "channels_list = ['Fp1','Fpz','Fp2',\n",
        "    'AF3','AF4',\n",
        "    'F7','F3','Fz','F4','F8',\n",
        "    'FC5','FC1','FC2','FC6',\n",
        "    'C3','Cz','C4',\n",
        "    'CP5','CP1','CP2','CP6',\n",
        "    'P5','P3','Pz','P4','P6',\n",
        "    'POz','O1','O2']\n",
        "\n",
        "indexes = []\n",
        "for ch in channels_list:\n",
        "  indexes.append(channels.index(ch))"
      ],
      "metadata": {
        "id": "mZAn1nnLIOAX"
      },
      "execution_count": null,
      "outputs": []
    },
    {
      "cell_type": "code",
      "source": [
        "trials = []\n",
        "labels = []\n",
        "trial = np.transpose(np.squeeze(trial))\n",
        "for i, t in enumerate(trial):\n",
        "  trials.append(t[indexes, 1250:1750])\n",
        "  labels.append(trialinfo[i, 5]-1)  #zero is stick, one is avatar --- the -1 to have labels with 0 or 1 values (in dataset are 1 and 2)\n",
        "\n",
        "trials = list(signal.decimate(np.transpose(trials, [0, 2, 1]), 4, axis = 1))\n",
        "print(np.shape(trials))\n",
        "print(np.shape(labels))"
      ],
      "metadata": {
        "colab": {
          "base_uri": "https://localhost:8080/"
        },
        "id": "GfUioVZKjDxf",
        "outputId": "853ae901-a0e3-4bc5-e8db-23edd8f09f90"
      },
      "execution_count": null,
      "outputs": [
        {
          "output_type": "stream",
          "name": "stdout",
          "text": [
            "(224, 125, 29)\n",
            "(224,)\n"
          ]
        }
      ]
    },
    {
      "cell_type": "markdown",
      "source": [
        "## One channel EEG visualization"
      ],
      "metadata": {
        "id": "9FWbISL_aKQV"
      }
    },
    {
      "cell_type": "code",
      "source": [
        "import matplotlib.pyplot as plt\n",
        "\n",
        "print(labels[0])\n",
        "print(labels[150])\n",
        "\n",
        "plt.plot(trials[0][:, 0])\n",
        "\n",
        "plt.plot(trials[210][:, 0])"
      ],
      "metadata": {
        "id": "TLctAVt4ueCM",
        "colab": {
          "base_uri": "https://localhost:8080/",
          "height": 322
        },
        "outputId": "b5fa0830-b8d3-40dd-8142-b98695c1d93c"
      },
      "execution_count": null,
      "outputs": [
        {
          "output_type": "stream",
          "name": "stdout",
          "text": [
            "0\n",
            "1\n"
          ]
        },
        {
          "output_type": "execute_result",
          "data": {
            "text/plain": [
              "[<matplotlib.lines.Line2D at 0x7f1efe59c150>]"
            ]
          },
          "metadata": {},
          "execution_count": 7
        },
        {
          "output_type": "display_data",
          "data": {
            "text/plain": [
              "<Figure size 432x288 with 1 Axes>"
            ],
            "image/png": "[encoded data removed]"
          },
          "metadata": {
            "needs_background": "light"
          }
        }
      ]
    },
    {
      "cell_type": "markdown",
      "source": [
        "## Parameters"
      ],
      "metadata": {
        "id": "WVPjR4dJUAJb"
      }
    },
    {
      "cell_type": "code",
      "source": [
        "NUM_EPOCHS = 400\n",
        "TRAIN_BATCH_SIZE = 64\n",
        "TEST_BATCH_SIZE = 34\n",
        "VAL_BATCH_SIZE = 23\n",
        "LEARNING_RATE = 0.00001\n",
        "embedding_size = 150\n",
        "\n",
        "FEATURES_TYPE = \"adj\"\n",
        "SAVE_MODEL_VERSION = \"1.0.0\"\n",
        "CURR_SWEEP_ID = 0\n",
        "MODEL_TYPE = \"SAGE_GL\"\n",
        "#CURR_DIR = \"/content/drive/MyDrive/Tesi/Classification/GraphSAGE/\" + CURR_SUB + \"/sweep\" + str(CURR_SWEEP_ID)\n",
        "CURR_DIR = \"/content/drive/MyDrive/Tesi/Classification+GL/HyperParamsTuning_\" + MODEL_TYPE + \"/\" + CURR_SUB + \"/sweep\" + str(CURR_SWEEP_ID)\n",
        "\n",
        "if not os.path.isdir(CURR_DIR):\n",
        "  os.mkdir(CURR_DIR)\n",
        "\n",
        "saved_models_dir =  CURR_DIR + SAVE_MODEL_VERSION"
      ],
      "metadata": {
        "id": "DrB1e34pRhuw"
      },
      "execution_count": null,
      "outputs": []
    },
    {
      "cell_type": "markdown",
      "source": [
        "## Adjacency Matrix"
      ],
      "metadata": {
        "id": "9roFQ7hTyMTH"
      }
    },
    {
      "cell_type": "code",
      "source": [
        "def edge_index_computation(trial_p):\n",
        "\n",
        "  starts = []\n",
        "  stops = []\n",
        "  trial_df = pd.DataFrame(trial_p)\n",
        "\n",
        "  corr_matrix = np.array(trial_df.pcorr())\n",
        "  adj_matrix = np.round(np.abs(corr_matrix))\n",
        "\n",
        "  for i in range(np.shape(adj_matrix)[0]):\n",
        "    for j in range(np.shape(adj_matrix)[0]):\n",
        "      if adj_matrix[i, j] == 1:\n",
        "        starts.append(i)\n",
        "        stops.append(j)\n",
        "\n",
        "  edge_indices = [starts,stops]\n",
        "  return edge_indices\n",
        "\n",
        "def get_edges(trials):\n",
        "  all_edges = []\n",
        "  for trial in trials:\n",
        "    all_edges.append(edge_index_computation(trial))\n",
        "\n",
        "  return all_edges"
      ],
      "metadata": {
        "id": "hZGPi9HkxRVM"
      },
      "execution_count": null,
      "outputs": []
    },
    {
      "cell_type": "code",
      "source": [
        "def zscore_normalization(train_data, val_data, train_labels, val_labels):\n",
        "  resting_state_train_idxs = [i for i, j in enumerate(train_labels) if j == 3]\n",
        "  resting_state_val_idxs = [i for i, j in enumerate(val_labels) if j == 3]\n",
        "\n",
        "  resting_state_train = list(map(train_data.__getitem__, resting_state_train_idxs))\n",
        "  resting_state_val = list(map(val_data.__getitem__, resting_state_val_idxs))\n",
        "\n",
        "  rs_avg_train = np.mean(resting_state_train)\n",
        "  rs_std_train = np.std(resting_state_train)\n",
        "\n",
        "  rs_avg_val = np.mean(resting_state_val)\n",
        "  rs_std_val = np.std(resting_state_val)\n",
        "\n",
        "  train_data = normalize_trials(train_data, rs_avg_train, rs_std_train)\n",
        "  val_data = normalize_trials(val_data, rs_avg_val, rs_std_val)\n",
        "\n",
        "  return train_data, val_data\n",
        "\n",
        "\n",
        "def normalize_trials(trials, avg, std):\n",
        "  norm_trials = []\n",
        "  for t in trials:\n",
        "    norm_trials.append((t- avg)/std)\n",
        "\n",
        "  return norm_trials\n",
        "\n",
        "def normalize_list(lst):\n",
        "  return (lst - np.mean(lst))/np.std(lst)\n",
        "\n",
        "def _normalize_trial_by_channel(trial):\n",
        "  \n",
        "  for i in range(22):\n",
        "    ch_avg = np.mean(trial[:, i])\n",
        "    ch_std = np.std(trial[:, i])\n",
        "    trial[:, i] = (trial[:, i] - ch_avg)/ch_std\n",
        "\n",
        "  return trial\n",
        "\n",
        "def _normalize_trial(trial):\n",
        "  trial_avg = np.mean(trial)\n",
        "  trial_std = np.std(trial)\n",
        "\n",
        "  trial = (trial - trial_avg)/trial_std\n",
        "  return trial"
      ],
      "metadata": {
        "id": "ccTMBtt9MvgZ"
      },
      "execution_count": null,
      "outputs": []
    },
    {
      "cell_type": "code",
      "source": [
        "#Node features are composed by the entries of the node's corresponding row in the correlation matrix\n",
        "\n",
        "def adj_features(trial):\n",
        "  feat = []\n",
        "  trial_df = pd.DataFrame(trial, columns=mat['label'][indexes])\n",
        "  corr_matrix = np.array(trial_df.corr())\n",
        "\n",
        "  corr_matrix = _normalize_trial(corr_matrix)\n",
        "\n",
        "  for i in range(np.shape(corr_matrix)[0]):\n",
        "    feat.append(list(np.squeeze(corr_matrix[i, :])))\n",
        "\n",
        "  return feat\n",
        "\n",
        "def svd_features(trial):\n",
        "  feat = []\n",
        "  trial_df = pd.DataFrame(trial, columns=mat['label'][indexes])\n",
        "  corr_matrix = np.array(trial_df.corr())\n",
        "  \n",
        "  u, s, v = scipy.linalg.svd(corr_matrix)\n",
        "  u = _normalize_trial(u)\n",
        "\n",
        "\n",
        "  for i in range(np.shape(u)[0]):\n",
        "    feat.append(list(np.squeeze(u[i, :])))\n",
        "\n",
        "  return feat\n",
        "\n",
        "def get_features(trials, feats_type = \"adj\"):\n",
        "  all_feats = []\n",
        "  for trial in trials:\n",
        "    if feats_type == \"adj\":\n",
        "      all_feats.append(adj_features(trial))\n",
        "    elif feats_type == \"plv\":\n",
        "      all_feats.append(plv_features(trial))\n",
        "    elif feats_type == \"adj+plv\":\n",
        "      adj = adj_features(trial)\n",
        "      plv = plv_features(trial)\n",
        "      feat = adj+plv \n",
        "      all_feats.append(feat)\n",
        "    else:\n",
        "      all_feats.append(svd_features(trial))\n",
        "\n",
        "  if feats_type == \"adj+plv\":\n",
        "    all_feats = np.transpose(all_feats, [0, 2, 1])\n",
        "  return all_feats"
      ],
      "metadata": {
        "id": "d7fTWW1Om1dd"
      },
      "execution_count": null,
      "outputs": []
    },
    {
      "cell_type": "code",
      "source": [
        "from torch.utils.data import Dataset\n",
        "from torch_geometric.data import Data\n",
        "\n",
        "class EEG_dataset(Dataset):\n",
        "\n",
        "    def __init__(self, trials, labels):\n",
        "        self.trials = trials\n",
        "        self.labels = labels\n",
        "        self.features = get_features(trials, FEATURES_TYPE)\n",
        "        self.edges = get_edges(trials)\n",
        "    \n",
        "    def __len__(self):\n",
        "      return len(self.trials)\n",
        "\n",
        "    def __getitem__(self, idx):\n",
        "        return Data(x = torch.tensor(self.features[idx]),\n",
        "                    edge_index = torch.tensor(self.edges[idx]),\n",
        "                    y = torch.tensor(self.labels[idx], dtype = torch.long))"
      ],
      "metadata": {
        "id": "VqoLwB07swcg"
      },
      "execution_count": null,
      "outputs": []
    },
    {
      "cell_type": "markdown",
      "source": [
        "## Fixed split"
      ],
      "metadata": {
        "id": "gwR7QCAv-yk_"
      }
    },
    {
      "cell_type": "code",
      "source": [
        "trials_0 = trials[:112]\n",
        "trials_1 = trials[112:]\n",
        "\n",
        "labels_0 = labels[:112]\n",
        "labels_1 = labels[112:]\n",
        "\n",
        "train_data_0 = trials_0[:83]\n",
        "test_data_0 = trials_0[83:100]\n",
        "val_data_0 = trials_0[100:]\n",
        "\n",
        "train_data_1 = trials_1[:84]\n",
        "test_data_1 = trials_1[84:101]\n",
        "val_data_1 = trials_1[101:]\n",
        "\n",
        "train_labels_0 = labels_0[:83]\n",
        "test_labels_0 = labels_0[83:100]\n",
        "val_labels_0 = labels_0[100:]\n",
        "\n",
        "train_labels_1 = labels_1[:84]\n",
        "test_labels_1 = labels_1[84:101]\n",
        "val_labels_1 = labels_1[101:]\n",
        "\n",
        "train_data = train_data_0 + train_data_1\n",
        "val_data = val_data_0 + val_data_1\n",
        "test_data = test_data_0 + test_data_1\n",
        "\n",
        "train_labels = train_labels_0 + train_labels_1\n",
        "val_labels = val_labels_0 + val_labels_1\n",
        "test_labels = test_labels_0 + test_labels_1\n",
        "\n",
        "print(np.shape(train_data))\n",
        "print(np.shape(val_data))\n",
        "print(np.shape(test_data))\n",
        "\n",
        "print(val_labels.count(1)/len(val_labels))\n",
        "print(test_labels.count(1)/len(test_labels))\n",
        "print(train_labels.count(1)/len(train_labels))"
      ],
      "metadata": {
        "id": "COxPtyyi7HAx"
      },
      "execution_count": null,
      "outputs": []
    },
    {
      "cell_type": "markdown",
      "source": [
        "## Random split"
      ],
      "metadata": {
        "id": "59Gr_4kP-0j6"
      }
    },
    {
      "cell_type": "code",
      "source": [
        "from sklearn.model_selection import train_test_split\n",
        "\n",
        "seed = random.random()\n",
        "random.seed(seed)\n",
        "random.shuffle(trials)\n",
        "random.seed(seed)\n",
        "random.shuffle(labels)\n",
        "\n",
        "train_val_data = trials[:int(0.85*224)]\n",
        "test_data = trials[int(0.85*224):]\n",
        "\n",
        "train_val_labels = labels[:int(0.85*224)]\n",
        "test_labels = labels[int(0.85*224):]\n",
        "\n",
        "train_data, val_data, train_labels, val_labels = train_test_split(train_val_data, train_val_labels, test_size=0.12)\n",
        "\n",
        "print(np.shape(train_data))\n",
        "print(np.shape(val_data))\n",
        "print(np.shape(test_data))\n",
        "\n",
        "# Show val dataset imbalance\n",
        "\n",
        "print(val_labels.count(1)/len(val_labels))\n",
        "print(test_labels.count(1)/len(test_labels))\n",
        "print(train_labels.count(1)/len(train_labels))"
      ],
      "metadata": {
        "id": "wfVvV70uwisz",
        "colab": {
          "base_uri": "https://localhost:8080/"
        },
        "outputId": "5700c10f-b212-4b1b-ebdf-510f74ce18e0"
      },
      "execution_count": null,
      "outputs": [
        {
          "output_type": "stream",
          "name": "stdout",
          "text": [
            "(167, 125, 29)\n",
            "(23, 125, 29)\n",
            "(34, 125, 29)\n",
            "0.4782608695652174\n",
            "0.5\n",
            "0.5029940119760479\n"
          ]
        }
      ]
    },
    {
      "cell_type": "code",
      "source": [
        "train_dataset = EEG_dataset(train_data, train_labels)\n",
        "val_dataset = EEG_dataset(val_data, val_labels)\n",
        "test_dataset = EEG_dataset(test_data, test_labels)\n",
        "\n",
        "print(next(iter(train_dataset)))\n",
        "print(next(iter(val_dataset)))\n",
        "print(next(iter(test_dataset)))"
      ],
      "metadata": {
        "colab": {
          "base_uri": "https://localhost:8080/"
        },
        "id": "etR370-xyIae",
        "outputId": "8fecfb99-0d8f-4676-c523-e8874807bb6d"
      },
      "execution_count": null,
      "outputs": [
        {
          "output_type": "stream",
          "name": "stdout",
          "text": [
            "Data(x=[29, 29], edge_index=[2, 121], y=0)\n",
            "Data(x=[29, 29], edge_index=[2, 143], y=0)\n",
            "Data(x=[29, 29], edge_index=[2, 97], y=1)\n"
          ]
        }
      ]
    },
    {
      "cell_type": "markdown",
      "source": [
        "# DataLoaders"
      ],
      "metadata": {
        "id": "QcilNBdHbmpd"
      }
    },
    {
      "cell_type": "code",
      "source": [
        "from torch_geometric.loader import DataLoader\n",
        "\n",
        "train_dataloader = DataLoader(train_dataset, batch_size= TRAIN_BATCH_SIZE, shuffle = True)\n",
        "val_dataloader = DataLoader(val_dataset, batch_size=VAL_BATCH_SIZE)\n",
        "test_dataloader = DataLoader(test_dataset, batch_size=TEST_BATCH_SIZE)\n",
        "\n",
        "print(next(iter(train_dataloader)))\n",
        "print(next(iter(val_dataloader)))\n",
        "print(next(iter(test_dataloader)))"
      ],
      "metadata": {
        "id": "7ORUGM7C0MRf",
        "colab": {
          "base_uri": "https://localhost:8080/"
        },
        "outputId": "797cac46-139c-40ea-995d-ae9f98e8f55e"
      },
      "execution_count": null,
      "outputs": [
        {
          "output_type": "stream",
          "name": "stdout",
          "text": [
            "DataBatch(x=[1856, 29], edge_index=[2, 9254], y=[64], batch=[1856], ptr=[65])\n",
            "DataBatch(x=[667, 29], edge_index=[2, 3387], y=[23], batch=[667], ptr=[24])\n",
            "DataBatch(x=[986, 29], edge_index=[2, 4580], y=[34], batch=[986], ptr=[35])\n"
          ]
        }
      ]
    },
    {
      "cell_type": "markdown",
      "source": [
        "## Graph Learning layer (reference paper [link](https://www.ijcai.org/proceedings/2020/0184.pdf))"
      ],
      "metadata": {
        "id": "Nk3IdirJ_3zp"
      }
    },
    {
      "cell_type": "code",
      "source": [
        "class Graph_Learn(torch.nn.Module):\n",
        "    '''\n",
        "    Graph structure learning (based on the middle time slice)\n",
        "    --------\n",
        "    Input:  (batch_size, num_of_timesteps, num_of_vertices, num_of_features)\n",
        "    Output: (batch_size, num_of_vertices, num_of_vertices)\n",
        "    '''\n",
        "    def __init__(self, alpha, **kwargs):\n",
        "        super(Graph_Learn, self).__init__(**kwargs)\n",
        "        self.alpha = alpha\n",
        "        self.S = torch.Tensor([[[0.0]]])  # similar to placeholder\n",
        "        self.diff = torch.Tensor([[[[0.0]]]])  # similar to placeholder\n",
        "        a = torch.empty((29, 1), dtype = torch.double)\n",
        "        a = torch.nn.init.uniform_(a, -0.05, 0.05)\n",
        "        self.weight = torch.nn.Parameter(a)\n",
        "\n",
        "    def forward(self, x):\n",
        "        #Input:  [N, timesteps, vertices, features]\n",
        "        N, T, V, F = x.size()\n",
        "        \n",
        "        # shape: (N,V,F) use the current slice (middle one slice)\n",
        "        x = x[:,0,:,:]\n",
        "\n",
        "        # shape: (N,V,V,F)\n",
        "        diff = torch.permute(torch.permute(torch.broadcast_to(x,[V,N,V,F]), dims=(2,1,0,3))-x, dims=(1,0,2,3))\n",
        "\n",
        "        # shape: (N,V,V)\n",
        "        tmpS = torch.exp(torch.relu(torch.reshape(torch.matmul(torch.abs(diff).to(torch.double), self.weight), [N,V,V])))\n",
        "\n",
        "        S = tmpS / torch.sum(tmpS,dim=1,keepdim=True)\n",
        "        self.diff = diff\n",
        "        self.S = S\n",
        "        return S, diff, self.alpha"
      ],
      "metadata": {
        "id": "rycN8PPsnnE2"
      },
      "execution_count": null,
      "outputs": []
    },
    {
      "cell_type": "markdown",
      "source": [
        "#Models definition"
      ],
      "metadata": {
        "id": "oKE1jk_zBHlO"
      }
    },
    {
      "cell_type": "markdown",
      "source": [
        "## Graph SAGE"
      ],
      "metadata": {
        "id": "YYywJHaVERWm"
      }
    },
    {
      "cell_type": "code",
      "source": [
        "class GraphSAGE(torch.nn.Module):\n",
        "    def __init__(self, dropout, embedding_size, linear_size, linear_size2, num_conv, alpha):\n",
        "        super(GraphSAGE, self).__init__()\n",
        "        self.initial_conv = SAGEConv(29, embedding_size, aggr = 'mean')\n",
        "        self.convs = torch.nn.ModuleList()\n",
        "        for i in range(num_conv):\n",
        "          self.convs.append(SAGEConv(embedding_size, embedding_size, aggr = 'mean'))\n",
        "\n",
        "        self.drop = torch.nn.Dropout(dropout)\n",
        "        self.relu = torch.nn.ReLU()\n",
        "\n",
        "        #Multi-layer Perceptron\n",
        "        self.out1 = Linear(embedding_size, linear_size)\n",
        "        self.out2 = Linear(linear_size, linear_size2)\n",
        "        self.out3 = Linear(linear_size2, 1)\n",
        "\n",
        "        self.gl = Graph_Learn(alpha)\n",
        "\n",
        "    def extract_edges(self, m):\n",
        "      starts, stops = [], []\n",
        "      avg_m = torch.mean(torch.abs(m))\n",
        "      adj_matrices = torch.where(m > avg_m, m, 0.)  #treshold for matrix binarization imposed to corr matrix avg\n",
        "\n",
        "      #adj_matrices = torch.round(m)\n",
        "      for k in range(adj_matrices.size(dim = 0)):\n",
        "        for i in range(adj_matrices.size(dim = 1)):\n",
        "          for j in range(adj_matrices.size(dim = 1)):\n",
        "            if adj_matrices[k, i, j] != 0:\n",
        "              if not(k == 0):\n",
        "                starts.append(i+ k*29)\n",
        "                stops.append(j+ k*29)\n",
        "              else:\n",
        "                starts.append(i)\n",
        "                stops.append(j)\n",
        "\n",
        "      return torch.tensor([starts,stops], dtype = torch.long)\n",
        "\n",
        "    def forward(self, x, edge_index, batch_index):\n",
        "        x_gl = torch.unsqueeze(torch.reshape(x, (int(x.size(dim = 0)/29), 29, 29)), 1)\n",
        "        S, diff, alpha = self.gl(x_gl)\n",
        "        edge_index = self.extract_edges(S)\n",
        "\n",
        "        x = self.initial_conv(x, edge_index)\n",
        "        x = self.relu(x)\n",
        "        \n",
        "        #Graph convolutions\n",
        "        for conv in self.convs:\n",
        "          x = conv(x, edge_index)\n",
        "          x = self.relu(x)\n",
        "\n",
        "        #Global add pooling (tunable)\n",
        "        hidden = gaddp(x, batch_index)\n",
        "\n",
        "        #Multi-layer Perceptron\n",
        "        hidden = self.out1(hidden)\n",
        "        hidden = self.drop(hidden)\n",
        "        \n",
        "        hidden = self.out2(hidden)\n",
        "        hidden = self.drop(hidden)\n",
        "        \n",
        "        hidden = self.out3(hidden)\n",
        "        out = self.drop(hidden)\n",
        "        \n",
        "        out = torch.squeeze(out, dim = 1)\n",
        "        out = torch.sigmoid(out)\n",
        "\n",
        "        return out, hidden, S, diff, alpha\n",
        "\n",
        "#model = GraphSAGE()\n",
        "#print(model)\n",
        "#print(\"Number of parameters: \", sum(p.numel() for p in model.parameters()))"
      ],
      "metadata": {
        "id": "d1Lk0mxCQV8o"
      },
      "execution_count": null,
      "outputs": []
    },
    {
      "cell_type": "markdown",
      "source": [
        "## GCN"
      ],
      "metadata": {
        "id": "_DSbza1dEN0M"
      }
    },
    {
      "cell_type": "code",
      "source": [
        "embedding_size = 400\n",
        "embedding_size2 = 200\n",
        "embedding_size3 = 100\n",
        "\n",
        "class GCN(torch.nn.Module):\n",
        "    def __init__(self):\n",
        "        # Init parent\n",
        "        super(GCN, self).__init__()\n",
        "        #torch.manual_seed(42)\n",
        "\n",
        "        # GCN layers\n",
        "        self.initial_conv = GCNConv(29, embedding_size)\n",
        "        self.conv1 = GCNConv(embedding_size, embedding_size)\n",
        "        self.conv2 = GCNConv(embedding_size, embedding_size)\n",
        "        self.conv3 = GCNConv(embedding_size, embedding_size)\n",
        "        self.drop1 = torch.nn.Dropout(0.2)\n",
        "        self.relu = torch.nn.ReLU()\n",
        "\n",
        "        # Output layer\n",
        "        self.out = Linear(embedding_size, 1)\n",
        "\n",
        "    def forward(self, x, edge_index, batch_index):\n",
        "        # First Conv layer\n",
        "        hidden = self.initial_conv(x, edge_index)\n",
        "        hidden = torch.tanh(hidden)\n",
        "\n",
        "        # Other Conv layers\n",
        "        hidden = self.conv1(hidden, edge_index)\n",
        "        hidden = torch.tanh(hidden)\n",
        "\n",
        "        hidden = self.conv2(hidden, edge_index)\n",
        "        hidden = torch.tanh(hidden)\n",
        "\n",
        "        hidden = self.conv3(hidden, edge_index)\n",
        "        hidden = torch.tanh(hidden)\n",
        "\n",
        "        '''\n",
        "        hidden = torch.cat([gmp(hidden, batch_index), \n",
        "                            gap(hidden, batch_index)], dim=1)\n",
        "        '''\n",
        "        \n",
        "        hidden = gap(hidden, batch_index)\n",
        "        # Apply a final (linear) classifier.\n",
        "        out = self.out(hidden)\n",
        "        out = self.drop1(out)\n",
        "        out = torch.squeeze(out, dim = 1)\n",
        "        out = torch.sigmoid(out)\n",
        "\n",
        "        return out, hidden\n",
        "\n",
        "model = GCN()\n",
        "print(model)\n",
        "print(\"Number of parameters: \", sum(p.numel() for p in model.parameters()))"
      ],
      "metadata": {
        "id": "ntQK2sXxrdL5",
        "colab": {
          "base_uri": "https://localhost:8080/"
        },
        "outputId": "d0fdcdcd-9b13-4f12-bd47-a03e2d7120d2"
      },
      "execution_count": null,
      "outputs": [
        {
          "output_type": "stream",
          "name": "stdout",
          "text": [
            "GCN(\n",
            "  (initial_conv): GCNConv(29, 400)\n",
            "  (conv1): GCNConv(400, 400)\n",
            "  (conv2): GCNConv(400, 400)\n",
            "  (conv3): GCNConv(400, 400)\n",
            "  (drop1): Dropout(p=0.2, inplace=False)\n",
            "  (relu): ReLU()\n",
            "  (out): Linear(in_features=400, out_features=1, bias=True)\n",
            ")\n",
            "Number of parameters:  493601\n"
          ]
        }
      ]
    },
    {
      "cell_type": "markdown",
      "source": [
        "#Training/testing phase"
      ],
      "metadata": {
        "id": "iy3_asJMBMIA"
      }
    },
    {
      "cell_type": "markdown",
      "source": [
        "## WanDB"
      ],
      "metadata": {
        "id": "BbTg191rSpXr"
      }
    },
    {
      "cell_type": "code",
      "source": [
        "!pip install wandb\n",
        "import wandb\n",
        "wandb.login()"
      ],
      "metadata": {
        "id": "4-i3q-7bSoxs"
      },
      "execution_count": null,
      "outputs": []
    },
    {
      "cell_type": "code",
      "source": [
        "run = wandb.init(\n",
        "    project = \"Tesi\", \n",
        "    entity = \"lorenzo_mattia\",\n",
        "    name = 'classification/'+ MODEL_TYPE +'_'+ CURR_SUB + 'sweep_' + SAVE_MODEL_VERSION,\n",
        "    group = 'classification_workMem_encoding_paramsTuning_' + CURR_SUB,\n",
        "    job_type = 'training',\n",
        "    save_code = True,\n",
        "    magic = True,\n",
        "    config = {\n",
        "        \"EPOCHS\": NUM_EPOCHS,\n",
        "        \"LEARNING_RATE\": LEARNING_RATE,\n",
        "        \"MODEL_TYPE\": MODEL_TYPE,\n",
        "        \"TRAIN_BATCH_SIZE\": TRAIN_BATCH_SIZE,\n",
        "        \"VAL_BATCH_SIZE\": VAL_BATCH_SIZE,\n",
        "        \"TEST_BATCH_SIZE\": TEST_BATCH_SIZE,\n",
        "        \"SAVED_MODEL_VERSION\": SAVE_MODEL_VERSION,\n",
        "        \"EMBEDDING_SIZE\": embedding_size,\n",
        "        \"FEATURES_TYPE\": FEATURES_TYPE\n",
        "    }\n",
        ")"
      ],
      "metadata": {
        "id": "xASykrgvSrn4"
      },
      "execution_count": null,
      "outputs": []
    },
    {
      "cell_type": "code",
      "source": [
        "sweep_config = {\n",
        "    'method': 'random'\n",
        "    }\n",
        "\n",
        "metric = {\n",
        "    'name': 'best_val_loss',\n",
        "    'goal': 'minimize'   \n",
        "    }\n",
        "\n",
        "sweep_config['metric'] = metric\n",
        "\n",
        "parameters_dict = {\n",
        "    'dropout': {\n",
        "          'values': [0.0, 0.1, 0.2, 0.3, 0.4, 0.5, 0.6]\n",
        "        },\n",
        "    'embedding_size': {\n",
        "          'values': [10, 15, 25, 50, 100, 150, 200]\n",
        "        },\n",
        "    'linear_size': {\n",
        "          'values': [200, 150 ,100, 64, 32]\n",
        "        },\n",
        "    'linear_size2': {\n",
        "          'values': [100, 64, 32, 16, 8, 4]\n",
        "        },\n",
        "    'num_convs': {\n",
        "          'values': [1, 2, 3]\n",
        "    },\n",
        "    'momentum': {\n",
        "        'distribution': 'uniform',\n",
        "        'min': 0.9,\n",
        "        'max': 1.0\n",
        "    },\n",
        "    'alpha': {\n",
        "        'distribution': 'uniform',\n",
        "        'min': 0.000001,\n",
        "        'max': 0.1\n",
        "    }\n",
        "        \n",
        "}\n",
        "\n",
        "sweep_config['parameters'] = parameters_dict\n",
        "\n",
        "sweep_id = wandb.sweep(sweep_config, project=\"Tesi\")"
      ],
      "metadata": {
        "colab": {
          "base_uri": "https://localhost:8080/"
        },
        "id": "1rRssLTPLZHf",
        "outputId": "c0c5f202-edd4-4c19-f952-7f1e4d9fd998"
      },
      "execution_count": null,
      "outputs": [
        {
          "output_type": "stream",
          "name": "stdout",
          "text": [
            "Create sweep with ID: rxydb4sl\n",
            "Sweep URL: https://wandb.ai/lorenzo_mattia/Tesi/sweeps/rxydb4sl\n"
          ]
        }
      ]
    },
    {
      "cell_type": "markdown",
      "source": [
        "## Test during hyperparamters optimization"
      ],
      "metadata": {
        "id": "UnoQnsGTBwgl"
      }
    },
    {
      "cell_type": "code",
      "source": [
        "from sklearn.metrics import accuracy_score\n",
        "import matplotlib.pyplot as plt\n",
        "\n",
        "loss_fn = torch.nn.BCELoss()\n",
        "def short_test(model):\n",
        "  preds = []\n",
        "  lbls = []\n",
        "  for test_batch in test_dataloader:\n",
        "    with torch.no_grad():\n",
        "        model.eval()\n",
        "        pred, embedding, S, diff, alpha = model(test_batch.x.float(), test_batch.edge_index, test_batch.batch)\n",
        "    loss = loss_fn(pred, test_batch.y.float())\n",
        "    preds.append(torch.round(pred).tolist())\n",
        "    lbls.append(test_batch.y.tolist())\n",
        "\n",
        "  preds = [x for xs in preds for x in xs]\n",
        "  lbls = [x for xs in lbls for x in xs]\n",
        "  indexes_non_soc = torch.tensor([i for i,val in enumerate(lbls) if val==0])\n",
        "  indexes_soc = torch.tensor([i for i,val in enumerate(lbls) if val==1])\n",
        "\n",
        "  acc = accuracy_score(lbls, preds)\n",
        "\n",
        "  temp2 = torch.reshape(S, (TEST_BATCH_SIZE, 29, 29))\n",
        "\n",
        "  learned_non_soc = torch.mean(torch.index_select(temp2, dim = 0, index = indexes_non_soc), dim = 0)\n",
        "  learned_soc = torch.mean(torch.index_select(temp2, dim = 0, index = indexes_soc), dim = 0)\n",
        "\n",
        "  print(\"Average learned adjacency mat non soc\")\n",
        "  plt.imshow(learned_non_soc)\n",
        "  #plt.savefig(CURR_DIR + LOAD_MODEL_VERSION + \"/Average learned adjacency mat non soc.png\")\n",
        "  plt.show()\n",
        "  #torch.save(learned_non_soc, CURR_DIR + LOAD_MODEL_VERSION + '/learned_non_soc.pt') \n",
        "  \n",
        "  print(\"Average learned adjacency mat soc\")\n",
        "  plt.imshow(learned_soc)\n",
        "  #plt.savefig(CURR_DIR + LOAD_MODEL_VERSION + \"/Average learned adjacency mat soc.png\")\n",
        "  plt.show()\n",
        "  #torch.save(learned_soc, CURR_DIR + LOAD_MODEL_VERSION + '/learned_soc.pt') \n",
        "\n",
        "  return acc, loss\n",
        "  #print(classification_report(lbls, preds, target_names=[\"stick\", \"avatar\"]))"
      ],
      "metadata": {
        "id": "RS6zxj9x9kb1"
      },
      "execution_count": null,
      "outputs": []
    },
    {
      "cell_type": "markdown",
      "source": [
        "## Hyperparameters optimization"
      ],
      "metadata": {
        "id": "zrt9JTv7BzZz"
      }
    },
    {
      "cell_type": "code",
      "source": [
        "def diff_loss(diff, S):\n",
        "    '''\n",
        "    compute the 1st loss of L_{graph_learning}\n",
        "    '''\n",
        "    \n",
        "    if len(S.shape)==3:\n",
        "        # batch input\n",
        "        return torch.mean(torch.sum(torch.sum(diff**2,dim=3, dtype = torch.double)*S, dim=(1,2)))\n",
        "    else:\n",
        "        return torch.sum(torch.sum(diff**2,dim=2)*S)\n",
        "\n",
        "\n",
        "def F_norm_loss(S, Falpha):\n",
        "    '''\n",
        "    compute the 2nd loss of L_{graph_learning}\n",
        "    '''\n",
        "    if len(S.shape)==3:\n",
        "        # batch input\n",
        "        return Falpha * torch.sum(torch.mean(S**2,axis=0))\n",
        "    else:\n",
        "        return Falpha * torch.sum(S**2)"
      ],
      "metadata": {
        "id": "TF2MmU83luKy"
      },
      "execution_count": null,
      "outputs": []
    },
    {
      "cell_type": "code",
      "source": [
        "import torch\n",
        "import torch.optim as optim\n",
        "import torch.nn.functional as F\n",
        "import torch.nn as nn\n",
        "from torchvision import datasets, transforms\n",
        "#best_loss = 10000\n",
        "loss_fn = torch.nn.BCELoss()\n",
        "sweep_code = 0\n",
        "#device = torch.device(\"cuda\" if torch.cuda.is_available() else \"cpu\")\n",
        "\n",
        "def build_network(dropout, embedding_size, linear_size, linear_size2, num_convs, alpha):\n",
        "    network = GraphSAGE(dropout, embedding_size, linear_size, linear_size2, num_convs, alpha)\n",
        "\n",
        "    return network\n",
        "\n",
        "def build_optimizer(network, optimizer, learning_rate, mom):\n",
        "    if optimizer == \"rmsprop\":\n",
        "        optimizer = optim.RMSprop(network.parameters(),\n",
        "                              lr=learning_rate)\n",
        "    elif optimizer == \"adam\":\n",
        "        optimizer = optim.Adam(network.parameters(),\n",
        "                               lr=learning_rate)\n",
        "    elif optimizer == \"sgd\":\n",
        "        optimizer = optim.SGD(network.parameters(),\n",
        "                               lr=learning_rate, momentum = mom)\n",
        "\n",
        "    return optimizer\n",
        "\n",
        "def train_epoch(model, train_dataloader, val_dataloader, optimizer, best_loss = 10000):\n",
        "  model.train()\n",
        "  n, d, n_v, d_v = 0, 0, 0, 0\n",
        "  model.train()\n",
        "  for batch in train_dataloader:\n",
        "\n",
        "      optimizer.zero_grad()\n",
        "      pred, embedding, S, diff, alpha = model(batch.x.float(), batch.edge_index, batch.batch)\n",
        "      #train_loss = loss_fn(pred, batch.y.float())\n",
        "      train_diff_l = diff_loss(diff, S)\n",
        "      train_F_norm_l = F_norm_loss(S, alpha)\n",
        "      train_l = loss_fn(pred, batch.y.float())\n",
        "      train_loss =  train_l  + train_diff_l + train_F_norm_l\n",
        "\n",
        "      pred = torch.round(pred)\n",
        "      d += pred.shape[0]\n",
        "      n += (batch.y.float() == pred).int().sum()\n",
        "\n",
        "      train_loss.backward()\n",
        "      optimizer.step()\n",
        "  model.train(False)\n",
        "  for batch in val_dataloader:\n",
        "    #model.eval()          #check\n",
        "    with torch.no_grad():\n",
        "      pred, embedding, S, diff, alpha = model(batch.x.float(), batch.edge_index, batch.batch) \n",
        "    \n",
        "    val_diff_l = diff_loss(diff, S)\n",
        "    val_F_norm_l = F_norm_loss(S, alpha)\n",
        "    val_l = loss_fn(pred, batch.y.float())\n",
        "\n",
        "    val_loss =  val_l  + val_diff_l + val_F_norm_l\n",
        "    #val_loss = loss_fn(pred, batch.y.float())\n",
        "    pred = torch.round(pred)\n",
        "    d_v += pred.shape[0]\n",
        "    n_v += (batch.y.float() == pred).int().sum()\n",
        "    \n",
        "  #print(\"Train loss: \" + str(round(train_loss.item(), 3)) + \" Train accuracy: \" + str(round((n / d).item(), 3)) +\\\n",
        "  #      \" Val loss: \" + str(round(val_loss.item(), 3)) + \" Val accuracy: \" + str(round((n_v / d_v).item(), 3)))\n",
        "  \n",
        "  if best_loss > val_loss:\n",
        "    best_loss = val_loss\n",
        "    #if not os.path.isdir(saved_models_dir):\n",
        "      #os.mkdir(saved_models_dir)\n",
        "    torch.save(model.state_dict(), CURR_DIR + \"/best_model\")\n",
        "\n",
        "  wandb.log({\n",
        "    'Train loss': train_loss,\n",
        "    'Train diff loss': train_diff_l,\n",
        "    'Train classification loss': train_l,\n",
        "    'Train F_norm loss': train_F_norm_l,\n",
        "    'Val loss': train_loss,\n",
        "    'Val diff loss': val_diff_l,\n",
        "    'Val classification loss': val_l,\n",
        "    'Val F_norm loss': val_F_norm_l,\n",
        "    'Train acc': n/d,\n",
        "    'Val acc': n_v/d_v,\n",
        "    'best_val_loss': best_loss,\n",
        "  })\n",
        "\n",
        "  return train_loss.item(), val_loss.item(), (n / d).item(), (n_v / d_v).item(), best_loss\n",
        "\n",
        "def train(config=None):\n",
        "    # Initialize a new wandb run\n",
        "    with wandb.init(config=config):\n",
        "        # If called by wandb.agent, as below,\n",
        "        # this config will be set by Sweep Controller\n",
        "        config = wandb.config\n",
        "\n",
        "        #loader = build_dataset(config.batch_size)\n",
        "        network = build_network(config.dropout, config.embedding_size, config.linear_size, config.linear_size2, config.num_convs, config.alpha)\n",
        "        optimizer = optim.Adam(network.parameters(), lr=0.001)\n",
        "        best_loss = 10000\n",
        "        for epoch in range(75):\n",
        "            train_loss, val_loss, train_acc, val_acc, best_loss = train_epoch(network, train_dataloader, val_dataloader, optimizer, best_loss)\n",
        "        \n",
        "        global sweep_code\n",
        "        os.mkdir(CURR_DIR + \"/\" + str(sweep_code))\n",
        "        os.replace(CURR_DIR + \"/best_model\", CURR_DIR + \"/\" + str(sweep_code) + \"/best_model\")\n",
        "\n",
        "        network.load_state_dict(torch.load(CURR_DIR + \"/\" + str(sweep_code) + \"/best_model\"))\n",
        "        acc, test_loss = short_test(network)\n",
        "        wandb.log({\"test_accuracy\": acc,\n",
        "                   \"test_loss\": test_loss})\n",
        "        sweep_code = sweep_code + 1"
      ],
      "metadata": {
        "id": "YRn0cDBnM5fW"
      },
      "execution_count": null,
      "outputs": []
    },
    {
      "cell_type": "code",
      "source": [
        "wandb.agent(sweep_id, train, count=10)"
      ],
      "metadata": {
        "colab": {
          "base_uri": "https://localhost:8080/",
          "height": 1000,
          "referenced_widgets": [
            "94e2b46e9c8c46fba7332df216d814e4",
            "3800a21bc2a541d798ae76cf1b692a05",
            "ad2349e66ac449ed808eb2988b226896",
            "ae1626bec2294a7da450fc4183762c8e",
            "7c07e620c9644ba48db814e47641a3ba",
            "a507a1dd5d7e438486dbc2fff7f6f438",
            "a6ff66ed83ca421aad7f0d7fd46c5f1e",
            "5dce0aac7f1e42028f3cb4c52a23d6f6",
            "7309cef0b5ed48148b80849ed87c1061",
            "16007bf04b4b4787be98a49b425bcbec",
            "9ff1c0b7817e4a7b972f3a993592dd8a",
            "d2639a69295f480390a18508f76bec18",
            "93d44c07c6ce4b3ca0c62ecc91c9e0f9",
            "2329096b081b4be0a657a0bde45d4622",
            "eed9c98c332c4b4bb36fd0c14bcb6c19",
            "ba8a6f845309480dbe701342f5a02dec",
            "53796bcb0f214c748db4e1c36f70210c",
            "3f5913b858f44ec6ae5ca23c25b0e56f",
            "10296f0319be41c1b63e158513144aa9",
            "e2bf33edc1fd4c2d943e6f04a325d4b9",
            "2bf2bbc7464047d5a667223f4786bdc7",
            "ee3aa32012ef44368cdef7d5f7817837",
            "4efb3d5d3c854ab8842d451c3d473bec",
            "b9f22b2480274e2d8b3ecce35a0f87dc",
            "085595b9c3084cf2a7b36afbd2e3186e",
            "e9125d263d5e44e9ba3cbc165bafe88f",
            "97662d156f044011bd97e843059bcc8f",
            "8dda424448764345a987ec88be2459d1",
            "b8c20a11b9994624a4b6b948bb485db6",
            "735be4f7b8b443f9a9803b4fefe0e471",
            "161e06422eda40608af6e07351c2776b",
            "c742cf2e7131457db71a8f3fe3502157",
            "b90f93b515424705b3393ccbfbaa2ea6",
            "e0d582223291402495065c40ef5141d2",
            "1b7086980b12436ab0ccbe1ecbe9e481",
            "19eba78147a2441dbece4ae4845ec66d",
            "ac87b0695a874cb693a53d9a752042d8",
            "5bb8e871949c47f6a6c0a7b6bf9234f7",
            "2bb5ced41b1847febbf0cf2cbac8ba98",
            "beef5cbc4941446998677ea3c2540d3e"
          ]
        },
        "id": "KVMWVlHJSKz1",
        "outputId": "4d81d09b-a7ec-43ab-b5b8-81fe7b0323f6"
      },
      "execution_count": null,
      "outputs": [
        {
          "output_type": "stream",
          "name": "stderr",
          "text": [
            "\u001b[34m\u001b[1mwandb\u001b[0m: Agent Starting Run: 8b8xyn1n with config:\n",
            "\u001b[34m\u001b[1mwandb\u001b[0m: \talpha: 0.07901023468026193\n",
            "\u001b[34m\u001b[1mwandb\u001b[0m: \tdropout: 0.1\n",
            "\u001b[34m\u001b[1mwandb\u001b[0m: \tembedding_size: 200\n",
            "\u001b[34m\u001b[1mwandb\u001b[0m: \tlinear_size: 200\n",
            "\u001b[34m\u001b[1mwandb\u001b[0m: \tlinear_size2: 16\n",
            "\u001b[34m\u001b[1mwandb\u001b[0m: \tmomentum: 0.9418081999526192\n",
            "\u001b[34m\u001b[1mwandb\u001b[0m: \tnum_convs: 1\n",
            "Failed to detect the name of this notebook, you can set it manually with the WANDB_NOTEBOOK_NAME environment variable to enable code saving.\n"
          ]
        },
        {
          "output_type": "display_data",
          "data": {
            "text/plain": [
              "<IPython.core.display.HTML object>"
            ],
            "text/html": [
              "Tracking run with wandb version 0.13.3"
            ]
          },
          "metadata": {}
        },
        {
          "output_type": "display_data",
          "data": {
            "text/plain": [
              "<IPython.core.display.HTML object>"
            ],
            "text/html": [
              "Run data is saved locally in <code>/content/wandb/run-20220928_144418-8b8xyn1n</code>"
            ]
          },
          "metadata": {}
        },
        {
          "output_type": "display_data",
          "data": {
            "text/plain": [
              "<IPython.core.display.HTML object>"
            ],
            "text/html": [
              "Syncing run <strong><a href=\"https://wandb.ai/lorenzo_mattia/Tesi/runs/8b8xyn1n\" target=\"_blank\">dauntless-sweep-1</a></strong> to <a href=\"https://wandb.ai/lorenzo_mattia/Tesi\" target=\"_blank\">Weights & Biases</a> (<a href=\"https://wandb.me/run\" target=\"_blank\">docs</a>)<br/>Sweep page:  <a href=\"https://wandb.ai/lorenzo_mattia/Tesi/sweeps/rxydb4sl\" target=\"_blank\">https://wandb.ai/lorenzo_mattia/Tesi/sweeps/rxydb4sl</a>"
            ]
          },
          "metadata": {}
        },
        {
          "output_type": "stream",
          "name": "stdout",
          "text": [
            "Average learned adjacency mat non soc\n"
          ]
        },
        {
          "output_type": "display_data",
          "data": {
            "text/plain": [
              "<Figure size 432x288 with 1 Axes>"
            ],
            "image/png": "[encoded data removed]"
          },
          "metadata": {
            "needs_background": "light"
          }
        },
        {
          "output_type": "stream",
          "name": "stdout",
          "text": [
            "Average learned adjacency mat soc\n"
          ]
        },
        {
          "output_type": "display_data",
          "data": {
            "text/plain": [
              "<Figure size 432x288 with 1 Axes>"
            ],
            "image/png": "[encoded data removed]"
          },
          "metadata": {
            "needs_background": "light"
          }
        },
        {
          "output_type": "display_data",
          "data": {
            "text/plain": [
              "<IPython.core.display.HTML object>"
            ],
            "text/html": [
              "Waiting for W&B process to finish... <strong style=\"color:green\">(success).</strong>"
            ]
          },
          "metadata": {}
        },
        {
          "output_type": "display_data",
          "data": {
            "text/plain": [
              "VBox(children=(Label(value='0.000 MB of 0.000 MB uploaded (0.000 MB deduped)\\r'), FloatProgress(value=1.0, max…"
            ],
            "application/vnd.jupyter.widget-view+json": {
              "version_major": 2,
              "version_minor": 0,
              "model_id": "94e2b46e9c8c46fba7332df216d814e4"
            }
          },
          "metadata": {}
        },
        {
          "output_type": "display_data",
          "data": {
            "text/plain": [
              "<IPython.core.display.HTML object>"
            ],
            "text/html": [
              "<style>\n",
              "    table.wandb td:nth-child(1) { padding: 0 10px; text-align: left ; width: auto;} td:nth-child(2) {text-align: left ; width: 100%}\n",
              "    .wandb-row { display: flex; flex-direction: row; flex-wrap: wrap; justify-content: flex-start; width: 100% }\n",
              "    .wandb-col { display: flex; flex-direction: column; flex-basis: 100%; flex: 1; padding: 10px; }\n",
              "    </style>\n",
              "<div class=\"wandb-row\"><div class=\"wandb-col\"><h3>Run history:</h3><br/><table class=\"wandb\"><tr><td>Train F_norm loss</td><td>█▃▁▁▁▁▁▁▁▁▁▁▁▁▁▁▁▁▁▁▁▁▁▁▁▁▁▁▁▁▁▁▁▁▁▁▂▂▂▂</td></tr><tr><td>Train acc</td><td>▁▂▂▃▁▂▄▅▅▅▆▆▆▇▆▇▇█▅▇▆▇▇██████▇▇▇▇▇██▇██▇</td></tr><tr><td>Train classification loss</td><td>█▄▄▃▃▃▃▃▃▂▂▂▂▂▂▂▂▂▂▂▁▁▁▁▁▁▁▁▁▁▁▁▁▁▁▁▂▁▁▁</td></tr><tr><td>Train diff loss</td><td>█▄▃▃▇▅▆▄▅▅▆▇▁▃▆▄▆▆▇▄▅▄▄▅█▃▅▆▄▄▅▆▃▅▄▄▄▄▇▄</td></tr><tr><td>Train loss</td><td>█▄▃▃▇▅▆▄▅▅▆▇▁▃▆▄▆▆▇▄▅▄▄▅█▃▅▆▄▄▅▆▃▅▄▄▄▄▇▄</td></tr><tr><td>Val F_norm loss</td><td>█▃▁▁▁▁▁▁▁▁▁▁▁▁▁▁▁▁▁▁▁▁▁▁▁▁▁▁▁▁▁▁▁▁▂▂▂▂▂▃</td></tr><tr><td>Val acc</td><td>▂▁▂▄▁▅▅▆▆█▆▆▆▆▄▄▅▃▄▄▄▄▃▄▅▅▅▅▅▄▆▄▇▇▇▆▅▆▆▆</td></tr><tr><td>Val classification loss</td><td>▂▃▂▂▂▂▂▂▂▁▂▁▂▁▃▃▂▂▂▅▂▃▂▃▃▂▃▂▃█▃▄▁▁▁▁▂▂▃▂</td></tr><tr><td>Val diff loss</td><td>█▁▁▂▂▂▂▂▂▂▂▂▂▂▂▂▂▂▂▂▂▂▂▂▂▂▂▂▂▂▂▁▁▁▁▁▁▁▁▁</td></tr><tr><td>Val loss</td><td>█▄▃▃▇▅▆▄▅▅▆▇▁▃▆▄▆▆▇▄▅▄▄▅█▃▅▆▄▄▅▆▃▅▄▄▄▄▇▄</td></tr><tr><td>best_val_loss</td><td>█▃▂▂▂▂▂▂▂▂▂▂▂▂▂▂▂▂▂▂▂▂▂▂▂▂▂▂▂▂▂▂▁▁▁▁▁▁▁▁</td></tr><tr><td>test_accuracy</td><td>▁</td></tr><tr><td>test_loss</td><td>▁</td></tr></table><br/></div><div class=\"wandb-col\"><h3>Run summary:</h3><br/><table class=\"wandb\"><tr><td>Train F_norm loss</td><td>0.07903</td></tr><tr><td>Train acc</td><td>0.93413</td></tr><tr><td>Train classification loss</td><td>0.09569</td></tr><tr><td>Train diff loss</td><td>1560.27612</td></tr><tr><td>Train loss</td><td>1560.45083</td></tr><tr><td>Val F_norm loss</td><td>0.07903</td></tr><tr><td>Val acc</td><td>0.78261</td></tr><tr><td>Val classification loss</td><td>0.5922</td></tr><tr><td>Val diff loss</td><td>1572.41748</td></tr><tr><td>Val loss</td><td>1560.45083</td></tr><tr><td>best_val_loss</td><td>1572.83386</td></tr><tr><td>test_accuracy</td><td>0.61765</td></tr><tr><td>test_loss</td><td>1.2917</td></tr></table><br/></div></div>"
            ]
          },
          "metadata": {}
        },
        {
          "output_type": "display_data",
          "data": {
            "text/plain": [
              "<IPython.core.display.HTML object>"
            ],
            "text/html": [
              "Synced <strong style=\"color:#cdcd00\">dauntless-sweep-1</strong>: <a href=\"https://wandb.ai/lorenzo_mattia/Tesi/runs/8b8xyn1n\" target=\"_blank\">https://wandb.ai/lorenzo_mattia/Tesi/runs/8b8xyn1n</a><br/>Synced 5 W&B file(s), 0 media file(s), 0 artifact file(s) and 0 other file(s)"
            ]
          },
          "metadata": {}
        },
        {
          "output_type": "display_data",
          "data": {
            "text/plain": [
              "<IPython.core.display.HTML object>"
            ],
            "text/html": [
              "Find logs at: <code>./wandb/run-20220928_144418-8b8xyn1n/logs</code>"
            ]
          },
          "metadata": {}
        },
        {
          "output_type": "stream",
          "name": "stderr",
          "text": [
            "\u001b[34m\u001b[1mwandb\u001b[0m: Agent Starting Run: o1uyj4sh with config:\n",
            "\u001b[34m\u001b[1mwandb\u001b[0m: \talpha: 0.012189888799220635\n",
            "\u001b[34m\u001b[1mwandb\u001b[0m: \tdropout: 0.1\n",
            "\u001b[34m\u001b[1mwandb\u001b[0m: \tembedding_size: 50\n",
            "\u001b[34m\u001b[1mwandb\u001b[0m: \tlinear_size: 64\n",
            "\u001b[34m\u001b[1mwandb\u001b[0m: \tlinear_size2: 32\n",
            "\u001b[34m\u001b[1mwandb\u001b[0m: \tmomentum: 0.9636505822639498\n",
            "\u001b[34m\u001b[1mwandb\u001b[0m: \tnum_convs: 3\n",
            "Failed to detect the name of this notebook, you can set it manually with the WANDB_NOTEBOOK_NAME environment variable to enable code saving.\n"
          ]
        },
        {
          "output_type": "display_data",
          "data": {
            "text/plain": [
              "<IPython.core.display.HTML object>"
            ],
            "text/html": [
              "Tracking run with wandb version 0.13.3"
            ]
          },
          "metadata": {}
        },
        {
          "output_type": "display_data",
          "data": {
            "text/plain": [
              "<IPython.core.display.HTML object>"
            ],
            "text/html": [
              "Run data is saved locally in <code>/content/wandb/run-20220928_144650-o1uyj4sh</code>"
            ]
          },
          "metadata": {}
        },
        {
          "output_type": "display_data",
          "data": {
            "text/plain": [
              "<IPython.core.display.HTML object>"
            ],
            "text/html": [
              "Syncing run <strong><a href=\"https://wandb.ai/lorenzo_mattia/Tesi/runs/o1uyj4sh\" target=\"_blank\">dauntless-sweep-2</a></strong> to <a href=\"https://wandb.ai/lorenzo_mattia/Tesi\" target=\"_blank\">Weights & Biases</a> (<a href=\"https://wandb.me/run\" target=\"_blank\">docs</a>)<br/>Sweep page:  <a href=\"https://wandb.ai/lorenzo_mattia/Tesi/sweeps/rxydb4sl\" target=\"_blank\">https://wandb.ai/lorenzo_mattia/Tesi/sweeps/rxydb4sl</a>"
            ]
          },
          "metadata": {}
        },
        {
          "output_type": "stream",
          "name": "stdout",
          "text": [
            "Average learned adjacency mat non soc\n"
          ]
        },
        {
          "output_type": "display_data",
          "data": {
            "text/plain": [
              "<Figure size 432x288 with 1 Axes>"
            ],
            "image/png": "[encoded data removed]"
          },
          "metadata": {
            "needs_background": "light"
          }
        },
        {
          "output_type": "stream",
          "name": "stdout",
          "text": [
            "Average learned adjacency mat soc\n"
          ]
        },
        {
          "output_type": "display_data",
          "data": {
            "text/plain": [
              "<Figure size 432x288 with 1 Axes>"
            ],
            "image/png": "[encoded data removed]"
          },
          "metadata": {
            "needs_background": "light"
          }
        },
        {
          "output_type": "display_data",
          "data": {
            "text/plain": [
              "<IPython.core.display.HTML object>"
            ],
            "text/html": [
              "Waiting for W&B process to finish... <strong style=\"color:green\">(success).</strong>"
            ]
          },
          "metadata": {}
        },
        {
          "output_type": "display_data",
          "data": {
            "text/plain": [
              "VBox(children=(Label(value='0.000 MB of 0.000 MB uploaded (0.000 MB deduped)\\r'), FloatProgress(value=1.0, max…"
            ],
            "application/vnd.jupyter.widget-view+json": {
              "version_major": 2,
              "version_minor": 0,
              "model_id": "7309cef0b5ed48148b80849ed87c1061"
            }
          },
          "metadata": {}
        },
        {
          "output_type": "display_data",
          "data": {
            "text/plain": [
              "<IPython.core.display.HTML object>"
            ],
            "text/html": [
              "<style>\n",
              "    table.wandb td:nth-child(1) { padding: 0 10px; text-align: left ; width: auto;} td:nth-child(2) {text-align: left ; width: 100%}\n",
              "    .wandb-row { display: flex; flex-direction: row; flex-wrap: wrap; justify-content: flex-start; width: 100% }\n",
              "    .wandb-col { display: flex; flex-direction: column; flex-basis: 100%; flex: 1; padding: 10px; }\n",
              "    </style>\n",
              "<div class=\"wandb-row\"><div class=\"wandb-col\"><h3>Run history:</h3><br/><table class=\"wandb\"><tr><td>Train F_norm loss</td><td>█▃▁▁▁▁▁▁▁▁▁▁▁▁▁▁▁▁▁▁▁▁▁▁▁▁▁▁▁▁▁▁▁▁▁▁▁▁▁▁</td></tr><tr><td>Train acc</td><td>▁▂▂▂▃▂▂▃▄▄▄▅▅▆▆▇▆▇▆█▇▇█████████▆▇█▇▇████</td></tr><tr><td>Train classification loss</td><td>▂▂▂▂▂▂▂▂▂▂▂▂▂▂▂▁▁▁▁▁▁▁▁▁▁▁▁▁▁▁█▂▁▁▁▁▁▁▁▁</td></tr><tr><td>Train diff loss</td><td>██▇▅▆▆▅▄▇▄▂▆▆▃▅▄▅▆▆▆▄▄▅▄▇▆▇▁▅▅▃▄▆▅▄▄▄▅▃▆</td></tr><tr><td>Train loss</td><td>██▇▅▆▆▅▄▇▄▂▆▆▃▅▄▅▆▆▆▄▄▅▄▇▆▇▁▅▅▄▄▆▅▄▄▄▅▃▆</td></tr><tr><td>Val F_norm loss</td><td>█▃▁▁▁▁▁▁▁▁▁▁▁▁▁▁▁▁▁▁▁▁▁▁▁▁▁▁▁▁▁▁▁▁▁▁▁▁▁▁</td></tr><tr><td>Val acc</td><td>▁▁▂▁▃▅▃▆▄▅▆▆▅▅▆▅▅▅▅▅▅▆▆▅▅▆▇▆▆▆▂▆▇▇█▇██▇▇</td></tr><tr><td>Val classification loss</td><td>▂▂▁▂▁▁▁▁▁▁▁▁▁▁▁▁▂▂▂▂▂▂▂▂▃▃▂▃▆▅█▅▃▆▂▃▄▃▃▄</td></tr><tr><td>Val diff loss</td><td>█▃▁▁▁▁▁▁▁▁▁▁▁▁▁▁▁▁▁▁▁▁▁▁▁▁▁▁▁▁▁▁▁▁▁▁▁▁▁▁</td></tr><tr><td>Val loss</td><td>██▇▅▆▆▅▄▇▄▂▆▆▃▅▄▅▆▆▆▄▄▅▄▇▆▇▁▅▅▄▄▆▅▄▄▄▅▃▆</td></tr><tr><td>best_val_loss</td><td>█▃▁▁▁▁▁▁▁▁▁▁▁▁▁▁▁▁▁▁▁▁▁▁▁▁▁▁▁▁▁▁▁▁▁▁▁▁▁▁</td></tr><tr><td>test_accuracy</td><td>▁</td></tr><tr><td>test_loss</td><td>▁</td></tr></table><br/></div><div class=\"wandb-col\"><h3>Run summary:</h3><br/><table class=\"wandb\"><tr><td>Train F_norm loss</td><td>0.01219</td></tr><tr><td>Train acc</td><td>0.95808</td></tr><tr><td>Train classification loss</td><td>0.05127</td></tr><tr><td>Train diff loss</td><td>1577.26278</td></tr><tr><td>Train loss</td><td>1577.32624</td></tr><tr><td>Val F_norm loss</td><td>0.01219</td></tr><tr><td>Val acc</td><td>0.73913</td></tr><tr><td>Val classification loss</td><td>1.22637</td></tr><tr><td>Val diff loss</td><td>1572.64042</td></tr><tr><td>Val loss</td><td>1577.32624</td></tr><tr><td>best_val_loss</td><td>1573.27094</td></tr><tr><td>test_accuracy</td><td>0.64706</td></tr><tr><td>test_loss</td><td>0.58087</td></tr></table><br/></div></div>"
            ]
          },
          "metadata": {}
        },
        {
          "output_type": "display_data",
          "data": {
            "text/plain": [
              "<IPython.core.display.HTML object>"
            ],
            "text/html": [
              "Synced <strong style=\"color:#cdcd00\">dauntless-sweep-2</strong>: <a href=\"https://wandb.ai/lorenzo_mattia/Tesi/runs/o1uyj4sh\" target=\"_blank\">https://wandb.ai/lorenzo_mattia/Tesi/runs/o1uyj4sh</a><br/>Synced 5 W&B file(s), 0 media file(s), 0 artifact file(s) and 0 other file(s)"
            ]
          },
          "metadata": {}
        },
        {
          "output_type": "display_data",
          "data": {
            "text/plain": [
              "<IPython.core.display.HTML object>"
            ],
            "text/html": [
              "Find logs at: <code>./wandb/run-20220928_144650-o1uyj4sh/logs</code>"
            ]
          },
          "metadata": {}
        },
        {
          "output_type": "stream",
          "name": "stderr",
          "text": [
            "\u001b[34m\u001b[1mwandb\u001b[0m: Agent Starting Run: 4ycm8hey with config:\n",
            "\u001b[34m\u001b[1mwandb\u001b[0m: \talpha: 0.07165657809400913\n",
            "\u001b[34m\u001b[1mwandb\u001b[0m: \tdropout: 0.3\n",
            "\u001b[34m\u001b[1mwandb\u001b[0m: \tembedding_size: 150\n",
            "\u001b[34m\u001b[1mwandb\u001b[0m: \tlinear_size: 200\n",
            "\u001b[34m\u001b[1mwandb\u001b[0m: \tlinear_size2: 100\n",
            "\u001b[34m\u001b[1mwandb\u001b[0m: \tmomentum: 0.964871373293231\n",
            "\u001b[34m\u001b[1mwandb\u001b[0m: \tnum_convs: 2\n",
            "Failed to detect the name of this notebook, you can set it manually with the WANDB_NOTEBOOK_NAME environment variable to enable code saving.\n"
          ]
        },
        {
          "output_type": "display_data",
          "data": {
            "text/plain": [
              "<IPython.core.display.HTML object>"
            ],
            "text/html": [
              "Tracking run with wandb version 0.13.3"
            ]
          },
          "metadata": {}
        },
        {
          "output_type": "display_data",
          "data": {
            "text/plain": [
              "<IPython.core.display.HTML object>"
            ],
            "text/html": [
              "Run data is saved locally in <code>/content/wandb/run-20220928_144923-4ycm8hey</code>"
            ]
          },
          "metadata": {}
        },
        {
          "output_type": "display_data",
          "data": {
            "text/plain": [
              "<IPython.core.display.HTML object>"
            ],
            "text/html": [
              "Syncing run <strong><a href=\"https://wandb.ai/lorenzo_mattia/Tesi/runs/4ycm8hey\" target=\"_blank\">summer-sweep-3</a></strong> to <a href=\"https://wandb.ai/lorenzo_mattia/Tesi\" target=\"_blank\">Weights & Biases</a> (<a href=\"https://wandb.me/run\" target=\"_blank\">docs</a>)<br/>Sweep page:  <a href=\"https://wandb.ai/lorenzo_mattia/Tesi/sweeps/rxydb4sl\" target=\"_blank\">https://wandb.ai/lorenzo_mattia/Tesi/sweeps/rxydb4sl</a>"
            ]
          },
          "metadata": {}
        },
        {
          "output_type": "stream",
          "name": "stdout",
          "text": [
            "Average learned adjacency mat non soc\n"
          ]
        },
        {
          "output_type": "display_data",
          "data": {
            "text/plain": [
              "<Figure size 432x288 with 1 Axes>"
            ],
            "image/png": "[encoded data removed]"
          },
          "metadata": {
            "needs_background": "light"
          }
        },
        {
          "output_type": "stream",
          "name": "stdout",
          "text": [
            "Average learned adjacency mat soc\n"
          ]
        },
        {
          "output_type": "display_data",
          "data": {
            "text/plain": [
              "<Figure size 432x288 with 1 Axes>"
            ],
            "image/png": "[encoded data removed]"
          },
          "metadata": {
            "needs_background": "light"
          }
        },
        {
          "output_type": "display_data",
          "data": {
            "text/plain": [
              "<IPython.core.display.HTML object>"
            ],
            "text/html": [
              "Waiting for W&B process to finish... <strong style=\"color:green\">(success).</strong>"
            ]
          },
          "metadata": {}
        },
        {
          "output_type": "display_data",
          "data": {
            "text/plain": [
              "VBox(children=(Label(value='0.000 MB of 0.000 MB uploaded (0.000 MB deduped)\\r'), FloatProgress(value=1.0, max…"
            ],
            "application/vnd.jupyter.widget-view+json": {
              "version_major": 2,
              "version_minor": 0,
              "model_id": "53796bcb0f214c748db4e1c36f70210c"
            }
          },
          "metadata": {}
        },
        {
          "output_type": "display_data",
          "data": {
            "text/plain": [
              "<IPython.core.display.HTML object>"
            ],
            "text/html": [
              "<style>\n",
              "    table.wandb td:nth-child(1) { padding: 0 10px; text-align: left ; width: auto;} td:nth-child(2) {text-align: left ; width: 100%}\n",
              "    .wandb-row { display: flex; flex-direction: row; flex-wrap: wrap; justify-content: flex-start; width: 100% }\n",
              "    .wandb-col { display: flex; flex-direction: column; flex-basis: 100%; flex: 1; padding: 10px; }\n",
              "    </style>\n",
              "<div class=\"wandb-row\"><div class=\"wandb-col\"><h3>Run history:</h3><br/><table class=\"wandb\"><tr><td>Train F_norm loss</td><td>▁▁▁▁▂▁▁▂▂▂▂▂▂▃▂▂▂▃▃▃▃▃▃▄▄▅▄▅▅▅▅▆▆█▅▇▇▇█▇</td></tr><tr><td>Train acc</td><td>▁▃▁▁▁▄▃▆▄▆▆▇▆▇▇▇▇▇▆▇▇▆▇▇▆▇▇▇▇▇▇▇▇█▇▇▇▇▇▇</td></tr><tr><td>Train classification loss</td><td>▇▅█▆▆▅▄▄▃▄▄▃▃▂▂▂▁▂▂▁▂▇▂▂▂▁▁▁▁▂▂▂▂▁▁▁▁▂▂▁</td></tr><tr><td>Train diff loss</td><td>▄▄▃▂▄▄▁█▅▄▃▂▅▇▆▇▂▃▅▃▂▄▅▆█▆▆▄▅▁█▃▄▇▃█▃▆▅▄</td></tr><tr><td>Train loss</td><td>▄▄▃▂▄▅▁█▅▄▃▂▅▇▆▇▂▃▅▃▂▄▅▆█▆▆▄▅▁█▃▄▇▃█▃▆▅▄</td></tr><tr><td>Val F_norm loss</td><td>▁▁▁▁▂▁▁▂▂▂▂▂▂▃▃▃▃▃▃▃▃▄▄▄▄▅▅▅▅▆▅▅▆▇▆▇▇▇██</td></tr><tr><td>Val acc</td><td>▃▁▁▃▃▄█▄▆▆██▄▃█▃▄▄▄▃▆██▆▄█▄▄██▄▆▆█▄▆▆▆▆▆</td></tr><tr><td>Val classification loss</td><td>▁▂▁▁▁▁▁▁▁▁▁▁▂▂▃▄▄▄▅▆█▅▄▃▃▃▃▄▄▄▅▅▅▅▆▆▆▆▆▆</td></tr><tr><td>Val diff loss</td><td>▂▁▁▄▇▄▅▇▇▆▆█▆▇▇▆▆▇▇▆▆▆▆▅▄▅▅▄▄▅▄▃▃▄▂▃▃▂▂▂</td></tr><tr><td>Val loss</td><td>▄▄▃▂▄▅▁█▅▄▃▂▅▇▆▇▂▃▅▃▂▄▅▆█▆▆▄▅▁█▃▄▇▃█▃▆▅▄</td></tr><tr><td>best_val_loss</td><td>█▃▁▁▁▁▁▁▁▁▁▁▁▁▁▁▁▁▁▁▁▁▁▁▁▁▁▁▁▁▁▁▁▁▁▁▁▁▁▁</td></tr><tr><td>test_accuracy</td><td>▁</td></tr><tr><td>test_loss</td><td>▁</td></tr></table><br/></div><div class=\"wandb-col\"><h3>Run summary:</h3><br/><table class=\"wandb\"><tr><td>Train F_norm loss</td><td>0.07216</td></tr><tr><td>Train acc</td><td>0.86228</td></tr><tr><td>Train classification loss</td><td>0.17792</td></tr><tr><td>Train diff loss</td><td>1558.55704</td></tr><tr><td>Train loss</td><td>1558.80712</td></tr><tr><td>Val F_norm loss</td><td>0.07225</td></tr><tr><td>Val acc</td><td>0.6087</td></tr><tr><td>Val classification loss</td><td>2.07405</td></tr><tr><td>Val diff loss</td><td>1573.43983</td></tr><tr><td>Val loss</td><td>1558.80712</td></tr><tr><td>best_val_loss</td><td>1573.69709</td></tr><tr><td>test_accuracy</td><td>0.5</td></tr><tr><td>test_loss</td><td>0.73368</td></tr></table><br/></div></div>"
            ]
          },
          "metadata": {}
        },
        {
          "output_type": "display_data",
          "data": {
            "text/plain": [
              "<IPython.core.display.HTML object>"
            ],
            "text/html": [
              "Synced <strong style=\"color:#cdcd00\">summer-sweep-3</strong>: <a href=\"https://wandb.ai/lorenzo_mattia/Tesi/runs/4ycm8hey\" target=\"_blank\">https://wandb.ai/lorenzo_mattia/Tesi/runs/4ycm8hey</a><br/>Synced 5 W&B file(s), 0 media file(s), 0 artifact file(s) and 0 other file(s)"
            ]
          },
          "metadata": {}
        },
        {
          "output_type": "display_data",
          "data": {
            "text/plain": [
              "<IPython.core.display.HTML object>"
            ],
            "text/html": [
              "Find logs at: <code>./wandb/run-20220928_144923-4ycm8hey/logs</code>"
            ]
          },
          "metadata": {}
        },
        {
          "output_type": "stream",
          "name": "stderr",
          "text": [
            "\u001b[34m\u001b[1mwandb\u001b[0m: Agent Starting Run: b8kird55 with config:\n",
            "\u001b[34m\u001b[1mwandb\u001b[0m: \talpha: 0.06231157336856466\n",
            "\u001b[34m\u001b[1mwandb\u001b[0m: \tdropout: 0.3\n",
            "\u001b[34m\u001b[1mwandb\u001b[0m: \tembedding_size: 25\n",
            "\u001b[34m\u001b[1mwandb\u001b[0m: \tlinear_size: 200\n",
            "\u001b[34m\u001b[1mwandb\u001b[0m: \tlinear_size2: 64\n",
            "\u001b[34m\u001b[1mwandb\u001b[0m: \tmomentum: 0.9306458561108208\n",
            "\u001b[34m\u001b[1mwandb\u001b[0m: \tnum_convs: 1\n",
            "Failed to detect the name of this notebook, you can set it manually with the WANDB_NOTEBOOK_NAME environment variable to enable code saving.\n"
          ]
        },
        {
          "output_type": "display_data",
          "data": {
            "text/plain": [
              "<IPython.core.display.HTML object>"
            ],
            "text/html": [
              "Tracking run with wandb version 0.13.3"
            ]
          },
          "metadata": {}
        },
        {
          "output_type": "display_data",
          "data": {
            "text/plain": [
              "<IPython.core.display.HTML object>"
            ],
            "text/html": [
              "Run data is saved locally in <code>/content/wandb/run-20220928_145202-b8kird55</code>"
            ]
          },
          "metadata": {}
        },
        {
          "output_type": "display_data",
          "data": {
            "text/plain": [
              "<IPython.core.display.HTML object>"
            ],
            "text/html": [
              "Syncing run <strong><a href=\"https://wandb.ai/lorenzo_mattia/Tesi/runs/b8kird55\" target=\"_blank\">deft-sweep-4</a></strong> to <a href=\"https://wandb.ai/lorenzo_mattia/Tesi\" target=\"_blank\">Weights & Biases</a> (<a href=\"https://wandb.me/run\" target=\"_blank\">docs</a>)<br/>Sweep page:  <a href=\"https://wandb.ai/lorenzo_mattia/Tesi/sweeps/rxydb4sl\" target=\"_blank\">https://wandb.ai/lorenzo_mattia/Tesi/sweeps/rxydb4sl</a>"
            ]
          },
          "metadata": {}
        },
        {
          "output_type": "stream",
          "name": "stdout",
          "text": [
            "Average learned adjacency mat non soc\n"
          ]
        },
        {
          "output_type": "display_data",
          "data": {
            "text/plain": [
              "<Figure size 432x288 with 1 Axes>"
            ],
            "image/png": "[encoded data removed]"
          },
          "metadata": {
            "needs_background": "light"
          }
        },
        {
          "output_type": "stream",
          "name": "stdout",
          "text": [
            "Average learned adjacency mat soc\n"
          ]
        },
        {
          "output_type": "display_data",
          "data": {
            "text/plain": [
              "<Figure size 432x288 with 1 Axes>"
            ],
            "image/png": "[encoded data removed]"
          },
          "metadata": {
            "needs_background": "light"
          }
        },
        {
          "output_type": "display_data",
          "data": {
            "text/plain": [
              "<IPython.core.display.HTML object>"
            ],
            "text/html": [
              "Waiting for W&B process to finish... <strong style=\"color:green\">(success).</strong>"
            ]
          },
          "metadata": {}
        },
        {
          "output_type": "display_data",
          "data": {
            "text/plain": [
              "VBox(children=(Label(value='0.000 MB of 0.000 MB uploaded (0.000 MB deduped)\\r'), FloatProgress(value=1.0, max…"
            ],
            "application/vnd.jupyter.widget-view+json": {
              "version_major": 2,
              "version_minor": 0,
              "model_id": "085595b9c3084cf2a7b36afbd2e3186e"
            }
          },
          "metadata": {}
        },
        {
          "output_type": "display_data",
          "data": {
            "text/plain": [
              "<IPython.core.display.HTML object>"
            ],
            "text/html": [
              "<style>\n",
              "    table.wandb td:nth-child(1) { padding: 0 10px; text-align: left ; width: auto;} td:nth-child(2) {text-align: left ; width: 100%}\n",
              "    .wandb-row { display: flex; flex-direction: row; flex-wrap: wrap; justify-content: flex-start; width: 100% }\n",
              "    .wandb-col { display: flex; flex-direction: column; flex-basis: 100%; flex: 1; padding: 10px; }\n",
              "    </style>\n",
              "<div class=\"wandb-row\"><div class=\"wandb-col\"><h3>Run history:</h3><br/><table class=\"wandb\"><tr><td>Train F_norm loss</td><td>█▅▁▁▁▁▁▁▁▁▁▁▁▁▁▁▁▁▁▁▁▁▁▁▁▁▁▁▁▁▁▁▁▁▁▁▁▁▁▁</td></tr><tr><td>Train acc</td><td>▂▁▁▁▂▂▂▄▃▄▃▃▄▂▄▆▅▄▅▇▆▆▆▆▇▆▆▇▇▆█▇▇██▇▇▇▇▇</td></tr><tr><td>Train classification loss</td><td>▇█▆▆▆▆▇▆▆▆▆▅▅▆▅▅▄▅▄▄▃▄▄▃▃▃▂▃▃▂▂▂▃▂▁▃▁▂▁▂</td></tr><tr><td>Train diff loss</td><td>█▆▃▃▃▂▂▃▂▃▃▃▃▂▃▃▃▃▃▃▂▃▃▃▃▂▁▃▂▂▂▃▃▂▂▃▂▃▃▃</td></tr><tr><td>Train loss</td><td>█▆▃▃▃▂▂▃▂▃▃▃▃▂▃▃▃▃▃▃▂▃▃▃▃▂▁▃▂▂▂▃▃▂▂▃▁▃▃▃</td></tr><tr><td>Val F_norm loss</td><td>█▅▁▁▁▁▁▁▁▁▁▁▁▁▁▁▁▁▁▁▁▁▁▁▁▁▁▁▁▁▁▁▁▁▁▁▁▁▁▁</td></tr><tr><td>Val acc</td><td>▄▁▂▂▄▆▆▃▅▅▄▇▆▇▇▇▇▇▇▆▅▆▇▅▅▆▅▅▅▅▅▅▄▅▅██▅▅▇</td></tr><tr><td>Val classification loss</td><td>▅▄▄▄▄▃▃▃▃▃▃▃▂▂▂▂▂▁▂▂▂▁▁▁▂▁▂▄▄▃▃▆▄▅▇▃▃▇█▃</td></tr><tr><td>Val diff loss</td><td>█▅▂▁▁▁▁▁▁▁▁▁▁▁▁▁▁▁▁▁▁▁▁▁▁▁▁▁▁▁▁▁▁▁▁▁▁▁▁▁</td></tr><tr><td>Val loss</td><td>█▆▃▃▃▂▂▃▂▃▃▃▃▂▃▃▃▃▃▃▂▃▃▃▃▂▁▃▂▂▂▃▃▂▂▃▁▃▃▃</td></tr><tr><td>best_val_loss</td><td>█▅▂▁▁▁▁▁▁▁▁▁▁▁▁▁▁▁▁▁▁▁▁▁▁▁▁▁▁▁▁▁▁▁▁▁▁▁▁▁</td></tr><tr><td>test_accuracy</td><td>▁</td></tr><tr><td>test_loss</td><td>▁</td></tr></table><br/></div><div class=\"wandb-col\"><h3>Run summary:</h3><br/><table class=\"wandb\"><tr><td>Train F_norm loss</td><td>0.06231</td></tr><tr><td>Train acc</td><td>0.81437</td></tr><tr><td>Train classification loss</td><td>0.21037</td></tr><tr><td>Train diff loss</td><td>1583.6931</td></tr><tr><td>Train loss</td><td>1583.96578</td></tr><tr><td>Val F_norm loss</td><td>0.06231</td></tr><tr><td>Val acc</td><td>0.73913</td></tr><tr><td>Val classification loss</td><td>0.67396</td></tr><tr><td>Val diff loss</td><td>1572.69222</td></tr><tr><td>Val loss</td><td>1583.96578</td></tr><tr><td>best_val_loss</td><td>1573.29311</td></tr><tr><td>test_accuracy</td><td>0.64706</td></tr><tr><td>test_loss</td><td>0.78709</td></tr></table><br/></div></div>"
            ]
          },
          "metadata": {}
        },
        {
          "output_type": "display_data",
          "data": {
            "text/plain": [
              "<IPython.core.display.HTML object>"
            ],
            "text/html": [
              "Synced <strong style=\"color:#cdcd00\">deft-sweep-4</strong>: <a href=\"https://wandb.ai/lorenzo_mattia/Tesi/runs/b8kird55\" target=\"_blank\">https://wandb.ai/lorenzo_mattia/Tesi/runs/b8kird55</a><br/>Synced 5 W&B file(s), 0 media file(s), 0 artifact file(s) and 0 other file(s)"
            ]
          },
          "metadata": {}
        },
        {
          "output_type": "display_data",
          "data": {
            "text/plain": [
              "<IPython.core.display.HTML object>"
            ],
            "text/html": [
              "Find logs at: <code>./wandb/run-20220928_145202-b8kird55/logs</code>"
            ]
          },
          "metadata": {}
        },
        {
          "output_type": "stream",
          "name": "stderr",
          "text": [
            "\u001b[34m\u001b[1mwandb\u001b[0m: Agent Starting Run: tqer9q6z with config:\n",
            "\u001b[34m\u001b[1mwandb\u001b[0m: \talpha: 0.09536765314495828\n",
            "\u001b[34m\u001b[1mwandb\u001b[0m: \tdropout: 0\n",
            "\u001b[34m\u001b[1mwandb\u001b[0m: \tembedding_size: 100\n",
            "\u001b[34m\u001b[1mwandb\u001b[0m: \tlinear_size: 64\n",
            "\u001b[34m\u001b[1mwandb\u001b[0m: \tlinear_size2: 32\n",
            "\u001b[34m\u001b[1mwandb\u001b[0m: \tmomentum: 0.9554537183720136\n",
            "\u001b[34m\u001b[1mwandb\u001b[0m: \tnum_convs: 3\n",
            "Failed to detect the name of this notebook, you can set it manually with the WANDB_NOTEBOOK_NAME environment variable to enable code saving.\n"
          ]
        },
        {
          "output_type": "display_data",
          "data": {
            "text/plain": [
              "<IPython.core.display.HTML object>"
            ],
            "text/html": [
              "Tracking run with wandb version 0.13.3"
            ]
          },
          "metadata": {}
        },
        {
          "output_type": "display_data",
          "data": {
            "text/plain": [
              "<IPython.core.display.HTML object>"
            ],
            "text/html": [
              "Run data is saved locally in <code>/content/wandb/run-20220928_145435-tqer9q6z</code>"
            ]
          },
          "metadata": {}
        },
        {
          "output_type": "display_data",
          "data": {
            "text/plain": [
              "<IPython.core.display.HTML object>"
            ],
            "text/html": [
              "Syncing run <strong><a href=\"https://wandb.ai/lorenzo_mattia/Tesi/runs/tqer9q6z\" target=\"_blank\">graceful-sweep-5</a></strong> to <a href=\"https://wandb.ai/lorenzo_mattia/Tesi\" target=\"_blank\">Weights & Biases</a> (<a href=\"https://wandb.me/run\" target=\"_blank\">docs</a>)<br/>Sweep page:  <a href=\"https://wandb.ai/lorenzo_mattia/Tesi/sweeps/rxydb4sl\" target=\"_blank\">https://wandb.ai/lorenzo_mattia/Tesi/sweeps/rxydb4sl</a>"
            ]
          },
          "metadata": {}
        },
        {
          "output_type": "stream",
          "name": "stdout",
          "text": [
            "Average learned adjacency mat non soc\n"
          ]
        },
        {
          "output_type": "display_data",
          "data": {
            "text/plain": [
              "<Figure size 432x288 with 1 Axes>"
            ],
            "image/png": "[encoded data removed]"
          },
          "metadata": {
            "needs_background": "light"
          }
        },
        {
          "output_type": "stream",
          "name": "stdout",
          "text": [
            "Average learned adjacency mat soc\n"
          ]
        },
        {
          "output_type": "display_data",
          "data": {
            "text/plain": [
              "<Figure size 432x288 with 1 Axes>"
            ],
            "image/png": "[encoded data removed]"
          },
          "metadata": {
            "needs_background": "light"
          }
        },
        {
          "output_type": "display_data",
          "data": {
            "text/plain": [
              "<IPython.core.display.HTML object>"
            ],
            "text/html": [
              "Waiting for W&B process to finish... <strong style=\"color:green\">(success).</strong>"
            ]
          },
          "metadata": {}
        },
        {
          "output_type": "display_data",
          "data": {
            "text/plain": [
              "VBox(children=(Label(value='0.000 MB of 0.000 MB uploaded (0.000 MB deduped)\\r'), FloatProgress(value=1.0, max…"
            ],
            "application/vnd.jupyter.widget-view+json": {
              "version_major": 2,
              "version_minor": 0,
              "model_id": "b90f93b515424705b3393ccbfbaa2ea6"
            }
          },
          "metadata": {}
        },
        {
          "output_type": "display_data",
          "data": {
            "text/plain": [
              "<IPython.core.display.HTML object>"
            ],
            "text/html": [
              "<style>\n",
              "    table.wandb td:nth-child(1) { padding: 0 10px; text-align: left ; width: auto;} td:nth-child(2) {text-align: left ; width: 100%}\n",
              "    .wandb-row { display: flex; flex-direction: row; flex-wrap: wrap; justify-content: flex-start; width: 100% }\n",
              "    .wandb-col { display: flex; flex-direction: column; flex-basis: 100%; flex: 1; padding: 10px; }\n",
              "    </style>\n",
              "<div class=\"wandb-row\"><div class=\"wandb-col\"><h3>Run history:</h3><br/><table class=\"wandb\"><tr><td>Train F_norm loss</td><td>▂▁▁▁▁▁▁▁▁▁▁▁▁▁▁▁▁▂▂▁▂▂▂▂▂▃▂▄▃▄▄▄▅▅▆▅▆▇██</td></tr><tr><td>Train acc</td><td>▁▂▁▁▁▃▃▄▅▅▆▆▅▇▇▇▇▇██████████████████████</td></tr><tr><td>Train classification loss</td><td>█▇▇▇▇▇▇▇▆▅▃▃▃▃▃▂▃▃▂▃▁▁▂▁▁▁▁▁▁▁▁▁▁▁▁▁▁▁▁▁</td></tr><tr><td>Train diff loss</td><td>▆▄▃▃█▅▆▇▂▆▅▁▆▆▆▄▇▆▁▅▃▄▆▆▆▄▄▅▃▇▄▅▅▅▆▃▅▆▄▂</td></tr><tr><td>Train loss</td><td>▆▄▃▃█▅▆▇▃▆▅▁▆▆▆▄▇▆▁▅▃▄▆▆▆▄▄▅▃▆▄▅▅▅▆▃▅▆▄▂</td></tr><tr><td>Val F_norm loss</td><td>▂▁▁▁▁▁▁▁▁▁▁▁▁▁▁▁▁▂▂▂▂▂▂▂▃▃▃▄▃▄▅▅▅▆▆▇▆█▇█</td></tr><tr><td>Val acc</td><td>▁▂▂▁▄▂▄▅▂▄▅▄█▅█▄████▂▄▂▇▅▅▂▅▅▄▅▄▅▅▄▇▄▇▅▅</td></tr><tr><td>Val classification loss</td><td>▁▁▁▁▁▁▁▁▁▁▁▂▁▁▁▂▂▂▂▂▂▂▂▃▂▂▃▃▃▃▃▄▄▄▄█▄▄▄▄</td></tr><tr><td>Val diff loss</td><td>▂▁▁▁▁▁▁▁▁▁▁▁▁▁▁▁▁▂▂▂▂▂▃▂▃▄▃▄▄▅▅▅▅▆▇▇▇█▇█</td></tr><tr><td>Val loss</td><td>▆▄▃▃█▅▆▇▃▆▅▁▆▆▆▄▇▆▁▅▃▄▆▆▆▄▄▅▃▆▄▅▅▅▆▃▅▆▄▂</td></tr><tr><td>best_val_loss</td><td>█▂▁▁▁▁▁▁▁▁▁▁▁▁▁▁▁▁▁▁▁▁▁▁▁▁▁▁▁▁▁▁▁▁▁▁▁▁▁▁</td></tr><tr><td>test_accuracy</td><td>▁</td></tr><tr><td>test_loss</td><td>▁</td></tr></table><br/></div><div class=\"wandb-col\"><h3>Run summary:</h3><br/><table class=\"wandb\"><tr><td>Train F_norm loss</td><td>0.09563</td></tr><tr><td>Train acc</td><td>1.0</td></tr><tr><td>Train classification loss</td><td>0.00053</td></tr><tr><td>Train diff loss</td><td>1548.12616</td></tr><tr><td>Train loss</td><td>1548.22231</td></tr><tr><td>Val F_norm loss</td><td>0.09576</td></tr><tr><td>Val acc</td><td>0.6087</td></tr><tr><td>Val classification loss</td><td>3.51608</td></tr><tr><td>Val diff loss</td><td>1579.54279</td></tr><tr><td>Val loss</td><td>1548.22231</td></tr><tr><td>best_val_loss</td><td>1573.36722</td></tr><tr><td>test_accuracy</td><td>0.5</td></tr><tr><td>test_loss</td><td>0.70463</td></tr></table><br/></div></div>"
            ]
          },
          "metadata": {}
        },
        {
          "output_type": "display_data",
          "data": {
            "text/plain": [
              "<IPython.core.display.HTML object>"
            ],
            "text/html": [
              "Synced <strong style=\"color:#cdcd00\">graceful-sweep-5</strong>: <a href=\"https://wandb.ai/lorenzo_mattia/Tesi/runs/tqer9q6z\" target=\"_blank\">https://wandb.ai/lorenzo_mattia/Tesi/runs/tqer9q6z</a><br/>Synced 5 W&B file(s), 0 media file(s), 0 artifact file(s) and 0 other file(s)"
            ]
          },
          "metadata": {}
        },
        {
          "output_type": "display_data",
          "data": {
            "text/plain": [
              "<IPython.core.display.HTML object>"
            ],
            "text/html": [
              "Find logs at: <code>./wandb/run-20220928_145435-tqer9q6z/logs</code>"
            ]
          },
          "metadata": {}
        },
        {
          "output_type": "stream",
          "name": "stderr",
          "text": [
            "\u001b[34m\u001b[1mwandb\u001b[0m: Agent Starting Run: 02sg6lyk with config:\n",
            "\u001b[34m\u001b[1mwandb\u001b[0m: \talpha: 0.09098123691488988\n",
            "\u001b[34m\u001b[1mwandb\u001b[0m: \tdropout: 0.2\n",
            "\u001b[34m\u001b[1mwandb\u001b[0m: \tembedding_size: 10\n",
            "\u001b[34m\u001b[1mwandb\u001b[0m: \tlinear_size: 150\n",
            "\u001b[34m\u001b[1mwandb\u001b[0m: \tlinear_size2: 8\n",
            "\u001b[34m\u001b[1mwandb\u001b[0m: \tmomentum: 0.9569300924175096\n",
            "\u001b[34m\u001b[1mwandb\u001b[0m: \tnum_convs: 3\n",
            "Failed to detect the name of this notebook, you can set it manually with the WANDB_NOTEBOOK_NAME environment variable to enable code saving.\n"
          ]
        },
        {
          "output_type": "display_data",
          "data": {
            "text/plain": [
              "<IPython.core.display.HTML object>"
            ],
            "text/html": [
              "Tracking run with wandb version 0.13.3"
            ]
          },
          "metadata": {}
        },
        {
          "output_type": "display_data",
          "data": {
            "text/plain": [
              "<IPython.core.display.HTML object>"
            ],
            "text/html": [
              "Run data is saved locally in <code>/content/wandb/run-20220928_145712-02sg6lyk</code>"
            ]
          },
          "metadata": {}
        },
        {
          "output_type": "display_data",
          "data": {
            "text/plain": [
              "<IPython.core.display.HTML object>"
            ],
            "text/html": [
              "Syncing run <strong><a href=\"https://wandb.ai/lorenzo_mattia/Tesi/runs/02sg6lyk\" target=\"_blank\">glowing-sweep-6</a></strong> to <a href=\"https://wandb.ai/lorenzo_mattia/Tesi\" target=\"_blank\">Weights & Biases</a> (<a href=\"https://wandb.me/run\" target=\"_blank\">docs</a>)<br/>Sweep page:  <a href=\"https://wandb.ai/lorenzo_mattia/Tesi/sweeps/rxydb4sl\" target=\"_blank\">https://wandb.ai/lorenzo_mattia/Tesi/sweeps/rxydb4sl</a>"
            ]
          },
          "metadata": {}
        },
        {
          "output_type": "stream",
          "name": "stderr",
          "text": [
            "\u001b[34m\u001b[1mwandb\u001b[0m: Ctrl + C detected. Stopping sweep.\n"
          ]
        },
        {
          "output_type": "display_data",
          "data": {
            "text/plain": [
              "<IPython.core.display.HTML object>"
            ],
            "text/html": [
              "Waiting for W&B process to finish... <strong style=\"color:red\">(failed 1).</strong> Press Control-C to abort syncing."
            ]
          },
          "metadata": {}
        }
      ]
    },
    {
      "cell_type": "markdown",
      "source": [
        "## Normal training (No optimization)"
      ],
      "metadata": {
        "id": "ZE8vNgUEAEH3"
      }
    },
    {
      "cell_type": "code",
      "source": [
        "def training_loop(model, optimizer):\n",
        "  train_acc, val_acc, ep, train_losses, val_losses = [], [], [], [], []\n",
        "  best_acc = 0\n",
        "  best_loss = 10000\n",
        "  for epoch in range(NUM_EPOCHS):\n",
        "      model.train()\n",
        "      ep.append(epoch)\n",
        "      n, d, n_v, d_v = 0, 0, 0, 0\n",
        "\n",
        "      for batch in train_dataloader:\n",
        " \n",
        "          optimizer.zero_grad()\n",
        "          pred, embedding = model(batch.x.float(), batch.edge_index, batch.batch)\n",
        "          train_loss = loss_fn(pred, batch.y.float())\n",
        "\n",
        "          pred = torch.round(pred)\n",
        "          d += pred.shape[0]\n",
        "          n += (batch.y.float() == pred).int().sum()\n",
        "\n",
        "          train_loss.backward()\n",
        "          optimizer.step()\n",
        "      \n",
        "      for batch in val_dataloader:\n",
        "        #model.eval()          #check\n",
        "        with torch.no_grad():\n",
        "          pred, embedding = model(batch.x.float(), batch.edge_index, batch.batch) \n",
        "        \n",
        "        val_loss = loss_fn(pred, batch.y.float())\n",
        "        pred = torch.round(pred)\n",
        "        d_v += pred.shape[0]\n",
        "        n_v += (batch.y.float() == pred).int().sum()\n",
        "        \n",
        "      print(\"Epoch: \" + str(epoch) + \" Train loss: \" + str(round(train_loss.item(), 3)) + \" Train accuracy: \" + str(round((n / d).item(), 3)) +\\\n",
        "            \" Val loss: \" + str(round(val_loss.item(), 3)) + \" Val accuracy: \" + str(round((n_v / d_v).item(), 3)))\n",
        "\n",
        "        \n",
        "      cur_acc = (n_v / d_v).item()\n",
        "\n",
        "      train_acc.append((n / d).item())\n",
        "      val_acc.append((n_v / d_v).item())\n",
        "      train_losses.append(train_loss.item())\n",
        "      val_losses.append(val_loss.item())\n",
        "\n",
        "      if best_loss > val_losses[-1]:\n",
        "        best_loss = val_losses[-1]\n",
        "        if not os.path.isdir(saved_models_dir):\n",
        "          os.mkdir(saved_models_dir)\n",
        "        torch.save(model.state_dict(), saved_models_dir + \"/best_model\")\n",
        "\n",
        "      wandb.log({\n",
        "        'Train loss': train_losses[-1],\n",
        "        'Val loss': val_losses[-1],\n",
        "        'Train acc': train_acc[-1],\n",
        "        'Val acc': val_acc[-1]\n",
        "      })\n",
        "      \n",
        "  return train_acc, val_acc, ep, train_losses, val_losses"
      ],
      "metadata": {
        "id": "rlXDr0YtGnW2"
      },
      "execution_count": null,
      "outputs": []
    },
    {
      "cell_type": "code",
      "source": [
        "model = GraphSAGE()\n",
        "loss_fn = torch.nn.BCELoss()\n",
        "optimizer = torch.optim.RMSprop(model.parameters(), lr=LEARNING_RATE)\n",
        "train_acc, val_acc, ep, train_losses, val_losses = training_loop(model, optimizer)"
      ],
      "metadata": {
        "id": "TgbDlgQieW9A",
        "colab": {
          "base_uri": "https://localhost:8080/"
        },
        "outputId": "901aef7b-aa53-4302-c144-5712df319b54"
      },
      "execution_count": null,
      "outputs": [
        {
          "output_type": "stream",
          "name": "stdout",
          "text": [
            "Epoch: 0 Train loss: 0.727 Train accuracy: 0.539 Val loss: 0.691 Val accuracy: 0.609\n",
            "Epoch: 1 Train loss: 0.764 Train accuracy: 0.599 Val loss: 0.67 Val accuracy: 0.696\n",
            "Epoch: 2 Train loss: 0.775 Train accuracy: 0.563 Val loss: 0.654 Val accuracy: 0.565\n",
            "Epoch: 3 Train loss: 0.762 Train accuracy: 0.599 Val loss: 0.561 Val accuracy: 0.652\n",
            "Epoch: 4 Train loss: 0.734 Train accuracy: 0.533 Val loss: 0.627 Val accuracy: 0.652\n",
            "Epoch: 5 Train loss: 0.688 Train accuracy: 0.587 Val loss: 0.542 Val accuracy: 0.652\n",
            "Epoch: 6 Train loss: 0.631 Train accuracy: 0.599 Val loss: 0.568 Val accuracy: 0.652\n",
            "Epoch: 7 Train loss: 0.697 Train accuracy: 0.617 Val loss: 0.696 Val accuracy: 0.435\n",
            "Epoch: 8 Train loss: 0.676 Train accuracy: 0.605 Val loss: 0.454 Val accuracy: 0.826\n",
            "Epoch: 9 Train loss: 0.626 Train accuracy: 0.599 Val loss: 0.658 Val accuracy: 0.522\n",
            "Epoch: 10 Train loss: 0.522 Train accuracy: 0.653 Val loss: 0.58 Val accuracy: 0.696\n",
            "Epoch: 11 Train loss: 0.69 Train accuracy: 0.617 Val loss: 0.586 Val accuracy: 0.522\n",
            "Epoch: 12 Train loss: 0.49 Train accuracy: 0.689 Val loss: 0.616 Val accuracy: 0.652\n",
            "Epoch: 13 Train loss: 0.686 Train accuracy: 0.701 Val loss: 0.588 Val accuracy: 0.783\n",
            "Epoch: 14 Train loss: 0.611 Train accuracy: 0.659 Val loss: 0.577 Val accuracy: 0.696\n",
            "Epoch: 15 Train loss: 0.545 Train accuracy: 0.665 Val loss: 0.485 Val accuracy: 0.826\n",
            "Epoch: 16 Train loss: 0.655 Train accuracy: 0.659 Val loss: 0.792 Val accuracy: 0.478\n",
            "Epoch: 17 Train loss: 0.544 Train accuracy: 0.671 Val loss: 0.643 Val accuracy: 0.565\n",
            "Epoch: 18 Train loss: 0.691 Train accuracy: 0.689 Val loss: 0.708 Val accuracy: 0.565\n",
            "Epoch: 19 Train loss: 0.576 Train accuracy: 0.605 Val loss: 0.651 Val accuracy: 0.652\n",
            "Epoch: 20 Train loss: 0.581 Train accuracy: 0.653 Val loss: 0.601 Val accuracy: 0.609\n",
            "Epoch: 21 Train loss: 0.556 Train accuracy: 0.665 Val loss: 0.475 Val accuracy: 0.826\n",
            "Epoch: 22 Train loss: 0.629 Train accuracy: 0.653 Val loss: 0.6 Val accuracy: 0.783\n",
            "Epoch: 23 Train loss: 0.558 Train accuracy: 0.695 Val loss: 0.655 Val accuracy: 0.565\n",
            "Epoch: 24 Train loss: 0.562 Train accuracy: 0.677 Val loss: 0.424 Val accuracy: 0.913\n",
            "Epoch: 25 Train loss: 0.616 Train accuracy: 0.665 Val loss: 0.516 Val accuracy: 0.696\n",
            "Epoch: 26 Train loss: 0.552 Train accuracy: 0.629 Val loss: 0.519 Val accuracy: 0.739\n",
            "Epoch: 27 Train loss: 0.57 Train accuracy: 0.713 Val loss: 0.588 Val accuracy: 0.609\n",
            "Epoch: 28 Train loss: 0.618 Train accuracy: 0.677 Val loss: 0.674 Val accuracy: 0.696\n",
            "Epoch: 29 Train loss: 0.626 Train accuracy: 0.653 Val loss: 0.584 Val accuracy: 0.739\n",
            "Epoch: 30 Train loss: 0.65 Train accuracy: 0.647 Val loss: 0.593 Val accuracy: 0.783\n",
            "Epoch: 31 Train loss: 0.55 Train accuracy: 0.695 Val loss: 0.492 Val accuracy: 0.783\n",
            "Epoch: 32 Train loss: 0.825 Train accuracy: 0.659 Val loss: 0.58 Val accuracy: 0.783\n",
            "Epoch: 33 Train loss: 0.605 Train accuracy: 0.665 Val loss: 0.612 Val accuracy: 0.652\n",
            "Epoch: 34 Train loss: 0.605 Train accuracy: 0.665 Val loss: 0.761 Val accuracy: 0.435\n",
            "Epoch: 35 Train loss: 0.605 Train accuracy: 0.659 Val loss: 0.517 Val accuracy: 0.783\n",
            "Epoch: 36 Train loss: 0.646 Train accuracy: 0.701 Val loss: 0.58 Val accuracy: 0.696\n",
            "Epoch: 37 Train loss: 0.578 Train accuracy: 0.623 Val loss: 0.578 Val accuracy: 0.652\n",
            "Epoch: 38 Train loss: 0.545 Train accuracy: 0.695 Val loss: 0.606 Val accuracy: 0.739\n",
            "Epoch: 39 Train loss: 0.666 Train accuracy: 0.599 Val loss: 0.451 Val accuracy: 0.783\n",
            "Epoch: 40 Train loss: 0.575 Train accuracy: 0.707 Val loss: 0.599 Val accuracy: 0.696\n",
            "Epoch: 41 Train loss: 0.539 Train accuracy: 0.671 Val loss: 0.498 Val accuracy: 0.739\n",
            "Epoch: 42 Train loss: 0.536 Train accuracy: 0.695 Val loss: 0.496 Val accuracy: 0.609\n",
            "Epoch: 43 Train loss: 0.55 Train accuracy: 0.677 Val loss: 0.606 Val accuracy: 0.696\n",
            "Epoch: 44 Train loss: 0.546 Train accuracy: 0.665 Val loss: 0.492 Val accuracy: 0.739\n",
            "Epoch: 45 Train loss: 0.541 Train accuracy: 0.635 Val loss: 0.542 Val accuracy: 0.565\n",
            "Epoch: 46 Train loss: 0.644 Train accuracy: 0.611 Val loss: 0.532 Val accuracy: 0.739\n",
            "Epoch: 47 Train loss: 0.59 Train accuracy: 0.653 Val loss: 0.534 Val accuracy: 0.696\n",
            "Epoch: 48 Train loss: 0.466 Train accuracy: 0.707 Val loss: 0.515 Val accuracy: 0.739\n",
            "Epoch: 49 Train loss: 0.704 Train accuracy: 0.659 Val loss: 0.555 Val accuracy: 0.565\n",
            "Epoch: 50 Train loss: 0.674 Train accuracy: 0.665 Val loss: 0.442 Val accuracy: 0.826\n",
            "Epoch: 51 Train loss: 0.485 Train accuracy: 0.737 Val loss: 0.475 Val accuracy: 0.783\n",
            "Epoch: 52 Train loss: 0.585 Train accuracy: 0.689 Val loss: 0.509 Val accuracy: 0.739\n",
            "Epoch: 53 Train loss: 0.572 Train accuracy: 0.677 Val loss: 0.499 Val accuracy: 0.696\n",
            "Epoch: 54 Train loss: 0.629 Train accuracy: 0.695 Val loss: 0.486 Val accuracy: 0.739\n",
            "Epoch: 55 Train loss: 0.564 Train accuracy: 0.677 Val loss: 0.493 Val accuracy: 0.652\n",
            "Epoch: 56 Train loss: 0.512 Train accuracy: 0.713 Val loss: 0.587 Val accuracy: 0.609\n",
            "Epoch: 57 Train loss: 0.516 Train accuracy: 0.725 Val loss: 0.516 Val accuracy: 0.783\n",
            "Epoch: 58 Train loss: 0.436 Train accuracy: 0.647 Val loss: 0.538 Val accuracy: 0.696\n",
            "Epoch: 59 Train loss: 0.64 Train accuracy: 0.701 Val loss: 0.583 Val accuracy: 0.652\n",
            "Epoch: 60 Train loss: 0.562 Train accuracy: 0.617 Val loss: 0.428 Val accuracy: 0.783\n",
            "Epoch: 61 Train loss: 0.602 Train accuracy: 0.659 Val loss: 0.569 Val accuracy: 0.826\n",
            "Epoch: 62 Train loss: 0.575 Train accuracy: 0.701 Val loss: 0.536 Val accuracy: 0.739\n",
            "Epoch: 63 Train loss: 0.5 Train accuracy: 0.802 Val loss: 0.481 Val accuracy: 0.826\n",
            "Epoch: 64 Train loss: 0.534 Train accuracy: 0.641 Val loss: 0.486 Val accuracy: 0.739\n",
            "Epoch: 65 Train loss: 0.53 Train accuracy: 0.725 Val loss: 0.519 Val accuracy: 0.826\n",
            "Epoch: 66 Train loss: 0.654 Train accuracy: 0.647 Val loss: 0.55 Val accuracy: 0.696\n",
            "Epoch: 67 Train loss: 0.525 Train accuracy: 0.695 Val loss: 0.559 Val accuracy: 0.826\n",
            "Epoch: 68 Train loss: 0.509 Train accuracy: 0.689 Val loss: 0.546 Val accuracy: 0.739\n",
            "Epoch: 69 Train loss: 0.494 Train accuracy: 0.701 Val loss: 0.457 Val accuracy: 0.739\n",
            "Epoch: 70 Train loss: 0.562 Train accuracy: 0.701 Val loss: 0.629 Val accuracy: 0.652\n",
            "Epoch: 71 Train loss: 0.558 Train accuracy: 0.725 Val loss: 0.488 Val accuracy: 0.739\n",
            "Epoch: 72 Train loss: 0.651 Train accuracy: 0.659 Val loss: 0.485 Val accuracy: 0.565\n",
            "Epoch: 73 Train loss: 0.608 Train accuracy: 0.689 Val loss: 0.431 Val accuracy: 0.696\n",
            "Epoch: 74 Train loss: 0.589 Train accuracy: 0.689 Val loss: 0.493 Val accuracy: 0.739\n",
            "Epoch: 75 Train loss: 0.494 Train accuracy: 0.743 Val loss: 0.501 Val accuracy: 0.739\n",
            "Epoch: 76 Train loss: 0.452 Train accuracy: 0.743 Val loss: 0.447 Val accuracy: 0.739\n",
            "Epoch: 77 Train loss: 0.53 Train accuracy: 0.725 Val loss: 0.529 Val accuracy: 0.783\n",
            "Epoch: 78 Train loss: 0.516 Train accuracy: 0.707 Val loss: 0.559 Val accuracy: 0.652\n",
            "Epoch: 79 Train loss: 0.502 Train accuracy: 0.677 Val loss: 0.54 Val accuracy: 0.652\n",
            "Epoch: 80 Train loss: 0.518 Train accuracy: 0.689 Val loss: 0.479 Val accuracy: 0.739\n",
            "Epoch: 81 Train loss: 0.552 Train accuracy: 0.695 Val loss: 0.441 Val accuracy: 0.783\n",
            "Epoch: 82 Train loss: 0.49 Train accuracy: 0.707 Val loss: 0.527 Val accuracy: 0.652\n",
            "Epoch: 83 Train loss: 0.5 Train accuracy: 0.766 Val loss: 0.495 Val accuracy: 0.696\n",
            "Epoch: 84 Train loss: 0.575 Train accuracy: 0.743 Val loss: 0.589 Val accuracy: 0.696\n",
            "Epoch: 85 Train loss: 0.543 Train accuracy: 0.743 Val loss: 0.508 Val accuracy: 0.696\n",
            "Epoch: 86 Train loss: 0.531 Train accuracy: 0.635 Val loss: 0.499 Val accuracy: 0.652\n",
            "Epoch: 87 Train loss: 0.567 Train accuracy: 0.719 Val loss: 0.519 Val accuracy: 0.739\n",
            "Epoch: 88 Train loss: 0.541 Train accuracy: 0.701 Val loss: 0.478 Val accuracy: 0.783\n",
            "Epoch: 89 Train loss: 0.54 Train accuracy: 0.701 Val loss: 0.452 Val accuracy: 0.783\n",
            "Epoch: 90 Train loss: 0.577 Train accuracy: 0.671 Val loss: 0.559 Val accuracy: 0.783\n",
            "Epoch: 91 Train loss: 0.512 Train accuracy: 0.719 Val loss: 0.488 Val accuracy: 0.652\n",
            "Epoch: 92 Train loss: 0.534 Train accuracy: 0.737 Val loss: 0.509 Val accuracy: 0.739\n",
            "Epoch: 93 Train loss: 0.541 Train accuracy: 0.754 Val loss: 0.484 Val accuracy: 0.739\n",
            "Epoch: 94 Train loss: 0.527 Train accuracy: 0.689 Val loss: 0.534 Val accuracy: 0.739\n",
            "Epoch: 95 Train loss: 0.513 Train accuracy: 0.766 Val loss: 0.51 Val accuracy: 0.652\n",
            "Epoch: 96 Train loss: 0.574 Train accuracy: 0.707 Val loss: 0.496 Val accuracy: 0.652\n",
            "Epoch: 97 Train loss: 0.442 Train accuracy: 0.695 Val loss: 0.514 Val accuracy: 0.696\n",
            "Epoch: 98 Train loss: 0.481 Train accuracy: 0.719 Val loss: 0.47 Val accuracy: 0.652\n",
            "Epoch: 99 Train loss: 0.482 Train accuracy: 0.778 Val loss: 0.583 Val accuracy: 0.696\n",
            "Epoch: 100 Train loss: 0.499 Train accuracy: 0.707 Val loss: 0.528 Val accuracy: 0.652\n",
            "Epoch: 101 Train loss: 0.534 Train accuracy: 0.701 Val loss: 0.424 Val accuracy: 0.783\n",
            "Epoch: 102 Train loss: 0.539 Train accuracy: 0.719 Val loss: 0.464 Val accuracy: 0.783\n",
            "Epoch: 103 Train loss: 0.587 Train accuracy: 0.76 Val loss: 0.423 Val accuracy: 0.87\n",
            "Epoch: 104 Train loss: 0.455 Train accuracy: 0.778 Val loss: 0.482 Val accuracy: 0.696\n",
            "Epoch: 105 Train loss: 0.504 Train accuracy: 0.743 Val loss: 0.542 Val accuracy: 0.652\n",
            "Epoch: 106 Train loss: 0.503 Train accuracy: 0.79 Val loss: 0.608 Val accuracy: 0.609\n",
            "Epoch: 107 Train loss: 0.459 Train accuracy: 0.76 Val loss: 0.515 Val accuracy: 0.652\n",
            "Epoch: 108 Train loss: 0.404 Train accuracy: 0.713 Val loss: 0.417 Val accuracy: 0.826\n",
            "Epoch: 109 Train loss: 0.503 Train accuracy: 0.719 Val loss: 0.475 Val accuracy: 0.826\n",
            "Epoch: 110 Train loss: 0.531 Train accuracy: 0.749 Val loss: 0.394 Val accuracy: 0.87\n",
            "Epoch: 111 Train loss: 0.484 Train accuracy: 0.772 Val loss: 0.564 Val accuracy: 0.565\n",
            "Epoch: 112 Train loss: 0.517 Train accuracy: 0.719 Val loss: 0.519 Val accuracy: 0.696\n",
            "Epoch: 113 Train loss: 0.537 Train accuracy: 0.725 Val loss: 0.412 Val accuracy: 0.739\n",
            "Epoch: 114 Train loss: 0.441 Train accuracy: 0.772 Val loss: 0.557 Val accuracy: 0.696\n",
            "Epoch: 115 Train loss: 0.388 Train accuracy: 0.784 Val loss: 0.486 Val accuracy: 0.783\n",
            "Epoch: 116 Train loss: 0.398 Train accuracy: 0.766 Val loss: 0.515 Val accuracy: 0.739\n",
            "Epoch: 117 Train loss: 0.479 Train accuracy: 0.749 Val loss: 0.433 Val accuracy: 0.826\n",
            "Epoch: 118 Train loss: 0.42 Train accuracy: 0.832 Val loss: 0.468 Val accuracy: 0.826\n",
            "Epoch: 119 Train loss: 0.515 Train accuracy: 0.701 Val loss: 0.589 Val accuracy: 0.696\n",
            "Epoch: 120 Train loss: 0.529 Train accuracy: 0.725 Val loss: 0.412 Val accuracy: 0.783\n",
            "Epoch: 121 Train loss: 0.498 Train accuracy: 0.737 Val loss: 0.509 Val accuracy: 0.696\n",
            "Epoch: 122 Train loss: 0.49 Train accuracy: 0.713 Val loss: 0.372 Val accuracy: 0.87\n",
            "Epoch: 123 Train loss: 0.527 Train accuracy: 0.749 Val loss: 0.44 Val accuracy: 0.783\n",
            "Epoch: 124 Train loss: 0.538 Train accuracy: 0.749 Val loss: 0.457 Val accuracy: 0.826\n",
            "Epoch: 125 Train loss: 0.543 Train accuracy: 0.766 Val loss: 0.523 Val accuracy: 0.652\n",
            "Epoch: 126 Train loss: 0.448 Train accuracy: 0.707 Val loss: 0.539 Val accuracy: 0.696\n",
            "Epoch: 127 Train loss: 0.388 Train accuracy: 0.731 Val loss: 0.499 Val accuracy: 0.696\n",
            "Epoch: 128 Train loss: 0.357 Train accuracy: 0.749 Val loss: 0.414 Val accuracy: 0.87\n",
            "Epoch: 129 Train loss: 0.626 Train accuracy: 0.79 Val loss: 0.474 Val accuracy: 0.783\n",
            "Epoch: 130 Train loss: 0.391 Train accuracy: 0.796 Val loss: 0.43 Val accuracy: 0.696\n",
            "Epoch: 131 Train loss: 0.534 Train accuracy: 0.772 Val loss: 0.58 Val accuracy: 0.652\n",
            "Epoch: 132 Train loss: 0.463 Train accuracy: 0.754 Val loss: 0.499 Val accuracy: 0.696\n",
            "Epoch: 133 Train loss: 0.484 Train accuracy: 0.778 Val loss: 0.471 Val accuracy: 0.826\n",
            "Epoch: 134 Train loss: 0.641 Train accuracy: 0.725 Val loss: 0.457 Val accuracy: 0.826\n",
            "Epoch: 135 Train loss: 0.418 Train accuracy: 0.772 Val loss: 0.563 Val accuracy: 0.783\n",
            "Epoch: 136 Train loss: 0.428 Train accuracy: 0.766 Val loss: 0.411 Val accuracy: 0.87\n",
            "Epoch: 137 Train loss: 0.476 Train accuracy: 0.76 Val loss: 0.392 Val accuracy: 0.826\n",
            "Epoch: 138 Train loss: 0.473 Train accuracy: 0.689 Val loss: 0.465 Val accuracy: 0.696\n",
            "Epoch: 139 Train loss: 0.474 Train accuracy: 0.754 Val loss: 0.514 Val accuracy: 0.783\n",
            "Epoch: 140 Train loss: 0.43 Train accuracy: 0.772 Val loss: 0.52 Val accuracy: 0.652\n",
            "Epoch: 141 Train loss: 0.62 Train accuracy: 0.749 Val loss: 0.484 Val accuracy: 0.739\n",
            "Epoch: 142 Train loss: 0.54 Train accuracy: 0.772 Val loss: 0.506 Val accuracy: 0.739\n",
            "Epoch: 143 Train loss: 0.442 Train accuracy: 0.778 Val loss: 0.434 Val accuracy: 0.783\n",
            "Epoch: 144 Train loss: 0.457 Train accuracy: 0.772 Val loss: 0.457 Val accuracy: 0.783\n",
            "Epoch: 145 Train loss: 0.479 Train accuracy: 0.689 Val loss: 0.518 Val accuracy: 0.696\n",
            "Epoch: 146 Train loss: 0.498 Train accuracy: 0.772 Val loss: 0.431 Val accuracy: 0.913\n",
            "Epoch: 147 Train loss: 0.434 Train accuracy: 0.772 Val loss: 0.428 Val accuracy: 0.739\n",
            "Epoch: 148 Train loss: 0.39 Train accuracy: 0.749 Val loss: 0.366 Val accuracy: 0.826\n",
            "Epoch: 149 Train loss: 0.437 Train accuracy: 0.731 Val loss: 0.48 Val accuracy: 0.696\n",
            "Epoch: 150 Train loss: 0.494 Train accuracy: 0.772 Val loss: 0.414 Val accuracy: 0.739\n",
            "Epoch: 151 Train loss: 0.575 Train accuracy: 0.731 Val loss: 0.403 Val accuracy: 0.783\n",
            "Epoch: 152 Train loss: 0.451 Train accuracy: 0.76 Val loss: 0.456 Val accuracy: 0.783\n",
            "Epoch: 153 Train loss: 0.533 Train accuracy: 0.743 Val loss: 0.514 Val accuracy: 0.696\n",
            "Epoch: 154 Train loss: 0.472 Train accuracy: 0.725 Val loss: 0.443 Val accuracy: 0.783\n",
            "Epoch: 155 Train loss: 0.491 Train accuracy: 0.707 Val loss: 0.537 Val accuracy: 0.652\n",
            "Epoch: 156 Train loss: 0.471 Train accuracy: 0.772 Val loss: 0.459 Val accuracy: 0.783\n",
            "Epoch: 157 Train loss: 0.547 Train accuracy: 0.796 Val loss: 0.408 Val accuracy: 0.913\n",
            "Epoch: 158 Train loss: 0.464 Train accuracy: 0.79 Val loss: 0.524 Val accuracy: 0.696\n",
            "Epoch: 159 Train loss: 0.472 Train accuracy: 0.725 Val loss: 0.534 Val accuracy: 0.783\n",
            "Epoch: 160 Train loss: 0.532 Train accuracy: 0.743 Val loss: 0.484 Val accuracy: 0.739\n",
            "Epoch: 161 Train loss: 0.389 Train accuracy: 0.743 Val loss: 0.514 Val accuracy: 0.652\n",
            "Epoch: 162 Train loss: 0.408 Train accuracy: 0.719 Val loss: 0.538 Val accuracy: 0.652\n",
            "Epoch: 163 Train loss: 0.527 Train accuracy: 0.719 Val loss: 0.504 Val accuracy: 0.739\n",
            "Epoch: 164 Train loss: 0.52 Train accuracy: 0.754 Val loss: 0.467 Val accuracy: 0.696\n",
            "Epoch: 165 Train loss: 0.441 Train accuracy: 0.772 Val loss: 0.528 Val accuracy: 0.696\n",
            "Epoch: 166 Train loss: 0.495 Train accuracy: 0.731 Val loss: 0.443 Val accuracy: 0.783\n",
            "Epoch: 167 Train loss: 0.556 Train accuracy: 0.749 Val loss: 0.501 Val accuracy: 0.739\n",
            "Epoch: 168 Train loss: 0.471 Train accuracy: 0.725 Val loss: 0.386 Val accuracy: 0.783\n",
            "Epoch: 169 Train loss: 0.435 Train accuracy: 0.731 Val loss: 0.416 Val accuracy: 0.696\n",
            "Epoch: 170 Train loss: 0.503 Train accuracy: 0.802 Val loss: 0.499 Val accuracy: 0.696\n",
            "Epoch: 171 Train loss: 0.511 Train accuracy: 0.743 Val loss: 0.54 Val accuracy: 0.696\n",
            "Epoch: 172 Train loss: 0.4 Train accuracy: 0.796 Val loss: 0.436 Val accuracy: 0.696\n",
            "Epoch: 173 Train loss: 0.487 Train accuracy: 0.76 Val loss: 0.446 Val accuracy: 0.609\n",
            "Epoch: 174 Train loss: 0.47 Train accuracy: 0.76 Val loss: 0.46 Val accuracy: 0.826\n",
            "Epoch: 175 Train loss: 0.45 Train accuracy: 0.76 Val loss: 0.388 Val accuracy: 0.913\n",
            "Epoch: 176 Train loss: 0.443 Train accuracy: 0.808 Val loss: 0.524 Val accuracy: 0.739\n",
            "Epoch: 177 Train loss: 0.522 Train accuracy: 0.731 Val loss: 0.459 Val accuracy: 0.87\n",
            "Epoch: 178 Train loss: 0.504 Train accuracy: 0.766 Val loss: 0.494 Val accuracy: 0.739\n",
            "Epoch: 179 Train loss: 0.407 Train accuracy: 0.796 Val loss: 0.418 Val accuracy: 0.739\n",
            "Epoch: 180 Train loss: 0.456 Train accuracy: 0.749 Val loss: 0.313 Val accuracy: 0.913\n",
            "Epoch: 181 Train loss: 0.477 Train accuracy: 0.737 Val loss: 0.546 Val accuracy: 0.739\n",
            "Epoch: 182 Train loss: 0.436 Train accuracy: 0.784 Val loss: 0.478 Val accuracy: 0.739\n",
            "Epoch: 183 Train loss: 0.475 Train accuracy: 0.754 Val loss: 0.475 Val accuracy: 0.783\n",
            "Epoch: 184 Train loss: 0.397 Train accuracy: 0.79 Val loss: 0.517 Val accuracy: 0.696\n",
            "Epoch: 185 Train loss: 0.401 Train accuracy: 0.784 Val loss: 0.495 Val accuracy: 0.652\n",
            "Epoch: 186 Train loss: 0.482 Train accuracy: 0.76 Val loss: 0.464 Val accuracy: 0.609\n",
            "Epoch: 187 Train loss: 0.386 Train accuracy: 0.79 Val loss: 0.488 Val accuracy: 0.652\n",
            "Epoch: 188 Train loss: 0.471 Train accuracy: 0.79 Val loss: 0.404 Val accuracy: 0.87\n",
            "Epoch: 189 Train loss: 0.436 Train accuracy: 0.784 Val loss: 0.407 Val accuracy: 0.739\n",
            "Epoch: 190 Train loss: 0.353 Train accuracy: 0.76 Val loss: 0.45 Val accuracy: 0.739\n",
            "Epoch: 191 Train loss: 0.574 Train accuracy: 0.754 Val loss: 0.458 Val accuracy: 0.783\n",
            "Epoch: 192 Train loss: 0.393 Train accuracy: 0.76 Val loss: 0.51 Val accuracy: 0.739\n",
            "Epoch: 193 Train loss: 0.437 Train accuracy: 0.76 Val loss: 0.422 Val accuracy: 0.739\n",
            "Epoch: 194 Train loss: 0.417 Train accuracy: 0.814 Val loss: 0.464 Val accuracy: 0.87\n",
            "Epoch: 195 Train loss: 0.35 Train accuracy: 0.784 Val loss: 0.49 Val accuracy: 0.652\n",
            "Epoch: 196 Train loss: 0.526 Train accuracy: 0.784 Val loss: 0.388 Val accuracy: 0.739\n",
            "Epoch: 197 Train loss: 0.464 Train accuracy: 0.76 Val loss: 0.447 Val accuracy: 0.652\n",
            "Epoch: 198 Train loss: 0.421 Train accuracy: 0.802 Val loss: 0.45 Val accuracy: 0.783\n",
            "Epoch: 199 Train loss: 0.478 Train accuracy: 0.737 Val loss: 0.434 Val accuracy: 0.739\n",
            "Epoch: 200 Train loss: 0.362 Train accuracy: 0.79 Val loss: 0.345 Val accuracy: 0.87\n",
            "Epoch: 201 Train loss: 0.454 Train accuracy: 0.76 Val loss: 0.46 Val accuracy: 0.783\n",
            "Epoch: 202 Train loss: 0.384 Train accuracy: 0.754 Val loss: 0.427 Val accuracy: 0.739\n",
            "Epoch: 203 Train loss: 0.344 Train accuracy: 0.76 Val loss: 0.386 Val accuracy: 0.783\n",
            "Epoch: 204 Train loss: 0.54 Train accuracy: 0.772 Val loss: 0.458 Val accuracy: 0.783\n",
            "Epoch: 205 Train loss: 0.516 Train accuracy: 0.802 Val loss: 0.455 Val accuracy: 0.783\n",
            "Epoch: 206 Train loss: 0.497 Train accuracy: 0.749 Val loss: 0.399 Val accuracy: 0.826\n",
            "Epoch: 207 Train loss: 0.454 Train accuracy: 0.749 Val loss: 0.475 Val accuracy: 0.696\n",
            "Epoch: 208 Train loss: 0.47 Train accuracy: 0.737 Val loss: 0.431 Val accuracy: 0.739\n",
            "Epoch: 209 Train loss: 0.42 Train accuracy: 0.796 Val loss: 0.406 Val accuracy: 0.739\n",
            "Epoch: 210 Train loss: 0.406 Train accuracy: 0.79 Val loss: 0.431 Val accuracy: 0.739\n",
            "Epoch: 211 Train loss: 0.526 Train accuracy: 0.731 Val loss: 0.474 Val accuracy: 0.609\n",
            "Epoch: 212 Train loss: 0.423 Train accuracy: 0.784 Val loss: 0.523 Val accuracy: 0.783\n",
            "Epoch: 213 Train loss: 0.424 Train accuracy: 0.772 Val loss: 0.618 Val accuracy: 0.739\n",
            "Epoch: 214 Train loss: 0.499 Train accuracy: 0.814 Val loss: 0.477 Val accuracy: 0.783\n",
            "Epoch: 215 Train loss: 0.449 Train accuracy: 0.778 Val loss: 0.515 Val accuracy: 0.826\n",
            "Epoch: 216 Train loss: 0.424 Train accuracy: 0.76 Val loss: 0.509 Val accuracy: 0.783\n",
            "Epoch: 217 Train loss: 0.453 Train accuracy: 0.76 Val loss: 0.371 Val accuracy: 0.826\n",
            "Epoch: 218 Train loss: 0.497 Train accuracy: 0.784 Val loss: 0.553 Val accuracy: 0.652\n",
            "Epoch: 219 Train loss: 0.434 Train accuracy: 0.796 Val loss: 0.459 Val accuracy: 0.783\n",
            "Epoch: 220 Train loss: 0.384 Train accuracy: 0.766 Val loss: 0.353 Val accuracy: 0.913\n",
            "Epoch: 221 Train loss: 0.469 Train accuracy: 0.778 Val loss: 0.451 Val accuracy: 0.783\n",
            "Epoch: 222 Train loss: 0.354 Train accuracy: 0.784 Val loss: 0.467 Val accuracy: 0.826\n",
            "Epoch: 223 Train loss: 0.41 Train accuracy: 0.82 Val loss: 0.448 Val accuracy: 0.739\n",
            "Epoch: 224 Train loss: 0.417 Train accuracy: 0.737 Val loss: 0.42 Val accuracy: 0.739\n",
            "Epoch: 225 Train loss: 0.508 Train accuracy: 0.796 Val loss: 0.353 Val accuracy: 0.826\n",
            "Epoch: 226 Train loss: 0.485 Train accuracy: 0.76 Val loss: 0.452 Val accuracy: 0.739\n",
            "Epoch: 227 Train loss: 0.461 Train accuracy: 0.82 Val loss: 0.42 Val accuracy: 0.739\n",
            "Epoch: 228 Train loss: 0.435 Train accuracy: 0.802 Val loss: 0.421 Val accuracy: 0.87\n",
            "Epoch: 229 Train loss: 0.387 Train accuracy: 0.814 Val loss: 0.38 Val accuracy: 0.87\n",
            "Epoch: 230 Train loss: 0.429 Train accuracy: 0.808 Val loss: 0.414 Val accuracy: 0.826\n",
            "Epoch: 231 Train loss: 0.412 Train accuracy: 0.701 Val loss: 0.388 Val accuracy: 0.783\n",
            "Epoch: 232 Train loss: 0.388 Train accuracy: 0.814 Val loss: 0.527 Val accuracy: 0.609\n",
            "Epoch: 233 Train loss: 0.405 Train accuracy: 0.772 Val loss: 0.467 Val accuracy: 0.696\n",
            "Epoch: 234 Train loss: 0.417 Train accuracy: 0.79 Val loss: 0.468 Val accuracy: 0.783\n",
            "Epoch: 235 Train loss: 0.504 Train accuracy: 0.802 Val loss: 0.39 Val accuracy: 0.696\n",
            "Epoch: 236 Train loss: 0.39 Train accuracy: 0.766 Val loss: 0.427 Val accuracy: 0.87\n",
            "Epoch: 237 Train loss: 0.328 Train accuracy: 0.754 Val loss: 0.459 Val accuracy: 0.696\n",
            "Epoch: 238 Train loss: 0.496 Train accuracy: 0.772 Val loss: 0.413 Val accuracy: 0.696\n",
            "Epoch: 239 Train loss: 0.438 Train accuracy: 0.784 Val loss: 0.469 Val accuracy: 0.739\n",
            "Epoch: 240 Train loss: 0.431 Train accuracy: 0.737 Val loss: 0.562 Val accuracy: 0.696\n",
            "Epoch: 241 Train loss: 0.408 Train accuracy: 0.76 Val loss: 0.403 Val accuracy: 0.739\n",
            "Epoch: 242 Train loss: 0.407 Train accuracy: 0.778 Val loss: 0.424 Val accuracy: 0.826\n",
            "Epoch: 243 Train loss: 0.525 Train accuracy: 0.749 Val loss: 0.451 Val accuracy: 0.739\n",
            "Epoch: 244 Train loss: 0.417 Train accuracy: 0.766 Val loss: 0.376 Val accuracy: 0.826\n",
            "Epoch: 245 Train loss: 0.464 Train accuracy: 0.79 Val loss: 0.523 Val accuracy: 0.696\n",
            "Epoch: 246 Train loss: 0.35 Train accuracy: 0.82 Val loss: 0.457 Val accuracy: 0.826\n",
            "Epoch: 247 Train loss: 0.527 Train accuracy: 0.79 Val loss: 0.414 Val accuracy: 0.739\n",
            "Epoch: 248 Train loss: 0.335 Train accuracy: 0.796 Val loss: 0.481 Val accuracy: 0.696\n",
            "Epoch: 249 Train loss: 0.424 Train accuracy: 0.772 Val loss: 0.575 Val accuracy: 0.696\n",
            "Epoch: 250 Train loss: 0.378 Train accuracy: 0.778 Val loss: 0.404 Val accuracy: 0.739\n",
            "Epoch: 251 Train loss: 0.484 Train accuracy: 0.766 Val loss: 0.435 Val accuracy: 0.696\n",
            "Epoch: 252 Train loss: 0.48 Train accuracy: 0.802 Val loss: 0.388 Val accuracy: 0.783\n",
            "Epoch: 253 Train loss: 0.448 Train accuracy: 0.826 Val loss: 0.5 Val accuracy: 0.739\n",
            "Epoch: 254 Train loss: 0.432 Train accuracy: 0.719 Val loss: 0.417 Val accuracy: 0.696\n",
            "Epoch: 255 Train loss: 0.43 Train accuracy: 0.796 Val loss: 0.359 Val accuracy: 0.739\n",
            "Epoch: 256 Train loss: 0.438 Train accuracy: 0.826 Val loss: 0.497 Val accuracy: 0.739\n",
            "Epoch: 257 Train loss: 0.487 Train accuracy: 0.749 Val loss: 0.385 Val accuracy: 0.87\n",
            "Epoch: 258 Train loss: 0.337 Train accuracy: 0.802 Val loss: 0.455 Val accuracy: 0.826\n",
            "Epoch: 259 Train loss: 0.415 Train accuracy: 0.766 Val loss: 0.574 Val accuracy: 0.609\n",
            "Epoch: 260 Train loss: 0.406 Train accuracy: 0.778 Val loss: 0.476 Val accuracy: 0.696\n",
            "Epoch: 261 Train loss: 0.396 Train accuracy: 0.778 Val loss: 0.438 Val accuracy: 0.783\n",
            "Epoch: 262 Train loss: 0.468 Train accuracy: 0.778 Val loss: 0.386 Val accuracy: 0.696\n",
            "Epoch: 263 Train loss: 0.39 Train accuracy: 0.808 Val loss: 0.48 Val accuracy: 0.739\n",
            "Epoch: 264 Train loss: 0.48 Train accuracy: 0.802 Val loss: 0.524 Val accuracy: 0.783\n",
            "Epoch: 265 Train loss: 0.497 Train accuracy: 0.796 Val loss: 0.395 Val accuracy: 0.826\n",
            "Epoch: 266 Train loss: 0.499 Train accuracy: 0.826 Val loss: 0.294 Val accuracy: 0.826\n",
            "Epoch: 267 Train loss: 0.394 Train accuracy: 0.725 Val loss: 0.404 Val accuracy: 0.783\n",
            "Epoch: 268 Train loss: 0.351 Train accuracy: 0.778 Val loss: 0.467 Val accuracy: 0.739\n",
            "Epoch: 269 Train loss: 0.47 Train accuracy: 0.784 Val loss: 0.352 Val accuracy: 0.826\n",
            "Epoch: 270 Train loss: 0.411 Train accuracy: 0.778 Val loss: 0.41 Val accuracy: 0.826\n",
            "Epoch: 271 Train loss: 0.384 Train accuracy: 0.772 Val loss: 0.436 Val accuracy: 0.783\n",
            "Epoch: 272 Train loss: 0.427 Train accuracy: 0.743 Val loss: 0.368 Val accuracy: 0.87\n",
            "Epoch: 273 Train loss: 0.427 Train accuracy: 0.754 Val loss: 0.553 Val accuracy: 0.652\n",
            "Epoch: 274 Train loss: 0.465 Train accuracy: 0.796 Val loss: 0.472 Val accuracy: 0.739\n",
            "Epoch: 275 Train loss: 0.377 Train accuracy: 0.796 Val loss: 0.445 Val accuracy: 0.826\n",
            "Epoch: 276 Train loss: 0.344 Train accuracy: 0.784 Val loss: 0.349 Val accuracy: 0.783\n",
            "Epoch: 277 Train loss: 0.335 Train accuracy: 0.778 Val loss: 0.339 Val accuracy: 0.826\n",
            "Epoch: 278 Train loss: 0.466 Train accuracy: 0.737 Val loss: 0.425 Val accuracy: 0.739\n",
            "Epoch: 279 Train loss: 0.462 Train accuracy: 0.76 Val loss: 0.494 Val accuracy: 0.783\n",
            "Epoch: 280 Train loss: 0.45 Train accuracy: 0.743 Val loss: 0.334 Val accuracy: 0.826\n",
            "Epoch: 281 Train loss: 0.392 Train accuracy: 0.778 Val loss: 0.381 Val accuracy: 0.739\n",
            "Epoch: 282 Train loss: 0.474 Train accuracy: 0.79 Val loss: 0.438 Val accuracy: 0.783\n",
            "Epoch: 283 Train loss: 0.529 Train accuracy: 0.784 Val loss: 0.534 Val accuracy: 0.826\n",
            "Epoch: 284 Train loss: 0.456 Train accuracy: 0.784 Val loss: 0.406 Val accuracy: 0.826\n",
            "Epoch: 285 Train loss: 0.401 Train accuracy: 0.743 Val loss: 0.403 Val accuracy: 0.826\n",
            "Epoch: 286 Train loss: 0.476 Train accuracy: 0.784 Val loss: 0.403 Val accuracy: 0.87\n",
            "Epoch: 287 Train loss: 0.378 Train accuracy: 0.832 Val loss: 0.412 Val accuracy: 0.739\n",
            "Epoch: 288 Train loss: 0.456 Train accuracy: 0.778 Val loss: 0.375 Val accuracy: 0.826\n",
            "Epoch: 289 Train loss: 0.339 Train accuracy: 0.784 Val loss: 0.485 Val accuracy: 0.739\n",
            "Epoch: 290 Train loss: 0.518 Train accuracy: 0.772 Val loss: 0.363 Val accuracy: 0.783\n",
            "Epoch: 291 Train loss: 0.407 Train accuracy: 0.778 Val loss: 0.477 Val accuracy: 0.783\n",
            "Epoch: 292 Train loss: 0.449 Train accuracy: 0.689 Val loss: 0.387 Val accuracy: 0.913\n",
            "Epoch: 293 Train loss: 0.422 Train accuracy: 0.689 Val loss: 0.403 Val accuracy: 0.826\n",
            "Epoch: 294 Train loss: 0.389 Train accuracy: 0.766 Val loss: 0.366 Val accuracy: 0.913\n",
            "Epoch: 295 Train loss: 0.376 Train accuracy: 0.802 Val loss: 0.412 Val accuracy: 0.739\n",
            "Epoch: 296 Train loss: 0.422 Train accuracy: 0.749 Val loss: 0.396 Val accuracy: 0.783\n",
            "Epoch: 297 Train loss: 0.332 Train accuracy: 0.772 Val loss: 0.382 Val accuracy: 0.87\n",
            "Epoch: 298 Train loss: 0.499 Train accuracy: 0.772 Val loss: 0.486 Val accuracy: 0.783\n",
            "Epoch: 299 Train loss: 0.417 Train accuracy: 0.802 Val loss: 0.404 Val accuracy: 0.652\n"
          ]
        }
      ]
    },
    {
      "cell_type": "code",
      "source": [
        "run.finish()"
      ],
      "metadata": {
        "id": "SYQ_yxx7Webu",
        "colab": {
          "base_uri": "https://localhost:8080/",
          "height": 87,
          "referenced_widgets": [
            "43e9a064f5f3459e859e161420d7aa39",
            "88ef5db1177147c2bf351b089b56e107",
            "463da2b9929e4c2b831e2b6ed1c82a73",
            "4f1ea798cd4a47029728107d283f1bcd",
            "80150e141eb04931b23664ae46641e19",
            "416f3fb874b1432e9b497f2a20784db7",
            "b62277e767d84effb8bf9f8a174b3abf",
            "5d50abf524fc41a6a0e356a6610435cf"
          ]
        },
        "outputId": "cc466f09-f2a1-424d-8ba7-18013f93e114"
      },
      "execution_count": null,
      "outputs": [
        {
          "output_type": "display_data",
          "data": {
            "text/plain": [
              "<IPython.core.display.HTML object>"
            ],
            "text/html": [
              "Waiting for W&B process to finish... <strong style=\"color:green\">(success).</strong>"
            ]
          },
          "metadata": {}
        },
        {
          "output_type": "display_data",
          "data": {
            "text/plain": [
              "VBox(children=(Label(value='0.001 MB of 0.001 MB uploaded (0.000 MB deduped)\\r'), FloatProgress(value=1.0, max…"
            ],
            "application/vnd.jupyter.widget-view+json": {
              "version_major": 2,
              "version_minor": 0,
              "model_id": "43e9a064f5f3459e859e161420d7aa39"
            }
          },
          "metadata": {}
        },
        {
          "output_type": "display_data",
          "data": {
            "text/plain": [
              "<IPython.core.display.HTML object>"
            ],
            "text/html": [
              "Synced <strong style=\"color:#cdcd00\">classification/GraphSAGE_sub-12sweep_1.0.0</strong>: <a href=\"https://wandb.ai/lorenzo_mattia/Tesi/runs/sfz287lm\" target=\"_blank\">https://wandb.ai/lorenzo_mattia/Tesi/runs/sfz287lm</a><br/>Synced 5 W&B file(s), 0 media file(s), 0 artifact file(s) and 0 other file(s)"
            ]
          },
          "metadata": {}
        },
        {
          "output_type": "display_data",
          "data": {
            "text/plain": [
              "<IPython.core.display.HTML object>"
            ],
            "text/html": [
              "Find logs at: <code>./wandb/run-20220716_155950-sfz287lm/logs</code>"
            ]
          },
          "metadata": {}
        }
      ]
    },
    {
      "cell_type": "markdown",
      "source": [
        "## Normal Test"
      ],
      "metadata": {
        "id": "J839zC535LPh"
      }
    },
    {
      "cell_type": "code",
      "source": [
        "#LOAD_MODEL_VERSION = \"1.0.0\"\n",
        "model = GraphSAGE(0.0, 10, 64, 100, 2, 0.0394)\n",
        "num_sweep = 6\n",
        "model.load_state_dict(torch.load(CURR_DIR + \"/\" + str(num_sweep) + \"/best_model\"))\n",
        "model.eval()"
      ],
      "metadata": {
        "colab": {
          "base_uri": "https://localhost:8080/"
        },
        "id": "ckD6Tfa-m1A9",
        "outputId": "09f1b911-883d-4816-d759-33c512a67cc8"
      },
      "execution_count": null,
      "outputs": [
        {
          "output_type": "execute_result",
          "data": {
            "text/plain": [
              "GraphSAGE(\n",
              "  (initial_conv): SAGEConv(29, 10, aggr=mean)\n",
              "  (convs): ModuleList(\n",
              "    (0): SAGEConv(10, 10, aggr=mean)\n",
              "    (1): SAGEConv(10, 10, aggr=mean)\n",
              "  )\n",
              "  (drop): Dropout(p=0.0, inplace=False)\n",
              "  (relu): ReLU()\n",
              "  (out1): Linear(in_features=10, out_features=64, bias=True)\n",
              "  (out2): Linear(in_features=64, out_features=100, bias=True)\n",
              "  (out3): Linear(in_features=100, out_features=1, bias=True)\n",
              "  (gl): Graph_Learn()\n",
              ")"
            ]
          },
          "metadata": {},
          "execution_count": 106
        }
      ]
    },
    {
      "cell_type": "code",
      "source": [
        "from sklearn.metrics import confusion_matrix, classification_report\n",
        "import seaborn as sns\n",
        "\n",
        "def test(num_sweep):\n",
        "  preds = []\n",
        "  lbls = []\n",
        "  for test_batch in test_dataloader:\n",
        "    with torch.no_grad():\n",
        "        #model.eval()\n",
        "     pred, embedding, S, diff, alpha = model(test_batch.x.float(), test_batch.edge_index, test_batch.batch)\n",
        "    preds.append(torch.round(pred).tolist())\n",
        "    lbls.append(test_batch.y.tolist())\n",
        "\n",
        "  preds = [x for xs in preds for x in xs]\n",
        "  lbls = [x for xs in lbls for x in xs]\n",
        "  indexes_non_soc = torch.tensor([i for i,val in enumerate(lbls) if val==0])\n",
        "  indexes_soc = torch.tensor([i for i,val in enumerate(lbls) if val==1])\n",
        "\n",
        "  temp2 = torch.reshape(S, (TEST_BATCH_SIZE, 29, 29))\n",
        "\n",
        "  learned_non_soc = torch.mean(torch.index_select(temp2, dim = 0, index = indexes_non_soc), dim = 0)\n",
        "  learned_soc = torch.mean(torch.index_select(temp2, dim = 0, index = indexes_soc), dim = 0)\n",
        "\n",
        "  print(\"Average learned adjacency mat non soc\")\n",
        "  plt.imshow(learned_non_soc)\n",
        "  plt.savefig(CURR_DIR + \"/\" + str(num_sweep) + \"/Average learned adjacency mat non soc.png\")\n",
        "  plt.show()\n",
        "  torch.save(learned_non_soc, CURR_DIR + \"/\" + str(num_sweep) + '/learned_non_soc.pt') \n",
        "  \n",
        "  print(\"Average learned adjacency mat soc\")\n",
        "  plt.imshow(learned_soc)\n",
        "  plt.savefig(CURR_DIR + \"/\" + str(num_sweep) + \"/Average learned adjacency mat soc.png\")\n",
        "  plt.show()\n",
        "  torch.save(learned_soc, CURR_DIR + \"/\" + str(num_sweep) + '/learned_soc.pt') \n",
        "\n",
        "  conf_mat = confusion_matrix(lbls, preds)\n",
        "  conf_mat = sns.heatmap(conf_mat, square=True, annot=True, cmap='Blues', fmt='d', \\\n",
        "                        cbar=False, xticklabels = [\"stick\", \"avatar\"], yticklabels = [\"stick\", \"avatar\"])\n",
        "\n",
        "  SAVE = True\n",
        "\n",
        "  if SAVE:\n",
        "    conf_mat.figure.savefig(CURR_DIR + \"/\" + str(num_sweep) + \"/confusion_matrix.png\")\n",
        "\n",
        "\n",
        "\n",
        "  print(classification_report(lbls, preds, target_names=[\"stick\", \"avatar\"]))\n",
        "\n",
        "test(num_sweep)"
      ],
      "metadata": {
        "colab": {
          "base_uri": "https://localhost:8080/",
          "height": 963
        },
        "id": "a11Mh7jgy6ZS",
        "outputId": "7901dc0b-3c0d-40c7-ed08-88787b1cae7e"
      },
      "execution_count": null,
      "outputs": [
        {
          "output_type": "stream",
          "name": "stdout",
          "text": [
            "Average learned adjacency mat non soc\n"
          ]
        },
        {
          "output_type": "display_data",
          "data": {
            "text/plain": [
              "<Figure size 432x288 with 1 Axes>"
            ],
            "image/png": "[encoded data removed]"
          },
          "metadata": {
            "needs_background": "light"
          }
        },
        {
          "output_type": "stream",
          "name": "stdout",
          "text": [
            "Average learned adjacency mat soc\n"
          ]
        },
        {
          "output_type": "display_data",
          "data": {
            "text/plain": [
              "<Figure size 432x288 with 1 Axes>"
            ],
            "image/png": "[encoded data removed]"
          },
          "metadata": {
            "needs_background": "light"
          }
        },
        {
          "output_type": "stream",
          "name": "stdout",
          "text": [
            "              precision    recall  f1-score   support\n",
            "\n",
            "       stick       0.67      0.47      0.55        17\n",
            "      avatar       0.59      0.76      0.67        17\n",
            "\n",
            "    accuracy                           0.62        34\n",
            "   macro avg       0.63      0.62      0.61        34\n",
            "weighted avg       0.63      0.62      0.61        34\n",
            "\n"
          ]
        },
        {
          "output_type": "display_data",
          "data": {
            "text/plain": [
              "<Figure size 432x288 with 1 Axes>"
            ],
            "image/png": "[encoded data removed]"
          },
          "metadata": {
            "needs_background": "light"
          }
        }
      ]
    }
  ],
  "metadata": {
    "colab": {
      "collapsed_sections": [
        "2I6XRNVjqwhR",
        "VDcVy0-MaGrs",
        "9FWbISL_aKQV",
        "gMZ8jNEgFsvU",
        "2ZLDGKgqFlr0",
        "LBHiyrK0yJaY",
        "NV3zLrD_bh5K",
        "_DSbza1dEN0M",
        "18YOGSO15WOY",
        "ZE8vNgUEAEH3",
        "p3ELtG7KQnqj",
        "jFO_bUZUF7IL"
      ],
      "provenance": []
    },
    "kernelspec": {
      "display_name": "Python 3",
      "name": "python3"
    },
    "language_info": {
      "name": "python"
    },
    "accelerator": "GPU",
    "widgets": {
      "application/vnd.jupyter.widget-state+json": {
        "43e9a064f5f3459e859e161420d7aa39": {
          "model_module": "@jupyter-widgets/controls",
          "model_name": "VBoxModel",
          "model_module_version": "1.5.0",
          "state": {
            "_dom_classes": [],
            "_model_module": "@jupyter-widgets/controls",
            "_model_module_version": "1.5.0",
            "_model_name": "VBoxModel",
            "_view_count": null,
            "_view_module": "@jupyter-widgets/controls",
            "_view_module_version": "1.5.0",
            "_view_name": "VBoxView",
            "box_style": "",
            "children": [
              "IPY_MODEL_88ef5db1177147c2bf351b089b56e107",
              "IPY_MODEL_463da2b9929e4c2b831e2b6ed1c82a73"
            ],
            "layout": "IPY_MODEL_4f1ea798cd4a47029728107d283f1bcd"
          }
        },
        "88ef5db1177147c2bf351b089b56e107": {
          "model_module": "@jupyter-widgets/controls",
          "model_name": "LabelModel",
          "model_module_version": "1.5.0",
          "state": {
            "_dom_classes": [],
            "_model_module": "@jupyter-widgets/controls",
            "_model_module_version": "1.5.0",
            "_model_name": "LabelModel",
            "_view_count": null,
            "_view_module": "@jupyter-widgets/controls",
            "_view_module_version": "1.5.0",
            "_view_name": "LabelView",
            "description": "",
            "description_tooltip": null,
            "layout": "IPY_MODEL_80150e141eb04931b23664ae46641e19",
            "placeholder": "​",
            "style": "IPY_MODEL_416f3fb874b1432e9b497f2a20784db7",
            "value": "0.009 MB of 0.009 MB uploaded (0.000 MB deduped)\r"
          }
        },
        "463da2b9929e4c2b831e2b6ed1c82a73": {
          "model_module": "@jupyter-widgets/controls",
          "model_name": "FloatProgressModel",
          "model_module_version": "1.5.0",
          "state": {
            "_dom_classes": [],
            "_model_module": "@jupyter-widgets/controls",
            "_model_module_version": "1.5.0",
            "_model_name": "FloatProgressModel",
            "_view_count": null,
            "_view_module": "@jupyter-widgets/controls",
            "_view_module_version": "1.5.0",
            "_view_name": "ProgressView",
            "bar_style": "",
            "description": "",
            "description_tooltip": null,
            "layout": "IPY_MODEL_b62277e767d84effb8bf9f8a174b3abf",
            "max": 1,
            "min": 0,
            "orientation": "horizontal",
            "style": "IPY_MODEL_5d50abf524fc41a6a0e356a6610435cf",
            "value": 1
          }
        },
        "4f1ea798cd4a47029728107d283f1bcd": {
          "model_module": "@jupyter-widgets/base",
          "model_name": "LayoutModel",
          "model_module_version": "1.2.0",
          "state": {
            "_model_module": "@jupyter-widgets/base",
            "_model_module_version": "1.2.0",
            "_model_name": "LayoutModel",
            "_view_count": null,
            "_view_module": "@jupyter-widgets/base",
            "_view_module_version": "1.2.0",
            "_view_name": "LayoutView",
            "align_content": null,
            "align_items": null,
            "align_self": null,
            "border": null,
            "bottom": null,
            "display": null,
            "flex": null,
            "flex_flow": null,
            "grid_area": null,
            "grid_auto_columns": null,
            "grid_auto_flow": null,
            "grid_auto_rows": null,
            "grid_column": null,
            "grid_gap": null,
            "grid_row": null,
            "grid_template_areas": null,
            "grid_template_columns": null,
            "grid_template_rows": null,
            "height": null,
            "justify_content": null,
            "justify_items": null,
            "left": null,
            "margin": null,
            "max_height": null,
            "max_width": null,
            "min_height": null,
            "min_width": null,
            "object_fit": null,
            "object_position": null,
            "order": null,
            "overflow": null,
            "overflow_x": null,
            "overflow_y": null,
            "padding": null,
            "right": null,
            "top": null,
            "visibility": null,
            "width": null
          }
        },
        "80150e141eb04931b23664ae46641e19": {
          "model_module": "@jupyter-widgets/base",
          "model_name": "LayoutModel",
          "model_module_version": "1.2.0",
          "state": {
            "_model_module": "@jupyter-widgets/base",
            "_model_module_version": "1.2.0",
            "_model_name": "LayoutModel",
            "_view_count": null,
            "_view_module": "@jupyter-widgets/base",
            "_view_module_version": "1.2.0",
            "_view_name": "LayoutView",
            "align_content": null,
            "align_items": null,
            "align_self": null,
            "border": null,
            "bottom": null,
            "display": null,
            "flex": null,
            "flex_flow": null,
            "grid_area": null,
            "grid_auto_columns": null,
            "grid_auto_flow": null,
            "grid_auto_rows": null,
            "grid_column": null,
            "grid_gap": null,
            "grid_row": null,
            "grid_template_areas": null,
            "grid_template_columns": null,
            "grid_template_rows": null,
            "height": null,
            "justify_content": null,
            "justify_items": null,
            "left": null,
            "margin": null,
            "max_height": null,
            "max_width": null,
            "min_height": null,
            "min_width": null,
            "object_fit": null,
            "object_position": null,
            "order": null,
            "overflow": null,
            "overflow_x": null,
            "overflow_y": null,
            "padding": null,
            "right": null,
            "top": null,
            "visibility": null,
            "width": null
          }
        },
        "416f3fb874b1432e9b497f2a20784db7": {
          "model_module": "@jupyter-widgets/controls",
          "model_name": "DescriptionStyleModel",
          "model_module_version": "1.5.0",
          "state": {
            "_model_module": "@jupyter-widgets/controls",
            "_model_module_version": "1.5.0",
            "_model_name": "DescriptionStyleModel",
            "_view_count": null,
            "_view_module": "@jupyter-widgets/base",
            "_view_module_version": "1.2.0",
            "_view_name": "StyleView",
            "description_width": ""
          }
        },
        "b62277e767d84effb8bf9f8a174b3abf": {
          "model_module": "@jupyter-widgets/base",
          "model_name": "LayoutModel",
          "model_module_version": "1.2.0",
          "state": {
            "_model_module": "@jupyter-widgets/base",
            "_model_module_version": "1.2.0",
            "_model_name": "LayoutModel",
            "_view_count": null,
            "_view_module": "@jupyter-widgets/base",
            "_view_module_version": "1.2.0",
            "_view_name": "LayoutView",
            "align_content": null,
            "align_items": null,
            "align_self": null,
            "border": null,
            "bottom": null,
            "display": null,
            "flex": null,
            "flex_flow": null,
            "grid_area": null,
            "grid_auto_columns": null,
            "grid_auto_flow": null,
            "grid_auto_rows": null,
            "grid_column": null,
            "grid_gap": null,
            "grid_row": null,
            "grid_template_areas": null,
            "grid_template_columns": null,
            "grid_template_rows": null,
            "height": null,
            "justify_content": null,
            "justify_items": null,
            "left": null,
            "margin": null,
            "max_height": null,
            "max_width": null,
            "min_height": null,
            "min_width": null,
            "object_fit": null,
            "object_position": null,
            "order": null,
            "overflow": null,
            "overflow_x": null,
            "overflow_y": null,
            "padding": null,
            "right": null,
            "top": null,
            "visibility": null,
            "width": null
          }
        },
        "5d50abf524fc41a6a0e356a6610435cf": {
          "model_module": "@jupyter-widgets/controls",
          "model_name": "ProgressStyleModel",
          "model_module_version": "1.5.0",
          "state": {
            "_model_module": "@jupyter-widgets/controls",
            "_model_module_version": "1.5.0",
            "_model_name": "ProgressStyleModel",
            "_view_count": null,
            "_view_module": "@jupyter-widgets/base",
            "_view_module_version": "1.2.0",
            "_view_name": "StyleView",
            "bar_color": null,
            "description_width": ""
          }
        },
        "94e2b46e9c8c46fba7332df216d814e4": {
          "model_module": "@jupyter-widgets/controls",
          "model_name": "VBoxModel",
          "model_module_version": "1.5.0",
          "state": {
            "_dom_classes": [],
            "_model_module": "@jupyter-widgets/controls",
            "_model_module_version": "1.5.0",
            "_model_name": "VBoxModel",
            "_view_count": null,
            "_view_module": "@jupyter-widgets/controls",
            "_view_module_version": "1.5.0",
            "_view_name": "VBoxView",
            "box_style": "",
            "children": [
              "IPY_MODEL_3800a21bc2a541d798ae76cf1b692a05",
              "IPY_MODEL_ad2349e66ac449ed808eb2988b226896"
            ],
            "layout": "IPY_MODEL_ae1626bec2294a7da450fc4183762c8e"
          }
        },
        "3800a21bc2a541d798ae76cf1b692a05": {
          "model_module": "@jupyter-widgets/controls",
          "model_name": "LabelModel",
          "model_module_version": "1.5.0",
          "state": {
            "_dom_classes": [],
            "_model_module": "@jupyter-widgets/controls",
            "_model_module_version": "1.5.0",
            "_model_name": "LabelModel",
            "_view_count": null,
            "_view_module": "@jupyter-widgets/controls",
            "_view_module_version": "1.5.0",
            "_view_name": "LabelView",
            "description": "",
            "description_tooltip": null,
            "layout": "IPY_MODEL_7c07e620c9644ba48db814e47641a3ba",
            "placeholder": "​",
            "style": "IPY_MODEL_a507a1dd5d7e438486dbc2fff7f6f438",
            "value": "0.009 MB of 0.009 MB uploaded (0.000 MB deduped)\r"
          }
        },
        "ad2349e66ac449ed808eb2988b226896": {
          "model_module": "@jupyter-widgets/controls",
          "model_name": "FloatProgressModel",
          "model_module_version": "1.5.0",
          "state": {
            "_dom_classes": [],
            "_model_module": "@jupyter-widgets/controls",
            "_model_module_version": "1.5.0",
            "_model_name": "FloatProgressModel",
            "_view_count": null,
            "_view_module": "@jupyter-widgets/controls",
            "_view_module_version": "1.5.0",
            "_view_name": "ProgressView",
            "bar_style": "",
            "description": "",
            "description_tooltip": null,
            "layout": "IPY_MODEL_a6ff66ed83ca421aad7f0d7fd46c5f1e",
            "max": 1,
            "min": 0,
            "orientation": "horizontal",
            "style": "IPY_MODEL_5dce0aac7f1e42028f3cb4c52a23d6f6",
            "value": 1
          }
        },
        "ae1626bec2294a7da450fc4183762c8e": {
          "model_module": "@jupyter-widgets/base",
          "model_name": "LayoutModel",
          "model_module_version": "1.2.0",
          "state": {
            "_model_module": "@jupyter-widgets/base",
            "_model_module_version": "1.2.0",
            "_model_name": "LayoutModel",
            "_view_count": null,
            "_view_module": "@jupyter-widgets/base",
            "_view_module_version": "1.2.0",
            "_view_name": "LayoutView",
            "align_content": null,
            "align_items": null,
            "align_self": null,
            "border": null,
            "bottom": null,
            "display": null,
            "flex": null,
            "flex_flow": null,
            "grid_area": null,
            "grid_auto_columns": null,
            "grid_auto_flow": null,
            "grid_auto_rows": null,
            "grid_column": null,
            "grid_gap": null,
            "grid_row": null,
            "grid_template_areas": null,
            "grid_template_columns": null,
            "grid_template_rows": null,
            "height": null,
            "justify_content": null,
            "justify_items": null,
            "left": null,
            "margin": null,
            "max_height": null,
            "max_width": null,
            "min_height": null,
            "min_width": null,
            "object_fit": null,
            "object_position": null,
            "order": null,
            "overflow": null,
            "overflow_x": null,
            "overflow_y": null,
            "padding": null,
            "right": null,
            "top": null,
            "visibility": null,
            "width": null
          }
        },
        "7c07e620c9644ba48db814e47641a3ba": {
          "model_module": "@jupyter-widgets/base",
          "model_name": "LayoutModel",
          "model_module_version": "1.2.0",
          "state": {
            "_model_module": "@jupyter-widgets/base",
            "_model_module_version": "1.2.0",
            "_model_name": "LayoutModel",
            "_view_count": null,
            "_view_module": "@jupyter-widgets/base",
            "_view_module_version": "1.2.0",
            "_view_name": "LayoutView",
            "align_content": null,
            "align_items": null,
            "align_self": null,
            "border": null,
            "bottom": null,
            "display": null,
            "flex": null,
            "flex_flow": null,
            "grid_area": null,
            "grid_auto_columns": null,
            "grid_auto_flow": null,
            "grid_auto_rows": null,
            "grid_column": null,
            "grid_gap": null,
            "grid_row": null,
            "grid_template_areas": null,
            "grid_template_columns": null,
            "grid_template_rows": null,
            "height": null,
            "justify_content": null,
            "justify_items": null,
            "left": null,
            "margin": null,
            "max_height": null,
            "max_width": null,
            "min_height": null,
            "min_width": null,
            "object_fit": null,
            "object_position": null,
            "order": null,
            "overflow": null,
            "overflow_x": null,
            "overflow_y": null,
            "padding": null,
            "right": null,
            "top": null,
            "visibility": null,
            "width": null
          }
        },
        "a507a1dd5d7e438486dbc2fff7f6f438": {
          "model_module": "@jupyter-widgets/controls",
          "model_name": "DescriptionStyleModel",
          "model_module_version": "1.5.0",
          "state": {
            "_model_module": "@jupyter-widgets/controls",
            "_model_module_version": "1.5.0",
            "_model_name": "DescriptionStyleModel",
            "_view_count": null,
            "_view_module": "@jupyter-widgets/base",
            "_view_module_version": "1.2.0",
            "_view_name": "StyleView",
            "description_width": ""
          }
        },
        "a6ff66ed83ca421aad7f0d7fd46c5f1e": {
          "model_module": "@jupyter-widgets/base",
          "model_name": "LayoutModel",
          "model_module_version": "1.2.0",
          "state": {
            "_model_module": "@jupyter-widgets/base",
            "_model_module_version": "1.2.0",
            "_model_name": "LayoutModel",
            "_view_count": null,
            "_view_module": "@jupyter-widgets/base",
            "_view_module_version": "1.2.0",
            "_view_name": "LayoutView",
            "align_content": null,
            "align_items": null,
            "align_self": null,
            "border": null,
            "bottom": null,
            "display": null,
            "flex": null,
            "flex_flow": null,
            "grid_area": null,
            "grid_auto_columns": null,
            "grid_auto_flow": null,
            "grid_auto_rows": null,
            "grid_column": null,
            "grid_gap": null,
            "grid_row": null,
            "grid_template_areas": null,
            "grid_template_columns": null,
            "grid_template_rows": null,
            "height": null,
            "justify_content": null,
            "justify_items": null,
            "left": null,
            "margin": null,
            "max_height": null,
            "max_width": null,
            "min_height": null,
            "min_width": null,
            "object_fit": null,
            "object_position": null,
            "order": null,
            "overflow": null,
            "overflow_x": null,
            "overflow_y": null,
            "padding": null,
            "right": null,
            "top": null,
            "visibility": null,
            "width": null
          }
        },
        "5dce0aac7f1e42028f3cb4c52a23d6f6": {
          "model_module": "@jupyter-widgets/controls",
          "model_name": "ProgressStyleModel",
          "model_module_version": "1.5.0",
          "state": {
            "_model_module": "@jupyter-widgets/controls",
            "_model_module_version": "1.5.0",
            "_model_name": "ProgressStyleModel",
            "_view_count": null,
            "_view_module": "@jupyter-widgets/base",
            "_view_module_version": "1.2.0",
            "_view_name": "StyleView",
            "bar_color": null,
            "description_width": ""
          }
        },
        "7309cef0b5ed48148b80849ed87c1061": {
          "model_module": "@jupyter-widgets/controls",
          "model_name": "VBoxModel",
          "model_module_version": "1.5.0",
          "state": {
            "_dom_classes": [],
            "_model_module": "@jupyter-widgets/controls",
            "_model_module_version": "1.5.0",
            "_model_name": "VBoxModel",
            "_view_count": null,
            "_view_module": "@jupyter-widgets/controls",
            "_view_module_version": "1.5.0",
            "_view_name": "VBoxView",
            "box_style": "",
            "children": [
              "IPY_MODEL_16007bf04b4b4787be98a49b425bcbec",
              "IPY_MODEL_9ff1c0b7817e4a7b972f3a993592dd8a"
            ],
            "layout": "IPY_MODEL_d2639a69295f480390a18508f76bec18"
          }
        },
        "16007bf04b4b4787be98a49b425bcbec": {
          "model_module": "@jupyter-widgets/controls",
          "model_name": "LabelModel",
          "model_module_version": "1.5.0",
          "state": {
            "_dom_classes": [],
            "_model_module": "@jupyter-widgets/controls",
            "_model_module_version": "1.5.0",
            "_model_name": "LabelModel",
            "_view_count": null,
            "_view_module": "@jupyter-widgets/controls",
            "_view_module_version": "1.5.0",
            "_view_name": "LabelView",
            "description": "",
            "description_tooltip": null,
            "layout": "IPY_MODEL_93d44c07c6ce4b3ca0c62ecc91c9e0f9",
            "placeholder": "​",
            "style": "IPY_MODEL_2329096b081b4be0a657a0bde45d4622",
            "value": "0.009 MB of 0.009 MB uploaded (0.000 MB deduped)\r"
          }
        },
        "9ff1c0b7817e4a7b972f3a993592dd8a": {
          "model_module": "@jupyter-widgets/controls",
          "model_name": "FloatProgressModel",
          "model_module_version": "1.5.0",
          "state": {
            "_dom_classes": [],
            "_model_module": "@jupyter-widgets/controls",
            "_model_module_version": "1.5.0",
            "_model_name": "FloatProgressModel",
            "_view_count": null,
            "_view_module": "@jupyter-widgets/controls",
            "_view_module_version": "1.5.0",
            "_view_name": "ProgressView",
            "bar_style": "",
            "description": "",
            "description_tooltip": null,
            "layout": "IPY_MODEL_eed9c98c332c4b4bb36fd0c14bcb6c19",
            "max": 1,
            "min": 0,
            "orientation": "horizontal",
            "style": "IPY_MODEL_ba8a6f845309480dbe701342f5a02dec",
            "value": 1
          }
        },
        "d2639a69295f480390a18508f76bec18": {
          "model_module": "@jupyter-widgets/base",
          "model_name": "LayoutModel",
          "model_module_version": "1.2.0",
          "state": {
            "_model_module": "@jupyter-widgets/base",
            "_model_module_version": "1.2.0",
            "_model_name": "LayoutModel",
            "_view_count": null,
            "_view_module": "@jupyter-widgets/base",
            "_view_module_version": "1.2.0",
            "_view_name": "LayoutView",
            "align_content": null,
            "align_items": null,
            "align_self": null,
            "border": null,
            "bottom": null,
            "display": null,
            "flex": null,
            "flex_flow": null,
            "grid_area": null,
            "grid_auto_columns": null,
            "grid_auto_flow": null,
            "grid_auto_rows": null,
            "grid_column": null,
            "grid_gap": null,
            "grid_row": null,
            "grid_template_areas": null,
            "grid_template_columns": null,
            "grid_template_rows": null,
            "height": null,
            "justify_content": null,
            "justify_items": null,
            "left": null,
            "margin": null,
            "max_height": null,
            "max_width": null,
            "min_height": null,
            "min_width": null,
            "object_fit": null,
            "object_position": null,
            "order": null,
            "overflow": null,
            "overflow_x": null,
            "overflow_y": null,
            "padding": null,
            "right": null,
            "top": null,
            "visibility": null,
            "width": null
          }
        },
        "93d44c07c6ce4b3ca0c62ecc91c9e0f9": {
          "model_module": "@jupyter-widgets/base",
          "model_name": "LayoutModel",
          "model_module_version": "1.2.0",
          "state": {
            "_model_module": "@jupyter-widgets/base",
            "_model_module_version": "1.2.0",
            "_model_name": "LayoutModel",
            "_view_count": null,
            "_view_module": "@jupyter-widgets/base",
            "_view_module_version": "1.2.0",
            "_view_name": "LayoutView",
            "align_content": null,
            "align_items": null,
            "align_self": null,
            "border": null,
            "bottom": null,
            "display": null,
            "flex": null,
            "flex_flow": null,
            "grid_area": null,
            "grid_auto_columns": null,
            "grid_auto_flow": null,
            "grid_auto_rows": null,
            "grid_column": null,
            "grid_gap": null,
            "grid_row": null,
            "grid_template_areas": null,
            "grid_template_columns": null,
            "grid_template_rows": null,
            "height": null,
            "justify_content": null,
            "justify_items": null,
            "left": null,
            "margin": null,
            "max_height": null,
            "max_width": null,
            "min_height": null,
            "min_width": null,
            "object_fit": null,
            "object_position": null,
            "order": null,
            "overflow": null,
            "overflow_x": null,
            "overflow_y": null,
            "padding": null,
            "right": null,
            "top": null,
            "visibility": null,
            "width": null
          }
        },
        "2329096b081b4be0a657a0bde45d4622": {
          "model_module": "@jupyter-widgets/controls",
          "model_name": "DescriptionStyleModel",
          "model_module_version": "1.5.0",
          "state": {
            "_model_module": "@jupyter-widgets/controls",
            "_model_module_version": "1.5.0",
            "_model_name": "DescriptionStyleModel",
            "_view_count": null,
            "_view_module": "@jupyter-widgets/base",
            "_view_module_version": "1.2.0",
            "_view_name": "StyleView",
            "description_width": ""
          }
        },
        "eed9c98c332c4b4bb36fd0c14bcb6c19": {
          "model_module": "@jupyter-widgets/base",
          "model_name": "LayoutModel",
          "model_module_version": "1.2.0",
          "state": {
            "_model_module": "@jupyter-widgets/base",
            "_model_module_version": "1.2.0",
            "_model_name": "LayoutModel",
            "_view_count": null,
            "_view_module": "@jupyter-widgets/base",
            "_view_module_version": "1.2.0",
            "_view_name": "LayoutView",
            "align_content": null,
            "align_items": null,
            "align_self": null,
            "border": null,
            "bottom": null,
            "display": null,
            "flex": null,
            "flex_flow": null,
            "grid_area": null,
            "grid_auto_columns": null,
            "grid_auto_flow": null,
            "grid_auto_rows": null,
            "grid_column": null,
            "grid_gap": null,
            "grid_row": null,
            "grid_template_areas": null,
            "grid_template_columns": null,
            "grid_template_rows": null,
            "height": null,
            "justify_content": null,
            "justify_items": null,
            "left": null,
            "margin": null,
            "max_height": null,
            "max_width": null,
            "min_height": null,
            "min_width": null,
            "object_fit": null,
            "object_position": null,
            "order": null,
            "overflow": null,
            "overflow_x": null,
            "overflow_y": null,
            "padding": null,
            "right": null,
            "top": null,
            "visibility": null,
            "width": null
          }
        },
        "ba8a6f845309480dbe701342f5a02dec": {
          "model_module": "@jupyter-widgets/controls",
          "model_name": "ProgressStyleModel",
          "model_module_version": "1.5.0",
          "state": {
            "_model_module": "@jupyter-widgets/controls",
            "_model_module_version": "1.5.0",
            "_model_name": "ProgressStyleModel",
            "_view_count": null,
            "_view_module": "@jupyter-widgets/base",
            "_view_module_version": "1.2.0",
            "_view_name": "StyleView",
            "bar_color": null,
            "description_width": ""
          }
        },
        "53796bcb0f214c748db4e1c36f70210c": {
          "model_module": "@jupyter-widgets/controls",
          "model_name": "VBoxModel",
          "model_module_version": "1.5.0",
          "state": {
            "_dom_classes": [],
            "_model_module": "@jupyter-widgets/controls",
            "_model_module_version": "1.5.0",
            "_model_name": "VBoxModel",
            "_view_count": null,
            "_view_module": "@jupyter-widgets/controls",
            "_view_module_version": "1.5.0",
            "_view_name": "VBoxView",
            "box_style": "",
            "children": [
              "IPY_MODEL_3f5913b858f44ec6ae5ca23c25b0e56f",
              "IPY_MODEL_10296f0319be41c1b63e158513144aa9"
            ],
            "layout": "IPY_MODEL_e2bf33edc1fd4c2d943e6f04a325d4b9"
          }
        },
        "3f5913b858f44ec6ae5ca23c25b0e56f": {
          "model_module": "@jupyter-widgets/controls",
          "model_name": "LabelModel",
          "model_module_version": "1.5.0",
          "state": {
            "_dom_classes": [],
            "_model_module": "@jupyter-widgets/controls",
            "_model_module_version": "1.5.0",
            "_model_name": "LabelModel",
            "_view_count": null,
            "_view_module": "@jupyter-widgets/controls",
            "_view_module_version": "1.5.0",
            "_view_name": "LabelView",
            "description": "",
            "description_tooltip": null,
            "layout": "IPY_MODEL_2bf2bbc7464047d5a667223f4786bdc7",
            "placeholder": "​",
            "style": "IPY_MODEL_ee3aa32012ef44368cdef7d5f7817837",
            "value": "0.009 MB of 0.009 MB uploaded (0.000 MB deduped)\r"
          }
        },
        "10296f0319be41c1b63e158513144aa9": {
          "model_module": "@jupyter-widgets/controls",
          "model_name": "FloatProgressModel",
          "model_module_version": "1.5.0",
          "state": {
            "_dom_classes": [],
            "_model_module": "@jupyter-widgets/controls",
            "_model_module_version": "1.5.0",
            "_model_name": "FloatProgressModel",
            "_view_count": null,
            "_view_module": "@jupyter-widgets/controls",
            "_view_module_version": "1.5.0",
            "_view_name": "ProgressView",
            "bar_style": "",
            "description": "",
            "description_tooltip": null,
            "layout": "IPY_MODEL_4efb3d5d3c854ab8842d451c3d473bec",
            "max": 1,
            "min": 0,
            "orientation": "horizontal",
            "style": "IPY_MODEL_b9f22b2480274e2d8b3ecce35a0f87dc",
            "value": 1
          }
        },
        "e2bf33edc1fd4c2d943e6f04a325d4b9": {
          "model_module": "@jupyter-widgets/base",
          "model_name": "LayoutModel",
          "model_module_version": "1.2.0",
          "state": {
            "_model_module": "@jupyter-widgets/base",
            "_model_module_version": "1.2.0",
            "_model_name": "LayoutModel",
            "_view_count": null,
            "_view_module": "@jupyter-widgets/base",
            "_view_module_version": "1.2.0",
            "_view_name": "LayoutView",
            "align_content": null,
            "align_items": null,
            "align_self": null,
            "border": null,
            "bottom": null,
            "display": null,
            "flex": null,
            "flex_flow": null,
            "grid_area": null,
            "grid_auto_columns": null,
            "grid_auto_flow": null,
            "grid_auto_rows": null,
            "grid_column": null,
            "grid_gap": null,
            "grid_row": null,
            "grid_template_areas": null,
            "grid_template_columns": null,
            "grid_template_rows": null,
            "height": null,
            "justify_content": null,
            "justify_items": null,
            "left": null,
            "margin": null,
            "max_height": null,
            "max_width": null,
            "min_height": null,
            "min_width": null,
            "object_fit": null,
            "object_position": null,
            "order": null,
            "overflow": null,
            "overflow_x": null,
            "overflow_y": null,
            "padding": null,
            "right": null,
            "top": null,
            "visibility": null,
            "width": null
          }
        },
        "2bf2bbc7464047d5a667223f4786bdc7": {
          "model_module": "@jupyter-widgets/base",
          "model_name": "LayoutModel",
          "model_module_version": "1.2.0",
          "state": {
            "_model_module": "@jupyter-widgets/base",
            "_model_module_version": "1.2.0",
            "_model_name": "LayoutModel",
            "_view_count": null,
            "_view_module": "@jupyter-widgets/base",
            "_view_module_version": "1.2.0",
            "_view_name": "LayoutView",
            "align_content": null,
            "align_items": null,
            "align_self": null,
            "border": null,
            "bottom": null,
            "display": null,
            "flex": null,
            "flex_flow": null,
            "grid_area": null,
            "grid_auto_columns": null,
            "grid_auto_flow": null,
            "grid_auto_rows": null,
            "grid_column": null,
            "grid_gap": null,
            "grid_row": null,
            "grid_template_areas": null,
            "grid_template_columns": null,
            "grid_template_rows": null,
            "height": null,
            "justify_content": null,
            "justify_items": null,
            "left": null,
            "margin": null,
            "max_height": null,
            "max_width": null,
            "min_height": null,
            "min_width": null,
            "object_fit": null,
            "object_position": null,
            "order": null,
            "overflow": null,
            "overflow_x": null,
            "overflow_y": null,
            "padding": null,
            "right": null,
            "top": null,
            "visibility": null,
            "width": null
          }
        },
        "ee3aa32012ef44368cdef7d5f7817837": {
          "model_module": "@jupyter-widgets/controls",
          "model_name": "DescriptionStyleModel",
          "model_module_version": "1.5.0",
          "state": {
            "_model_module": "@jupyter-widgets/controls",
            "_model_module_version": "1.5.0",
            "_model_name": "DescriptionStyleModel",
            "_view_count": null,
            "_view_module": "@jupyter-widgets/base",
            "_view_module_version": "1.2.0",
            "_view_name": "StyleView",
            "description_width": ""
          }
        },
        "4efb3d5d3c854ab8842d451c3d473bec": {
          "model_module": "@jupyter-widgets/base",
          "model_name": "LayoutModel",
          "model_module_version": "1.2.0",
          "state": {
            "_model_module": "@jupyter-widgets/base",
            "_model_module_version": "1.2.0",
            "_model_name": "LayoutModel",
            "_view_count": null,
            "_view_module": "@jupyter-widgets/base",
            "_view_module_version": "1.2.0",
            "_view_name": "LayoutView",
            "align_content": null,
            "align_items": null,
            "align_self": null,
            "border": null,
            "bottom": null,
            "display": null,
            "flex": null,
            "flex_flow": null,
            "grid_area": null,
            "grid_auto_columns": null,
            "grid_auto_flow": null,
            "grid_auto_rows": null,
            "grid_column": null,
            "grid_gap": null,
            "grid_row": null,
            "grid_template_areas": null,
            "grid_template_columns": null,
            "grid_template_rows": null,
            "height": null,
            "justify_content": null,
            "justify_items": null,
            "left": null,
            "margin": null,
            "max_height": null,
            "max_width": null,
            "min_height": null,
            "min_width": null,
            "object_fit": null,
            "object_position": null,
            "order": null,
            "overflow": null,
            "overflow_x": null,
            "overflow_y": null,
            "padding": null,
            "right": null,
            "top": null,
            "visibility": null,
            "width": null
          }
        },
        "b9f22b2480274e2d8b3ecce35a0f87dc": {
          "model_module": "@jupyter-widgets/controls",
          "model_name": "ProgressStyleModel",
          "model_module_version": "1.5.0",
          "state": {
            "_model_module": "@jupyter-widgets/controls",
            "_model_module_version": "1.5.0",
            "_model_name": "ProgressStyleModel",
            "_view_count": null,
            "_view_module": "@jupyter-widgets/base",
            "_view_module_version": "1.2.0",
            "_view_name": "StyleView",
            "bar_color": null,
            "description_width": ""
          }
        },
        "085595b9c3084cf2a7b36afbd2e3186e": {
          "model_module": "@jupyter-widgets/controls",
          "model_name": "VBoxModel",
          "model_module_version": "1.5.0",
          "state": {
            "_dom_classes": [],
            "_model_module": "@jupyter-widgets/controls",
            "_model_module_version": "1.5.0",
            "_model_name": "VBoxModel",
            "_view_count": null,
            "_view_module": "@jupyter-widgets/controls",
            "_view_module_version": "1.5.0",
            "_view_name": "VBoxView",
            "box_style": "",
            "children": [
              "IPY_MODEL_e9125d263d5e44e9ba3cbc165bafe88f",
              "IPY_MODEL_97662d156f044011bd97e843059bcc8f"
            ],
            "layout": "IPY_MODEL_8dda424448764345a987ec88be2459d1"
          }
        },
        "e9125d263d5e44e9ba3cbc165bafe88f": {
          "model_module": "@jupyter-widgets/controls",
          "model_name": "LabelModel",
          "model_module_version": "1.5.0",
          "state": {
            "_dom_classes": [],
            "_model_module": "@jupyter-widgets/controls",
            "_model_module_version": "1.5.0",
            "_model_name": "LabelModel",
            "_view_count": null,
            "_view_module": "@jupyter-widgets/controls",
            "_view_module_version": "1.5.0",
            "_view_name": "LabelView",
            "description": "",
            "description_tooltip": null,
            "layout": "IPY_MODEL_b8c20a11b9994624a4b6b948bb485db6",
            "placeholder": "​",
            "style": "IPY_MODEL_735be4f7b8b443f9a9803b4fefe0e471",
            "value": "0.009 MB of 0.009 MB uploaded (0.000 MB deduped)\r"
          }
        },
        "97662d156f044011bd97e843059bcc8f": {
          "model_module": "@jupyter-widgets/controls",
          "model_name": "FloatProgressModel",
          "model_module_version": "1.5.0",
          "state": {
            "_dom_classes": [],
            "_model_module": "@jupyter-widgets/controls",
            "_model_module_version": "1.5.0",
            "_model_name": "FloatProgressModel",
            "_view_count": null,
            "_view_module": "@jupyter-widgets/controls",
            "_view_module_version": "1.5.0",
            "_view_name": "ProgressView",
            "bar_style": "",
            "description": "",
            "description_tooltip": null,
            "layout": "IPY_MODEL_161e06422eda40608af6e07351c2776b",
            "max": 1,
            "min": 0,
            "orientation": "horizontal",
            "style": "IPY_MODEL_c742cf2e7131457db71a8f3fe3502157",
            "value": 1
          }
        },
        "8dda424448764345a987ec88be2459d1": {
          "model_module": "@jupyter-widgets/base",
          "model_name": "LayoutModel",
          "model_module_version": "1.2.0",
          "state": {
            "_model_module": "@jupyter-widgets/base",
            "_model_module_version": "1.2.0",
            "_model_name": "LayoutModel",
            "_view_count": null,
            "_view_module": "@jupyter-widgets/base",
            "_view_module_version": "1.2.0",
            "_view_name": "LayoutView",
            "align_content": null,
            "align_items": null,
            "align_self": null,
            "border": null,
            "bottom": null,
            "display": null,
            "flex": null,
            "flex_flow": null,
            "grid_area": null,
            "grid_auto_columns": null,
            "grid_auto_flow": null,
            "grid_auto_rows": null,
            "grid_column": null,
            "grid_gap": null,
            "grid_row": null,
            "grid_template_areas": null,
            "grid_template_columns": null,
            "grid_template_rows": null,
            "height": null,
            "justify_content": null,
            "justify_items": null,
            "left": null,
            "margin": null,
            "max_height": null,
            "max_width": null,
            "min_height": null,
            "min_width": null,
            "object_fit": null,
            "object_position": null,
            "order": null,
            "overflow": null,
            "overflow_x": null,
            "overflow_y": null,
            "padding": null,
            "right": null,
            "top": null,
            "visibility": null,
            "width": null
          }
        },
        "b8c20a11b9994624a4b6b948bb485db6": {
          "model_module": "@jupyter-widgets/base",
          "model_name": "LayoutModel",
          "model_module_version": "1.2.0",
          "state": {
            "_model_module": "@jupyter-widgets/base",
            "_model_module_version": "1.2.0",
            "_model_name": "LayoutModel",
            "_view_count": null,
            "_view_module": "@jupyter-widgets/base",
            "_view_module_version": "1.2.0",
            "_view_name": "LayoutView",
            "align_content": null,
            "align_items": null,
            "align_self": null,
            "border": null,
            "bottom": null,
            "display": null,
            "flex": null,
            "flex_flow": null,
            "grid_area": null,
            "grid_auto_columns": null,
            "grid_auto_flow": null,
            "grid_auto_rows": null,
            "grid_column": null,
            "grid_gap": null,
            "grid_row": null,
            "grid_template_areas": null,
            "grid_template_columns": null,
            "grid_template_rows": null,
            "height": null,
            "justify_content": null,
            "justify_items": null,
            "left": null,
            "margin": null,
            "max_height": null,
            "max_width": null,
            "min_height": null,
            "min_width": null,
            "object_fit": null,
            "object_position": null,
            "order": null,
            "overflow": null,
            "overflow_x": null,
            "overflow_y": null,
            "padding": null,
            "right": null,
            "top": null,
            "visibility": null,
            "width": null
          }
        },
        "735be4f7b8b443f9a9803b4fefe0e471": {
          "model_module": "@jupyter-widgets/controls",
          "model_name": "DescriptionStyleModel",
          "model_module_version": "1.5.0",
          "state": {
            "_model_module": "@jupyter-widgets/controls",
            "_model_module_version": "1.5.0",
            "_model_name": "DescriptionStyleModel",
            "_view_count": null,
            "_view_module": "@jupyter-widgets/base",
            "_view_module_version": "1.2.0",
            "_view_name": "StyleView",
            "description_width": ""
          }
        },
        "161e06422eda40608af6e07351c2776b": {
          "model_module": "@jupyter-widgets/base",
          "model_name": "LayoutModel",
          "model_module_version": "1.2.0",
          "state": {
            "_model_module": "@jupyter-widgets/base",
            "_model_module_version": "1.2.0",
            "_model_name": "LayoutModel",
            "_view_count": null,
            "_view_module": "@jupyter-widgets/base",
            "_view_module_version": "1.2.0",
            "_view_name": "LayoutView",
            "align_content": null,
            "align_items": null,
            "align_self": null,
            "border": null,
            "bottom": null,
            "display": null,
            "flex": null,
            "flex_flow": null,
            "grid_area": null,
            "grid_auto_columns": null,
            "grid_auto_flow": null,
            "grid_auto_rows": null,
            "grid_column": null,
            "grid_gap": null,
            "grid_row": null,
            "grid_template_areas": null,
            "grid_template_columns": null,
            "grid_template_rows": null,
            "height": null,
            "justify_content": null,
            "justify_items": null,
            "left": null,
            "margin": null,
            "max_height": null,
            "max_width": null,
            "min_height": null,
            "min_width": null,
            "object_fit": null,
            "object_position": null,
            "order": null,
            "overflow": null,
            "overflow_x": null,
            "overflow_y": null,
            "padding": null,
            "right": null,
            "top": null,
            "visibility": null,
            "width": null
          }
        },
        "c742cf2e7131457db71a8f3fe3502157": {
          "model_module": "@jupyter-widgets/controls",
          "model_name": "ProgressStyleModel",
          "model_module_version": "1.5.0",
          "state": {
            "_model_module": "@jupyter-widgets/controls",
            "_model_module_version": "1.5.0",
            "_model_name": "ProgressStyleModel",
            "_view_count": null,
            "_view_module": "@jupyter-widgets/base",
            "_view_module_version": "1.2.0",
            "_view_name": "StyleView",
            "bar_color": null,
            "description_width": ""
          }
        },
        "b90f93b515424705b3393ccbfbaa2ea6": {
          "model_module": "@jupyter-widgets/controls",
          "model_name": "VBoxModel",
          "model_module_version": "1.5.0",
          "state": {
            "_dom_classes": [],
            "_model_module": "@jupyter-widgets/controls",
            "_model_module_version": "1.5.0",
            "_model_name": "VBoxModel",
            "_view_count": null,
            "_view_module": "@jupyter-widgets/controls",
            "_view_module_version": "1.5.0",
            "_view_name": "VBoxView",
            "box_style": "",
            "children": [
              "IPY_MODEL_e0d582223291402495065c40ef5141d2",
              "IPY_MODEL_1b7086980b12436ab0ccbe1ecbe9e481"
            ],
            "layout": "IPY_MODEL_19eba78147a2441dbece4ae4845ec66d"
          }
        },
        "e0d582223291402495065c40ef5141d2": {
          "model_module": "@jupyter-widgets/controls",
          "model_name": "LabelModel",
          "model_module_version": "1.5.0",
          "state": {
            "_dom_classes": [],
            "_model_module": "@jupyter-widgets/controls",
            "_model_module_version": "1.5.0",
            "_model_name": "LabelModel",
            "_view_count": null,
            "_view_module": "@jupyter-widgets/controls",
            "_view_module_version": "1.5.0",
            "_view_name": "LabelView",
            "description": "",
            "description_tooltip": null,
            "layout": "IPY_MODEL_ac87b0695a874cb693a53d9a752042d8",
            "placeholder": "​",
            "style": "IPY_MODEL_5bb8e871949c47f6a6c0a7b6bf9234f7",
            "value": "0.009 MB of 0.009 MB uploaded (0.000 MB deduped)\r"
          }
        },
        "1b7086980b12436ab0ccbe1ecbe9e481": {
          "model_module": "@jupyter-widgets/controls",
          "model_name": "FloatProgressModel",
          "model_module_version": "1.5.0",
          "state": {
            "_dom_classes": [],
            "_model_module": "@jupyter-widgets/controls",
            "_model_module_version": "1.5.0",
            "_model_name": "FloatProgressModel",
            "_view_count": null,
            "_view_module": "@jupyter-widgets/controls",
            "_view_module_version": "1.5.0",
            "_view_name": "ProgressView",
            "bar_style": "",
            "description": "",
            "description_tooltip": null,
            "layout": "IPY_MODEL_2bb5ced41b1847febbf0cf2cbac8ba98",
            "max": 1,
            "min": 0,
            "orientation": "horizontal",
            "style": "IPY_MODEL_beef5cbc4941446998677ea3c2540d3e",
            "value": 1
          }
        },
        "19eba78147a2441dbece4ae4845ec66d": {
          "model_module": "@jupyter-widgets/base",
          "model_name": "LayoutModel",
          "model_module_version": "1.2.0",
          "state": {
            "_model_module": "@jupyter-widgets/base",
            "_model_module_version": "1.2.0",
            "_model_name": "LayoutModel",
            "_view_count": null,
            "_view_module": "@jupyter-widgets/base",
            "_view_module_version": "1.2.0",
            "_view_name": "LayoutView",
            "align_content": null,
            "align_items": null,
            "align_self": null,
            "border": null,
            "bottom": null,
            "display": null,
            "flex": null,
            "flex_flow": null,
            "grid_area": null,
            "grid_auto_columns": null,
            "grid_auto_flow": null,
            "grid_auto_rows": null,
            "grid_column": null,
            "grid_gap": null,
            "grid_row": null,
            "grid_template_areas": null,
            "grid_template_columns": null,
            "grid_template_rows": null,
            "height": null,
            "justify_content": null,
            "justify_items": null,
            "left": null,
            "margin": null,
            "max_height": null,
            "max_width": null,
            "min_height": null,
            "min_width": null,
            "object_fit": null,
            "object_position": null,
            "order": null,
            "overflow": null,
            "overflow_x": null,
            "overflow_y": null,
            "padding": null,
            "right": null,
            "top": null,
            "visibility": null,
            "width": null
          }
        },
        "ac87b0695a874cb693a53d9a752042d8": {
          "model_module": "@jupyter-widgets/base",
          "model_name": "LayoutModel",
          "model_module_version": "1.2.0",
          "state": {
            "_model_module": "@jupyter-widgets/base",
            "_model_module_version": "1.2.0",
            "_model_name": "LayoutModel",
            "_view_count": null,
            "_view_module": "@jupyter-widgets/base",
            "_view_module_version": "1.2.0",
            "_view_name": "LayoutView",
            "align_content": null,
            "align_items": null,
            "align_self": null,
            "border": null,
            "bottom": null,
            "display": null,
            "flex": null,
            "flex_flow": null,
            "grid_area": null,
            "grid_auto_columns": null,
            "grid_auto_flow": null,
            "grid_auto_rows": null,
            "grid_column": null,
            "grid_gap": null,
            "grid_row": null,
            "grid_template_areas": null,
            "grid_template_columns": null,
            "grid_template_rows": null,
            "height": null,
            "justify_content": null,
            "justify_items": null,
            "left": null,
            "margin": null,
            "max_height": null,
            "max_width": null,
            "min_height": null,
            "min_width": null,
            "object_fit": null,
            "object_position": null,
            "order": null,
            "overflow": null,
            "overflow_x": null,
            "overflow_y": null,
            "padding": null,
            "right": null,
            "top": null,
            "visibility": null,
            "width": null
          }
        },
        "5bb8e871949c47f6a6c0a7b6bf9234f7": {
          "model_module": "@jupyter-widgets/controls",
          "model_name": "DescriptionStyleModel",
          "model_module_version": "1.5.0",
          "state": {
            "_model_module": "@jupyter-widgets/controls",
            "_model_module_version": "1.5.0",
            "_model_name": "DescriptionStyleModel",
            "_view_count": null,
            "_view_module": "@jupyter-widgets/base",
            "_view_module_version": "1.2.0",
            "_view_name": "StyleView",
            "description_width": ""
          }
        },
        "2bb5ced41b1847febbf0cf2cbac8ba98": {
          "model_module": "@jupyter-widgets/base",
          "model_name": "LayoutModel",
          "model_module_version": "1.2.0",
          "state": {
            "_model_module": "@jupyter-widgets/base",
            "_model_module_version": "1.2.0",
            "_model_name": "LayoutModel",
            "_view_count": null,
            "_view_module": "@jupyter-widgets/base",
            "_view_module_version": "1.2.0",
            "_view_name": "LayoutView",
            "align_content": null,
            "align_items": null,
            "align_self": null,
            "border": null,
            "bottom": null,
            "display": null,
            "flex": null,
            "flex_flow": null,
            "grid_area": null,
            "grid_auto_columns": null,
            "grid_auto_flow": null,
            "grid_auto_rows": null,
            "grid_column": null,
            "grid_gap": null,
            "grid_row": null,
            "grid_template_areas": null,
            "grid_template_columns": null,
            "grid_template_rows": null,
            "height": null,
            "justify_content": null,
            "justify_items": null,
            "left": null,
            "margin": null,
            "max_height": null,
            "max_width": null,
            "min_height": null,
            "min_width": null,
            "object_fit": null,
            "object_position": null,
            "order": null,
            "overflow": null,
            "overflow_x": null,
            "overflow_y": null,
            "padding": null,
            "right": null,
            "top": null,
            "visibility": null,
            "width": null
          }
        },
        "beef5cbc4941446998677ea3c2540d3e": {
          "model_module": "@jupyter-widgets/controls",
          "model_name": "ProgressStyleModel",
          "model_module_version": "1.5.0",
          "state": {
            "_model_module": "@jupyter-widgets/controls",
            "_model_module_version": "1.5.0",
            "_model_name": "ProgressStyleModel",
            "_view_count": null,
            "_view_module": "@jupyter-widgets/base",
            "_view_module_version": "1.2.0",
            "_view_name": "StyleView",
            "bar_color": null,
            "description_width": ""
          }
        }
      }
    },
    "gpuClass": "standard"
  },
  "nbformat": 4,
  "nbformat_minor": 0
}