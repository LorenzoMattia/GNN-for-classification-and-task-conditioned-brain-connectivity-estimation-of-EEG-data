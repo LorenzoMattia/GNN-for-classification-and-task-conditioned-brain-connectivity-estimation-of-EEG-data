{
  "cells": [
    {
      "cell_type": "markdown",
      "metadata": {
        "id": "uCL_kEI5MaBQ"
      },
      "source": [
        "##**Drive mount**"
      ]
    },
    {
      "cell_type": "code",
      "execution_count": null,
      "metadata": {
        "colab": {
          "base_uri": "https://localhost:8080/"
        },
        "id": "VPcE5wbH8VwQ",
        "outputId": "22f187bf-a265-4f17-fd32-36578ddb980d"
      },
      "outputs": [
        {
          "output_type": "stream",
          "name": "stdout",
          "text": [
            "Mounted at /content/drive\n"
          ]
        }
      ],
      "source": [
        "from google.colab import drive\n",
        "import shutil\n",
        "drive.mount('/content/drive')"
      ]
    },
    {
      "cell_type": "markdown",
      "metadata": {
        "id": "G5q0EK6ErlHP"
      },
      "source": [
        "## Imports"
      ]
    },
    {
      "cell_type": "code",
      "execution_count": null,
      "metadata": {
        "id": "FjJ1ylTqAmxa",
        "colab": {
          "base_uri": "https://localhost:8080/"
        },
        "outputId": "5cbef0d3-4226-49bc-e34e-069d1af0111e"
      },
      "outputs": [
        {
          "output_type": "stream",
          "name": "stdout",
          "text": [
            "Looking in indexes: https://pypi.org/simple, https://us-python.pkg.dev/colab-wheels/public/simple/\n",
            "Looking in links: https://data.pyg.org/whl/torch-1.12.0+cu113.html\n",
            "Collecting torch-scatter\n",
            "  Downloading https://data.pyg.org/whl/torch-1.12.0%2Bcu113/torch_scatter-2.0.9-cp37-cp37m-linux_x86_64.whl (7.9 MB)\n",
            "\u001b[K     |████████████████████████████████| 7.9 MB 7.3 MB/s \n",
            "\u001b[?25hCollecting torch-sparse\n",
            "  Downloading https://data.pyg.org/whl/torch-1.12.0%2Bcu113/torch_sparse-0.6.15-cp37-cp37m-linux_x86_64.whl (3.5 MB)\n",
            "\u001b[K     |████████████████████████████████| 3.5 MB 22.6 MB/s \n",
            "\u001b[?25hCollecting torch-cluster\n",
            "  Downloading https://data.pyg.org/whl/torch-1.12.0%2Bcu113/torch_cluster-1.6.0-cp37-cp37m-linux_x86_64.whl (2.4 MB)\n",
            "\u001b[K     |████████████████████████████████| 2.4 MB 50.8 MB/s \n",
            "\u001b[?25hCollecting torch-spline-conv\n",
            "  Downloading https://data.pyg.org/whl/torch-1.12.0%2Bcu113/torch_spline_conv-1.2.1-cp37-cp37m-linux_x86_64.whl (709 kB)\n",
            "\u001b[K     |████████████████████████████████| 709 kB 45.5 MB/s \n",
            "\u001b[?25hCollecting torch-geometric\n",
            "  Downloading torch_geometric-2.1.0.post1.tar.gz (467 kB)\n",
            "\u001b[K     |████████████████████████████████| 467 kB 10.1 MB/s \n",
            "\u001b[?25hRequirement already satisfied: scipy in /usr/local/lib/python3.7/dist-packages (from torch-sparse) (1.7.3)\n",
            "Requirement already satisfied: tqdm in /usr/local/lib/python3.7/dist-packages (from torch-geometric) (4.64.1)\n",
            "Requirement already satisfied: numpy in /usr/local/lib/python3.7/dist-packages (from torch-geometric) (1.21.6)\n",
            "Requirement already satisfied: jinja2 in /usr/local/lib/python3.7/dist-packages (from torch-geometric) (2.11.3)\n",
            "Requirement already satisfied: requests in /usr/local/lib/python3.7/dist-packages (from torch-geometric) (2.23.0)\n",
            "Requirement already satisfied: pyparsing in /usr/local/lib/python3.7/dist-packages (from torch-geometric) (3.0.9)\n",
            "Requirement already satisfied: scikit-learn in /usr/local/lib/python3.7/dist-packages (from torch-geometric) (1.0.2)\n",
            "Requirement already satisfied: MarkupSafe>=0.23 in /usr/local/lib/python3.7/dist-packages (from jinja2->torch-geometric) (2.0.1)\n",
            "Requirement already satisfied: urllib3!=1.25.0,!=1.25.1,<1.26,>=1.21.1 in /usr/local/lib/python3.7/dist-packages (from requests->torch-geometric) (1.24.3)\n",
            "Requirement already satisfied: idna<3,>=2.5 in /usr/local/lib/python3.7/dist-packages (from requests->torch-geometric) (2.10)\n",
            "Requirement already satisfied: certifi>=2017.4.17 in /usr/local/lib/python3.7/dist-packages (from requests->torch-geometric) (2022.6.15)\n",
            "Requirement already satisfied: chardet<4,>=3.0.2 in /usr/local/lib/python3.7/dist-packages (from requests->torch-geometric) (3.0.4)\n",
            "Requirement already satisfied: joblib>=0.11 in /usr/local/lib/python3.7/dist-packages (from scikit-learn->torch-geometric) (1.1.0)\n",
            "Requirement already satisfied: threadpoolctl>=2.0.0 in /usr/local/lib/python3.7/dist-packages (from scikit-learn->torch-geometric) (3.1.0)\n",
            "Building wheels for collected packages: torch-geometric\n",
            "  Building wheel for torch-geometric (setup.py) ... \u001b[?25l\u001b[?25hdone\n",
            "  Created wheel for torch-geometric: filename=torch_geometric-2.1.0.post1-py3-none-any.whl size=689859 sha256=7acd18cdb17b3b09bb5206841ea37104c2ed7eaa7868177b7d84775de9b349cf\n",
            "  Stored in directory: /root/.cache/pip/wheels/d1/cb/43/f7f2e472de4d7cff31bceddadc36d634e1e545fbc17961c282\n",
            "Successfully built torch-geometric\n",
            "Installing collected packages: torch-spline-conv, torch-sparse, torch-scatter, torch-geometric, torch-cluster\n",
            "Successfully installed torch-cluster-1.6.0 torch-geometric-2.1.0.post1 torch-scatter-2.0.9 torch-sparse-0.6.15 torch-spline-conv-1.2.1\n",
            "Looking in indexes: https://pypi.org/simple, https://us-python.pkg.dev/colab-wheels/public/simple/\n",
            "Collecting pingouin\n",
            "  Downloading pingouin-0.5.2.tar.gz (185 kB)\n",
            "\u001b[K     |████████████████████████████████| 185 kB 8.1 MB/s \n",
            "\u001b[?25hRequirement already satisfied: numpy>=1.19 in /usr/local/lib/python3.7/dist-packages (from pingouin) (1.21.6)\n",
            "Requirement already satisfied: scipy>=1.7 in /usr/local/lib/python3.7/dist-packages (from pingouin) (1.7.3)\n",
            "Requirement already satisfied: pandas>=1.0 in /usr/local/lib/python3.7/dist-packages (from pingouin) (1.3.5)\n",
            "Requirement already satisfied: matplotlib>=3.0.2 in /usr/local/lib/python3.7/dist-packages (from pingouin) (3.2.2)\n",
            "Requirement already satisfied: seaborn>=0.11 in /usr/local/lib/python3.7/dist-packages (from pingouin) (0.11.2)\n",
            "Collecting statsmodels>=0.13\n",
            "  Downloading statsmodels-0.13.2-cp37-cp37m-manylinux_2_17_x86_64.manylinux2014_x86_64.whl (9.8 MB)\n",
            "\u001b[K     |████████████████████████████████| 9.8 MB 39.2 MB/s \n",
            "\u001b[?25hRequirement already satisfied: scikit-learn<1.1.0 in /usr/local/lib/python3.7/dist-packages (from pingouin) (1.0.2)\n",
            "Collecting pandas_flavor>=0.2.0\n",
            "  Downloading pandas_flavor-0.3.0-py3-none-any.whl (6.3 kB)\n",
            "Collecting outdated\n",
            "  Downloading outdated-0.2.1-py3-none-any.whl (7.5 kB)\n",
            "Requirement already satisfied: tabulate in /usr/local/lib/python3.7/dist-packages (from pingouin) (0.8.10)\n",
            "Requirement already satisfied: pyparsing!=2.0.4,!=2.1.2,!=2.1.6,>=2.0.1 in /usr/local/lib/python3.7/dist-packages (from matplotlib>=3.0.2->pingouin) (3.0.9)\n",
            "Requirement already satisfied: kiwisolver>=1.0.1 in /usr/local/lib/python3.7/dist-packages (from matplotlib>=3.0.2->pingouin) (1.4.4)\n",
            "Requirement already satisfied: python-dateutil>=2.1 in /usr/local/lib/python3.7/dist-packages (from matplotlib>=3.0.2->pingouin) (2.8.2)\n",
            "Requirement already satisfied: cycler>=0.10 in /usr/local/lib/python3.7/dist-packages (from matplotlib>=3.0.2->pingouin) (0.11.0)\n",
            "Requirement already satisfied: typing-extensions in /usr/local/lib/python3.7/dist-packages (from kiwisolver>=1.0.1->matplotlib>=3.0.2->pingouin) (4.1.1)\n",
            "Requirement already satisfied: pytz>=2017.3 in /usr/local/lib/python3.7/dist-packages (from pandas>=1.0->pingouin) (2022.2.1)\n",
            "Requirement already satisfied: xarray in /usr/local/lib/python3.7/dist-packages (from pandas_flavor>=0.2.0->pingouin) (0.20.2)\n",
            "Collecting pandas_flavor>=0.2.0\n",
            "  Downloading pandas_flavor-0.2.0-py2.py3-none-any.whl (6.6 kB)\n",
            "Requirement already satisfied: six>=1.5 in /usr/local/lib/python3.7/dist-packages (from python-dateutil>=2.1->matplotlib>=3.0.2->pingouin) (1.15.0)\n",
            "Requirement already satisfied: threadpoolctl>=2.0.0 in /usr/local/lib/python3.7/dist-packages (from scikit-learn<1.1.0->pingouin) (3.1.0)\n",
            "Requirement already satisfied: joblib>=0.11 in /usr/local/lib/python3.7/dist-packages (from scikit-learn<1.1.0->pingouin) (1.1.0)\n",
            "Requirement already satisfied: packaging>=21.3 in /usr/local/lib/python3.7/dist-packages (from statsmodels>=0.13->pingouin) (21.3)\n",
            "Requirement already satisfied: patsy>=0.5.2 in /usr/local/lib/python3.7/dist-packages (from statsmodels>=0.13->pingouin) (0.5.2)\n",
            "Collecting littleutils\n",
            "  Downloading littleutils-0.2.2.tar.gz (6.6 kB)\n",
            "Requirement already satisfied: requests in /usr/local/lib/python3.7/dist-packages (from outdated->pingouin) (2.23.0)\n",
            "Requirement already satisfied: urllib3!=1.25.0,!=1.25.1,<1.26,>=1.21.1 in /usr/local/lib/python3.7/dist-packages (from requests->outdated->pingouin) (1.24.3)\n",
            "Requirement already satisfied: certifi>=2017.4.17 in /usr/local/lib/python3.7/dist-packages (from requests->outdated->pingouin) (2022.6.15)\n",
            "Requirement already satisfied: chardet<4,>=3.0.2 in /usr/local/lib/python3.7/dist-packages (from requests->outdated->pingouin) (3.0.4)\n",
            "Requirement already satisfied: idna<3,>=2.5 in /usr/local/lib/python3.7/dist-packages (from requests->outdated->pingouin) (2.10)\n",
            "Requirement already satisfied: importlib-metadata in /usr/local/lib/python3.7/dist-packages (from xarray->pandas_flavor>=0.2.0->pingouin) (4.12.0)\n",
            "Requirement already satisfied: zipp>=0.5 in /usr/local/lib/python3.7/dist-packages (from importlib-metadata->xarray->pandas_flavor>=0.2.0->pingouin) (3.8.1)\n",
            "Building wheels for collected packages: pingouin, littleutils\n",
            "  Building wheel for pingouin (setup.py) ... \u001b[?25l\u001b[?25hdone\n",
            "  Created wheel for pingouin: filename=pingouin-0.5.2-py3-none-any.whl size=196206 sha256=8208389d7accf7df5f19ca29566a0c4db3484488c0673d5a23e327cde1290645\n",
            "  Stored in directory: /root/.cache/pip/wheels/11/5a/63/a6d32fc26fa462c731f65480bfb98ff7bd39b8ebcb4bc6c2fe\n",
            "  Building wheel for littleutils (setup.py) ... \u001b[?25l\u001b[?25hdone\n",
            "  Created wheel for littleutils: filename=littleutils-0.2.2-py3-none-any.whl size=7048 sha256=4d0e3ad4ad3e6b7a0fb7ef747fce86d0353b7e93f6bb8a3b93ac0534f1e15448\n",
            "  Stored in directory: /root/.cache/pip/wheels/d6/64/cd/32819b511a488e4993f2fab909a95330289c3f4e0f6ef4676d\n",
            "Successfully built pingouin littleutils\n",
            "Installing collected packages: littleutils, statsmodels, pandas-flavor, outdated, pingouin\n",
            "  Attempting uninstall: statsmodels\n",
            "    Found existing installation: statsmodels 0.12.2\n",
            "    Uninstalling statsmodels-0.12.2:\n",
            "      Successfully uninstalled statsmodels-0.12.2\n",
            "Successfully installed littleutils-0.2.2 outdated-0.2.1 pandas-flavor-0.2.0 pingouin-0.5.2 statsmodels-0.13.2\n"
          ]
        }
      ],
      "source": [
        "!pip install torch-scatter torch-sparse torch-cluster torch-spline-conv torch-geometric -f https://data.pyg.org/whl/torch-1.12.0+cu113.html\n",
        "!pip install pingouin"
      ]
    },
    {
      "cell_type": "code",
      "execution_count": null,
      "metadata": {
        "id": "A8np-oJYrXe2"
      },
      "outputs": [],
      "source": [
        "import scipy.io\n",
        "import pandas as pd\n",
        "import os\n",
        "import random\n",
        "\n",
        "import torch\n",
        "from torch.nn import Linear\n",
        "import torch.nn.functional as F \n",
        "from torch_geometric.nn import GCNConv, TopKPooling, global_mean_pool, SAGEConv\n",
        "from torch_geometric.nn import global_mean_pool as gap, global_max_pool as gmp, global_add_pool as gaddp\n",
        "\n",
        "import numpy as np\n",
        "import pickle\n",
        "\n",
        "import pingouin\n",
        "from scipy import signal"
      ]
    },
    {
      "cell_type": "markdown",
      "metadata": {
        "id": "DrgmrkR0rEzX"
      },
      "source": [
        "## Loading first dataset (working memory)"
      ]
    },
    {
      "cell_type": "code",
      "execution_count": null,
      "metadata": {
        "id": "JT0xivNP7u_g"
      },
      "outputs": [],
      "source": [
        "SUBJECTS_FOLDER = '/content/drive/MyDrive/Social memory cuing full dataset/derivatives/EEGPreprocessedDataTableStudy'\n",
        "CURR_SUB = \"sub-12\"\n",
        "SINGLE_SUBJECT = os.path.join(SUBJECTS_FOLDER, os.path.join(CURR_SUB, \"ProcessedData/data_ica.mat\"))\n",
        "SUBJECTS = [ name for name in os.listdir(SUBJECTS_FOLDER) if os.path.isdir(os.path.join(SUBJECTS_FOLDER, name)) ]\n",
        "SUBJECTS.sort()\n",
        "DATA = \"ProcessedData/data_ica.mat\""
      ]
    },
    {
      "cell_type": "markdown",
      "metadata": {
        "id": "WVPjR4dJUAJb"
      },
      "source": [
        "## Parameters"
      ]
    },
    {
      "cell_type": "code",
      "execution_count": null,
      "metadata": {
        "colab": {
          "base_uri": "https://localhost:8080/"
        },
        "id": "DrB1e34pRhuw",
        "outputId": "e46ac50a-deb9-4d02-8284-70c7e6f8b2f9"
      },
      "outputs": [
        {
          "output_type": "stream",
          "name": "stdout",
          "text": [
            "/content/drive/MyDrive/Tesi/Classification+GL/SAGE_GL/sub-12/1.2.0\n",
            "/content/drive/MyDrive/Tesi/Classification/adj/sub-12/1.0.0\n"
          ]
        }
      ],
      "source": [
        "NUM_EPOCHS = 400\n",
        "TRAIN_BATCH_SIZE = 64\n",
        "TEST_BATCH_SIZE = 34\n",
        "VAL_BATCH_SIZE = 23\n",
        "LEARNING_RATE = 0.001\n",
        "embedding_size = 150\n",
        "\n",
        "FEATURE_VERSION = \"1.0.0\"\n",
        "SAVE_MODEL_VERSION = \"1.2.0\"\n",
        "FEATURES_TYPE = \"adj\" #\"adj\" \"plv\" \"svd\"\n",
        "MODEL_TYPE = \"SAGE_GL\" #GCN\n",
        "ADJ_MATRIX = \"Learned\"\n",
        "CURR_DIR = \"/content/drive/MyDrive/Tesi/Classification+GL/\" + MODEL_TYPE + \"/\" + CURR_SUB + \"/\"\n",
        "FEATURE_DIR = \"/content/drive/MyDrive/Tesi/Classification/\" + FEATURES_TYPE + \"/\" + CURR_SUB + \"/\"\n",
        "\n",
        "if not os.path.isdir(CURR_DIR):\n",
        "    os.mkdir(CURR_DIR)\n",
        "\n",
        "saved_models_dir =  CURR_DIR + SAVE_MODEL_VERSION\n",
        "features_dir = FEATURE_DIR + FEATURE_VERSION\n",
        "\n",
        "print(saved_models_dir)\n",
        "print(features_dir)"
      ]
    },
    {
      "cell_type": "markdown",
      "metadata": {
        "id": "jW5f3BY9aD-N"
      },
      "source": [
        "## Single subject data"
      ]
    },
    {
      "cell_type": "code",
      "execution_count": null,
      "metadata": {
        "id": "JJ_WE8zHrBTU"
      },
      "outputs": [],
      "source": [
        "mat = scipy.io.loadmat(SINGLE_SUBJECT)\n",
        "trial = mat['trial']\n",
        "trialinfo = mat['trialinfo']"
      ]
    },
    {
      "cell_type": "code",
      "source": [
        "channels = []\n",
        "for channel in mat['label']:\n",
        "  channels.append(channel[0][0])\n",
        "\n",
        "channels_list = ['Fp1','Fpz','Fp2',\n",
        "    'AF3','AF4',\n",
        "    'F7','F3','Fz','F4','F8',\n",
        "    'FC5','FC1','FC2','FC6',\n",
        "    'C3','Cz','C4',\n",
        "    'CP5','CP1','CP2','CP6',\n",
        "    'P5','P3','Pz','P4','P6',\n",
        "    'POz','O1','O2']\n",
        "\n",
        "indexes = []\n",
        "for ch in channels_list:\n",
        "  indexes.append(channels.index(ch))"
      ],
      "metadata": {
        "id": "5Afl11N3Uqq_"
      },
      "execution_count": null,
      "outputs": []
    },
    {
      "cell_type": "code",
      "execution_count": null,
      "metadata": {
        "colab": {
          "base_uri": "https://localhost:8080/"
        },
        "id": "mid1jRLnm0oq",
        "outputId": "bab7569a-27c7-46eb-9dc6-611d60ecb452"
      },
      "outputs": [
        {
          "output_type": "stream",
          "name": "stdout",
          "text": [
            "(224, 125, 29)\n",
            "(224,)\n"
          ]
        }
      ],
      "source": [
        "trials = []\n",
        "labels = []\n",
        "trial = np.transpose(np.squeeze(trial))\n",
        "for i, t in enumerate(trial):\n",
        "  trials.append(t[indexes, 1250:1750])\n",
        "  labels.append(trialinfo[i, 5]-1)  #zero is stick, one is avatar --- the -1 to have labels with 0 or 1 values (in dataset are 1 and 2)\n",
        "\n",
        "trials = list(signal.decimate(np.transpose(trials, [0, 2, 1]), 4, axis = 1))\n",
        "print(np.shape(trials))\n",
        "print(np.shape(labels))"
      ]
    },
    {
      "cell_type": "markdown",
      "source": [
        "#Pre-processing"
      ],
      "metadata": {
        "id": "U6kgJ-J3RtXj"
      }
    },
    {
      "cell_type": "markdown",
      "metadata": {
        "id": "9roFQ7hTyMTH"
      },
      "source": [
        "## Utility"
      ]
    },
    {
      "cell_type": "code",
      "execution_count": null,
      "metadata": {
        "id": "ccTMBtt9MvgZ"
      },
      "outputs": [],
      "source": [
        "def zscore_normalization(train_data, val_data, train_labels, val_labels):\n",
        "  resting_state_train_idxs = [i for i, j in enumerate(train_labels) if j == 3]\n",
        "  resting_state_val_idxs = [i for i, j in enumerate(val_labels) if j == 3]\n",
        "\n",
        "  resting_state_train = list(map(train_data.__getitem__, resting_state_train_idxs))\n",
        "  resting_state_val = list(map(val_data.__getitem__, resting_state_val_idxs))\n",
        "\n",
        "  rs_avg_train = np.mean(resting_state_train)\n",
        "  rs_std_train = np.std(resting_state_train)\n",
        "\n",
        "  rs_avg_val = np.mean(resting_state_val)\n",
        "  rs_std_val = np.std(resting_state_val)\n",
        "\n",
        "  train_data = normalize_trials(train_data, rs_avg_train, rs_std_train)\n",
        "  val_data = normalize_trials(val_data, rs_avg_val, rs_std_val)\n",
        "\n",
        "  return train_data, val_data\n",
        "\n",
        "\n",
        "def normalize_trials(trials, avg, std):\n",
        "  norm_trials = []\n",
        "  for t in trials:\n",
        "    norm_trials.append((t- avg)/std)\n",
        "\n",
        "  return norm_trials\n",
        "\n",
        "def normalize_list(lst):\n",
        "  return (lst - np.mean(lst))/np.std(lst)\n",
        "\n",
        "def _normalize_trial_by_channel(trial):\n",
        "  \n",
        "  for i in range(22):\n",
        "    ch_avg = np.mean(trial[:, i])\n",
        "    ch_std = np.std(trial[:, i])\n",
        "    trial[:, i] = (trial[:, i] - ch_avg)/ch_std\n",
        "\n",
        "  return trial\n",
        "\n",
        "def _normalize_trial(trial):\n",
        "  trial_avg = np.mean(trial)\n",
        "  trial_std = np.std(trial)\n",
        "\n",
        "  trial = (trial - trial_avg)/trial_std\n",
        "  return trial\n",
        "\n",
        "#print(np.mean(_normalize_trial(trials[0])))\n",
        "#print(np.std(_normalize_trial(trials[0])))"
      ]
    },
    {
      "cell_type": "code",
      "execution_count": null,
      "metadata": {
        "id": "d7fTWW1Om1dd"
      },
      "outputs": [],
      "source": [
        "def adj_features(trial):\n",
        "  feat = []\n",
        "  trial_df = pd.DataFrame(trial, columns=mat['label'][indexes])\n",
        "  corr_matrix = np.array(trial_df.corr())\n",
        "\n",
        "  corr_matrix = _normalize_trial(corr_matrix)\n",
        "\n",
        "  for i in range(np.shape(corr_matrix)[0]):\n",
        "    feat.append(list(np.squeeze(corr_matrix[i, :])))\n",
        "\n",
        "  return feat\n",
        "\n",
        "\n",
        "def svd_features(trial):\n",
        "  feat = []\n",
        "  trial_df = pd.DataFrame(trial, columns=mat['label'][indexes])\n",
        "  corr_matrix = np.array(trial_df.corr())\n",
        "  #adj_matrix = np.round(corr_matrix)\n",
        "\n",
        "  #corr_matrix = _normalize_trial(corr_matrix)\n",
        "\n",
        "  #u, s, v = scipy.linalg.svd(adj_matrix)\n",
        "  u, s, v = scipy.linalg.svd(corr_matrix)\n",
        "  u = _normalize_trial(u)\n",
        "\n",
        "  #corr_matrix = _normalize_trial(corr_matrix)\n",
        "\n",
        "  for i in range(np.shape(u)[0]):\n",
        "    feat.append(list(np.squeeze(u[i, :])))\n",
        "    #feat.append(normalize_list(list(np.squeeze(u[:, i]))))\n",
        "\n",
        "\n",
        "  #print(np.shape(feat))\n",
        "  return feat\n",
        "\n",
        "def phase_locking_value(theta1, theta2):\n",
        "    complex_phase_diff = np.exp(complex(0,1)*(theta1 - theta2))\n",
        "    plv = np.abs(np.sum(complex_phase_diff))/len(theta1)\n",
        "    return plv\n",
        "\n",
        "def plv_corr_matrix(trial, num_channels):\n",
        "  corr_matrix = np.zeros((num_channels,num_channels))\n",
        "  for i in range(num_channels):\n",
        "    for j in range(num_channels):\n",
        "      corr_matrix[i, j] = phase_locking_value(trial[:, i], trial[:, j])\n",
        "      corr_matrix[j, i] = phase_locking_value(trial[:, i], trial[:, j])\n",
        "  \n",
        "  return(corr_matrix)\n",
        "\n",
        "def plv_features(trial):\n",
        "  feat = []\n",
        "  num_channels = np.shape(trial)[1]\n",
        "  corr_matrix = _normalize_trial(plv_corr_matrix(trial, num_channels))\n",
        "\n",
        "  for i in range(np.shape(corr_matrix)[0]):\n",
        "    feat.append(list(np.squeeze(corr_matrix[i, :])))\n",
        "  return feat"
      ]
    },
    {
      "cell_type": "code",
      "execution_count": null,
      "metadata": {
        "id": "hZGPi9HkxRVM"
      },
      "outputs": [],
      "source": [
        "def edge_index_computation(trial_p):\n",
        "  starts = []\n",
        "  stops = []\n",
        "  trial_df = pd.DataFrame(trial_p)\n",
        "\n",
        "  corr_matrix = np.array(trial_df.pcorr())                   #partial corr\n",
        "\n",
        "  adj_matrix = np.round(np.abs(corr_matrix))\n",
        "  for i in range(np.shape(adj_matrix)[0]):\n",
        "    for j in range(np.shape(adj_matrix)[0]):\n",
        "      if adj_matrix[i, j] == 1:\n",
        "        starts.append(i)\n",
        "        stops.append(j)\n",
        "\n",
        "  edge_indices = [starts,stops]\n",
        "  return edge_indices\n",
        "\n",
        "def random_connectivty(trial):\n",
        "  starts = []\n",
        "  stops = []\n",
        "  corr_matrix = np.random.rand(29,29)\n",
        "  adj_matrix = np.round(np.abs(corr_matrix))\n",
        "  for i in range(np.shape(adj_matrix)[0]):\n",
        "    for j in range(np.shape(adj_matrix)[0]):\n",
        "      if adj_matrix[i, j] == 1:\n",
        "        starts.append(i)\n",
        "        stops.append(j)\n",
        "\n",
        "  edge_indices = [starts,stops]\n",
        "  return corr_matrix, edge_indices\n",
        "\n",
        "def fullyconnected_connectivty(trial):\n",
        "  starts = []\n",
        "  stops = []\n",
        "  corr_matrix = np.ones((29,29))\n",
        "  for i in range(np.shape(corr_matrix)[0]):\n",
        "    for j in range(np.shape(corr_matrix)[0]):\n",
        "      if corr_matrix[i, j] == 1:\n",
        "        starts.append(i)\n",
        "        stops.append(j)\n",
        "\n",
        "  edge_indices = [starts,stops]\n",
        "  return corr_matrix, edge_indices\n",
        "\n",
        "def connectivity_estimate(trial):\n",
        "  starts = []\n",
        "  stops = []\n",
        "  trial_df = pd.DataFrame(trial)\n",
        "\n",
        "  corr_matrix = np.array(trial_df.pcorr())    #partial corr\n",
        "\n",
        "  adj_matrix = np.round(np.abs(corr_matrix))\n",
        "  for i in range(np.shape(adj_matrix)[0]):\n",
        "    for j in range(np.shape(adj_matrix)[0]):\n",
        "      if adj_matrix[i, j] == 1:\n",
        "        starts.append(i)\n",
        "        stops.append(j)\n",
        "\n",
        "  edge_indices = [starts,stops]\n",
        "  return corr_matrix, edge_indices\n",
        "\n",
        "def get_features(trials, feats_type = \"adj\"):\n",
        "  all_feats = []\n",
        "  all_corr_matrix = []\n",
        "  for trial in trials:\n",
        "    if feats_type == \"adj\":\n",
        "      all_feats.append(adj_features(trial))\n",
        "    elif feats_type == \"plv\":\n",
        "      all_feats.append(plv_features(trial))\n",
        "    elif feats_type == \"de\":\n",
        "      all_feats.append(DE_PSD(np.transpose(trial), stft_para))\n",
        "    else:\n",
        "      all_feats.append(svd_features(trial))\n",
        "\n",
        "  return all_feats\n",
        "\n",
        "def get_edges(trials):\n",
        "  all_edges = []\n",
        "  all_corr_matrices = []\n",
        "  for trial in trials:\n",
        "    curr_corr_mat, curr_edges = connectivity_estimate(trial)\n",
        "    all_corr_matrices.append(curr_corr_mat)\n",
        "    all_edges.append(curr_edges)\n",
        "\n",
        "  return all_corr_matrices, all_edges"
      ]
    },
    {
      "cell_type": "markdown",
      "source": [
        "## Dataset"
      ],
      "metadata": {
        "id": "Zt1Cl0d-aUf8"
      }
    },
    {
      "cell_type": "code",
      "execution_count": null,
      "metadata": {
        "id": "VqoLwB07swcg"
      },
      "outputs": [],
      "source": [
        "from torch.utils.data import Dataset\n",
        "from torch_geometric.data import Data\n",
        "\n",
        "class EEG_dataset(Dataset):\n",
        "\n",
        "    def __init__(self, trials, labels):\n",
        "        self.trials = trials\n",
        "        self.labels = labels\n",
        "        self.features = get_features(trials, FEATURES_TYPE)\n",
        "        self.corr_matrices, self.edges = get_edges(trials)\n",
        "    \n",
        "    def __len__(self):\n",
        "      return len(self.trials)\n",
        "\n",
        "    def __getitem__(self, idx):\n",
        "        corr_matrix, edge_indices = connectivity_estimate(self.trials[idx])\n",
        "\n",
        "        return Data(x = torch.tensor(self.features[idx]), \\\n",
        "                    edge_index = torch.tensor(self.edges[idx]), \\\n",
        "                    y = torch.tensor(self.labels[idx], dtype = torch.long), pcm = torch.tensor(self.corr_matrices[idx]))"
      ]
    },
    {
      "cell_type": "code",
      "source": [
        "trials_0 = trials[:112]\n",
        "trials_1 = trials[112:]\n",
        "\n",
        "labels_0 = labels[:112]\n",
        "labels_1 = labels[112:]\n",
        "\n",
        "train_data_0 = trials_0[:83]\n",
        "test_data_0 = trials_0[83:100]\n",
        "val_data_0 = trials_0[100:]\n",
        "\n",
        "train_data_1 = trials_1[:84]\n",
        "test_data_1 = trials_1[84:101]\n",
        "val_data_1 = trials_1[101:]\n",
        "\n",
        "train_labels_0 = labels_0[:83]\n",
        "test_labels_0 = labels_0[83:100]\n",
        "val_labels_0 = labels_0[100:]\n",
        "\n",
        "train_labels_1 = labels_1[:84]\n",
        "test_labels_1 = labels_1[84:101]\n",
        "val_labels_1 = labels_1[101:]\n",
        "\n",
        "train_data = train_data_0 + train_data_1\n",
        "val_data = val_data_0 + val_data_1\n",
        "test_data = test_data_0 + test_data_1\n",
        "\n",
        "train_labels = train_labels_0 + train_labels_1\n",
        "val_labels = val_labels_0 + val_labels_1\n",
        "test_labels = test_labels_0 + test_labels_1\n",
        "\n",
        "print(np.shape(train_data))\n",
        "print(np.shape(val_data))\n",
        "print(np.shape(test_data))"
      ],
      "metadata": {
        "id": "UopIltgiPmz0",
        "colab": {
          "base_uri": "https://localhost:8080/"
        },
        "outputId": "47275073-0eb4-4914-bf14-3545b9fc07e2"
      },
      "execution_count": null,
      "outputs": [
        {
          "output_type": "stream",
          "name": "stdout",
          "text": [
            "(167, 125, 29)\n",
            "(23, 125, 29)\n",
            "(34, 125, 29)\n"
          ]
        }
      ]
    },
    {
      "cell_type": "markdown",
      "source": [
        "##Alternative"
      ],
      "metadata": {
        "id": "8Gmr9tuYQ9EZ"
      }
    },
    {
      "cell_type": "code",
      "execution_count": null,
      "metadata": {
        "colab": {
          "base_uri": "https://localhost:8080/"
        },
        "id": "wfVvV70uwisz",
        "outputId": "7ec27465-fec1-4f1d-c255-6353bf92cd59"
      },
      "outputs": [
        {
          "output_type": "stream",
          "name": "stdout",
          "text": [
            "(167, 125, 29)\n",
            "(23, 125, 29)\n",
            "(34, 125, 29)\n",
            "0.5217391304347826\n",
            "0.47058823529411764\n",
            "0.5029940119760479\n"
          ]
        }
      ],
      "source": [
        "from sklearn.model_selection import train_test_split\n",
        "seed = random.random()\n",
        "random.seed(seed)\n",
        "random.shuffle(trials)\n",
        "random.seed(seed)\n",
        "random.shuffle(labels)\n",
        "num_trials = 224\n",
        "train_val_data = trials[:int(0.85*num_trials)]\n",
        "test_data = trials[int(0.85*num_trials):]\n",
        "\n",
        "train_val_labels = labels[:int(0.85*num_trials)]\n",
        "test_labels = labels[int(0.85*num_trials):]\n",
        "\n",
        "train_data, val_data, train_labels, val_labels = train_test_split(train_val_data, train_val_labels, test_size=0.12)\n",
        "\n",
        "print(np.shape(train_data))\n",
        "print(np.shape(val_data))\n",
        "print(np.shape(test_data))\n",
        "\n",
        "# Show val dataset imbalance\n",
        "print(val_labels.count(1)/len(val_labels))\n",
        "print(test_labels.count(1)/len(test_labels))\n",
        "print(train_labels.count(1)/len(train_labels))"
      ]
    },
    {
      "cell_type": "markdown",
      "source": [
        "##Dataset creation"
      ],
      "metadata": {
        "id": "uwMTu5JXRAcd"
      }
    },
    {
      "cell_type": "code",
      "execution_count": null,
      "metadata": {
        "colab": {
          "base_uri": "https://localhost:8080/"
        },
        "id": "etR370-xyIae",
        "outputId": "1a25faaf-19c7-4e43-cc19-8c819c619224"
      },
      "outputs": [
        {
          "output_type": "stream",
          "name": "stdout",
          "text": [
            "Data(x=[29, 29], edge_index=[2, 155], y=1, pcm=[29, 29])\n",
            "Data(x=[29, 29], edge_index=[2, 139], y=1, pcm=[29, 29])\n",
            "Data(x=[29, 29], edge_index=[2, 115], y=1, pcm=[29, 29])\n"
          ]
        }
      ],
      "source": [
        "train_dataset = EEG_dataset(train_data, train_labels)\n",
        "val_dataset = EEG_dataset(val_data, val_labels)\n",
        "test_dataset = EEG_dataset(test_data, test_labels)\n",
        "\n",
        "print(next(iter(train_dataset)))\n",
        "print(next(iter(val_dataset)))\n",
        "print(next(iter(test_dataset)))"
      ]
    },
    {
      "cell_type": "markdown",
      "metadata": {
        "id": "QcilNBdHbmpd"
      },
      "source": [
        "## DataLoaders"
      ]
    },
    {
      "cell_type": "code",
      "execution_count": null,
      "metadata": {
        "colab": {
          "base_uri": "https://localhost:8080/"
        },
        "id": "7ORUGM7C0MRf",
        "outputId": "d5a1cc8e-38a6-4a4f-91b7-fcafb16ff8c8"
      },
      "outputs": [
        {
          "output_type": "stream",
          "name": "stdout",
          "text": [
            "DataBatch(x=[1856, 29], edge_index=[2, 9296], y=[64], pcm=[1856, 29], batch=[1856], ptr=[65])\n",
            "DataBatch(x=[667, 29], edge_index=[2, 3137], y=[23], pcm=[667, 29], batch=[667], ptr=[24])\n",
            "DataBatch(x=[986, 29], edge_index=[2, 5102], y=[34], pcm=[986, 29], batch=[986], ptr=[35])\n"
          ]
        }
      ],
      "source": [
        "from torch_geometric.loader import DataLoader\n",
        "\n",
        "train_dataloader = DataLoader(train_dataset, batch_size= TRAIN_BATCH_SIZE, shuffle = True)\n",
        "val_dataloader = DataLoader(val_dataset, batch_size=VAL_BATCH_SIZE)\n",
        "test_dataloader = DataLoader(test_dataset, batch_size=TEST_BATCH_SIZE)\n",
        "\n",
        "print(next(iter(train_dataloader)))\n",
        "print(next(iter(val_dataloader)))\n",
        "print(next(iter(test_dataloader)))"
      ]
    },
    {
      "cell_type": "markdown",
      "source": [
        "#Network and Training"
      ],
      "metadata": {
        "id": "nyHVfu6CRnRI"
      }
    },
    {
      "cell_type": "markdown",
      "metadata": {
        "id": "6KJ7viG2QZGl"
      },
      "source": [
        "## Graph Learn"
      ]
    },
    {
      "cell_type": "code",
      "execution_count": null,
      "metadata": {
        "id": "VLtYl0o2QYCL"
      },
      "outputs": [],
      "source": [
        "import matplotlib.pyplot as plt\n",
        "class Graph_Learn(torch.nn.Module):\n",
        "    '''\n",
        "    Graph structure learning (based on the middle time slice)\n",
        "    --------\n",
        "    Input:  (batch_size, num_of_timesteps, num_of_vertices, num_of_features)\n",
        "    Output: (batch_size, num_of_vertices, num_of_vertices)\n",
        "    '''\n",
        "    def __init__(self, alpha, **kwargs):\n",
        "        super(Graph_Learn, self).__init__(**kwargs)\n",
        "        self.alpha = alpha\n",
        "        self.S = torch.Tensor([[[0.0]]])  # similar to placeholder\n",
        "        self.diff = torch.Tensor([[[[0.0]]]])  # similar to placeholder\n",
        "        a = torch.empty((29, 1), dtype = torch.double)\n",
        "        a = torch.nn.init.uniform_(a, -0.05, 0.05)\n",
        "        self.weight = torch.nn.Parameter(a)\n",
        "\n",
        "    def forward(self, x):\n",
        "        #Input:  [N, timesteps, vertices, features]\n",
        "        N, T, V, F = x.size()\n",
        "        \n",
        "        # shape: (N,V,F) use the current slice (middle one slice)\n",
        "        x = x[:,0,:,:]\n",
        "\n",
        "        # shape: (N,V,V,F)\n",
        "        diff = torch.permute(torch.permute(torch.broadcast_to(x,[V,N,V,F]), dims=(2,1,0,3))-x, dims=(1,0,2,3))\n",
        "\n",
        "        # shape: (N,V,V)\n",
        "        tmpS = torch.exp(torch.relu(torch.reshape(torch.matmul(torch.abs(diff).to(torch.double), self.weight), [N,V,V])))\n",
        "\n",
        "        S = tmpS / torch.sum(tmpS, dim = 0)\n",
        "        print(torch.sum(S, dim = 0))\n",
        "        '''\n",
        "        S = torch.empty((tmpS.size()))\n",
        "        for i, mat in enumerate(tmpS):\n",
        "          curr_max = torch.max(mat)\n",
        "          curr_min = torch.min(mat)\n",
        "\n",
        "          S[i] = ((mat - curr_min) /(curr_max - curr_min))\n",
        "        '''\n",
        "        #print(S[0])\n",
        "\n",
        "        #print(torch.sum(S[0], dim = 0))\n",
        "        self.diff = diff\n",
        "        self.S = S\n",
        "\n",
        "        return S, diff, self.alpha"
      ]
    },
    {
      "cell_type": "markdown",
      "metadata": {
        "id": "YYywJHaVERWm"
      },
      "source": [
        "## Graph SAGE"
      ]
    },
    {
      "cell_type": "code",
      "execution_count": null,
      "metadata": {
        "colab": {
          "base_uri": "https://localhost:8080/"
        },
        "id": "d1Lk0mxCQV8o",
        "outputId": "61110157-aa6d-4fc9-b864-86c2cfd74e06"
      },
      "outputs": [
        {
          "output_type": "stream",
          "name": "stdout",
          "text": [
            "GraphSAGE(\n",
            "  (initial_conv): SAGEConv(29, 150, aggr=mean)\n",
            "  (conv1): SAGEConv(150, 150, aggr=mean)\n",
            "  (drop): Dropout(p=0.2, inplace=False)\n",
            "  (relu): ReLU()\n",
            "  (out1): Linear(in_features=150, out_features=100, bias=True)\n",
            "  (out2): Linear(in_features=100, out_features=16, bias=True)\n",
            "  (out3): Linear(in_features=16, out_features=1, bias=True)\n",
            "  (gl): Graph_Learn()\n",
            ")\n",
            "Number of parameters:  70762\n"
          ]
        }
      ],
      "source": [
        "class GraphSAGE(torch.nn.Module):\n",
        "    def __init__(self):\n",
        "        # Init parent\n",
        "        super(GraphSAGE, self).__init__()\n",
        "\n",
        "        self.initial_conv = SAGEConv(29, embedding_size, aggr = 'mean')\n",
        "        self.conv1 = SAGEConv(embedding_size, embedding_size, aggr = 'mean')\n",
        "\n",
        "        self.drop = torch.nn.Dropout(0.2)\n",
        "        self.relu = torch.nn.ReLU()\n",
        "\n",
        "        #Multi-layer Perceptron\n",
        "        self.out1 = Linear(embedding_size, 100)\n",
        "        self.out2 = Linear(100, 16)\n",
        "        self.out3 = Linear(16, 1)\n",
        "\n",
        "        self.gl = Graph_Learn(0.001)\n",
        "\n",
        "    def extract_edges(self, m):\n",
        "      starts, stops = [], []\n",
        "      avg_m = torch.mean(torch.abs(m))\n",
        "      adj_matrices = torch.where(m > avg_m, m, 0.)  #treshold for matrix binarization imposed to corr matrix avg\n",
        "\n",
        "      #adj_matrices = torch.round(m)\n",
        "      for k in range(adj_matrices.size(dim = 0)):\n",
        "        for i in range(adj_matrices.size(dim = 1)):\n",
        "          for j in range(adj_matrices.size(dim = 1)):\n",
        "            if adj_matrices[k, i, j] != 0:\n",
        "              if not(k == 0):\n",
        "                starts.append(i+ k*29)\n",
        "                stops.append(j+ k*29)\n",
        "              else:\n",
        "                starts.append(i)\n",
        "                stops.append(j)\n",
        "\n",
        "      return torch.tensor([starts,stops], dtype = torch.long)\n",
        "\n",
        "    def forward(self, x, edge_index, batch_index, size):\n",
        "        x_gl = torch.unsqueeze(torch.reshape(x, (int(x.size(dim = 0)/29), 29, 29)), 1)\n",
        "        S, diff, alpha = self.gl(x_gl)\n",
        "        edge_index_gl = self.extract_edges(S)\n",
        "\n",
        "        #Graph convolutions\n",
        "        hidden = self.initial_conv(x, edge_index_gl)\n",
        "        hidden = self.relu(hidden)\n",
        "\n",
        "        hidden = self.conv1(hidden, edge_index_gl)\n",
        "        hidden = self.relu(hidden)\n",
        "\n",
        "        #Readout\n",
        "        hidden = gaddp(hidden, batch_index)\n",
        "\n",
        "\n",
        "        #Multi-layer Perceptron\n",
        "        hidden = self.out1(hidden)\n",
        "        hidden = self.drop(hidden)\n",
        "        \n",
        "        hidden = self.out2(hidden)\n",
        "        hidden = self.drop(hidden)\n",
        "        \n",
        "        hidden = self.out3(hidden)\n",
        "        out = self.drop(hidden)\n",
        "        \n",
        "        out = torch.squeeze(out, dim = 1)\n",
        "        out = torch.sigmoid(out)\n",
        "\n",
        "        return out, hidden, S, diff, alpha\n",
        "\n",
        "model = GraphSAGE()\n",
        "print(model)\n",
        "print(\"Number of parameters: \", sum(p.numel() for p in model.parameters()))"
      ]
    },
    {
      "cell_type": "markdown",
      "metadata": {
        "id": "BbTg191rSpXr"
      },
      "source": [
        "## WANDB"
      ]
    },
    {
      "cell_type": "code",
      "execution_count": null,
      "metadata": {
        "colab": {
          "base_uri": "https://localhost:8080/",
          "height": 1000
        },
        "id": "4-i3q-7bSoxs",
        "outputId": "4b63a605-1e3e-4abc-f0d1-1a0734e3d5da"
      },
      "outputs": [
        {
          "output_type": "stream",
          "name": "stdout",
          "text": [
            "Looking in indexes: https://pypi.org/simple, https://us-python.pkg.dev/colab-wheels/public/simple/\n",
            "Collecting wandb\n",
            "  Downloading wandb-0.13.3-py2.py3-none-any.whl (1.8 MB)\n",
            "\u001b[K     |████████████████████████████████| 1.8 MB 5.6 MB/s \n",
            "\u001b[?25hCollecting docker-pycreds>=0.4.0\n",
            "  Downloading docker_pycreds-0.4.0-py2.py3-none-any.whl (9.0 kB)\n",
            "Collecting GitPython>=1.0.0\n",
            "  Downloading GitPython-3.1.27-py3-none-any.whl (181 kB)\n",
            "\u001b[K     |████████████████████████████████| 181 kB 38.6 MB/s \n",
            "\u001b[?25hRequirement already satisfied: six>=1.13.0 in /usr/local/lib/python3.7/dist-packages (from wandb) (1.15.0)\n",
            "Requirement already satisfied: setuptools in /usr/local/lib/python3.7/dist-packages (from wandb) (57.4.0)\n",
            "Requirement already satisfied: promise<3,>=2.0 in /usr/local/lib/python3.7/dist-packages (from wandb) (2.3)\n",
            "Requirement already satisfied: requests<3,>=2.0.0 in /usr/local/lib/python3.7/dist-packages (from wandb) (2.23.0)\n",
            "Collecting sentry-sdk>=1.0.0\n",
            "  Downloading sentry_sdk-1.9.9-py2.py3-none-any.whl (162 kB)\n",
            "\u001b[K     |████████████████████████████████| 162 kB 43.7 MB/s \n",
            "\u001b[?25hRequirement already satisfied: PyYAML in /usr/local/lib/python3.7/dist-packages (from wandb) (6.0)\n",
            "Collecting pathtools\n",
            "  Downloading pathtools-0.1.2.tar.gz (11 kB)\n",
            "Requirement already satisfied: Click!=8.0.0,>=7.0 in /usr/local/lib/python3.7/dist-packages (from wandb) (7.1.2)\n",
            "Collecting setproctitle\n",
            "  Downloading setproctitle-1.3.2-cp37-cp37m-manylinux_2_5_x86_64.manylinux1_x86_64.manylinux_2_17_x86_64.manylinux2014_x86_64.whl (30 kB)\n",
            "Collecting shortuuid>=0.5.0\n",
            "  Downloading shortuuid-1.0.9-py3-none-any.whl (9.4 kB)\n",
            "Requirement already satisfied: protobuf<4.0dev,>=3.12.0 in /usr/local/lib/python3.7/dist-packages (from wandb) (3.17.3)\n",
            "Requirement already satisfied: psutil>=5.0.0 in /usr/local/lib/python3.7/dist-packages (from wandb) (5.4.8)\n",
            "Requirement already satisfied: typing-extensions>=3.7.4.3 in /usr/local/lib/python3.7/dist-packages (from GitPython>=1.0.0->wandb) (4.1.1)\n",
            "Collecting gitdb<5,>=4.0.1\n",
            "  Downloading gitdb-4.0.9-py3-none-any.whl (63 kB)\n",
            "\u001b[K     |████████████████████████████████| 63 kB 1.1 MB/s \n",
            "\u001b[?25hCollecting smmap<6,>=3.0.1\n",
            "  Downloading smmap-5.0.0-py3-none-any.whl (24 kB)\n",
            "Requirement already satisfied: idna<3,>=2.5 in /usr/local/lib/python3.7/dist-packages (from requests<3,>=2.0.0->wandb) (2.10)\n",
            "Requirement already satisfied: chardet<4,>=3.0.2 in /usr/local/lib/python3.7/dist-packages (from requests<3,>=2.0.0->wandb) (3.0.4)\n",
            "Requirement already satisfied: urllib3!=1.25.0,!=1.25.1,<1.26,>=1.21.1 in /usr/local/lib/python3.7/dist-packages (from requests<3,>=2.0.0->wandb) (1.24.3)\n",
            "Requirement already satisfied: certifi>=2017.4.17 in /usr/local/lib/python3.7/dist-packages (from requests<3,>=2.0.0->wandb) (2022.6.15)\n",
            "Collecting sentry-sdk>=1.0.0\n",
            "  Downloading sentry_sdk-1.9.8-py2.py3-none-any.whl (158 kB)\n",
            "\u001b[K     |████████████████████████████████| 158 kB 27.2 MB/s \n",
            "\u001b[?25h  Downloading sentry_sdk-1.9.7-py2.py3-none-any.whl (157 kB)\n",
            "\u001b[K     |████████████████████████████████| 157 kB 51.2 MB/s \n",
            "\u001b[?25h  Downloading sentry_sdk-1.9.6-py2.py3-none-any.whl (157 kB)\n",
            "\u001b[K     |████████████████████████████████| 157 kB 56.3 MB/s \n",
            "\u001b[?25h  Downloading sentry_sdk-1.9.5-py2.py3-none-any.whl (157 kB)\n",
            "\u001b[K     |████████████████████████████████| 157 kB 53.2 MB/s \n",
            "\u001b[?25h  Downloading sentry_sdk-1.9.4-py2.py3-none-any.whl (157 kB)\n",
            "\u001b[K     |████████████████████████████████| 157 kB 57.2 MB/s \n",
            "\u001b[?25h  Downloading sentry_sdk-1.9.3-py2.py3-none-any.whl (157 kB)\n",
            "\u001b[K     |████████████████████████████████| 157 kB 44.3 MB/s \n",
            "\u001b[?25h  Downloading sentry_sdk-1.9.2-py2.py3-none-any.whl (157 kB)\n",
            "\u001b[K     |████████████████████████████████| 157 kB 58.9 MB/s \n",
            "\u001b[?25h  Downloading sentry_sdk-1.9.1-py2.py3-none-any.whl (157 kB)\n",
            "\u001b[K     |████████████████████████████████| 157 kB 55.0 MB/s \n",
            "\u001b[?25h  Downloading sentry_sdk-1.9.0-py2.py3-none-any.whl (156 kB)\n",
            "\u001b[K     |████████████████████████████████| 156 kB 52.2 MB/s \n",
            "\u001b[?25hBuilding wheels for collected packages: pathtools\n",
            "  Building wheel for pathtools (setup.py) ... \u001b[?25l\u001b[?25hdone\n",
            "  Created wheel for pathtools: filename=pathtools-0.1.2-py3-none-any.whl size=8806 sha256=741c6f2b8dc0f7bd7cd8b2e5d1ad440c7893afd085409cd81286cdaf846cb2df\n",
            "  Stored in directory: /root/.cache/pip/wheels/3e/31/09/fa59cef12cdcfecc627b3d24273699f390e71828921b2cbba2\n",
            "Successfully built pathtools\n",
            "Installing collected packages: smmap, gitdb, shortuuid, setproctitle, sentry-sdk, pathtools, GitPython, docker-pycreds, wandb\n",
            "Successfully installed GitPython-3.1.27 docker-pycreds-0.4.0 gitdb-4.0.9 pathtools-0.1.2 sentry-sdk-1.9.0 setproctitle-1.3.2 shortuuid-1.0.9 smmap-5.0.0 wandb-0.13.3\n"
          ]
        },
        {
          "output_type": "stream",
          "name": "stderr",
          "text": [
            "ERROR:wandb.jupyter:Failed to detect the name of this notebook, you can set it manually with the WANDB_NOTEBOOK_NAME environment variable to enable code saving.\n"
          ]
        },
        {
          "output_type": "display_data",
          "data": {
            "text/plain": [
              "<IPython.core.display.Javascript object>"
            ],
            "application/javascript": [
              "\n",
              "        window._wandbApiKey = new Promise((resolve, reject) => {\n",
              "            function loadScript(url) {\n",
              "            return new Promise(function(resolve, reject) {\n",
              "                let newScript = document.createElement(\"script\");\n",
              "                newScript.onerror = reject;\n",
              "                newScript.onload = resolve;\n",
              "                document.body.appendChild(newScript);\n",
              "                newScript.src = url;\n",
              "            });\n",
              "            }\n",
              "            loadScript(\"https://cdn.jsdelivr.net/npm/postmate/build/postmate.min.js\").then(() => {\n",
              "            const iframe = document.createElement('iframe')\n",
              "            iframe.style.cssText = \"width:0;height:0;border:none\"\n",
              "            document.body.appendChild(iframe)\n",
              "            const handshake = new Postmate({\n",
              "                container: iframe,\n",
              "                url: 'https://wandb.ai/authorize'\n",
              "            });\n",
              "            const timeout = setTimeout(() => reject(\"Couldn't auto authenticate\"), 5000)\n",
              "            handshake.then(function(child) {\n",
              "                child.on('authorize', data => {\n",
              "                    clearTimeout(timeout)\n",
              "                    resolve(data)\n",
              "                });\n",
              "            });\n",
              "            })\n",
              "        });\n",
              "    "
            ]
          },
          "metadata": {}
        },
        {
          "output_type": "stream",
          "name": "stderr",
          "text": [
            "\u001b[34m\u001b[1mwandb\u001b[0m: Appending key for api.wandb.ai to your netrc file: /root/.netrc\n"
          ]
        },
        {
          "output_type": "execute_result",
          "data": {
            "text/plain": [
              "True"
            ]
          },
          "metadata": {},
          "execution_count": 18
        }
      ],
      "source": [
        "!pip install wandb\n",
        "import wandb\n",
        "wandb.login()"
      ]
    },
    {
      "cell_type": "code",
      "execution_count": null,
      "metadata": {
        "id": "xASykrgvSrn4",
        "colab": {
          "base_uri": "https://localhost:8080/",
          "height": 175,
          "referenced_widgets": [
            "7c53efaa3ab64b1897cab6411f74d173",
            "3ca8664c478649c9893232687e797cba",
            "8c5c0155f61040eda1997bbb82d451cc",
            "43f9404e9ce647e2995ba9d529e3483c",
            "2fa954942a834fb18b752bb9ad11ccea",
            "bcfb7d4871014ad49ae2de4a68f529f6",
            "3518b2f6702a4fc4966344bb7821eef4",
            "52fce341d382428bbe2077bbaf0b3dbd"
          ]
        },
        "outputId": "d3846cbf-cd2b-4606-a7c6-3d19e160f001"
      },
      "outputs": [
        {
          "output_type": "display_data",
          "data": {
            "text/plain": [
              "<IPython.core.display.HTML object>"
            ],
            "text/html": [
              "Finishing last run (ID:u7koucud) before initializing another..."
            ]
          },
          "metadata": {}
        },
        {
          "output_type": "display_data",
          "data": {
            "text/plain": [
              "<IPython.core.display.HTML object>"
            ],
            "text/html": [
              "Waiting for W&B process to finish... <strong style=\"color:green\">(success).</strong>"
            ]
          },
          "metadata": {}
        },
        {
          "output_type": "display_data",
          "data": {
            "text/plain": [
              "VBox(children=(Label(value='0.558 MB of 0.558 MB uploaded (0.000 MB deduped)\\r'), FloatProgress(value=1.0, max…"
            ],
            "application/vnd.jupyter.widget-view+json": {
              "version_major": 2,
              "version_minor": 0,
              "model_id": "7c53efaa3ab64b1897cab6411f74d173"
            }
          },
          "metadata": {}
        },
        {
          "output_type": "display_data",
          "data": {
            "text/plain": [
              "<IPython.core.display.HTML object>"
            ],
            "text/html": [
              "Synced <strong style=\"color:#cdcd00\">classification/SAGE_GL_sub-12_1.2.0</strong>: <a href=\"https://wandb.ai/lorenzo_mattia/Tesi/runs/u7koucud\" target=\"_blank\">https://wandb.ai/lorenzo_mattia/Tesi/runs/u7koucud</a><br/>Synced 5 W&B file(s), 0 media file(s), 3 artifact file(s) and 1 other file(s)"
            ]
          },
          "metadata": {}
        },
        {
          "output_type": "display_data",
          "data": {
            "text/plain": [
              "<IPython.core.display.HTML object>"
            ],
            "text/html": [
              "Find logs at: <code>./wandb/run-20221002_102638-u7koucud/logs</code>"
            ]
          },
          "metadata": {}
        },
        {
          "output_type": "display_data",
          "data": {
            "text/plain": [
              "<IPython.core.display.HTML object>"
            ],
            "text/html": [
              "Successfully finished last run (ID:u7koucud). Initializing new run:<br/>"
            ]
          },
          "metadata": {}
        },
        {
          "output_type": "display_data",
          "data": {
            "text/plain": [
              "<IPython.core.display.HTML object>"
            ],
            "text/html": [
              "Tracking run with wandb version 0.13.3"
            ]
          },
          "metadata": {}
        },
        {
          "output_type": "display_data",
          "data": {
            "text/plain": [
              "<IPython.core.display.HTML object>"
            ],
            "text/html": [
              "Run data is saved locally in <code>/content/wandb/run-20221002_102655-3170ys42</code>"
            ]
          },
          "metadata": {}
        },
        {
          "output_type": "display_data",
          "data": {
            "text/plain": [
              "<IPython.core.display.HTML object>"
            ],
            "text/html": [
              "Syncing run <strong><a href=\"https://wandb.ai/lorenzo_mattia/Tesi/runs/3170ys42\" target=\"_blank\">classification/SAGE_GL_sub-12_1.2.0</a></strong> to <a href=\"https://wandb.ai/lorenzo_mattia/Tesi\" target=\"_blank\">Weights & Biases</a> (<a href=\"https://wandb.me/run\" target=\"_blank\">docs</a>)<br/>"
            ]
          },
          "metadata": {}
        }
      ],
      "source": [
        "run = wandb.init(\n",
        "    project = \"Tesi\", \n",
        "    entity = \"lorenzo_mattia\",\n",
        "    name = 'classification/'+ MODEL_TYPE +'_'+ CURR_SUB + '_' + SAVE_MODEL_VERSION,\n",
        "    group = 'classification+GL_workMem_encoding_' + CURR_SUB,\n",
        "    job_type = 'training',\n",
        "    save_code = True,\n",
        "    magic = True,\n",
        "    config = {\n",
        "        \"EPOCHS\": NUM_EPOCHS,\n",
        "        \"LEARNING_RATE\": LEARNING_RATE,\n",
        "        \"MODEL_TYPE\": MODEL_TYPE,\n",
        "        \"TRAIN_BATCH_SIZE\": TRAIN_BATCH_SIZE,\n",
        "        \"VAL_BATCH_SIZE\": VAL_BATCH_SIZE,\n",
        "        \"TEST_BATCH_SIZE\": TEST_BATCH_SIZE,\n",
        "        \"SAVED_MODEL_VERSION\": SAVE_MODEL_VERSION,\n",
        "        \"EMBEDDING_SIZE\": embedding_size,\n",
        "        \"FEATURES_TYPE\": FEATURES_TYPE,\n",
        "        \"ADJ_MATRIX\": ADJ_MATRIX\n",
        "    }\n",
        ")"
      ]
    },
    {
      "cell_type": "markdown",
      "metadata": {
        "id": "ZE8vNgUEAEH3"
      },
      "source": [
        "## GL loss functions"
      ]
    },
    {
      "cell_type": "code",
      "execution_count": null,
      "metadata": {
        "id": "A3sgVJT_d4FA"
      },
      "outputs": [],
      "source": [
        "def diff_loss(diff, S):\n",
        "    '''\n",
        "    compute the 1st loss of L_{graph_learning}\n",
        "    '''\n",
        "    \n",
        "    if len(S.shape)==3:\n",
        "        # batch input\n",
        "        return torch.mean(torch.sum(torch.sum(diff**2,dim=3, dtype = torch.double)*S, dim=(1,2)))\n",
        "    else:\n",
        "        return torch.sum(torch.sum(diff**2,dim=2)*S)\n",
        "\n",
        "\n",
        "def F_norm_loss(S, Falpha):\n",
        "    '''\n",
        "    compute the 2nd loss of L_{graph_learning}\n",
        "    '''\n",
        "    if len(S.shape)==3:\n",
        "        # batch input\n",
        "        return Falpha * torch.sum(torch.mean(S**2,axis=0))\n",
        "    else:\n",
        "        return Falpha * torch.sum(S**2)"
      ]
    },
    {
      "cell_type": "markdown",
      "source": [
        "## GL training loop"
      ],
      "metadata": {
        "id": "nozsrN3ud_PX"
      }
    },
    {
      "cell_type": "code",
      "execution_count": null,
      "metadata": {
        "id": "rlXDr0YtGnW2"
      },
      "outputs": [],
      "source": [
        "import matplotlib.pyplot as plt\n",
        "\n",
        "def training_loop_gl(model, optimizer):\n",
        "  train_acc, val_acc, ep, train_losses, val_losses = [], [], [], [], []\n",
        "  best_acc = 0\n",
        "  best_loss = 1000000\n",
        "  for epoch in range(50):\n",
        "      \n",
        "      model.train()\n",
        "      ep.append(epoch)\n",
        "      n, d, n_v, d_v = 0, 0, 0, 0\n",
        "\n",
        "      for batch in train_dataloader:\n",
        "          optimizer.zero_grad()\n",
        "          pred, embedding, S, diff, alpha = model(batch.x.float(), batch.edge_index, batch.batch, TRAIN_BATCH_SIZE) #, S, diff, alpha\n",
        "          \n",
        "          train_diff_l = diff_loss(diff, S)\n",
        "          train_F_norm_l = F_norm_loss(S, alpha)\n",
        "          train_l = loss_fn(pred, batch.y.float())\n",
        "          train_loss =  train_l  + train_diff_l + train_F_norm_l\n",
        "          \n",
        "          pred = torch.round(pred)\n",
        "          d += pred.shape[0]\n",
        "          n += (batch.y.float() == pred).int().sum()\n",
        "\n",
        "          train_loss.backward()\n",
        "          optimizer.step()\n",
        "      \n",
        "      if epoch%5 == 0:\n",
        "        temp = torch.mean(torch.reshape(S, (39, 29, 29)), dim = 0).detach().numpy()\n",
        "        plt.imshow(temp)\n",
        "        plt.show()\n",
        "      \n",
        "      model.train(False)\n",
        "      for batch in val_dataloader:\n",
        "        with torch.no_grad():\n",
        "          pred, embedding, S, diff, alpha = model(batch.x.float(), batch.edge_index, batch.batch, VAL_BATCH_SIZE) #, S, diff, alpha\n",
        "        \n",
        "        val_diff_l = diff_loss(diff, S)\n",
        "        val_F_norm_l = F_norm_loss(S, alpha)\n",
        "        val_l = loss_fn(pred, batch.y.float())\n",
        "\n",
        "        val_loss =  val_l  + val_diff_l + val_F_norm_l\n",
        "        pred = torch.round(pred)\n",
        "        d_v += pred.shape[0]\n",
        "        n_v += (batch.y.float() == pred).int().sum()\n",
        "        \n",
        "      print(\"Epoch: \" + str(epoch) + \" Train loss: \" + str(round(train_loss.item(), 3)) + \" Train accuracy: \" + str(round((n / d).item(), 3)) +\\\n",
        "            \" Val loss: \" + str(round(val_loss.item(), 3)) + \" Val accuracy: \" + str(round((n_v / d_v).item(), 3)))\n",
        "\n",
        "        \n",
        "      cur_acc = (n_v / d_v).item()\n",
        "\n",
        "      train_acc.append((n / d).item())\n",
        "      val_acc.append((n_v / d_v).item())\n",
        "      train_losses.append(train_loss.item())\n",
        "      val_losses.append(val_loss.item())\n",
        "\n",
        "      if best_loss > val_losses[-1]:\n",
        "        best_loss = val_losses[-1]\n",
        "        if not os.path.isdir(saved_models_dir):\n",
        "          os.mkdir(saved_models_dir)\n",
        "        torch.save(model.state_dict(), saved_models_dir + \"/best_model\")\n",
        "      \n",
        "      wandb.log({\n",
        "        'Train loss': train_losses[-1],\n",
        "        'Train diff loss': train_diff_l,\n",
        "        'Train classification loss': train_l,\n",
        "        'Train F_norm loss': train_F_norm_l,\n",
        "        'Val loss': val_losses[-1],\n",
        "        'Val diff loss': val_diff_l,\n",
        "        'Val classification loss': val_l,\n",
        "        'Val F_norm loss': val_F_norm_l,\n",
        "        'Train acc': train_acc[-1],\n",
        "        'Val acc': val_acc[-1]\n",
        "      })\n",
        "            \n",
        "  return train_acc, val_acc, ep, train_losses, val_losses"
      ]
    },
    {
      "cell_type": "code",
      "execution_count": null,
      "metadata": {
        "id": "TgbDlgQieW9A"
      },
      "outputs": [],
      "source": [
        "model = GraphSAGE()\n",
        "continue_training = False\n",
        "if continue_training:\n",
        "  LOAD_MODEL_VERSION = \"1.0.0\"\n",
        "  model.load_state_dict(torch.load(CURR_DIR \\\n",
        "                    + LOAD_MODEL_VERSION + \"/best_model\"))\n",
        "  \n",
        "loss_fn = torch.nn.BCELoss()\n",
        "\n",
        "optimizer = torch.optim.Adam(model.parameters(), lr= 0.001)\n",
        "#optimizer = torch.optim.SGD(model.parameters(), lr= 0.001, momentum = 0.9)\n",
        "train_acc, val_acc, ep, train_losses, val_losses = training_loop_gl(model, optimizer)"
      ]
    },
    {
      "cell_type": "code",
      "execution_count": null,
      "metadata": {
        "id": "SYQ_yxx7Webu",
        "colab": {
          "base_uri": "https://localhost:8080/",
          "height": 505,
          "referenced_widgets": [
            "ad0801d802e643928ae12adad897aa17",
            "0c76499e45504ab78df9fe0668b3d7dd",
            "f6625aef380c40b99fd25abde29823ee",
            "4a164e1fac8545c69aaf6ef9ed1b60a0",
            "0324507568304dea829eef750094fd65",
            "4b64bd0ded7545efba789a9232f0f241",
            "72df9a3de5064ed086b0836df9771d9f",
            "f3954afccc9d4d5fa46e61f80709082b"
          ]
        },
        "outputId": "79d27292-0c7c-4d11-c3d6-ebb0ef7d5e7d"
      },
      "outputs": [
        {
          "output_type": "display_data",
          "data": {
            "text/plain": [
              "<IPython.core.display.HTML object>"
            ],
            "text/html": [
              "Waiting for W&B process to finish... <strong style=\"color:green\">(success).</strong>"
            ]
          },
          "metadata": {}
        },
        {
          "output_type": "display_data",
          "data": {
            "text/plain": [
              "VBox(children=(Label(value='0.000 MB of 0.000 MB uploaded (0.000 MB deduped)\\r'), FloatProgress(value=1.0, max…"
            ],
            "application/vnd.jupyter.widget-view+json": {
              "version_major": 2,
              "version_minor": 0,
              "model_id": "ad0801d802e643928ae12adad897aa17"
            }
          },
          "metadata": {}
        },
        {
          "output_type": "display_data",
          "data": {
            "text/plain": [
              "<IPython.core.display.HTML object>"
            ],
            "text/html": [
              "<style>\n",
              "    table.wandb td:nth-child(1) { padding: 0 10px; text-align: left ; width: auto;} td:nth-child(2) {text-align: left ; width: 100%}\n",
              "    .wandb-row { display: flex; flex-direction: row; flex-wrap: wrap; justify-content: flex-start; width: 100% }\n",
              "    .wandb-col { display: flex; flex-direction: column; flex-basis: 100%; flex: 1; padding: 10px; }\n",
              "    </style>\n",
              "<div class=\"wandb-row\"><div class=\"wandb-col\"><h3>Run history:</h3><br/><table class=\"wandb\"><tr><td>Train F_norm loss</td><td>█▄▃▂▁▁▁▁▁▁▁▁▁▁▁▁▁▁▁▁▁▁▁▁▁▁▁▁▁▁▁▁▁▁▁▁▁▁▁▁</td></tr><tr><td>Train acc</td><td>▂▁▁▂▃▂▂▃▄▄▆▄▆▅▅▇▄▆▆▇█▇▇▇▆▇▇██▇▇▇██▅▅▆▇█▇</td></tr><tr><td>Train classification loss</td><td>▆▆▅▅▅▅▆▅▅▅▄▄▄▄▃▃▃▃▃▃▂▂▂▂▂▂▂▂▂▂▂▂▂▁█▅▃▂▂▂</td></tr><tr><td>Train diff loss</td><td>█▅▂▅▄▆▄█▆█▃▇▇▆▆▇▆▄▄▄▆▅▅▃▅▄▇▃▆▅█▁▁▆▅█▅▁▅▄</td></tr><tr><td>Train loss</td><td>█▅▃▅▄▆▄█▆█▃▇▇▆▆▇▆▄▄▄▅▅▄▂▅▄▇▃▆▅▇▁▁▆▆█▅▁▅▄</td></tr><tr><td>Val F_norm loss</td><td>█▄▂▁▁▁▁▁▁▁▁▁▁▁▁▁▁▁▁▁▁▁▁▁▁▁▁▁▁▁▁▁▁▁▁▁▁▁▁▁</td></tr><tr><td>Val acc</td><td>▂▂▂▂▁▁▁▄▂▆▃▅▄▅▆▇▆▅▇▇▇▅▆▅▅█▆▇▇▆▅▂▂▂▃▂▁▂▅▄</td></tr><tr><td>Val classification loss</td><td>▄▃▃▃▃▃▃▃▃▃▃▃▂▂▂▂▂▂▂▁▁▂▁▂▂▁▁▁▁▁▂▆█▇▃▄▆▃▂▂</td></tr><tr><td>Val diff loss</td><td>█▂▁▁▁▁▁▁▁▁▁▁▁▁▁▁▁▁▁▁▁▁▁▁▁▁▁▁▁▁▁▁▁▁▁▁▁▁▁▁</td></tr><tr><td>Val loss</td><td>█▂▂▂▂▂▂▂▂▂▂▂▁▁▁▁▁▁▁▁▁▁▁▁▁▁▁▁▁▁▁▂▃▃▂▂▂▂▁▁</td></tr></table><br/></div><div class=\"wandb-col\"><h3>Run summary:</h3><br/><table class=\"wandb\"><tr><td>Train F_norm loss</td><td>0.00055</td></tr><tr><td>Train acc</td><td>0.86826</td></tr><tr><td>Train classification loss</td><td>0.22427</td></tr><tr><td>Train diff loss</td><td>1202.7166</td></tr><tr><td>Train loss</td><td>1202.94143</td></tr><tr><td>Val F_norm loss</td><td>0.00159</td></tr><tr><td>Val acc</td><td>0.69565</td></tr><tr><td>Val classification loss</td><td>0.46083</td></tr><tr><td>Val diff loss</td><td>2045.43636</td></tr><tr><td>Val loss</td><td>2045.89878</td></tr></table><br/></div></div>"
            ]
          },
          "metadata": {}
        },
        {
          "output_type": "display_data",
          "data": {
            "text/plain": [
              "<IPython.core.display.HTML object>"
            ],
            "text/html": [
              "Synced <strong style=\"color:#cdcd00\">classification/SAGE_GL_sub-12_1.2.0</strong>: <a href=\"https://wandb.ai/lorenzo_mattia/Tesi/runs/3170ys42\" target=\"_blank\">https://wandb.ai/lorenzo_mattia/Tesi/runs/3170ys42</a><br/>Synced 5 W&B file(s), 0 media file(s), 0 artifact file(s) and 0 other file(s)"
            ]
          },
          "metadata": {}
        },
        {
          "output_type": "display_data",
          "data": {
            "text/plain": [
              "<IPython.core.display.HTML object>"
            ],
            "text/html": [
              "Find logs at: <code>./wandb/run-20221002_102655-3170ys42/logs</code>"
            ]
          },
          "metadata": {}
        }
      ],
      "source": [
        "run.finish()"
      ]
    },
    {
      "cell_type": "markdown",
      "metadata": {
        "id": "J839zC535LPh"
      },
      "source": [
        "## Normal Test"
      ]
    },
    {
      "cell_type": "code",
      "execution_count": null,
      "metadata": {
        "colab": {
          "base_uri": "https://localhost:8080/"
        },
        "id": "ckD6Tfa-m1A9",
        "outputId": "3608f645-2101-4d0a-e860-087a03566bb3"
      },
      "outputs": [
        {
          "output_type": "execute_result",
          "data": {
            "text/plain": [
              "GraphSAGE(\n",
              "  (initial_conv): SAGEConv(29, 150, aggr=mean)\n",
              "  (conv1): SAGEConv(150, 150, aggr=mean)\n",
              "  (drop): Dropout(p=0.2, inplace=False)\n",
              "  (relu): ReLU()\n",
              "  (out1): Linear(in_features=150, out_features=100, bias=True)\n",
              "  (out2): Linear(in_features=100, out_features=16, bias=True)\n",
              "  (out3): Linear(in_features=16, out_features=1, bias=True)\n",
              "  (gl): Graph_Learn()\n",
              ")"
            ]
          },
          "metadata": {},
          "execution_count": 25
        }
      ],
      "source": [
        "LOAD_MODEL_VERSION = \"1.2.0\"\n",
        "model = GraphSAGE()\n",
        "model.load_state_dict(torch.load(CURR_DIR \\\n",
        "                   + LOAD_MODEL_VERSION + \"/best_model\"))\n",
        "model.eval()"
      ]
    },
    {
      "cell_type": "code",
      "execution_count": null,
      "metadata": {
        "colab": {
          "base_uri": "https://localhost:8080/"
        },
        "id": "FsTcefhzjWbC",
        "outputId": "3b6e4376-cd65-4f6e-80eb-c59a4039d4b9"
      },
      "outputs": [
        {
          "output_type": "stream",
          "name": "stdout",
          "text": [
            "70\n",
            "1661.33218762878\n",
            "0.8695651888847351\n"
          ]
        }
      ],
      "source": [
        "print(val_losses.index(min(val_losses)))\n",
        "print(min(val_losses))\n",
        "print(val_acc[val_losses.index(min(val_losses))])"
      ]
    },
    {
      "cell_type": "code",
      "execution_count": null,
      "metadata": {
        "id": "a11Mh7jgy6ZS"
      },
      "outputs": [],
      "source": [
        "from sklearn.metrics import confusion_matrix, classification_report\n",
        "import seaborn as sns\n",
        "import matplotlib.pyplot as plt\n",
        "\n",
        "def test(save = True):\n",
        "  preds = []\n",
        "  lbls = []\n",
        "  for test_batch in train_dataloader:\n",
        "    with torch.no_grad():\n",
        "        #model.eval()\n",
        "        pred, embed = model(test_batch.x.float(), test_batch.edge_index, test_batch.batch, TRAIN_BATCH_SIZE, test_batch.pcm)\n",
        "    preds.append(torch.round(pred).tolist())\n",
        "    lbls.append(test_batch.y.tolist())\n",
        "\n",
        "  preds = [x for xs in preds for x in xs]\n",
        "  lbls = [x for xs in lbls for x in xs]\n",
        "\n",
        "  conf_mat = confusion_matrix(lbls, preds)\n",
        "  conf_mat = sns.heatmap(conf_mat, square=True, annot=True, cmap='Blues', fmt='d', \\\n",
        "                        cbar=False, xticklabels = [\"stick\", \"avatar\"], yticklabels = [\"stick\", \"avatar\"])\n",
        "  \n",
        "  if save:\n",
        "    conf_mat.figure.savefig(CURR_DIR + LOAD_MODEL_VERSION + \"/confusion_matrix.png\")\n",
        "\n",
        "  print(classification_report(lbls, preds, target_names=[\"stick\", \"avatar\"]))\n",
        "\n",
        "\n",
        "def test_gl(save = True):\n",
        "  preds = []\n",
        "  lbls = []\n",
        "  for test_batch in test_dataloader:\n",
        "    with torch.no_grad():\n",
        "        model.eval()\n",
        "        pred, embed, S, _, _ = model(test_batch.x.float(), test_batch.edge_index, test_batch.batch, TEST_BATCH_SIZE)\n",
        "    preds.append(torch.round(pred).tolist())\n",
        "    lbls.append(test_batch.y.tolist())\n",
        "\n",
        "  edges = model.extract_edges(S)\n",
        "  print(edges.shape)\n",
        "  preds = [x for xs in preds for x in xs]\n",
        "  lbls = [x for xs in lbls for x in xs]\n",
        "  indexes_non_soc = torch.tensor([i for i,val in enumerate(lbls) if val==0])\n",
        "  indexes_soc = torch.tensor([i for i,val in enumerate(lbls) if val==1])\n",
        "\n",
        "  temp = torch.reshape(test_batch.pcm, (TEST_BATCH_SIZE, 29, 29))\n",
        "  temp2 = torch.reshape(S, (TEST_BATCH_SIZE, 29, 29))\n",
        "\n",
        "  learned_non_soc = torch.mean(torch.index_select(temp2, dim = 0, index = indexes_non_soc), dim = 0)\n",
        "  learned_soc = torch.mean(torch.index_select(temp2, dim = 0, index = indexes_soc), dim = 0)\n",
        "\n",
        "  non_soc = torch.mean(torch.index_select(temp, dim = 0, index = indexes_non_soc), dim = 0)\n",
        "  soc = torch.mean(torch.index_select(temp, dim = 0, index = indexes_soc), dim = 0)\n",
        "\n",
        "  #temp_avg2 = torch.mean(temp2, dim = 0)\n",
        "  #temp_avg = torch.mean(temp, dim = 0)\n",
        "  gl_slice = 10\n",
        "  print(\"Partial correlation adjacency mat\")\n",
        "  plt.imshow(temp[gl_slice])\n",
        "  plt.show()\n",
        "\n",
        "  print(\"Learned adjacency mat\")\n",
        "  plt.imshow(temp2[gl_slice])\n",
        "  plt.show()\n",
        "\n",
        "  print(\"Average learned adjacency mat non soc\")\n",
        "  plt.imshow(learned_non_soc)\n",
        "  plt.savefig(CURR_DIR + LOAD_MODEL_VERSION + \"/Average learned adjacency mat non soc.png\")\n",
        "  plt.show()\n",
        "  torch.save(learned_non_soc, CURR_DIR + LOAD_MODEL_VERSION + '/learned_non_soc.pt') \n",
        "  \n",
        "  print(\"Average learned adjacency mat soc\")\n",
        "  plt.imshow(learned_soc)\n",
        "  plt.savefig(CURR_DIR + LOAD_MODEL_VERSION + \"/Average learned adjacency mat soc.png\")\n",
        "  plt.show()\n",
        "  torch.save(learned_soc, CURR_DIR + LOAD_MODEL_VERSION + '/learned_soc.pt') \n",
        "\n",
        "  print(\"Average Partial adjacency mat non soc\")\n",
        "  plt.imshow(non_soc)\n",
        "  plt.savefig(CURR_DIR + LOAD_MODEL_VERSION + \"/Average pearson adjacency mat non soc.png\")\n",
        "  plt.show()\n",
        "  \n",
        "  print(\"Average Partial adjacency mat soc\")\n",
        "  plt.imshow(soc)\n",
        "  plt.savefig(CURR_DIR + LOAD_MODEL_VERSION + \"/Average pearson adjacency mat soc.png\")\n",
        "  plt.show()\n",
        "  \n",
        "\n",
        "  print(preds[gl_slice])\n",
        "  print(lbls[gl_slice])\n",
        "  print(temp[gl_slice])\n",
        "  print(temp2[gl_slice])\n",
        "\n",
        "  conf_mat = confusion_matrix(lbls, preds)\n",
        "  conf_mat = sns.heatmap(conf_mat, square=True, annot=True, cmap='Blues', fmt='d', \\\n",
        "                        cbar=False, xticklabels = [\"stick\", \"avatar\"], yticklabels = [\"stick\", \"avatar\"])\n",
        "  \n",
        "  if save:\n",
        "    conf_mat.figure.savefig(CURR_DIR + LOAD_MODEL_VERSION + \"/confusion_matrix.png\")\n",
        "\n",
        "  print(classification_report(lbls, preds, target_names=[\"stick\", \"avatar\"]))\n",
        "\n",
        "test_gl(True)"
      ]
    },
    {
      "cell_type": "code",
      "execution_count": null,
      "metadata": {
        "colab": {
          "base_uri": "https://localhost:8080/",
          "height": 265
        },
        "id": "rUvJB3BYs39w",
        "outputId": "1b96b4ae-0ac1-4825-a27e-6b514a3bb8c8"
      },
      "outputs": [
        {
          "output_type": "display_data",
          "data": {
            "text/plain": [
              "<Figure size 432x288 with 1 Axes>"
            ],
            "image/png": "[encoded data removed]"
          },
          "metadata": {
            "needs_background": "light"
          }
        }
      ],
      "source": [
        "import matplotlib.pyplot as plt\n",
        "\n",
        "def plot_acc(ep, train_acc, val_acc, save = True):\n",
        "  plt.plot(ep, train_acc, label = 'train acc')\n",
        "  plt.plot(ep, val_acc, label = 'val acc')\n",
        "  #plt.plot(ep, val_acc, label = 'val acc')\n",
        "  plt.legend()\n",
        "  if save:\n",
        "    plt.savefig(saved_models_dir + \"/accuracy.png\")\n",
        "\n",
        "plot_acc(ep, train_acc, val_acc)"
      ]
    },
    {
      "cell_type": "code",
      "execution_count": null,
      "metadata": {
        "colab": {
          "base_uri": "https://localhost:8080/",
          "height": 265
        },
        "id": "CD3hRZcq_xVH",
        "outputId": "8241b446-795a-45b0-abae-c661b99ffa9f"
      },
      "outputs": [
        {
          "output_type": "display_data",
          "data": {
            "text/plain": [
              "<Figure size 432x288 with 1 Axes>"
            ],
            "image/png": "[encoded data removed]"
          },
          "metadata": {
            "needs_background": "light"
          }
        }
      ],
      "source": [
        "def plot_loss(ep, t_loss, v_loss, save = True):\n",
        "  plt.plot(ep, t_loss, label = 'train loss')\n",
        "  plt.plot(ep, v_loss, label = 'val loss')\n",
        "  #plt.plot(ep, val_acc, label = 'val acc')\n",
        "  plt.legend()\n",
        "  if save:\n",
        "    plt.savefig(saved_models_dir + \"/loss.png\")\n",
        "\n",
        "plot_loss(ep, train_losses, val_losses)"
      ]
    }
  ],
  "metadata": {
    "colab": {
      "collapsed_sections": [
        "2I6XRNVjqwhR",
        "9FWbISL_aKQV",
        "8Gmr9tuYQ9EZ",
        "BbTg191rSpXr",
        "jFO_bUZUF7IL"
      ],
      "provenance": []
    },
    "kernelspec": {
      "display_name": "Python 3",
      "name": "python3"
    },
    "language_info": {
      "name": "python"
    },
    "gpuClass": "standard",
    "widgets": {
      "application/vnd.jupyter.widget-state+json": {
        "7c53efaa3ab64b1897cab6411f74d173": {
          "model_module": "@jupyter-widgets/controls",
          "model_name": "VBoxModel",
          "model_module_version": "1.5.0",
          "state": {
            "_dom_classes": [],
            "_model_module": "@jupyter-widgets/controls",
            "_model_module_version": "1.5.0",
            "_model_name": "VBoxModel",
            "_view_count": null,
            "_view_module": "@jupyter-widgets/controls",
            "_view_module_version": "1.5.0",
            "_view_name": "VBoxView",
            "box_style": "",
            "children": [
              "IPY_MODEL_3ca8664c478649c9893232687e797cba",
              "IPY_MODEL_8c5c0155f61040eda1997bbb82d451cc"
            ],
            "layout": "IPY_MODEL_43f9404e9ce647e2995ba9d529e3483c"
          }
        },
        "3ca8664c478649c9893232687e797cba": {
          "model_module": "@jupyter-widgets/controls",
          "model_name": "LabelModel",
          "model_module_version": "1.5.0",
          "state": {
            "_dom_classes": [],
            "_model_module": "@jupyter-widgets/controls",
            "_model_module_version": "1.5.0",
            "_model_name": "LabelModel",
            "_view_count": null,
            "_view_module": "@jupyter-widgets/controls",
            "_view_module_version": "1.5.0",
            "_view_name": "LabelView",
            "description": "",
            "description_tooltip": null,
            "layout": "IPY_MODEL_2fa954942a834fb18b752bb9ad11ccea",
            "placeholder": "​",
            "style": "IPY_MODEL_bcfb7d4871014ad49ae2de4a68f529f6",
            "value": "0.590 MB of 0.590 MB uploaded (0.000 MB deduped)\r"
          }
        },
        "8c5c0155f61040eda1997bbb82d451cc": {
          "model_module": "@jupyter-widgets/controls",
          "model_name": "FloatProgressModel",
          "model_module_version": "1.5.0",
          "state": {
            "_dom_classes": [],
            "_model_module": "@jupyter-widgets/controls",
            "_model_module_version": "1.5.0",
            "_model_name": "FloatProgressModel",
            "_view_count": null,
            "_view_module": "@jupyter-widgets/controls",
            "_view_module_version": "1.5.0",
            "_view_name": "ProgressView",
            "bar_style": "",
            "description": "",
            "description_tooltip": null,
            "layout": "IPY_MODEL_3518b2f6702a4fc4966344bb7821eef4",
            "max": 1,
            "min": 0,
            "orientation": "horizontal",
            "style": "IPY_MODEL_52fce341d382428bbe2077bbaf0b3dbd",
            "value": 1
          }
        },
        "43f9404e9ce647e2995ba9d529e3483c": {
          "model_module": "@jupyter-widgets/base",
          "model_name": "LayoutModel",
          "model_module_version": "1.2.0",
          "state": {
            "_model_module": "@jupyter-widgets/base",
            "_model_module_version": "1.2.0",
            "_model_name": "LayoutModel",
            "_view_count": null,
            "_view_module": "@jupyter-widgets/base",
            "_view_module_version": "1.2.0",
            "_view_name": "LayoutView",
            "align_content": null,
            "align_items": null,
            "align_self": null,
            "border": null,
            "bottom": null,
            "display": null,
            "flex": null,
            "flex_flow": null,
            "grid_area": null,
            "grid_auto_columns": null,
            "grid_auto_flow": null,
            "grid_auto_rows": null,
            "grid_column": null,
            "grid_gap": null,
            "grid_row": null,
            "grid_template_areas": null,
            "grid_template_columns": null,
            "grid_template_rows": null,
            "height": null,
            "justify_content": null,
            "justify_items": null,
            "left": null,
            "margin": null,
            "max_height": null,
            "max_width": null,
            "min_height": null,
            "min_width": null,
            "object_fit": null,
            "object_position": null,
            "order": null,
            "overflow": null,
            "overflow_x": null,
            "overflow_y": null,
            "padding": null,
            "right": null,
            "top": null,
            "visibility": null,
            "width": null
          }
        },
        "2fa954942a834fb18b752bb9ad11ccea": {
          "model_module": "@jupyter-widgets/base",
          "model_name": "LayoutModel",
          "model_module_version": "1.2.0",
          "state": {
            "_model_module": "@jupyter-widgets/base",
            "_model_module_version": "1.2.0",
            "_model_name": "LayoutModel",
            "_view_count": null,
            "_view_module": "@jupyter-widgets/base",
            "_view_module_version": "1.2.0",
            "_view_name": "LayoutView",
            "align_content": null,
            "align_items": null,
            "align_self": null,
            "border": null,
            "bottom": null,
            "display": null,
            "flex": null,
            "flex_flow": null,
            "grid_area": null,
            "grid_auto_columns": null,
            "grid_auto_flow": null,
            "grid_auto_rows": null,
            "grid_column": null,
            "grid_gap": null,
            "grid_row": null,
            "grid_template_areas": null,
            "grid_template_columns": null,
            "grid_template_rows": null,
            "height": null,
            "justify_content": null,
            "justify_items": null,
            "left": null,
            "margin": null,
            "max_height": null,
            "max_width": null,
            "min_height": null,
            "min_width": null,
            "object_fit": null,
            "object_position": null,
            "order": null,
            "overflow": null,
            "overflow_x": null,
            "overflow_y": null,
            "padding": null,
            "right": null,
            "top": null,
            "visibility": null,
            "width": null
          }
        },
        "bcfb7d4871014ad49ae2de4a68f529f6": {
          "model_module": "@jupyter-widgets/controls",
          "model_name": "DescriptionStyleModel",
          "model_module_version": "1.5.0",
          "state": {
            "_model_module": "@jupyter-widgets/controls",
            "_model_module_version": "1.5.0",
            "_model_name": "DescriptionStyleModel",
            "_view_count": null,
            "_view_module": "@jupyter-widgets/base",
            "_view_module_version": "1.2.0",
            "_view_name": "StyleView",
            "description_width": ""
          }
        },
        "3518b2f6702a4fc4966344bb7821eef4": {
          "model_module": "@jupyter-widgets/base",
          "model_name": "LayoutModel",
          "model_module_version": "1.2.0",
          "state": {
            "_model_module": "@jupyter-widgets/base",
            "_model_module_version": "1.2.0",
            "_model_name": "LayoutModel",
            "_view_count": null,
            "_view_module": "@jupyter-widgets/base",
            "_view_module_version": "1.2.0",
            "_view_name": "LayoutView",
            "align_content": null,
            "align_items": null,
            "align_self": null,
            "border": null,
            "bottom": null,
            "display": null,
            "flex": null,
            "flex_flow": null,
            "grid_area": null,
            "grid_auto_columns": null,
            "grid_auto_flow": null,
            "grid_auto_rows": null,
            "grid_column": null,
            "grid_gap": null,
            "grid_row": null,
            "grid_template_areas": null,
            "grid_template_columns": null,
            "grid_template_rows": null,
            "height": null,
            "justify_content": null,
            "justify_items": null,
            "left": null,
            "margin": null,
            "max_height": null,
            "max_width": null,
            "min_height": null,
            "min_width": null,
            "object_fit": null,
            "object_position": null,
            "order": null,
            "overflow": null,
            "overflow_x": null,
            "overflow_y": null,
            "padding": null,
            "right": null,
            "top": null,
            "visibility": null,
            "width": null
          }
        },
        "52fce341d382428bbe2077bbaf0b3dbd": {
          "model_module": "@jupyter-widgets/controls",
          "model_name": "ProgressStyleModel",
          "model_module_version": "1.5.0",
          "state": {
            "_model_module": "@jupyter-widgets/controls",
            "_model_module_version": "1.5.0",
            "_model_name": "ProgressStyleModel",
            "_view_count": null,
            "_view_module": "@jupyter-widgets/base",
            "_view_module_version": "1.2.0",
            "_view_name": "StyleView",
            "bar_color": null,
            "description_width": ""
          }
        },
        "ad0801d802e643928ae12adad897aa17": {
          "model_module": "@jupyter-widgets/controls",
          "model_name": "VBoxModel",
          "model_module_version": "1.5.0",
          "state": {
            "_dom_classes": [],
            "_model_module": "@jupyter-widgets/controls",
            "_model_module_version": "1.5.0",
            "_model_name": "VBoxModel",
            "_view_count": null,
            "_view_module": "@jupyter-widgets/controls",
            "_view_module_version": "1.5.0",
            "_view_name": "VBoxView",
            "box_style": "",
            "children": [
              "IPY_MODEL_0c76499e45504ab78df9fe0668b3d7dd",
              "IPY_MODEL_f6625aef380c40b99fd25abde29823ee"
            ],
            "layout": "IPY_MODEL_4a164e1fac8545c69aaf6ef9ed1b60a0"
          }
        },
        "0c76499e45504ab78df9fe0668b3d7dd": {
          "model_module": "@jupyter-widgets/controls",
          "model_name": "LabelModel",
          "model_module_version": "1.5.0",
          "state": {
            "_dom_classes": [],
            "_model_module": "@jupyter-widgets/controls",
            "_model_module_version": "1.5.0",
            "_model_name": "LabelModel",
            "_view_count": null,
            "_view_module": "@jupyter-widgets/controls",
            "_view_module_version": "1.5.0",
            "_view_name": "LabelView",
            "description": "",
            "description_tooltip": null,
            "layout": "IPY_MODEL_0324507568304dea829eef750094fd65",
            "placeholder": "​",
            "style": "IPY_MODEL_4b64bd0ded7545efba789a9232f0f241",
            "value": "0.013 MB of 0.013 MB uploaded (0.000 MB deduped)\r"
          }
        },
        "f6625aef380c40b99fd25abde29823ee": {
          "model_module": "@jupyter-widgets/controls",
          "model_name": "FloatProgressModel",
          "model_module_version": "1.5.0",
          "state": {
            "_dom_classes": [],
            "_model_module": "@jupyter-widgets/controls",
            "_model_module_version": "1.5.0",
            "_model_name": "FloatProgressModel",
            "_view_count": null,
            "_view_module": "@jupyter-widgets/controls",
            "_view_module_version": "1.5.0",
            "_view_name": "ProgressView",
            "bar_style": "",
            "description": "",
            "description_tooltip": null,
            "layout": "IPY_MODEL_72df9a3de5064ed086b0836df9771d9f",
            "max": 1,
            "min": 0,
            "orientation": "horizontal",
            "style": "IPY_MODEL_f3954afccc9d4d5fa46e61f80709082b",
            "value": 1
          }
        },
        "4a164e1fac8545c69aaf6ef9ed1b60a0": {
          "model_module": "@jupyter-widgets/base",
          "model_name": "LayoutModel",
          "model_module_version": "1.2.0",
          "state": {
            "_model_module": "@jupyter-widgets/base",
            "_model_module_version": "1.2.0",
            "_model_name": "LayoutModel",
            "_view_count": null,
            "_view_module": "@jupyter-widgets/base",
            "_view_module_version": "1.2.0",
            "_view_name": "LayoutView",
            "align_content": null,
            "align_items": null,
            "align_self": null,
            "border": null,
            "bottom": null,
            "display": null,
            "flex": null,
            "flex_flow": null,
            "grid_area": null,
            "grid_auto_columns": null,
            "grid_auto_flow": null,
            "grid_auto_rows": null,
            "grid_column": null,
            "grid_gap": null,
            "grid_row": null,
            "grid_template_areas": null,
            "grid_template_columns": null,
            "grid_template_rows": null,
            "height": null,
            "justify_content": null,
            "justify_items": null,
            "left": null,
            "margin": null,
            "max_height": null,
            "max_width": null,
            "min_height": null,
            "min_width": null,
            "object_fit": null,
            "object_position": null,
            "order": null,
            "overflow": null,
            "overflow_x": null,
            "overflow_y": null,
            "padding": null,
            "right": null,
            "top": null,
            "visibility": null,
            "width": null
          }
        },
        "0324507568304dea829eef750094fd65": {
          "model_module": "@jupyter-widgets/base",
          "model_name": "LayoutModel",
          "model_module_version": "1.2.0",
          "state": {
            "_model_module": "@jupyter-widgets/base",
            "_model_module_version": "1.2.0",
            "_model_name": "LayoutModel",
            "_view_count": null,
            "_view_module": "@jupyter-widgets/base",
            "_view_module_version": "1.2.0",
            "_view_name": "LayoutView",
            "align_content": null,
            "align_items": null,
            "align_self": null,
            "border": null,
            "bottom": null,
            "display": null,
            "flex": null,
            "flex_flow": null,
            "grid_area": null,
            "grid_auto_columns": null,
            "grid_auto_flow": null,
            "grid_auto_rows": null,
            "grid_column": null,
            "grid_gap": null,
            "grid_row": null,
            "grid_template_areas": null,
            "grid_template_columns": null,
            "grid_template_rows": null,
            "height": null,
            "justify_content": null,
            "justify_items": null,
            "left": null,
            "margin": null,
            "max_height": null,
            "max_width": null,
            "min_height": null,
            "min_width": null,
            "object_fit": null,
            "object_position": null,
            "order": null,
            "overflow": null,
            "overflow_x": null,
            "overflow_y": null,
            "padding": null,
            "right": null,
            "top": null,
            "visibility": null,
            "width": null
          }
        },
        "4b64bd0ded7545efba789a9232f0f241": {
          "model_module": "@jupyter-widgets/controls",
          "model_name": "DescriptionStyleModel",
          "model_module_version": "1.5.0",
          "state": {
            "_model_module": "@jupyter-widgets/controls",
            "_model_module_version": "1.5.0",
            "_model_name": "DescriptionStyleModel",
            "_view_count": null,
            "_view_module": "@jupyter-widgets/base",
            "_view_module_version": "1.2.0",
            "_view_name": "StyleView",
            "description_width": ""
          }
        },
        "72df9a3de5064ed086b0836df9771d9f": {
          "model_module": "@jupyter-widgets/base",
          "model_name": "LayoutModel",
          "model_module_version": "1.2.0",
          "state": {
            "_model_module": "@jupyter-widgets/base",
            "_model_module_version": "1.2.0",
            "_model_name": "LayoutModel",
            "_view_count": null,
            "_view_module": "@jupyter-widgets/base",
            "_view_module_version": "1.2.0",
            "_view_name": "LayoutView",
            "align_content": null,
            "align_items": null,
            "align_self": null,
            "border": null,
            "bottom": null,
            "display": null,
            "flex": null,
            "flex_flow": null,
            "grid_area": null,
            "grid_auto_columns": null,
            "grid_auto_flow": null,
            "grid_auto_rows": null,
            "grid_column": null,
            "grid_gap": null,
            "grid_row": null,
            "grid_template_areas": null,
            "grid_template_columns": null,
            "grid_template_rows": null,
            "height": null,
            "justify_content": null,
            "justify_items": null,
            "left": null,
            "margin": null,
            "max_height": null,
            "max_width": null,
            "min_height": null,
            "min_width": null,
            "object_fit": null,
            "object_position": null,
            "order": null,
            "overflow": null,
            "overflow_x": null,
            "overflow_y": null,
            "padding": null,
            "right": null,
            "top": null,
            "visibility": null,
            "width": null
          }
        },
        "f3954afccc9d4d5fa46e61f80709082b": {
          "model_module": "@jupyter-widgets/controls",
          "model_name": "ProgressStyleModel",
          "model_module_version": "1.5.0",
          "state": {
            "_model_module": "@jupyter-widgets/controls",
            "_model_module_version": "1.5.0",
            "_model_name": "ProgressStyleModel",
            "_view_count": null,
            "_view_module": "@jupyter-widgets/base",
            "_view_module_version": "1.2.0",
            "_view_name": "StyleView",
            "bar_color": null,
            "description_width": ""
          }
        }
      }
    }
  },
  "nbformat": 4,
  "nbformat_minor": 0
}