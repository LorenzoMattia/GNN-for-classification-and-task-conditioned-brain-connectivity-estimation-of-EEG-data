{
  "cells": [
    {
      "cell_type": "markdown",
      "metadata": {
        "id": "uCL_kEI5MaBQ"
      },
      "source": [
        "##**Drive mount**"
      ]
    },
    {
      "cell_type": "code",
      "execution_count": null,
      "metadata": {
        "colab": {
          "base_uri": "https://localhost:8080/"
        },
        "id": "VPcE5wbH8VwQ",
        "outputId": "13353dda-4251-4c52-e263-37659d047f78"
      },
      "outputs": [
        {
          "output_type": "stream",
          "name": "stdout",
          "text": [
            "Mounted at /content/drive\n"
          ]
        }
      ],
      "source": [
        "from google.colab import drive\n",
        "import shutil\n",
        "drive.mount('/content/drive')"
      ]
    },
    {
      "cell_type": "markdown",
      "metadata": {
        "id": "G5q0EK6ErlHP"
      },
      "source": [
        "## Imports"
      ]
    },
    {
      "cell_type": "code",
      "execution_count": null,
      "metadata": {
        "id": "FjJ1ylTqAmxa",
        "colab": {
          "base_uri": "https://localhost:8080/"
        },
        "outputId": "df0cca18-3a29-48a5-fbb4-c82af6658ec4"
      },
      "outputs": [
        {
          "output_type": "stream",
          "name": "stdout",
          "text": [
            "Looking in indexes: https://pypi.org/simple, https://us-python.pkg.dev/colab-wheels/public/simple/\n",
            "Looking in links: https://data.pyg.org/whl/torch-1.12.0+cu113.html\n",
            "Collecting torch-scatter\n",
            "  Downloading https://data.pyg.org/whl/torch-1.12.0%2Bcu113/torch_scatter-2.0.9-cp37-cp37m-linux_x86_64.whl (7.9 MB)\n",
            "\u001b[K     |████████████████████████████████| 7.9 MB 3.5 MB/s \n",
            "\u001b[?25hCollecting torch-sparse\n",
            "  Downloading https://data.pyg.org/whl/torch-1.12.0%2Bcu113/torch_sparse-0.6.15-cp37-cp37m-linux_x86_64.whl (3.5 MB)\n",
            "\u001b[K     |████████████████████████████████| 3.5 MB 42.4 MB/s \n",
            "\u001b[?25hCollecting torch-cluster\n",
            "  Downloading https://data.pyg.org/whl/torch-1.12.0%2Bcu113/torch_cluster-1.6.0-cp37-cp37m-linux_x86_64.whl (2.4 MB)\n",
            "\u001b[K     |████████████████████████████████| 2.4 MB 36.6 MB/s \n",
            "\u001b[?25hCollecting torch-spline-conv\n",
            "  Downloading https://data.pyg.org/whl/torch-1.12.0%2Bcu113/torch_spline_conv-1.2.1-cp37-cp37m-linux_x86_64.whl (709 kB)\n",
            "\u001b[K     |████████████████████████████████| 709 kB 54.1 MB/s \n",
            "\u001b[?25hCollecting torch-geometric\n",
            "  Downloading torch_geometric-2.1.0.post1.tar.gz (467 kB)\n",
            "\u001b[K     |████████████████████████████████| 467 kB 2.1 MB/s \n",
            "\u001b[?25hRequirement already satisfied: scipy in /usr/local/lib/python3.7/dist-packages (from torch-sparse) (1.7.3)\n",
            "Requirement already satisfied: tqdm in /usr/local/lib/python3.7/dist-packages (from torch-geometric) (4.64.1)\n",
            "Requirement already satisfied: numpy in /usr/local/lib/python3.7/dist-packages (from torch-geometric) (1.21.6)\n",
            "Requirement already satisfied: jinja2 in /usr/local/lib/python3.7/dist-packages (from torch-geometric) (2.11.3)\n",
            "Requirement already satisfied: requests in /usr/local/lib/python3.7/dist-packages (from torch-geometric) (2.23.0)\n",
            "Requirement already satisfied: pyparsing in /usr/local/lib/python3.7/dist-packages (from torch-geometric) (3.0.9)\n",
            "Requirement already satisfied: scikit-learn in /usr/local/lib/python3.7/dist-packages (from torch-geometric) (1.0.2)\n",
            "Requirement already satisfied: MarkupSafe>=0.23 in /usr/local/lib/python3.7/dist-packages (from jinja2->torch-geometric) (2.0.1)\n",
            "Requirement already satisfied: chardet<4,>=3.0.2 in /usr/local/lib/python3.7/dist-packages (from requests->torch-geometric) (3.0.4)\n",
            "Requirement already satisfied: urllib3!=1.25.0,!=1.25.1,<1.26,>=1.21.1 in /usr/local/lib/python3.7/dist-packages (from requests->torch-geometric) (1.24.3)\n",
            "Requirement already satisfied: certifi>=2017.4.17 in /usr/local/lib/python3.7/dist-packages (from requests->torch-geometric) (2022.6.15)\n",
            "Requirement already satisfied: idna<3,>=2.5 in /usr/local/lib/python3.7/dist-packages (from requests->torch-geometric) (2.10)\n",
            "Requirement already satisfied: threadpoolctl>=2.0.0 in /usr/local/lib/python3.7/dist-packages (from scikit-learn->torch-geometric) (3.1.0)\n",
            "Requirement already satisfied: joblib>=0.11 in /usr/local/lib/python3.7/dist-packages (from scikit-learn->torch-geometric) (1.1.0)\n",
            "Building wheels for collected packages: torch-geometric\n",
            "  Building wheel for torch-geometric (setup.py) ... \u001b[?25l\u001b[?25hdone\n",
            "  Created wheel for torch-geometric: filename=torch_geometric-2.1.0.post1-py3-none-any.whl size=689859 sha256=aa4571c0bdd1026a9f52bd93a5122838b35360419c69d7733d5301bde3c10c03\n",
            "  Stored in directory: /root/.cache/pip/wheels/d1/cb/43/f7f2e472de4d7cff31bceddadc36d634e1e545fbc17961c282\n",
            "Successfully built torch-geometric\n",
            "Installing collected packages: torch-spline-conv, torch-sparse, torch-scatter, torch-geometric, torch-cluster\n",
            "Successfully installed torch-cluster-1.6.0 torch-geometric-2.1.0.post1 torch-scatter-2.0.9 torch-sparse-0.6.15 torch-spline-conv-1.2.1\n",
            "Looking in indexes: https://pypi.org/simple, https://us-python.pkg.dev/colab-wheels/public/simple/\n",
            "Collecting pingouin\n",
            "  Downloading pingouin-0.5.2.tar.gz (185 kB)\n",
            "\u001b[K     |████████████████████████████████| 185 kB 2.1 MB/s \n",
            "\u001b[?25hRequirement already satisfied: numpy>=1.19 in /usr/local/lib/python3.7/dist-packages (from pingouin) (1.21.6)\n",
            "Requirement already satisfied: scipy>=1.7 in /usr/local/lib/python3.7/dist-packages (from pingouin) (1.7.3)\n",
            "Requirement already satisfied: pandas>=1.0 in /usr/local/lib/python3.7/dist-packages (from pingouin) (1.3.5)\n",
            "Requirement already satisfied: matplotlib>=3.0.2 in /usr/local/lib/python3.7/dist-packages (from pingouin) (3.2.2)\n",
            "Requirement already satisfied: seaborn>=0.11 in /usr/local/lib/python3.7/dist-packages (from pingouin) (0.11.2)\n",
            "Collecting statsmodels>=0.13\n",
            "  Downloading statsmodels-0.13.2-cp37-cp37m-manylinux_2_17_x86_64.manylinux2014_x86_64.whl (9.8 MB)\n",
            "\u001b[K     |████████████████████████████████| 9.8 MB 14.8 MB/s \n",
            "\u001b[?25hRequirement already satisfied: scikit-learn<1.1.0 in /usr/local/lib/python3.7/dist-packages (from pingouin) (1.0.2)\n",
            "Collecting pandas_flavor>=0.2.0\n",
            "  Downloading pandas_flavor-0.3.0-py3-none-any.whl (6.3 kB)\n",
            "Collecting outdated\n",
            "  Downloading outdated-0.2.1-py3-none-any.whl (7.5 kB)\n",
            "Requirement already satisfied: tabulate in /usr/local/lib/python3.7/dist-packages (from pingouin) (0.8.10)\n",
            "Requirement already satisfied: cycler>=0.10 in /usr/local/lib/python3.7/dist-packages (from matplotlib>=3.0.2->pingouin) (0.11.0)\n",
            "Requirement already satisfied: pyparsing!=2.0.4,!=2.1.2,!=2.1.6,>=2.0.1 in /usr/local/lib/python3.7/dist-packages (from matplotlib>=3.0.2->pingouin) (3.0.9)\n",
            "Requirement already satisfied: kiwisolver>=1.0.1 in /usr/local/lib/python3.7/dist-packages (from matplotlib>=3.0.2->pingouin) (1.4.4)\n",
            "Requirement already satisfied: python-dateutil>=2.1 in /usr/local/lib/python3.7/dist-packages (from matplotlib>=3.0.2->pingouin) (2.8.2)\n",
            "Requirement already satisfied: typing-extensions in /usr/local/lib/python3.7/dist-packages (from kiwisolver>=1.0.1->matplotlib>=3.0.2->pingouin) (4.1.1)\n",
            "Requirement already satisfied: pytz>=2017.3 in /usr/local/lib/python3.7/dist-packages (from pandas>=1.0->pingouin) (2022.2.1)\n",
            "Collecting pandas_flavor>=0.2.0\n",
            "  Downloading pandas_flavor-0.2.0-py2.py3-none-any.whl (6.6 kB)\n",
            "Requirement already satisfied: xarray in /usr/local/lib/python3.7/dist-packages (from pandas_flavor>=0.2.0->pingouin) (0.20.2)\n",
            "Requirement already satisfied: six>=1.5 in /usr/local/lib/python3.7/dist-packages (from python-dateutil>=2.1->matplotlib>=3.0.2->pingouin) (1.15.0)\n",
            "Requirement already satisfied: threadpoolctl>=2.0.0 in /usr/local/lib/python3.7/dist-packages (from scikit-learn<1.1.0->pingouin) (3.1.0)\n",
            "Requirement already satisfied: joblib>=0.11 in /usr/local/lib/python3.7/dist-packages (from scikit-learn<1.1.0->pingouin) (1.1.0)\n",
            "Requirement already satisfied: patsy>=0.5.2 in /usr/local/lib/python3.7/dist-packages (from statsmodels>=0.13->pingouin) (0.5.2)\n",
            "Requirement already satisfied: packaging>=21.3 in /usr/local/lib/python3.7/dist-packages (from statsmodels>=0.13->pingouin) (21.3)\n",
            "Requirement already satisfied: requests in /usr/local/lib/python3.7/dist-packages (from outdated->pingouin) (2.23.0)\n",
            "Collecting littleutils\n",
            "  Downloading littleutils-0.2.2.tar.gz (6.6 kB)\n",
            "Requirement already satisfied: certifi>=2017.4.17 in /usr/local/lib/python3.7/dist-packages (from requests->outdated->pingouin) (2022.6.15)\n",
            "Requirement already satisfied: chardet<4,>=3.0.2 in /usr/local/lib/python3.7/dist-packages (from requests->outdated->pingouin) (3.0.4)\n",
            "Requirement already satisfied: urllib3!=1.25.0,!=1.25.1,<1.26,>=1.21.1 in /usr/local/lib/python3.7/dist-packages (from requests->outdated->pingouin) (1.24.3)\n",
            "Requirement already satisfied: idna<3,>=2.5 in /usr/local/lib/python3.7/dist-packages (from requests->outdated->pingouin) (2.10)\n",
            "Requirement already satisfied: importlib-metadata in /usr/local/lib/python3.7/dist-packages (from xarray->pandas_flavor>=0.2.0->pingouin) (4.12.0)\n",
            "Requirement already satisfied: zipp>=0.5 in /usr/local/lib/python3.7/dist-packages (from importlib-metadata->xarray->pandas_flavor>=0.2.0->pingouin) (3.8.1)\n",
            "Building wheels for collected packages: pingouin, littleutils\n",
            "  Building wheel for pingouin (setup.py) ... \u001b[?25l\u001b[?25hdone\n",
            "  Created wheel for pingouin: filename=pingouin-0.5.2-py3-none-any.whl size=196206 sha256=3e98a2e9ea0c9baed288dd021df07228cba8673dc9cea717722542b34be157ac\n",
            "  Stored in directory: /root/.cache/pip/wheels/11/5a/63/a6d32fc26fa462c731f65480bfb98ff7bd39b8ebcb4bc6c2fe\n",
            "  Building wheel for littleutils (setup.py) ... \u001b[?25l\u001b[?25hdone\n",
            "  Created wheel for littleutils: filename=littleutils-0.2.2-py3-none-any.whl size=7048 sha256=450d38eb510307109299640638ad45927c2dc2b407f974369ae9b31e83ff1218\n",
            "  Stored in directory: /root/.cache/pip/wheels/d6/64/cd/32819b511a488e4993f2fab909a95330289c3f4e0f6ef4676d\n",
            "Successfully built pingouin littleutils\n",
            "Installing collected packages: littleutils, statsmodels, pandas-flavor, outdated, pingouin\n",
            "  Attempting uninstall: statsmodels\n",
            "    Found existing installation: statsmodels 0.12.2\n",
            "    Uninstalling statsmodels-0.12.2:\n",
            "      Successfully uninstalled statsmodels-0.12.2\n",
            "Successfully installed littleutils-0.2.2 outdated-0.2.1 pandas-flavor-0.2.0 pingouin-0.5.2 statsmodels-0.13.2\n"
          ]
        }
      ],
      "source": [
        "!pip install torch-scatter torch-sparse torch-cluster torch-spline-conv torch-geometric -f https://data.pyg.org/whl/torch-1.12.0+cu113.html\n",
        "!pip install pingouin"
      ]
    },
    {
      "cell_type": "code",
      "execution_count": null,
      "metadata": {
        "id": "A8np-oJYrXe2"
      },
      "outputs": [],
      "source": [
        "import scipy.io\n",
        "import pandas as pd\n",
        "import os\n",
        "import random\n",
        "\n",
        "import torch\n",
        "from torch.nn import Linear\n",
        "import torch.nn.functional as F \n",
        "from torch_geometric.nn import GCNConv, TopKPooling, global_mean_pool, SAGEConv\n",
        "from torch_geometric.nn import global_mean_pool as gap, global_max_pool as gmp, global_add_pool as gaddp\n",
        "\n",
        "import numpy as np\n",
        "import pickle\n",
        "\n",
        "import pingouin\n",
        "from scipy import signal"
      ]
    },
    {
      "cell_type": "markdown",
      "metadata": {
        "id": "DrgmrkR0rEzX"
      },
      "source": [
        "## Loading first dataset (working memory)"
      ]
    },
    {
      "cell_type": "code",
      "execution_count": null,
      "metadata": {
        "id": "JT0xivNP7u_g"
      },
      "outputs": [],
      "source": [
        "SUBJECTS_FOLDER = '/content/drive/MyDrive/Social memory cuing full dataset/derivatives/EEGPreprocessedDataTableStudy'\n",
        "CURR_SUB = \"sub-09\"\n",
        "SINGLE_SUBJECT = os.path.join(SUBJECTS_FOLDER, os.path.join(CURR_SUB, \"ProcessedData/data_ica.mat\"))\n",
        "SUBJECTS = [ name for name in os.listdir(SUBJECTS_FOLDER) if os.path.isdir(os.path.join(SUBJECTS_FOLDER, name)) ]\n",
        "SUBJECTS.sort()\n",
        "DATA = \"ProcessedData/data_ica.mat\""
      ]
    },
    {
      "cell_type": "markdown",
      "metadata": {
        "id": "WVPjR4dJUAJb"
      },
      "source": [
        "## Parameters"
      ]
    },
    {
      "cell_type": "code",
      "execution_count": null,
      "metadata": {
        "colab": {
          "base_uri": "https://localhost:8080/"
        },
        "id": "DrB1e34pRhuw",
        "outputId": "51fa79ca-0d32-4d74-e55b-e46b1e8313c3"
      },
      "outputs": [
        {
          "output_type": "stream",
          "name": "stdout",
          "text": [
            "/content/drive/MyDrive/Tesi/Classification+GL/GCN_GL/sub-09/1.0.0\n",
            "/content/drive/MyDrive/Tesi/Classification/adj/sub-09/1.0.0\n"
          ]
        }
      ],
      "source": [
        "NUM_EPOCHS = 400\n",
        "TRAIN_BATCH_SIZE = 64\n",
        "TEST_BATCH_SIZE = 34\n",
        "VAL_BATCH_SIZE = 23\n",
        "LEARNING_RATE = 0.001\n",
        "embedding_size = 150\n",
        "\n",
        "FEATURE_VERSION = \"1.0.0\"\n",
        "SAVE_MODEL_VERSION = \"1.0.0\"\n",
        "FEATURES_TYPE = \"adj\" #\"adj\" \"plv\" \"svd\"\n",
        "MODEL_TYPE = \"GCN_GL\" #GCN\n",
        "ADJ_MATRIX = \"Learned\"\n",
        "CURR_DIR = \"/content/drive/MyDrive/Tesi/Classification+GL/\" + MODEL_TYPE + \"/\" + CURR_SUB + \"/\"\n",
        "FEATURE_DIR = \"/content/drive/MyDrive/Tesi/Classification/\" + FEATURES_TYPE + \"/\" + CURR_SUB + \"/\"\n",
        "\n",
        "if not os.path.isdir(CURR_DIR):\n",
        "    os.mkdir(CURR_DIR)\n",
        "\n",
        "saved_models_dir =  CURR_DIR + SAVE_MODEL_VERSION\n",
        "features_dir = FEATURE_DIR + FEATURE_VERSION\n",
        "\n",
        "print(saved_models_dir)\n",
        "print(features_dir)"
      ]
    },
    {
      "cell_type": "markdown",
      "metadata": {
        "id": "jW5f3BY9aD-N"
      },
      "source": [
        "## Single subject data"
      ]
    },
    {
      "cell_type": "code",
      "execution_count": null,
      "metadata": {
        "id": "JJ_WE8zHrBTU"
      },
      "outputs": [],
      "source": [
        "mat = scipy.io.loadmat(SINGLE_SUBJECT)\n",
        "trial = mat['trial']\n",
        "trialinfo = mat['trialinfo']"
      ]
    },
    {
      "cell_type": "code",
      "source": [
        "channels = []\n",
        "for channel in mat['label']:\n",
        "  channels.append(channel[0][0])\n",
        "\n",
        "channels_list = ['Fp1','Fpz','Fp2',\n",
        "    'AF3','AF4',\n",
        "    'F7','F3','Fz','F4','F8',\n",
        "    'FC5','FC1','FC2','FC6',\n",
        "    'C3','Cz','C4',\n",
        "    'CP5','CP1','CP2','CP6',\n",
        "    'P5','P3','Pz','P4','P6',\n",
        "    'POz','O1','O2']\n",
        "\n",
        "indexes = []\n",
        "for ch in channels_list:\n",
        "  indexes.append(channels.index(ch))"
      ],
      "metadata": {
        "id": "5Afl11N3Uqq_"
      },
      "execution_count": null,
      "outputs": []
    },
    {
      "cell_type": "code",
      "execution_count": null,
      "metadata": {
        "colab": {
          "base_uri": "https://localhost:8080/"
        },
        "id": "mid1jRLnm0oq",
        "outputId": "ec8e6ad9-b007-4745-c78a-c6eda6cff7ab"
      },
      "outputs": [
        {
          "output_type": "stream",
          "name": "stdout",
          "text": [
            "(224, 125, 29)\n",
            "(224,)\n"
          ]
        }
      ],
      "source": [
        "trials = []\n",
        "labels = []\n",
        "trial = np.transpose(np.squeeze(trial))\n",
        "for i, t in enumerate(trial):\n",
        "  trials.append(t[indexes, 1250:1750])\n",
        "  labels.append(trialinfo[i, 5]-1)  #zero is stick, one is avatar --- the -1 to have labels with 0 or 1 values (in dataset are 1 and 2)\n",
        "\n",
        "trials = list(signal.decimate(np.transpose(trials, [0, 2, 1]), 4, axis = 1))\n",
        "print(np.shape(trials))\n",
        "print(np.shape(labels))"
      ]
    },
    {
      "cell_type": "markdown",
      "source": [
        "#Pre-processing"
      ],
      "metadata": {
        "id": "U6kgJ-J3RtXj"
      }
    },
    {
      "cell_type": "markdown",
      "metadata": {
        "id": "9roFQ7hTyMTH"
      },
      "source": [
        "## Utility"
      ]
    },
    {
      "cell_type": "code",
      "execution_count": null,
      "metadata": {
        "id": "ccTMBtt9MvgZ"
      },
      "outputs": [],
      "source": [
        "def zscore_normalization(train_data, val_data, train_labels, val_labels):\n",
        "  resting_state_train_idxs = [i for i, j in enumerate(train_labels) if j == 3]\n",
        "  resting_state_val_idxs = [i for i, j in enumerate(val_labels) if j == 3]\n",
        "\n",
        "  resting_state_train = list(map(train_data.__getitem__, resting_state_train_idxs))\n",
        "  resting_state_val = list(map(val_data.__getitem__, resting_state_val_idxs))\n",
        "\n",
        "  rs_avg_train = np.mean(resting_state_train)\n",
        "  rs_std_train = np.std(resting_state_train)\n",
        "\n",
        "  rs_avg_val = np.mean(resting_state_val)\n",
        "  rs_std_val = np.std(resting_state_val)\n",
        "\n",
        "  train_data = normalize_trials(train_data, rs_avg_train, rs_std_train)\n",
        "  val_data = normalize_trials(val_data, rs_avg_val, rs_std_val)\n",
        "\n",
        "  return train_data, val_data\n",
        "\n",
        "\n",
        "def normalize_trials(trials, avg, std):\n",
        "  norm_trials = []\n",
        "  for t in trials:\n",
        "    norm_trials.append((t- avg)/std)\n",
        "\n",
        "  return norm_trials\n",
        "\n",
        "def normalize_list(lst):\n",
        "  return (lst - np.mean(lst))/np.std(lst)\n",
        "\n",
        "def _normalize_trial_by_channel(trial):\n",
        "  \n",
        "  for i in range(22):\n",
        "    ch_avg = np.mean(trial[:, i])\n",
        "    ch_std = np.std(trial[:, i])\n",
        "    trial[:, i] = (trial[:, i] - ch_avg)/ch_std\n",
        "\n",
        "  return trial\n",
        "\n",
        "def _normalize_trial(trial):\n",
        "  trial_avg = np.mean(trial)\n",
        "  trial_std = np.std(trial)\n",
        "\n",
        "  trial = (trial - trial_avg)/trial_std\n",
        "  return trial\n",
        "\n",
        "#print(np.mean(_normalize_trial(trials[0])))\n",
        "#print(np.std(_normalize_trial(trials[0])))"
      ]
    },
    {
      "cell_type": "code",
      "execution_count": null,
      "metadata": {
        "id": "d7fTWW1Om1dd"
      },
      "outputs": [],
      "source": [
        "def adj_features(trial):\n",
        "  feat = []\n",
        "  trial_df = pd.DataFrame(trial, columns=mat['label'][indexes])\n",
        "  corr_matrix = np.array(trial_df.corr())\n",
        "\n",
        "  corr_matrix = _normalize_trial(corr_matrix)\n",
        "\n",
        "  for i in range(np.shape(corr_matrix)[0]):\n",
        "    feat.append(list(np.squeeze(corr_matrix[i, :])))\n",
        "\n",
        "  return feat\n",
        "\n",
        "\n",
        "def svd_features(trial):\n",
        "  feat = []\n",
        "  trial_df = pd.DataFrame(trial, columns=mat['label'][indexes])\n",
        "  corr_matrix = np.array(trial_df.corr())\n",
        "  #adj_matrix = np.round(corr_matrix)\n",
        "\n",
        "  #corr_matrix = _normalize_trial(corr_matrix)\n",
        "\n",
        "  #u, s, v = scipy.linalg.svd(adj_matrix)\n",
        "  u, s, v = scipy.linalg.svd(corr_matrix)\n",
        "  u = _normalize_trial(u)\n",
        "\n",
        "  #corr_matrix = _normalize_trial(corr_matrix)\n",
        "\n",
        "  for i in range(np.shape(u)[0]):\n",
        "    feat.append(list(np.squeeze(u[i, :])))\n",
        "    #feat.append(normalize_list(list(np.squeeze(u[:, i]))))\n",
        "\n",
        "\n",
        "  #print(np.shape(feat))\n",
        "  return feat\n",
        "\n",
        "def phase_locking_value(theta1, theta2):\n",
        "    complex_phase_diff = np.exp(complex(0,1)*(theta1 - theta2))\n",
        "    plv = np.abs(np.sum(complex_phase_diff))/len(theta1)\n",
        "    return plv\n",
        "\n",
        "def plv_corr_matrix(trial, num_channels):\n",
        "  corr_matrix = np.zeros((num_channels,num_channels))\n",
        "  for i in range(num_channels):\n",
        "    for j in range(num_channels):\n",
        "      corr_matrix[i, j] = phase_locking_value(trial[:, i], trial[:, j])\n",
        "      corr_matrix[j, i] = phase_locking_value(trial[:, i], trial[:, j])\n",
        "  \n",
        "  return(corr_matrix)\n",
        "\n",
        "def plv_features(trial):\n",
        "  feat = []\n",
        "  num_channels = np.shape(trial)[1]\n",
        "  corr_matrix = _normalize_trial(plv_corr_matrix(trial, num_channels))\n",
        "\n",
        "  for i in range(np.shape(corr_matrix)[0]):\n",
        "    feat.append(list(np.squeeze(corr_matrix[i, :])))\n",
        "  return feat"
      ]
    },
    {
      "cell_type": "code",
      "execution_count": null,
      "metadata": {
        "id": "hZGPi9HkxRVM"
      },
      "outputs": [],
      "source": [
        "def edge_index_computation(trial_p):\n",
        "  starts = []\n",
        "  stops = []\n",
        "  trial_df = pd.DataFrame(trial_p)\n",
        "\n",
        "  corr_matrix = np.array(trial_df.pcorr())                   #partial corr\n",
        "\n",
        "  adj_matrix = np.round(np.abs(corr_matrix))\n",
        "  for i in range(np.shape(adj_matrix)[0]):\n",
        "    for j in range(np.shape(adj_matrix)[0]):\n",
        "      if adj_matrix[i, j] == 1:\n",
        "        starts.append(i)\n",
        "        stops.append(j)\n",
        "\n",
        "  edge_indices = [starts,stops]\n",
        "  return edge_indices\n",
        "\n",
        "def random_connectivty(trial):\n",
        "  starts = []\n",
        "  stops = []\n",
        "  corr_matrix = np.random.rand(29,29)\n",
        "  adj_matrix = np.round(np.abs(corr_matrix))\n",
        "  for i in range(np.shape(adj_matrix)[0]):\n",
        "    for j in range(np.shape(adj_matrix)[0]):\n",
        "      if adj_matrix[i, j] == 1:\n",
        "        starts.append(i)\n",
        "        stops.append(j)\n",
        "\n",
        "  edge_indices = [starts,stops]\n",
        "  return corr_matrix, edge_indices\n",
        "\n",
        "def fullyconnected_connectivty(trial):\n",
        "  starts = []\n",
        "  stops = []\n",
        "  corr_matrix = np.ones((29,29))\n",
        "  for i in range(np.shape(corr_matrix)[0]):\n",
        "    for j in range(np.shape(corr_matrix)[0]):\n",
        "      if corr_matrix[i, j] == 1:\n",
        "        starts.append(i)\n",
        "        stops.append(j)\n",
        "\n",
        "  edge_indices = [starts,stops]\n",
        "  return corr_matrix, edge_indices\n",
        "\n",
        "def connectivity_estimate(trial):\n",
        "  starts = []\n",
        "  stops = []\n",
        "  trial_df = pd.DataFrame(trial)\n",
        "\n",
        "  corr_matrix = np.array(trial_df.pcorr())    #partial corr\n",
        "\n",
        "  adj_matrix = np.round(np.abs(corr_matrix))\n",
        "  for i in range(np.shape(adj_matrix)[0]):\n",
        "    for j in range(np.shape(adj_matrix)[0]):\n",
        "      if adj_matrix[i, j] == 1:\n",
        "        starts.append(i)\n",
        "        stops.append(j)\n",
        "\n",
        "  edge_indices = [starts,stops]\n",
        "  return corr_matrix, edge_indices\n",
        "\n",
        "def get_features(trials, feats_type = \"adj\"):\n",
        "  all_feats = []\n",
        "  all_corr_matrix = []\n",
        "  for trial in trials:\n",
        "    if feats_type == \"adj\":\n",
        "      all_feats.append(adj_features(trial))\n",
        "    elif feats_type == \"plv\":\n",
        "      all_feats.append(plv_features(trial))\n",
        "    elif feats_type == \"de\":\n",
        "      all_feats.append(DE_PSD(np.transpose(trial), stft_para))\n",
        "    else:\n",
        "      all_feats.append(svd_features(trial))\n",
        "\n",
        "  return all_feats\n",
        "\n",
        "def get_edges(trials):\n",
        "  all_edges = []\n",
        "  all_corr_matrices = []\n",
        "  for trial in trials:\n",
        "    curr_corr_mat, curr_edges = connectivity_estimate(trial)\n",
        "    all_corr_matrices.append(curr_corr_mat)\n",
        "    all_edges.append(curr_edges)\n",
        "\n",
        "  return all_corr_matrices, all_edges"
      ]
    },
    {
      "cell_type": "markdown",
      "source": [
        "## Dataset"
      ],
      "metadata": {
        "id": "Zt1Cl0d-aUf8"
      }
    },
    {
      "cell_type": "code",
      "execution_count": null,
      "metadata": {
        "id": "VqoLwB07swcg"
      },
      "outputs": [],
      "source": [
        "from torch.utils.data import Dataset\n",
        "from torch_geometric.data import Data\n",
        "\n",
        "class EEG_dataset(Dataset):\n",
        "\n",
        "    def __init__(self, trials, labels):\n",
        "        self.trials = trials\n",
        "        self.labels = labels\n",
        "        self.features = get_features(trials, FEATURES_TYPE)\n",
        "        self.corr_matrices, self.edges = get_edges(trials)\n",
        "    \n",
        "    def __len__(self):\n",
        "      return len(self.trials)\n",
        "\n",
        "    def __getitem__(self, idx):\n",
        "        corr_matrix, edge_indices = connectivity_estimate(self.trials[idx])\n",
        "\n",
        "        return Data(x = torch.tensor(self.features[idx]), \\\n",
        "                    edge_index = torch.tensor(self.edges[idx]), \\\n",
        "                    y = torch.tensor(self.labels[idx], dtype = torch.long), pcm = torch.tensor(self.corr_matrices[idx]))"
      ]
    },
    {
      "cell_type": "code",
      "source": [
        "trials_0 = trials[:112]\n",
        "trials_1 = trials[112:]\n",
        "\n",
        "labels_0 = labels[:112]\n",
        "labels_1 = labels[112:]\n",
        "\n",
        "train_data_0 = trials_0[:83]\n",
        "test_data_0 = trials_0[83:100]\n",
        "val_data_0 = trials_0[100:]\n",
        "\n",
        "train_data_1 = trials_1[:84]\n",
        "test_data_1 = trials_1[84:101]\n",
        "val_data_1 = trials_1[101:]\n",
        "\n",
        "train_labels_0 = labels_0[:83]\n",
        "test_labels_0 = labels_0[83:100]\n",
        "val_labels_0 = labels_0[100:]\n",
        "\n",
        "train_labels_1 = labels_1[:84]\n",
        "test_labels_1 = labels_1[84:101]\n",
        "val_labels_1 = labels_1[101:]\n",
        "\n",
        "train_data = train_data_0 + train_data_1\n",
        "val_data = val_data_0 + val_data_1\n",
        "test_data = test_data_0 + test_data_1\n",
        "\n",
        "train_labels = train_labels_0 + train_labels_1\n",
        "val_labels = val_labels_0 + val_labels_1\n",
        "test_labels = test_labels_0 + test_labels_1\n",
        "\n",
        "print(np.shape(train_data))\n",
        "print(np.shape(val_data))\n",
        "print(np.shape(test_data))\n",
        "\n",
        "print(val_labels.count(1)/len(val_labels))\n",
        "print(test_labels.count(1)/len(test_labels))\n",
        "print(train_labels.count(1)/len(train_labels))"
      ],
      "metadata": {
        "id": "UopIltgiPmz0",
        "colab": {
          "base_uri": "https://localhost:8080/"
        },
        "outputId": "e6320823-e650-4315-d9a9-9774e45ad232"
      },
      "execution_count": null,
      "outputs": [
        {
          "output_type": "stream",
          "name": "stdout",
          "text": [
            "(167, 125, 29)\n",
            "(23, 125, 29)\n",
            "(34, 125, 29)\n",
            "0.4782608695652174\n",
            "0.5\n",
            "0.5029940119760479\n"
          ]
        }
      ]
    },
    {
      "cell_type": "markdown",
      "source": [
        "##Alternative"
      ],
      "metadata": {
        "id": "8Gmr9tuYQ9EZ"
      }
    },
    {
      "cell_type": "code",
      "execution_count": null,
      "metadata": {
        "colab": {
          "base_uri": "https://localhost:8080/"
        },
        "id": "wfVvV70uwisz",
        "outputId": "ff537da7-8b81-4452-d7f1-20936a341824"
      },
      "outputs": [
        {
          "output_type": "stream",
          "name": "stdout",
          "text": [
            "(167, 125, 29)\n",
            "(23, 125, 29)\n",
            "(34, 125, 29)\n",
            "0.5217391304347826\n",
            "0.5\n",
            "0.49700598802395207\n"
          ]
        }
      ],
      "source": [
        "from sklearn.model_selection import train_test_split\n",
        "seed = random.random()\n",
        "random.seed(seed)\n",
        "random.shuffle(trials)\n",
        "random.seed(seed)\n",
        "random.shuffle(labels)\n",
        "num_trials = 224\n",
        "train_val_data = trials[:int(0.85*num_trials)]\n",
        "test_data = trials[int(0.85*num_trials):]\n",
        "\n",
        "train_val_labels = labels[:int(0.85*num_trials)]\n",
        "test_labels = labels[int(0.85*num_trials):]\n",
        "\n",
        "train_data, val_data, train_labels, val_labels = train_test_split(train_val_data, train_val_labels, test_size=0.12)\n",
        "\n",
        "print(np.shape(train_data))\n",
        "print(np.shape(val_data))\n",
        "print(np.shape(test_data))\n",
        "\n",
        "# Show val dataset imbalance\n",
        "print(val_labels.count(1)/len(val_labels))\n",
        "print(test_labels.count(1)/len(test_labels))\n",
        "print(train_labels.count(1)/len(train_labels))"
      ]
    },
    {
      "cell_type": "markdown",
      "source": [
        "##Dataset creation"
      ],
      "metadata": {
        "id": "uwMTu5JXRAcd"
      }
    },
    {
      "cell_type": "code",
      "execution_count": null,
      "metadata": {
        "colab": {
          "base_uri": "https://localhost:8080/"
        },
        "id": "etR370-xyIae",
        "outputId": "e49e249d-a573-400a-b158-eed19a8483ab"
      },
      "outputs": [
        {
          "output_type": "stream",
          "name": "stdout",
          "text": [
            "Data(x=[29, 29], edge_index=[2, 55], y=1, pcm=[29, 29])\n",
            "Data(x=[29, 29], edge_index=[2, 61], y=1, pcm=[29, 29])\n",
            "Data(x=[29, 29], edge_index=[2, 39], y=1, pcm=[29, 29])\n"
          ]
        }
      ],
      "source": [
        "train_dataset = EEG_dataset(train_data, train_labels)\n",
        "val_dataset = EEG_dataset(val_data, val_labels)\n",
        "test_dataset = EEG_dataset(test_data, test_labels)\n",
        "\n",
        "print(next(iter(train_dataset)))\n",
        "print(next(iter(val_dataset)))\n",
        "print(next(iter(test_dataset)))"
      ]
    },
    {
      "cell_type": "markdown",
      "metadata": {
        "id": "QcilNBdHbmpd"
      },
      "source": [
        "## DataLoaders"
      ]
    },
    {
      "cell_type": "code",
      "execution_count": null,
      "metadata": {
        "colab": {
          "base_uri": "https://localhost:8080/"
        },
        "id": "7ORUGM7C0MRf",
        "outputId": "b23a3427-6122-4916-bef5-d7aec9eaa13a"
      },
      "outputs": [
        {
          "output_type": "stream",
          "name": "stdout",
          "text": [
            "DataBatch(x=[1856, 29], edge_index=[2, 2964], y=[64], pcm=[1856, 29], batch=[1856], ptr=[65])\n",
            "DataBatch(x=[667, 29], edge_index=[2, 1051], y=[23], pcm=[667, 29], batch=[667], ptr=[24])\n",
            "DataBatch(x=[986, 29], edge_index=[2, 1558], y=[34], pcm=[986, 29], batch=[986], ptr=[35])\n"
          ]
        }
      ],
      "source": [
        "from torch_geometric.loader import DataLoader\n",
        "\n",
        "train_dataloader = DataLoader(train_dataset, batch_size= TRAIN_BATCH_SIZE, shuffle = True)\n",
        "val_dataloader = DataLoader(val_dataset, batch_size=VAL_BATCH_SIZE)\n",
        "test_dataloader = DataLoader(test_dataset, batch_size=TEST_BATCH_SIZE)\n",
        "\n",
        "print(next(iter(train_dataloader)))\n",
        "print(next(iter(val_dataloader)))\n",
        "print(next(iter(test_dataloader)))"
      ]
    },
    {
      "cell_type": "markdown",
      "source": [
        "#Network and Training"
      ],
      "metadata": {
        "id": "nyHVfu6CRnRI"
      }
    },
    {
      "cell_type": "markdown",
      "metadata": {
        "id": "6KJ7viG2QZGl"
      },
      "source": [
        "## Graph Learn"
      ]
    },
    {
      "cell_type": "code",
      "execution_count": null,
      "metadata": {
        "id": "VLtYl0o2QYCL"
      },
      "outputs": [],
      "source": [
        "import matplotlib.pyplot as plt\n",
        "class Graph_Learn(torch.nn.Module):\n",
        "    '''\n",
        "    Graph structure learning (based on the middle time slice)\n",
        "    --------\n",
        "    Input:  (batch_size, num_of_timesteps, num_of_vertices, num_of_features)\n",
        "    Output: (batch_size, num_of_vertices, num_of_vertices)\n",
        "    '''\n",
        "    def __init__(self, alpha, **kwargs):\n",
        "        super(Graph_Learn, self).__init__(**kwargs)\n",
        "        self.alpha = alpha\n",
        "        self.S = torch.Tensor([[[0.0]]])  # similar to placeholder\n",
        "        self.diff = torch.Tensor([[[[0.0]]]])  # similar to placeholder\n",
        "        a = torch.empty((29, 1), dtype = torch.double)\n",
        "        a = torch.nn.init.uniform_(a, -0.05, 0.05)\n",
        "        self.weight = torch.nn.Parameter(a)\n",
        "\n",
        "    def forward(self, x):\n",
        "        #Input:  [N, timesteps, vertices, features]\n",
        "        N, T, V, F = x.size()\n",
        "        \n",
        "        # shape: (N,V,F) use the current slice (middle one slice)\n",
        "        x = x[:,0,:,:]\n",
        "\n",
        "        # shape: (N,V,V,F)\n",
        "        diff = torch.permute(torch.permute(torch.broadcast_to(x,[V,N,V,F]), dims=(2,1,0,3))-x, dims=(1,0,2,3))\n",
        "\n",
        "        # shape: (N,V,V)\n",
        "        tmpS = torch.exp(torch.relu(torch.reshape(torch.matmul(torch.abs(diff).to(torch.double), self.weight), [N,V,V])))\n",
        "        \n",
        "        S = tmpS / torch.sum(tmpS,dim=1,keepdim=True)\n",
        "        \n",
        "        self.diff = diff\n",
        "        self.S = S\n",
        "\n",
        "        return S, diff, self.alpha"
      ]
    },
    {
      "cell_type": "markdown",
      "metadata": {
        "id": "YYywJHaVERWm"
      },
      "source": [
        "## Model"
      ]
    },
    {
      "cell_type": "code",
      "source": [
        "class GCN(torch.nn.Module):\n",
        "    \"\"\"GCN\"\"\"\n",
        "    def __init__(self, dim_h, drop):\n",
        "        super(GCN, self).__init__()\n",
        "        self.conv1 = GCNConv(29, dim_h)\n",
        "        self.conv2 = GCNConv(dim_h, dim_h)\n",
        "\n",
        "        self.drop = torch.nn.Dropout(drop)\n",
        "\n",
        "        self.out1 = Linear(dim_h, 100)\n",
        "        self.out2 = Linear(100, 16)\n",
        "        self.out3 = Linear(16, 1)\n",
        "\n",
        "        self.gl = Graph_Learn(0.001)\n",
        "\n",
        "    def extract_edges(self, m):\n",
        "      starts, stops = [], []\n",
        "\n",
        "      for k in range(m.size(dim = 0)):\n",
        "        for i in range(m.size(dim = 1)):\n",
        "          for j in range(m.size(dim = 1)):\n",
        "            if not(k == 0):\n",
        "              starts.append(i+ k*29)\n",
        "              stops.append(j+ k*29)\n",
        "            else:\n",
        "              starts.append(i)\n",
        "              stops.append(j)  \n",
        "\n",
        "      return torch.tensor([starts,stops], dtype = torch.long)\n",
        "\n",
        "    def forward(self, x, edge_index, batch):\n",
        "        #x = x.to(torch.double)\n",
        "        x_gl = torch.unsqueeze(torch.reshape(x, (int(x.size(dim = 0)/29), 29, 29)), 1)\n",
        "        S, diff, alpha = self.gl(x_gl)\n",
        "        edge_index_gl = self.extract_edges(S)\n",
        "\n",
        "        weights = torch.flatten(S, 0, -1)\n",
        "\n",
        "        # Node embeddings\n",
        "        h = self.conv1(x, edge_index_gl, weights)\n",
        "        h = h.relu()\n",
        "        h = self.conv2(h.to(torch.float), edge_index_gl, weights)\n",
        "        h = h.relu()\n",
        "\n",
        "        # Graph-level readout\n",
        "        hG = gaddp(h, batch)\n",
        "        hG = hG.to(torch.float)\n",
        "        # Classifier\n",
        "        hidden = self.out1(hG)\n",
        "        hidden = self.drop(hidden)\n",
        "        \n",
        "        hidden = self.out2(hidden)\n",
        "        hidden = self.drop(hidden)\n",
        "        \n",
        "        hidden = self.out3(hidden)\n",
        "        out = self.drop(hidden)\n",
        "\n",
        "        out = torch.squeeze(out, dim = 1)\n",
        "        out = torch.sigmoid(out)\n",
        "        \n",
        "        return out, hG, S, diff, alpha"
      ],
      "metadata": {
        "id": "xRqP-Z-AsoZu"
      },
      "execution_count": null,
      "outputs": []
    },
    {
      "cell_type": "markdown",
      "metadata": {
        "id": "BbTg191rSpXr"
      },
      "source": [
        "## WANDB"
      ]
    },
    {
      "cell_type": "code",
      "execution_count": null,
      "metadata": {
        "colab": {
          "base_uri": "https://localhost:8080/",
          "height": 1000
        },
        "id": "4-i3q-7bSoxs",
        "outputId": "9f0b59ff-4216-40ef-9a7e-a29c154aa4cf"
      },
      "outputs": [
        {
          "output_type": "stream",
          "name": "stdout",
          "text": [
            "Looking in indexes: https://pypi.org/simple, https://us-python.pkg.dev/colab-wheels/public/simple/\n",
            "Collecting wandb\n",
            "  Downloading wandb-0.13.3-py2.py3-none-any.whl (1.8 MB)\n",
            "\u001b[K     |████████████████████████████████| 1.8 MB 2.1 MB/s \n",
            "\u001b[?25hRequirement already satisfied: Click!=8.0.0,>=7.0 in /usr/local/lib/python3.7/dist-packages (from wandb) (7.1.2)\n",
            "Requirement already satisfied: six>=1.13.0 in /usr/local/lib/python3.7/dist-packages (from wandb) (1.15.0)\n",
            "Requirement already satisfied: PyYAML in /usr/local/lib/python3.7/dist-packages (from wandb) (6.0)\n",
            "Requirement already satisfied: setuptools in /usr/local/lib/python3.7/dist-packages (from wandb) (57.4.0)\n",
            "Requirement already satisfied: requests<3,>=2.0.0 in /usr/local/lib/python3.7/dist-packages (from wandb) (2.23.0)\n",
            "Requirement already satisfied: promise<3,>=2.0 in /usr/local/lib/python3.7/dist-packages (from wandb) (2.3)\n",
            "Collecting sentry-sdk>=1.0.0\n",
            "  Downloading sentry_sdk-1.9.9-py2.py3-none-any.whl (162 kB)\n",
            "\u001b[K     |████████████████████████████████| 162 kB 51.0 MB/s \n",
            "\u001b[?25hCollecting pathtools\n",
            "  Downloading pathtools-0.1.2.tar.gz (11 kB)\n",
            "Requirement already satisfied: psutil>=5.0.0 in /usr/local/lib/python3.7/dist-packages (from wandb) (5.4.8)\n",
            "Collecting setproctitle\n",
            "  Downloading setproctitle-1.3.2-cp37-cp37m-manylinux_2_5_x86_64.manylinux1_x86_64.manylinux_2_17_x86_64.manylinux2014_x86_64.whl (30 kB)\n",
            "Requirement already satisfied: protobuf<4.0dev,>=3.12.0 in /usr/local/lib/python3.7/dist-packages (from wandb) (3.17.3)\n",
            "Collecting GitPython>=1.0.0\n",
            "  Downloading GitPython-3.1.27-py3-none-any.whl (181 kB)\n",
            "\u001b[K     |████████████████████████████████| 181 kB 66.4 MB/s \n",
            "\u001b[?25hCollecting docker-pycreds>=0.4.0\n",
            "  Downloading docker_pycreds-0.4.0-py2.py3-none-any.whl (9.0 kB)\n",
            "Collecting shortuuid>=0.5.0\n",
            "  Downloading shortuuid-1.0.9-py3-none-any.whl (9.4 kB)\n",
            "Collecting gitdb<5,>=4.0.1\n",
            "  Downloading gitdb-4.0.9-py3-none-any.whl (63 kB)\n",
            "\u001b[K     |████████████████████████████████| 63 kB 1.2 MB/s \n",
            "\u001b[?25hRequirement already satisfied: typing-extensions>=3.7.4.3 in /usr/local/lib/python3.7/dist-packages (from GitPython>=1.0.0->wandb) (4.1.1)\n",
            "Collecting smmap<6,>=3.0.1\n",
            "  Downloading smmap-5.0.0-py3-none-any.whl (24 kB)\n",
            "Requirement already satisfied: certifi>=2017.4.17 in /usr/local/lib/python3.7/dist-packages (from requests<3,>=2.0.0->wandb) (2022.6.15)\n",
            "Requirement already satisfied: chardet<4,>=3.0.2 in /usr/local/lib/python3.7/dist-packages (from requests<3,>=2.0.0->wandb) (3.0.4)\n",
            "Requirement already satisfied: urllib3!=1.25.0,!=1.25.1,<1.26,>=1.21.1 in /usr/local/lib/python3.7/dist-packages (from requests<3,>=2.0.0->wandb) (1.24.3)\n",
            "Requirement already satisfied: idna<3,>=2.5 in /usr/local/lib/python3.7/dist-packages (from requests<3,>=2.0.0->wandb) (2.10)\n",
            "Collecting sentry-sdk>=1.0.0\n",
            "  Downloading sentry_sdk-1.9.8-py2.py3-none-any.whl (158 kB)\n",
            "\u001b[K     |████████████████████████████████| 158 kB 52.8 MB/s \n",
            "\u001b[?25h  Downloading sentry_sdk-1.9.7-py2.py3-none-any.whl (157 kB)\n",
            "\u001b[K     |████████████████████████████████| 157 kB 55.2 MB/s \n",
            "\u001b[?25h  Downloading sentry_sdk-1.9.6-py2.py3-none-any.whl (157 kB)\n",
            "\u001b[K     |████████████████████████████████| 157 kB 49.8 MB/s \n",
            "\u001b[?25h  Downloading sentry_sdk-1.9.5-py2.py3-none-any.whl (157 kB)\n",
            "\u001b[K     |████████████████████████████████| 157 kB 45.4 MB/s \n",
            "\u001b[?25h  Downloading sentry_sdk-1.9.4-py2.py3-none-any.whl (157 kB)\n",
            "\u001b[K     |████████████████████████████████| 157 kB 67.5 MB/s \n",
            "\u001b[?25h  Downloading sentry_sdk-1.9.3-py2.py3-none-any.whl (157 kB)\n",
            "\u001b[K     |████████████████████████████████| 157 kB 56.5 MB/s \n",
            "\u001b[?25h  Downloading sentry_sdk-1.9.2-py2.py3-none-any.whl (157 kB)\n",
            "\u001b[K     |████████████████████████████████| 157 kB 55.0 MB/s \n",
            "\u001b[?25h  Downloading sentry_sdk-1.9.1-py2.py3-none-any.whl (157 kB)\n",
            "\u001b[K     |████████████████████████████████| 157 kB 18.0 MB/s \n",
            "\u001b[?25h  Downloading sentry_sdk-1.9.0-py2.py3-none-any.whl (156 kB)\n",
            "\u001b[K     |████████████████████████████████| 156 kB 52.3 MB/s \n",
            "\u001b[?25hBuilding wheels for collected packages: pathtools\n",
            "  Building wheel for pathtools (setup.py) ... \u001b[?25l\u001b[?25hdone\n",
            "  Created wheel for pathtools: filename=pathtools-0.1.2-py3-none-any.whl size=8806 sha256=d483330f3e12ce25f9d80899c9e1e499629d2885de31684700dcd6fc32f57a1c\n",
            "  Stored in directory: /root/.cache/pip/wheels/3e/31/09/fa59cef12cdcfecc627b3d24273699f390e71828921b2cbba2\n",
            "Successfully built pathtools\n",
            "Installing collected packages: smmap, gitdb, shortuuid, setproctitle, sentry-sdk, pathtools, GitPython, docker-pycreds, wandb\n",
            "Successfully installed GitPython-3.1.27 docker-pycreds-0.4.0 gitdb-4.0.9 pathtools-0.1.2 sentry-sdk-1.9.0 setproctitle-1.3.2 shortuuid-1.0.9 smmap-5.0.0 wandb-0.13.3\n"
          ]
        },
        {
          "output_type": "display_data",
          "data": {
            "text/plain": [
              "<IPython.core.display.Javascript object>"
            ],
            "application/javascript": [
              "\n",
              "        window._wandbApiKey = new Promise((resolve, reject) => {\n",
              "            function loadScript(url) {\n",
              "            return new Promise(function(resolve, reject) {\n",
              "                let newScript = document.createElement(\"script\");\n",
              "                newScript.onerror = reject;\n",
              "                newScript.onload = resolve;\n",
              "                document.body.appendChild(newScript);\n",
              "                newScript.src = url;\n",
              "            });\n",
              "            }\n",
              "            loadScript(\"https://cdn.jsdelivr.net/npm/postmate/build/postmate.min.js\").then(() => {\n",
              "            const iframe = document.createElement('iframe')\n",
              "            iframe.style.cssText = \"width:0;height:0;border:none\"\n",
              "            document.body.appendChild(iframe)\n",
              "            const handshake = new Postmate({\n",
              "                container: iframe,\n",
              "                url: 'https://wandb.ai/authorize'\n",
              "            });\n",
              "            const timeout = setTimeout(() => reject(\"Couldn't auto authenticate\"), 5000)\n",
              "            handshake.then(function(child) {\n",
              "                child.on('authorize', data => {\n",
              "                    clearTimeout(timeout)\n",
              "                    resolve(data)\n",
              "                });\n",
              "            });\n",
              "            })\n",
              "        });\n",
              "    "
            ]
          },
          "metadata": {}
        },
        {
          "output_type": "stream",
          "name": "stderr",
          "text": [
            "\u001b[34m\u001b[1mwandb\u001b[0m: Appending key for api.wandb.ai to your netrc file: /root/.netrc\n"
          ]
        },
        {
          "output_type": "execute_result",
          "data": {
            "text/plain": [
              "True"
            ]
          },
          "metadata": {},
          "execution_count": 121
        }
      ],
      "source": [
        "!pip install wandb\n",
        "import wandb\n",
        "wandb.login()"
      ]
    },
    {
      "cell_type": "code",
      "execution_count": null,
      "metadata": {
        "id": "xASykrgvSrn4",
        "colab": {
          "base_uri": "https://localhost:8080/",
          "height": 70
        },
        "outputId": "6ddfc08c-f292-405c-c7ed-88dca5187086"
      },
      "outputs": [
        {
          "output_type": "display_data",
          "data": {
            "text/plain": [
              "<IPython.core.display.HTML object>"
            ],
            "text/html": [
              "Tracking run with wandb version 0.13.3"
            ]
          },
          "metadata": {}
        },
        {
          "output_type": "display_data",
          "data": {
            "text/plain": [
              "<IPython.core.display.HTML object>"
            ],
            "text/html": [
              "Run data is saved locally in <code>/content/wandb/run-20221001_110340-18wgtfli</code>"
            ]
          },
          "metadata": {}
        },
        {
          "output_type": "display_data",
          "data": {
            "text/plain": [
              "<IPython.core.display.HTML object>"
            ],
            "text/html": [
              "Syncing run <strong><a href=\"https://wandb.ai/lorenzo_mattia/Tesi/runs/18wgtfli\" target=\"_blank\">classification/GCN_GL_sub-09_1.0.0</a></strong> to <a href=\"https://wandb.ai/lorenzo_mattia/Tesi\" target=\"_blank\">Weights & Biases</a> (<a href=\"https://wandb.me/run\" target=\"_blank\">docs</a>)<br/>"
            ]
          },
          "metadata": {}
        }
      ],
      "source": [
        "run = wandb.init(\n",
        "    project = \"Tesi\", \n",
        "    entity = \"lorenzo_mattia\",\n",
        "    name = 'classification/'+ MODEL_TYPE +'_'+ CURR_SUB + '_' + SAVE_MODEL_VERSION,\n",
        "    group = 'classification+GL_workMem_encoding_' + CURR_SUB,\n",
        "    job_type = 'training',\n",
        "    save_code = True,\n",
        "    magic = True,\n",
        "    config = {\n",
        "        \"EPOCHS\": NUM_EPOCHS,\n",
        "        \"LEARNING_RATE\": LEARNING_RATE,\n",
        "        \"MODEL_TYPE\": MODEL_TYPE,\n",
        "        \"TRAIN_BATCH_SIZE\": TRAIN_BATCH_SIZE,\n",
        "        \"VAL_BATCH_SIZE\": VAL_BATCH_SIZE,\n",
        "        \"TEST_BATCH_SIZE\": TEST_BATCH_SIZE,\n",
        "        \"SAVED_MODEL_VERSION\": SAVE_MODEL_VERSION,\n",
        "        \"EMBEDDING_SIZE\": embedding_size,\n",
        "        \"FEATURES_TYPE\": FEATURES_TYPE,\n",
        "        \"ADJ_MATRIX\": ADJ_MATRIX\n",
        "    }\n",
        ")"
      ]
    },
    {
      "cell_type": "markdown",
      "metadata": {
        "id": "ZE8vNgUEAEH3"
      },
      "source": [
        "## GL loss functions"
      ]
    },
    {
      "cell_type": "code",
      "execution_count": null,
      "metadata": {
        "id": "A3sgVJT_d4FA"
      },
      "outputs": [],
      "source": [
        "def diff_loss(diff, S):\n",
        "    '''\n",
        "    compute the 1st loss of L_{graph_learning}\n",
        "    '''\n",
        "    \n",
        "    if len(S.shape)==3:\n",
        "        # batch input\n",
        "        return torch.mean(torch.sum(torch.sum(diff**2,dim=3, dtype = torch.double)*S, dim=(1,2)))\n",
        "    else:\n",
        "        return torch.sum(torch.sum(diff**2,dim=2)*S)\n",
        "\n",
        "\n",
        "def F_norm_loss(S, Falpha):\n",
        "    '''\n",
        "    compute the 2nd loss of L_{graph_learning}\n",
        "    '''\n",
        "    if len(S.shape)==3:\n",
        "        # batch input\n",
        "        return Falpha * torch.sum(torch.mean(S**2,axis=0))\n",
        "    else:\n",
        "        return Falpha * torch.sum(S**2)"
      ]
    },
    {
      "cell_type": "markdown",
      "source": [
        "## GL training loop"
      ],
      "metadata": {
        "id": "nozsrN3ud_PX"
      }
    },
    {
      "cell_type": "code",
      "execution_count": null,
      "metadata": {
        "id": "rlXDr0YtGnW2"
      },
      "outputs": [],
      "source": [
        "import matplotlib.pyplot as plt\n",
        "\n",
        "def training_loop_gl(model, optimizer):\n",
        "  train_acc, val_acc, ep, train_losses, val_losses = [], [], [], [], []\n",
        "  best_acc = 0\n",
        "  best_loss = 1000000\n",
        "  for epoch in range(500):\n",
        "      \n",
        "      model.train()\n",
        "      ep.append(epoch)\n",
        "      n, d, n_v, d_v = 0, 0, 0, 0\n",
        "\n",
        "      for batch in train_dataloader:\n",
        "          optimizer.zero_grad()\n",
        "          pred, embedding, S, diff, alpha = model(batch.x.float(), batch.edge_index, batch.batch) #, S, diff, alpha\n",
        "          \n",
        "          train_diff_l = diff_loss(diff, S)\n",
        "          train_F_norm_l = F_norm_loss(S, alpha)\n",
        "          train_l = loss_fn(pred, batch.y.float())\n",
        "          train_loss =  train_l  + train_diff_l + train_F_norm_l\n",
        "          \n",
        "          pred = torch.round(pred)\n",
        "          d += pred.shape[0]\n",
        "          n += (batch.y.float() == pred).int().sum()\n",
        "\n",
        "          train_loss.backward()\n",
        "          optimizer.step()\n",
        "      \n",
        "      if epoch%5 == 0:\n",
        "        temp = torch.mean(torch.reshape(S, (39, 29, 29)), dim = 0).detach().numpy()\n",
        "        plt.imshow(temp)\n",
        "        plt.show()\n",
        "      \n",
        "      model.train(False)\n",
        "      for batch in val_dataloader:\n",
        "        with torch.no_grad():\n",
        "          pred, embedding, S, diff, alpha = model(batch.x.float(), batch.edge_index, batch.batch)\n",
        "        \n",
        "        val_diff_l = diff_loss(diff, S)\n",
        "        val_F_norm_l = F_norm_loss(S, alpha)\n",
        "        val_l = loss_fn(pred, batch.y.float())\n",
        "\n",
        "        val_loss =  val_l  + val_diff_l + val_F_norm_l\n",
        "        pred = torch.round(pred)\n",
        "        d_v += pred.shape[0]\n",
        "        n_v += (batch.y.float() == pred).int().sum()\n",
        "        \n",
        "      print(\"Epoch: \" + str(epoch) + \" Train loss: \" + str(round(train_loss.item(), 3)) + \" Train accuracy: \" + str(round((n / d).item(), 3)) +\\\n",
        "            \" Val loss: \" + str(round(val_loss.item(), 3)) + \" Val accuracy: \" + str(round((n_v / d_v).item(), 3)))\n",
        "\n",
        "        \n",
        "      cur_acc = (n_v / d_v).item()\n",
        "\n",
        "      train_acc.append((n / d).item())\n",
        "      val_acc.append((n_v / d_v).item())\n",
        "      train_losses.append(train_loss.item())\n",
        "      val_losses.append(val_loss.item())\n",
        "\n",
        "      if best_loss > val_losses[-1]:\n",
        "        best_loss = val_losses[-1]\n",
        "        if not os.path.isdir(saved_models_dir):\n",
        "          os.mkdir(saved_models_dir)\n",
        "        torch.save(model.state_dict(), saved_models_dir + \"/best_model\")\n",
        "      \n",
        "      wandb.log({\n",
        "        'Train loss': train_losses[-1],\n",
        "        'Train diff loss': train_diff_l,\n",
        "        'Train classification loss': train_l,\n",
        "        'Train F_norm loss': train_F_norm_l,\n",
        "        'Val loss': val_losses[-1],\n",
        "        'Val diff loss': val_diff_l,\n",
        "        'Val classification loss': val_l,\n",
        "        'Val F_norm loss': val_F_norm_l,\n",
        "        'Train acc': train_acc[-1],\n",
        "        'Val acc': val_acc[-1]\n",
        "      })\n",
        "          \n",
        "  return train_acc, val_acc, ep, train_losses, val_losses"
      ]
    },
    {
      "cell_type": "code",
      "execution_count": null,
      "metadata": {
        "id": "TgbDlgQieW9A",
        "colab": {
          "base_uri": "https://localhost:8080/",
          "height": 1000
        },
        "outputId": "afc84fa1-2ba3-48c4-a04e-810eb58c5ed4"
      },
      "outputs": [
        {
          "output_type": "display_data",
          "data": {
            "text/plain": [
              "<Figure size 432x288 with 1 Axes>"
            ],
            "image/png": "[encoded data removed]"
          },
          "metadata": {
            "needs_background": "light"
          }
        },
        {
          "output_type": "stream",
          "name": "stdout",
          "text": [
            "Epoch: 0 Train loss: 1667.292 Train accuracy: 0.509 Val loss: 1676.791 Val accuracy: 0.522\n",
            "Epoch: 1 Train loss: 1668.192 Train accuracy: 0.473 Val loss: 1675.049 Val accuracy: 0.522\n",
            "Epoch: 2 Train loss: 1668.751 Train accuracy: 0.413 Val loss: 1673.518 Val accuracy: 0.522\n",
            "Epoch: 3 Train loss: 1668.691 Train accuracy: 0.521 Val loss: 1672.181 Val accuracy: 0.522\n",
            "Epoch: 4 Train loss: 1664.032 Train accuracy: 0.491 Val loss: 1671.044 Val accuracy: 0.522\n"
          ]
        },
        {
          "output_type": "display_data",
          "data": {
            "text/plain": [
              "<Figure size 432x288 with 1 Axes>"
            ],
            "image/png": "[encoded data removed]"
          },
          "metadata": {
            "needs_background": "light"
          }
        },
        {
          "output_type": "stream",
          "name": "stdout",
          "text": [
            "Epoch: 5 Train loss: 1668.83 Train accuracy: 0.455 Val loss: 1670.101 Val accuracy: 0.522\n",
            "Epoch: 6 Train loss: 1669.09 Train accuracy: 0.515 Val loss: 1669.328 Val accuracy: 0.652\n",
            "Epoch: 7 Train loss: 1666.397 Train accuracy: 0.545 Val loss: 1668.729 Val accuracy: 0.652\n",
            "Epoch: 8 Train loss: 1666.24 Train accuracy: 0.533 Val loss: 1668.293 Val accuracy: 0.609\n",
            "Epoch: 9 Train loss: 1665.338 Train accuracy: 0.581 Val loss: 1667.96 Val accuracy: 0.609\n"
          ]
        },
        {
          "output_type": "display_data",
          "data": {
            "text/plain": [
              "<Figure size 432x288 with 1 Axes>"
            ],
            "image/png": "[encoded data removed]"
          },
          "metadata": {
            "needs_background": "light"
          }
        },
        {
          "output_type": "stream",
          "name": "stdout",
          "text": [
            "Epoch: 10 Train loss: 1662.629 Train accuracy: 0.587 Val loss: 1667.708 Val accuracy: 0.565\n",
            "Epoch: 11 Train loss: 1665.093 Train accuracy: 0.617 Val loss: 1667.513 Val accuracy: 0.565\n",
            "Epoch: 12 Train loss: 1663.981 Train accuracy: 0.593 Val loss: 1667.363 Val accuracy: 0.565\n",
            "Epoch: 13 Train loss: 1668.379 Train accuracy: 0.617 Val loss: 1667.236 Val accuracy: 0.565\n",
            "Epoch: 14 Train loss: 1665.476 Train accuracy: 0.587 Val loss: 1667.131 Val accuracy: 0.565\n"
          ]
        },
        {
          "output_type": "display_data",
          "data": {
            "text/plain": [
              "<Figure size 432x288 with 1 Axes>"
            ],
            "image/png": "[encoded data removed]"
          },
          "metadata": {
            "needs_background": "light"
          }
        },
        {
          "output_type": "stream",
          "name": "stdout",
          "text": [
            "Epoch: 15 Train loss: 1665.411 Train accuracy: 0.647 Val loss: 1667.045 Val accuracy: 0.522\n",
            "Epoch: 16 Train loss: 1661.447 Train accuracy: 0.605 Val loss: 1666.974 Val accuracy: 0.522\n",
            "Epoch: 17 Train loss: 1662.252 Train accuracy: 0.617 Val loss: 1666.914 Val accuracy: 0.565\n",
            "Epoch: 18 Train loss: 1660.149 Train accuracy: 0.593 Val loss: 1666.864 Val accuracy: 0.609\n",
            "Epoch: 19 Train loss: 1662.524 Train accuracy: 0.611 Val loss: 1666.818 Val accuracy: 0.609\n"
          ]
        },
        {
          "output_type": "display_data",
          "data": {
            "text/plain": [
              "<Figure size 432x288 with 1 Axes>"
            ],
            "image/png": "[encoded data removed]"
          },
          "metadata": {
            "needs_background": "light"
          }
        },
        {
          "output_type": "stream",
          "name": "stdout",
          "text": [
            "Epoch: 20 Train loss: 1665.893 Train accuracy: 0.617 Val loss: 1666.778 Val accuracy: 0.652\n",
            "Epoch: 21 Train loss: 1664.719 Train accuracy: 0.575 Val loss: 1666.746 Val accuracy: 0.652\n",
            "Epoch: 22 Train loss: 1665.397 Train accuracy: 0.635 Val loss: 1666.719 Val accuracy: 0.652\n",
            "Epoch: 23 Train loss: 1664.861 Train accuracy: 0.677 Val loss: 1666.695 Val accuracy: 0.652\n",
            "Epoch: 24 Train loss: 1665.3 Train accuracy: 0.659 Val loss: 1666.674 Val accuracy: 0.652\n"
          ]
        },
        {
          "output_type": "display_data",
          "data": {
            "text/plain": [
              "<Figure size 432x288 with 1 Axes>"
            ],
            "image/png": "[encoded data removed]"
          },
          "metadata": {
            "needs_background": "light"
          }
        },
        {
          "output_type": "stream",
          "name": "stdout",
          "text": [
            "Epoch: 25 Train loss: 1663.07 Train accuracy: 0.665 Val loss: 1666.655 Val accuracy: 0.696\n",
            "Epoch: 26 Train loss: 1667.274 Train accuracy: 0.725 Val loss: 1666.637 Val accuracy: 0.696\n",
            "Epoch: 27 Train loss: 1664.8 Train accuracy: 0.683 Val loss: 1666.619 Val accuracy: 0.652\n",
            "Epoch: 28 Train loss: 1660.294 Train accuracy: 0.635 Val loss: 1666.606 Val accuracy: 0.652\n",
            "Epoch: 29 Train loss: 1665.744 Train accuracy: 0.725 Val loss: 1666.595 Val accuracy: 0.652\n"
          ]
        },
        {
          "output_type": "display_data",
          "data": {
            "text/plain": [
              "<Figure size 432x288 with 1 Axes>"
            ],
            "image/png": "[encoded data removed]"
          },
          "metadata": {
            "needs_background": "light"
          }
        },
        {
          "output_type": "stream",
          "name": "stdout",
          "text": [
            "Epoch: 30 Train loss: 1667.489 Train accuracy: 0.653 Val loss: 1666.585 Val accuracy: 0.652\n",
            "Epoch: 31 Train loss: 1663.753 Train accuracy: 0.689 Val loss: 1666.574 Val accuracy: 0.652\n",
            "Epoch: 32 Train loss: 1665.096 Train accuracy: 0.707 Val loss: 1666.564 Val accuracy: 0.652\n",
            "Epoch: 33 Train loss: 1662.629 Train accuracy: 0.683 Val loss: 1666.554 Val accuracy: 0.652\n",
            "Epoch: 34 Train loss: 1663.372 Train accuracy: 0.641 Val loss: 1666.545 Val accuracy: 0.652\n"
          ]
        },
        {
          "output_type": "display_data",
          "data": {
            "text/plain": [
              "<Figure size 432x288 with 1 Axes>"
            ],
            "image/png": "[encoded data removed]"
          },
          "metadata": {
            "needs_background": "light"
          }
        },
        {
          "output_type": "stream",
          "name": "stdout",
          "text": [
            "Epoch: 35 Train loss: 1662.32 Train accuracy: 0.671 Val loss: 1666.537 Val accuracy: 0.652\n",
            "Epoch: 36 Train loss: 1663.304 Train accuracy: 0.695 Val loss: 1666.528 Val accuracy: 0.652\n",
            "Epoch: 37 Train loss: 1666.046 Train accuracy: 0.719 Val loss: 1666.519 Val accuracy: 0.652\n",
            "Epoch: 38 Train loss: 1663.265 Train accuracy: 0.683 Val loss: 1666.511 Val accuracy: 0.652\n",
            "Epoch: 39 Train loss: 1664.112 Train accuracy: 0.647 Val loss: 1666.504 Val accuracy: 0.652\n"
          ]
        },
        {
          "output_type": "display_data",
          "data": {
            "text/plain": [
              "<Figure size 432x288 with 1 Axes>"
            ],
            "image/png": "[encoded data removed]"
          },
          "metadata": {
            "needs_background": "light"
          }
        },
        {
          "output_type": "stream",
          "name": "stdout",
          "text": [
            "Epoch: 40 Train loss: 1664.401 Train accuracy: 0.695 Val loss: 1666.496 Val accuracy: 0.652\n",
            "Epoch: 41 Train loss: 1664.18 Train accuracy: 0.641 Val loss: 1666.489 Val accuracy: 0.652\n",
            "Epoch: 42 Train loss: 1662.649 Train accuracy: 0.677 Val loss: 1666.482 Val accuracy: 0.652\n",
            "Epoch: 43 Train loss: 1663.6 Train accuracy: 0.737 Val loss: 1666.476 Val accuracy: 0.652\n",
            "Epoch: 44 Train loss: 1663.245 Train accuracy: 0.695 Val loss: 1666.47 Val accuracy: 0.652\n"
          ]
        },
        {
          "output_type": "display_data",
          "data": {
            "text/plain": [
              "<Figure size 432x288 with 1 Axes>"
            ],
            "image/png": "[encoded data removed]"
          },
          "metadata": {
            "needs_background": "light"
          }
        },
        {
          "output_type": "stream",
          "name": "stdout",
          "text": [
            "Epoch: 45 Train loss: 1665.713 Train accuracy: 0.623 Val loss: 1666.465 Val accuracy: 0.652\n",
            "Epoch: 46 Train loss: 1661.538 Train accuracy: 0.701 Val loss: 1666.46 Val accuracy: 0.652\n",
            "Epoch: 47 Train loss: 1667.133 Train accuracy: 0.695 Val loss: 1666.455 Val accuracy: 0.652\n",
            "Epoch: 48 Train loss: 1664.704 Train accuracy: 0.725 Val loss: 1666.45 Val accuracy: 0.652\n",
            "Epoch: 49 Train loss: 1666.509 Train accuracy: 0.737 Val loss: 1666.445 Val accuracy: 0.652\n"
          ]
        },
        {
          "output_type": "display_data",
          "data": {
            "text/plain": [
              "<Figure size 432x288 with 1 Axes>"
            ],
            "image/png": "[encoded data removed]"
          },
          "metadata": {
            "needs_background": "light"
          }
        },
        {
          "output_type": "stream",
          "name": "stdout",
          "text": [
            "Epoch: 50 Train loss: 1663.224 Train accuracy: 0.737 Val loss: 1666.439 Val accuracy: 0.652\n",
            "Epoch: 51 Train loss: 1665.5 Train accuracy: 0.713 Val loss: 1666.434 Val accuracy: 0.696\n",
            "Epoch: 52 Train loss: 1663.05 Train accuracy: 0.731 Val loss: 1666.429 Val accuracy: 0.696\n",
            "Epoch: 53 Train loss: 1664.966 Train accuracy: 0.743 Val loss: 1666.424 Val accuracy: 0.696\n",
            "Epoch: 54 Train loss: 1663.131 Train accuracy: 0.76 Val loss: 1666.419 Val accuracy: 0.696\n"
          ]
        },
        {
          "output_type": "display_data",
          "data": {
            "text/plain": [
              "<Figure size 432x288 with 1 Axes>"
            ],
            "image/png": "[encoded data removed]"
          },
          "metadata": {
            "needs_background": "light"
          }
        },
        {
          "output_type": "stream",
          "name": "stdout",
          "text": [
            "Epoch: 55 Train loss: 1665.243 Train accuracy: 0.689 Val loss: 1666.415 Val accuracy: 0.696\n",
            "Epoch: 56 Train loss: 1667.449 Train accuracy: 0.719 Val loss: 1666.41 Val accuracy: 0.696\n",
            "Epoch: 57 Train loss: 1666.727 Train accuracy: 0.707 Val loss: 1666.406 Val accuracy: 0.696\n",
            "Epoch: 58 Train loss: 1667.282 Train accuracy: 0.707 Val loss: 1666.401 Val accuracy: 0.696\n",
            "Epoch: 59 Train loss: 1664.241 Train accuracy: 0.737 Val loss: 1666.398 Val accuracy: 0.696\n"
          ]
        },
        {
          "output_type": "display_data",
          "data": {
            "text/plain": [
              "<Figure size 432x288 with 1 Axes>"
            ],
            "image/png": "[encoded data removed]"
          },
          "metadata": {
            "needs_background": "light"
          }
        },
        {
          "output_type": "stream",
          "name": "stdout",
          "text": [
            "Epoch: 60 Train loss: 1661.123 Train accuracy: 0.719 Val loss: 1666.393 Val accuracy: 0.696\n",
            "Epoch: 61 Train loss: 1664.804 Train accuracy: 0.749 Val loss: 1666.389 Val accuracy: 0.696\n",
            "Epoch: 62 Train loss: 1663.092 Train accuracy: 0.677 Val loss: 1666.385 Val accuracy: 0.696\n",
            "Epoch: 63 Train loss: 1665.265 Train accuracy: 0.689 Val loss: 1666.382 Val accuracy: 0.696\n",
            "Epoch: 64 Train loss: 1664.117 Train accuracy: 0.731 Val loss: 1666.378 Val accuracy: 0.696\n"
          ]
        },
        {
          "output_type": "display_data",
          "data": {
            "text/plain": [
              "<Figure size 432x288 with 1 Axes>"
            ],
            "image/png": "[encoded data removed]"
          },
          "metadata": {
            "needs_background": "light"
          }
        },
        {
          "output_type": "stream",
          "name": "stdout",
          "text": [
            "Epoch: 65 Train loss: 1664.976 Train accuracy: 0.719 Val loss: 1666.375 Val accuracy: 0.739\n",
            "Epoch: 66 Train loss: 1664.118 Train accuracy: 0.731 Val loss: 1666.371 Val accuracy: 0.739\n",
            "Epoch: 67 Train loss: 1663.856 Train accuracy: 0.731 Val loss: 1666.369 Val accuracy: 0.696\n",
            "Epoch: 68 Train loss: 1664.094 Train accuracy: 0.689 Val loss: 1666.368 Val accuracy: 0.696\n",
            "Epoch: 69 Train loss: 1663.22 Train accuracy: 0.737 Val loss: 1666.365 Val accuracy: 0.696\n"
          ]
        },
        {
          "output_type": "display_data",
          "data": {
            "text/plain": [
              "<Figure size 432x288 with 1 Axes>"
            ],
            "image/png": "[encoded data removed]"
          },
          "metadata": {
            "needs_background": "light"
          }
        },
        {
          "output_type": "stream",
          "name": "stdout",
          "text": [
            "Epoch: 70 Train loss: 1662.548 Train accuracy: 0.766 Val loss: 1666.361 Val accuracy: 0.696\n",
            "Epoch: 71 Train loss: 1665.302 Train accuracy: 0.737 Val loss: 1666.357 Val accuracy: 0.696\n",
            "Epoch: 72 Train loss: 1660.6 Train accuracy: 0.725 Val loss: 1666.353 Val accuracy: 0.739\n",
            "Epoch: 73 Train loss: 1668.875 Train accuracy: 0.772 Val loss: 1666.348 Val accuracy: 0.739\n",
            "Epoch: 74 Train loss: 1665.534 Train accuracy: 0.713 Val loss: 1666.345 Val accuracy: 0.739\n"
          ]
        },
        {
          "output_type": "display_data",
          "data": {
            "text/plain": [
              "<Figure size 432x288 with 1 Axes>"
            ],
            "image/png": "[encoded data removed]"
          },
          "metadata": {
            "needs_background": "light"
          }
        },
        {
          "output_type": "stream",
          "name": "stdout",
          "text": [
            "Epoch: 75 Train loss: 1665.163 Train accuracy: 0.784 Val loss: 1666.342 Val accuracy: 0.739\n",
            "Epoch: 76 Train loss: 1661.896 Train accuracy: 0.778 Val loss: 1666.341 Val accuracy: 0.739\n",
            "Epoch: 77 Train loss: 1664.185 Train accuracy: 0.731 Val loss: 1666.34 Val accuracy: 0.739\n",
            "Epoch: 78 Train loss: 1663.227 Train accuracy: 0.784 Val loss: 1666.337 Val accuracy: 0.739\n",
            "Epoch: 79 Train loss: 1664.552 Train accuracy: 0.737 Val loss: 1666.334 Val accuracy: 0.696\n"
          ]
        },
        {
          "output_type": "display_data",
          "data": {
            "text/plain": [
              "<Figure size 432x288 with 1 Axes>"
            ],
            "image/png": "[encoded data removed]"
          },
          "metadata": {
            "needs_background": "light"
          }
        },
        {
          "output_type": "stream",
          "name": "stdout",
          "text": [
            "Epoch: 80 Train loss: 1668.98 Train accuracy: 0.749 Val loss: 1666.331 Val accuracy: 0.696\n",
            "Epoch: 81 Train loss: 1659.258 Train accuracy: 0.772 Val loss: 1666.331 Val accuracy: 0.739\n",
            "Epoch: 82 Train loss: 1664.593 Train accuracy: 0.754 Val loss: 1666.331 Val accuracy: 0.739\n",
            "Epoch: 83 Train loss: 1665.406 Train accuracy: 0.814 Val loss: 1666.329 Val accuracy: 0.739\n",
            "Epoch: 84 Train loss: 1662.909 Train accuracy: 0.76 Val loss: 1666.326 Val accuracy: 0.696\n"
          ]
        },
        {
          "output_type": "display_data",
          "data": {
            "text/plain": [
              "<Figure size 432x288 with 1 Axes>"
            ],
            "image/png": "[encoded data removed]"
          },
          "metadata": {
            "needs_background": "light"
          }
        },
        {
          "output_type": "stream",
          "name": "stdout",
          "text": [
            "Epoch: 85 Train loss: 1664.915 Train accuracy: 0.737 Val loss: 1666.325 Val accuracy: 0.696\n",
            "Epoch: 86 Train loss: 1664.151 Train accuracy: 0.814 Val loss: 1666.325 Val accuracy: 0.696\n",
            "Epoch: 87 Train loss: 1658.936 Train accuracy: 0.808 Val loss: 1666.327 Val accuracy: 0.696\n",
            "Epoch: 88 Train loss: 1663.598 Train accuracy: 0.796 Val loss: 1666.328 Val accuracy: 0.739\n",
            "Epoch: 89 Train loss: 1663.88 Train accuracy: 0.796 Val loss: 1666.33 Val accuracy: 0.739\n"
          ]
        },
        {
          "output_type": "display_data",
          "data": {
            "text/plain": [
              "<Figure size 432x288 with 1 Axes>"
            ],
            "image/png": "[encoded data removed]"
          },
          "metadata": {
            "needs_background": "light"
          }
        },
        {
          "output_type": "stream",
          "name": "stdout",
          "text": [
            "Epoch: 90 Train loss: 1663.371 Train accuracy: 0.784 Val loss: 1666.33 Val accuracy: 0.739\n",
            "Epoch: 91 Train loss: 1663.542 Train accuracy: 0.772 Val loss: 1666.329 Val accuracy: 0.696\n",
            "Epoch: 92 Train loss: 1662.999 Train accuracy: 0.784 Val loss: 1666.326 Val accuracy: 0.696\n",
            "Epoch: 93 Train loss: 1664.589 Train accuracy: 0.826 Val loss: 1666.324 Val accuracy: 0.696\n",
            "Epoch: 94 Train loss: 1665.928 Train accuracy: 0.802 Val loss: 1666.324 Val accuracy: 0.696\n"
          ]
        },
        {
          "output_type": "display_data",
          "data": {
            "text/plain": [
              "<Figure size 432x288 with 1 Axes>"
            ],
            "image/png": "[encoded data removed]"
          },
          "metadata": {
            "needs_background": "light"
          }
        },
        {
          "output_type": "stream",
          "name": "stdout",
          "text": [
            "Epoch: 95 Train loss: 1665.776 Train accuracy: 0.82 Val loss: 1666.323 Val accuracy: 0.696\n",
            "Epoch: 96 Train loss: 1664.523 Train accuracy: 0.82 Val loss: 1666.323 Val accuracy: 0.696\n",
            "Epoch: 97 Train loss: 1662.704 Train accuracy: 0.802 Val loss: 1666.324 Val accuracy: 0.696\n",
            "Epoch: 98 Train loss: 1662.664 Train accuracy: 0.844 Val loss: 1666.324 Val accuracy: 0.696\n",
            "Epoch: 99 Train loss: 1663.073 Train accuracy: 0.82 Val loss: 1666.323 Val accuracy: 0.696\n"
          ]
        },
        {
          "output_type": "display_data",
          "data": {
            "text/plain": [
              "<Figure size 432x288 with 1 Axes>"
            ],
            "image/png": "[encoded data removed]"
          },
          "metadata": {
            "needs_background": "light"
          }
        },
        {
          "output_type": "stream",
          "name": "stdout",
          "text": [
            "Epoch: 100 Train loss: 1664.36 Train accuracy: 0.784 Val loss: 1666.323 Val accuracy: 0.696\n",
            "Epoch: 101 Train loss: 1664.679 Train accuracy: 0.808 Val loss: 1666.325 Val accuracy: 0.696\n",
            "Epoch: 102 Train loss: 1662.241 Train accuracy: 0.814 Val loss: 1666.324 Val accuracy: 0.696\n",
            "Epoch: 103 Train loss: 1661.289 Train accuracy: 0.838 Val loss: 1666.321 Val accuracy: 0.696\n",
            "Epoch: 104 Train loss: 1666.425 Train accuracy: 0.802 Val loss: 1666.318 Val accuracy: 0.696\n"
          ]
        },
        {
          "output_type": "display_data",
          "data": {
            "text/plain": [
              "<Figure size 432x288 with 1 Axes>"
            ],
            "image/png": "[encoded data removed]"
          },
          "metadata": {
            "needs_background": "light"
          }
        },
        {
          "output_type": "stream",
          "name": "stdout",
          "text": [
            "Epoch: 105 Train loss: 1664.239 Train accuracy: 0.79 Val loss: 1666.316 Val accuracy: 0.696\n",
            "Epoch: 106 Train loss: 1660.557 Train accuracy: 0.778 Val loss: 1666.314 Val accuracy: 0.696\n",
            "Epoch: 107 Train loss: 1661.71 Train accuracy: 0.85 Val loss: 1666.313 Val accuracy: 0.696\n",
            "Epoch: 108 Train loss: 1666.11 Train accuracy: 0.844 Val loss: 1666.313 Val accuracy: 0.696\n",
            "Epoch: 109 Train loss: 1664.772 Train accuracy: 0.832 Val loss: 1666.312 Val accuracy: 0.696\n"
          ]
        },
        {
          "output_type": "display_data",
          "data": {
            "text/plain": [
              "<Figure size 432x288 with 1 Axes>"
            ],
            "image/png": "[encoded data removed]"
          },
          "metadata": {
            "needs_background": "light"
          }
        },
        {
          "output_type": "stream",
          "name": "stdout",
          "text": [
            "Epoch: 110 Train loss: 1665.056 Train accuracy: 0.79 Val loss: 1666.312 Val accuracy: 0.696\n",
            "Epoch: 111 Train loss: 1664.85 Train accuracy: 0.802 Val loss: 1666.311 Val accuracy: 0.696\n",
            "Epoch: 112 Train loss: 1663.335 Train accuracy: 0.826 Val loss: 1666.309 Val accuracy: 0.696\n",
            "Epoch: 113 Train loss: 1662.993 Train accuracy: 0.814 Val loss: 1666.31 Val accuracy: 0.696\n",
            "Epoch: 114 Train loss: 1662.648 Train accuracy: 0.832 Val loss: 1666.312 Val accuracy: 0.696\n"
          ]
        },
        {
          "output_type": "display_data",
          "data": {
            "text/plain": [
              "<Figure size 432x288 with 1 Axes>"
            ],
            "image/png": "[encoded data removed]"
          },
          "metadata": {
            "needs_background": "light"
          }
        },
        {
          "output_type": "stream",
          "name": "stdout",
          "text": [
            "Epoch: 115 Train loss: 1662.931 Train accuracy: 0.856 Val loss: 1666.313 Val accuracy: 0.696\n",
            "Epoch: 116 Train loss: 1663.191 Train accuracy: 0.82 Val loss: 1666.314 Val accuracy: 0.696\n",
            "Epoch: 117 Train loss: 1663.58 Train accuracy: 0.844 Val loss: 1666.319 Val accuracy: 0.696\n",
            "Epoch: 118 Train loss: 1663.827 Train accuracy: 0.82 Val loss: 1666.329 Val accuracy: 0.696\n"
          ]
        },
        {
          "output_type": "error",
          "ename": "KeyboardInterrupt",
          "evalue": "ignored",
          "traceback": [
            "\u001b[0;31m---------------------------------------------------------------------------\u001b[0m",
            "\u001b[0;31mKeyboardInterrupt\u001b[0m                         Traceback (most recent call last)",
            "\u001b[0;32m<ipython-input-188-5395fb2f75ce>\u001b[0m in \u001b[0;36m<module>\u001b[0;34m\u001b[0m\n\u001b[1;32m     10\u001b[0m \u001b[0moptimizer\u001b[0m \u001b[0;34m=\u001b[0m \u001b[0mtorch\u001b[0m\u001b[0;34m.\u001b[0m\u001b[0moptim\u001b[0m\u001b[0;34m.\u001b[0m\u001b[0mAdam\u001b[0m\u001b[0;34m(\u001b[0m\u001b[0mmodel\u001b[0m\u001b[0;34m.\u001b[0m\u001b[0mparameters\u001b[0m\u001b[0;34m(\u001b[0m\u001b[0;34m)\u001b[0m\u001b[0;34m,\u001b[0m \u001b[0mlr\u001b[0m\u001b[0;34m=\u001b[0m \u001b[0;36m0.0001\u001b[0m\u001b[0;34m)\u001b[0m\u001b[0;34m\u001b[0m\u001b[0;34m\u001b[0m\u001b[0m\n\u001b[1;32m     11\u001b[0m \u001b[0;31m#optimizer = torch.optim.SGD(model.parameters(), lr= 0.001, momentum = 0.9)\u001b[0m\u001b[0;34m\u001b[0m\u001b[0;34m\u001b[0m\u001b[0;34m\u001b[0m\u001b[0m\n\u001b[0;32m---> 12\u001b[0;31m \u001b[0mtrain_acc\u001b[0m\u001b[0;34m,\u001b[0m \u001b[0mval_acc\u001b[0m\u001b[0;34m,\u001b[0m \u001b[0mep\u001b[0m\u001b[0;34m,\u001b[0m \u001b[0mtrain_losses\u001b[0m\u001b[0;34m,\u001b[0m \u001b[0mval_losses\u001b[0m \u001b[0;34m=\u001b[0m \u001b[0mtraining_loop_gl\u001b[0m\u001b[0;34m(\u001b[0m\u001b[0mmodel\u001b[0m\u001b[0;34m,\u001b[0m \u001b[0moptimizer\u001b[0m\u001b[0;34m)\u001b[0m\u001b[0;34m\u001b[0m\u001b[0;34m\u001b[0m\u001b[0m\n\u001b[0m",
            "\u001b[0;32m<ipython-input-124-7f90b79a91c6>\u001b[0m in \u001b[0;36mtraining_loop_gl\u001b[0;34m(model, optimizer)\u001b[0m\n\u001b[1;32m     24\u001b[0m           \u001b[0mn\u001b[0m \u001b[0;34m+=\u001b[0m \u001b[0;34m(\u001b[0m\u001b[0mbatch\u001b[0m\u001b[0;34m.\u001b[0m\u001b[0my\u001b[0m\u001b[0;34m.\u001b[0m\u001b[0mfloat\u001b[0m\u001b[0;34m(\u001b[0m\u001b[0;34m)\u001b[0m \u001b[0;34m==\u001b[0m \u001b[0mpred\u001b[0m\u001b[0;34m)\u001b[0m\u001b[0;34m.\u001b[0m\u001b[0mint\u001b[0m\u001b[0;34m(\u001b[0m\u001b[0;34m)\u001b[0m\u001b[0;34m.\u001b[0m\u001b[0msum\u001b[0m\u001b[0;34m(\u001b[0m\u001b[0;34m)\u001b[0m\u001b[0;34m\u001b[0m\u001b[0;34m\u001b[0m\u001b[0m\n\u001b[1;32m     25\u001b[0m \u001b[0;34m\u001b[0m\u001b[0m\n\u001b[0;32m---> 26\u001b[0;31m           \u001b[0mtrain_loss\u001b[0m\u001b[0;34m.\u001b[0m\u001b[0mbackward\u001b[0m\u001b[0;34m(\u001b[0m\u001b[0;34m)\u001b[0m\u001b[0;34m\u001b[0m\u001b[0;34m\u001b[0m\u001b[0m\n\u001b[0m\u001b[1;32m     27\u001b[0m           \u001b[0moptimizer\u001b[0m\u001b[0;34m.\u001b[0m\u001b[0mstep\u001b[0m\u001b[0;34m(\u001b[0m\u001b[0;34m)\u001b[0m\u001b[0;34m\u001b[0m\u001b[0;34m\u001b[0m\u001b[0m\n\u001b[1;32m     28\u001b[0m \u001b[0;34m\u001b[0m\u001b[0m\n",
            "\u001b[0;32m/usr/local/lib/python3.7/dist-packages/torch/_tensor.py\u001b[0m in \u001b[0;36mbackward\u001b[0;34m(self, gradient, retain_graph, create_graph, inputs)\u001b[0m\n\u001b[1;32m    394\u001b[0m                 \u001b[0mcreate_graph\u001b[0m\u001b[0;34m=\u001b[0m\u001b[0mcreate_graph\u001b[0m\u001b[0;34m,\u001b[0m\u001b[0;34m\u001b[0m\u001b[0;34m\u001b[0m\u001b[0m\n\u001b[1;32m    395\u001b[0m                 inputs=inputs)\n\u001b[0;32m--> 396\u001b[0;31m         \u001b[0mtorch\u001b[0m\u001b[0;34m.\u001b[0m\u001b[0mautograd\u001b[0m\u001b[0;34m.\u001b[0m\u001b[0mbackward\u001b[0m\u001b[0;34m(\u001b[0m\u001b[0mself\u001b[0m\u001b[0;34m,\u001b[0m \u001b[0mgradient\u001b[0m\u001b[0;34m,\u001b[0m \u001b[0mretain_graph\u001b[0m\u001b[0;34m,\u001b[0m \u001b[0mcreate_graph\u001b[0m\u001b[0;34m,\u001b[0m \u001b[0minputs\u001b[0m\u001b[0;34m=\u001b[0m\u001b[0minputs\u001b[0m\u001b[0;34m)\u001b[0m\u001b[0;34m\u001b[0m\u001b[0;34m\u001b[0m\u001b[0m\n\u001b[0m\u001b[1;32m    397\u001b[0m \u001b[0;34m\u001b[0m\u001b[0m\n\u001b[1;32m    398\u001b[0m     \u001b[0;32mdef\u001b[0m \u001b[0mregister_hook\u001b[0m\u001b[0;34m(\u001b[0m\u001b[0mself\u001b[0m\u001b[0;34m,\u001b[0m \u001b[0mhook\u001b[0m\u001b[0;34m)\u001b[0m\u001b[0;34m:\u001b[0m\u001b[0;34m\u001b[0m\u001b[0;34m\u001b[0m\u001b[0m\n",
            "\u001b[0;32m/usr/local/lib/python3.7/dist-packages/torch/autograd/__init__.py\u001b[0m in \u001b[0;36mbackward\u001b[0;34m(tensors, grad_tensors, retain_graph, create_graph, grad_variables, inputs)\u001b[0m\n\u001b[1;32m    173\u001b[0m     Variable._execution_engine.run_backward(  # Calls into the C++ engine to run the backward pass\n\u001b[1;32m    174\u001b[0m         \u001b[0mtensors\u001b[0m\u001b[0;34m,\u001b[0m \u001b[0mgrad_tensors_\u001b[0m\u001b[0;34m,\u001b[0m \u001b[0mretain_graph\u001b[0m\u001b[0;34m,\u001b[0m \u001b[0mcreate_graph\u001b[0m\u001b[0;34m,\u001b[0m \u001b[0minputs\u001b[0m\u001b[0;34m,\u001b[0m\u001b[0;34m\u001b[0m\u001b[0;34m\u001b[0m\u001b[0m\n\u001b[0;32m--> 175\u001b[0;31m         allow_unreachable=True, accumulate_grad=True)  # Calls into the C++ engine to run the backward pass\n\u001b[0m\u001b[1;32m    176\u001b[0m \u001b[0;34m\u001b[0m\u001b[0m\n\u001b[1;32m    177\u001b[0m def grad(\n",
            "\u001b[0;31mKeyboardInterrupt\u001b[0m: "
          ]
        }
      ],
      "source": [
        "model = GCN(128, 0.2)\n",
        "continue_training = False\n",
        "if continue_training:\n",
        "  LOAD_MODEL_VERSION = \"1.0.0\"\n",
        "  model.load_state_dict(torch.load(CURR_DIR \\\n",
        "                    + LOAD_MODEL_VERSION + \"/best_model\"))\n",
        "  \n",
        "loss_fn = torch.nn.BCELoss()\n",
        "\n",
        "optimizer = torch.optim.Adam(model.parameters(), lr= 0.0001)\n",
        "train_acc, val_acc, ep, train_losses, val_losses = training_loop_gl(model, optimizer)"
      ]
    },
    {
      "cell_type": "code",
      "execution_count": null,
      "metadata": {
        "id": "SYQ_yxx7Webu",
        "colab": {
          "base_uri": "https://localhost:8080/",
          "height": 505,
          "referenced_widgets": [
            "5f7d6d9238564871a092bcdb3793111b",
            "efcbfa5d550c4b38999a4f6983b77e01",
            "978497f6f1d0427a8df35aa37c459e0b",
            "09c5d9fe86054950bf0a169f8b552b85",
            "a27a720dea8c461d9aa978655338fb28",
            "ec7cdd8f94634f22ac3f4665f4b5dc47",
            "877509572b09450ba390d73c30436e8c",
            "fd67c0e8b973479a8f69e949a0a543e1"
          ]
        },
        "outputId": "9be1411f-d533-4e32-b562-cc155bf44e28"
      },
      "outputs": [
        {
          "output_type": "display_data",
          "data": {
            "text/plain": [
              "<IPython.core.display.HTML object>"
            ],
            "text/html": [
              "Waiting for W&B process to finish... <strong style=\"color:green\">(success).</strong>"
            ]
          },
          "metadata": {}
        },
        {
          "output_type": "display_data",
          "data": {
            "text/plain": [
              "VBox(children=(Label(value='1.911 MB of 1.911 MB uploaded (0.000 MB deduped)\\r'), FloatProgress(value=1.0, max…"
            ],
            "application/vnd.jupyter.widget-view+json": {
              "version_major": 2,
              "version_minor": 0,
              "model_id": "5f7d6d9238564871a092bcdb3793111b"
            }
          },
          "metadata": {}
        },
        {
          "output_type": "display_data",
          "data": {
            "text/plain": [
              "<IPython.core.display.HTML object>"
            ],
            "text/html": [
              "<style>\n",
              "    table.wandb td:nth-child(1) { padding: 0 10px; text-align: left ; width: auto;} td:nth-child(2) {text-align: left ; width: 100%}\n",
              "    .wandb-row { display: flex; flex-direction: row; flex-wrap: wrap; justify-content: flex-start; width: 100% }\n",
              "    .wandb-col { display: flex; flex-direction: column; flex-basis: 100%; flex: 1; padding: 10px; }\n",
              "    </style>\n",
              "<div class=\"wandb-row\"><div class=\"wandb-col\"><h3>Run history:</h3><br/><table class=\"wandb\"><tr><td>Train F_norm loss</td><td>█▇▅▃▃▃▂▂▂▁▂▂▂▁▁▂▁▁▂▁▁▁▁▂▁▁▁▁▁▂▁▁▁▁▁▁▁▁▁▁</td></tr><tr><td>Train acc</td><td>▁▁▁▂▃▄▃▂▄▅▄▅▅▄▅▃▆▅▆▅▅▅▆▆▆▇▇▇▆▇▇███▇▇█▇██</td></tr><tr><td>Train classification loss</td><td>█▇▇▇▆▇▆▆▆▆▆▆▅▆▆▆▅▅▅▄▄▅▄▄▃▅▄▂▂▂▄▂▁▂▂▂▁▃▁▃</td></tr><tr><td>Train diff loss</td><td>▇██▅▄▅▂▅▅▅▇▃▄▅▃▆▅▆▄▆▂▅▅▄▂▅▄▁▄▁▄▅▅▄▃▅▆▅▄▄</td></tr><tr><td>Train loss</td><td>▇██▅▄▅▂▅▅▅▇▄▄▅▄▆▅▆▄▆▃▅▅▄▂▅▄▁▄▁▄▅▅▄▃▅▆▅▄▄</td></tr><tr><td>Val F_norm loss</td><td>█▅▄▃▂▂▂▂▁▁▁▁▁▁▁▁▁▁▁▁▁▁▁▁▁▁▁▁▁▁▁▁▁▁▁▁▁▁▁▁</td></tr><tr><td>Val acc</td><td>▁▁▅▄▂▁▄▅▅▅▅▅▅▅▅▅▅▇▇▇▇▇█▇████▇▇█▇▇▇▇▇▇▇▇▇</td></tr><tr><td>Val classification loss</td><td>█▇▇▆▆▆▆▆▅▅▅▅▄▄▄▃▃▃▃▂▂▂▂▂▁▁▁▁▁▁▂▁▁▁▂▁▁▁▁▂</td></tr><tr><td>Val diff loss</td><td>█▅▃▂▂▁▁▁▁▁▁▁▁▁▁▁▁▁▁▁▁▁▁▁▁▁▁▁▁▁▁▁▁▁▁▁▁▁▁▁</td></tr><tr><td>Val loss</td><td>█▅▃▂▂▁▁▁▁▁▁▁▁▁▁▁▁▁▁▁▁▁▁▁▁▁▁▁▁▁▁▁▁▁▁▁▁▁▁▁</td></tr></table><br/></div><div class=\"wandb-col\"><h3>Run summary:</h3><br/><table class=\"wandb\"><tr><td>Train F_norm loss</td><td>0.0001</td></tr><tr><td>Train acc</td><td>0.82036</td></tr><tr><td>Train classification loss</td><td>0.43923</td></tr><tr><td>Train diff loss</td><td>1663.38797</td></tr><tr><td>Train loss</td><td>1663.82731</td></tr><tr><td>Val F_norm loss</td><td>0.0001</td></tr><tr><td>Val acc</td><td>0.69565</td></tr><tr><td>Val classification loss</td><td>0.5992</td></tr><tr><td>Val diff loss</td><td>1665.72924</td></tr><tr><td>Val loss</td><td>1666.32854</td></tr></table><br/></div></div>"
            ]
          },
          "metadata": {}
        },
        {
          "output_type": "display_data",
          "data": {
            "text/plain": [
              "<IPython.core.display.HTML object>"
            ],
            "text/html": [
              "Synced <strong style=\"color:#cdcd00\">classification/GCN_GL_sub-09_1.0.0</strong>: <a href=\"https://wandb.ai/lorenzo_mattia/Tesi/runs/18wgtfli\" target=\"_blank\">https://wandb.ai/lorenzo_mattia/Tesi/runs/18wgtfli</a><br/>Synced 5 W&B file(s), 0 media file(s), 5 artifact file(s) and 1 other file(s)"
            ]
          },
          "metadata": {}
        },
        {
          "output_type": "display_data",
          "data": {
            "text/plain": [
              "<IPython.core.display.HTML object>"
            ],
            "text/html": [
              "Find logs at: <code>./wandb/run-20221001_110340-18wgtfli/logs</code>"
            ]
          },
          "metadata": {}
        }
      ],
      "source": [
        "run.finish()"
      ]
    },
    {
      "cell_type": "markdown",
      "metadata": {
        "id": "J839zC535LPh"
      },
      "source": [
        "## Normal Test"
      ]
    },
    {
      "cell_type": "code",
      "execution_count": null,
      "metadata": {
        "colab": {
          "base_uri": "https://localhost:8080/"
        },
        "id": "ckD6Tfa-m1A9",
        "outputId": "4bb96b70-5d7f-4f4f-a2d0-d60ef5c27315"
      },
      "outputs": [
        {
          "output_type": "execute_result",
          "data": {
            "text/plain": [
              "GCN(\n",
              "  (conv1): GCNConv(29, 128)\n",
              "  (conv2): GCNConv(128, 128)\n",
              "  (drop): Dropout(p=0.2, inplace=False)\n",
              "  (out1): Linear(in_features=128, out_features=100, bias=True)\n",
              "  (out2): Linear(in_features=100, out_features=16, bias=True)\n",
              "  (out3): Linear(in_features=16, out_features=1, bias=True)\n",
              "  (gl): Graph_Learn()\n",
              ")"
            ]
          },
          "metadata": {},
          "execution_count": 189
        }
      ],
      "source": [
        "LOAD_MODEL_VERSION = \"1.0.0\"\n",
        "model = GCN(128, 0.2)\n",
        "model.load_state_dict(torch.load(CURR_DIR \\\n",
        "                   + LOAD_MODEL_VERSION + \"/best_model\"))\n",
        "model.eval()"
      ]
    },
    {
      "cell_type": "code",
      "execution_count": null,
      "metadata": {
        "colab": {
          "base_uri": "https://localhost:8080/"
        },
        "id": "FsTcefhzjWbC",
        "outputId": "5855f29c-0654-43de-8246-419d8fc5620e"
      },
      "outputs": [
        {
          "output_type": "stream",
          "name": "stdout",
          "text": [
            "499\n",
            "1591.6328967842744\n",
            "0.695652186870575\n"
          ]
        }
      ],
      "source": [
        "print(val_losses.index(min(val_losses)))\n",
        "print(min(val_losses))\n",
        "print(val_acc[val_losses.index(min(val_losses))])"
      ]
    },
    {
      "cell_type": "code",
      "execution_count": null,
      "metadata": {
        "id": "a11Mh7jgy6ZS",
        "colab": {
          "base_uri": "https://localhost:8080/",
          "height": 1000
        },
        "outputId": "1bb286e2-5020-4267-f296-79081e60fc03"
      },
      "outputs": [
        {
          "output_type": "stream",
          "name": "stdout",
          "text": [
            "torch.Size([2, 28594])\n",
            "Partial correlation adjacency mat\n"
          ]
        },
        {
          "output_type": "display_data",
          "data": {
            "text/plain": [
              "<Figure size 432x288 with 1 Axes>"
            ],
            "image/png": "[encoded data removed]"
          },
          "metadata": {
            "needs_background": "light"
          }
        },
        {
          "output_type": "stream",
          "name": "stdout",
          "text": [
            "Learned adjacency mat\n"
          ]
        },
        {
          "output_type": "display_data",
          "data": {
            "text/plain": [
              "<Figure size 432x288 with 1 Axes>"
            ],
            "image/png": "[encoded data removed]"
          },
          "metadata": {
            "needs_background": "light"
          }
        },
        {
          "output_type": "stream",
          "name": "stdout",
          "text": [
            "Average learned adjacency mat non soc\n"
          ]
        },
        {
          "output_type": "display_data",
          "data": {
            "text/plain": [
              "<Figure size 432x288 with 1 Axes>"
            ],
            "image/png": "[encoded data removed]"
          },
          "metadata": {
            "needs_background": "light"
          }
        },
        {
          "output_type": "stream",
          "name": "stdout",
          "text": [
            "Average learned adjacency mat soc\n"
          ]
        },
        {
          "output_type": "display_data",
          "data": {
            "text/plain": [
              "<Figure size 432x288 with 1 Axes>"
            ],
            "image/png": "[encoded data removed]"
          },
          "metadata": {
            "needs_background": "light"
          }
        },
        {
          "output_type": "stream",
          "name": "stdout",
          "text": [
            "Average Partial adjacency mat non soc\n"
          ]
        },
        {
          "output_type": "display_data",
          "data": {
            "text/plain": [
              "<Figure size 432x288 with 1 Axes>"
            ],
            "image/png": "[encoded data removed]"
          },
          "metadata": {
            "needs_background": "light"
          }
        },
        {
          "output_type": "stream",
          "name": "stdout",
          "text": [
            "Average Partial adjacency mat soc\n"
          ]
        },
        {
          "output_type": "display_data",
          "data": {
            "text/plain": [
              "<Figure size 432x288 with 1 Axes>"
            ],
            "image/png": "[encoded data removed]"
          },
          "metadata": {
            "needs_background": "light"
          }
        },
        {
          "output_type": "stream",
          "name": "stdout",
          "text": [
            "0.0\n",
            "1\n",
            "tensor([[ 1.0000,  0.2532,  0.1125,  0.1006,  0.0298, -0.0879,  0.1150, -0.1163,\n",
            "          0.1684,  0.2176, -0.1158, -0.0122, -0.2028,  0.0607, -0.1540,  0.2272,\n",
            "         -0.3550, -0.1833, -0.0852,  0.0926, -0.0616,  0.1378,  0.1608, -0.2901,\n",
            "          0.2188, -0.2182,  0.0055,  0.0077,  0.0617],\n",
            "        [ 0.2532,  1.0000,  0.8555,  0.0324,  0.2905,  0.1980,  0.0923,  0.1019,\n",
            "          0.0989,  0.0227, -0.0972, -0.0452, -0.1830, -0.1661,  0.0449, -0.1039,\n",
            "         -0.0252,  0.1550, -0.0032,  0.2100, -0.0429,  0.0362, -0.0531,  0.0797,\n",
            "         -0.0655, -0.0942,  0.0603,  0.0983,  0.1446],\n",
            "        [ 0.1125,  0.8555,  1.0000,  0.0981, -0.1886, -0.1720, -0.2219,  0.0075,\n",
            "         -0.2522, -0.2192,  0.0067,  0.0821,  0.2030,  0.1401, -0.0874, -0.0448,\n",
            "          0.2057, -0.1316,  0.0123, -0.2693, -0.0273, -0.1331, -0.0426, -0.0673,\n",
            "         -0.1102,  0.2261,  0.0414, -0.1327, -0.2765],\n",
            "        [ 0.1006,  0.0324,  0.0981,  1.0000, -0.2142,  0.0968,  0.0091,  0.3165,\n",
            "          0.3969,  0.1564,  0.1414, -0.1828, -0.2801, -0.1929,  0.1615, -0.0987,\n",
            "         -0.0811,  0.0447,  0.1484,  0.3985, -0.0725,  0.2057, -0.3113, -0.1501,\n",
            "          0.0106, -0.4210, -0.0742, -0.2101, -0.0999],\n",
            "        [ 0.0298,  0.2905, -0.1886, -0.2142,  1.0000,  0.0190,  0.1959, -0.0614,\n",
            "          0.2063,  0.3535,  0.1769, -0.2439,  0.1105,  0.4636, -0.0166,  0.1446,\n",
            "         -0.1876,  0.0709,  0.2731, -0.0440, -0.2199, -0.1164, -0.3005,  0.1703,\n",
            "          0.4186, -0.2676, -0.3600,  0.0235, -0.2315],\n",
            "        [-0.0879,  0.1980, -0.1720,  0.0968,  0.0190,  1.0000,  0.2609, -0.0074,\n",
            "         -0.2051, -0.1473,  0.0416,  0.1416,  0.0323, -0.1316, -0.1461, -0.1199,\n",
            "         -0.0501,  0.1959, -0.3045, -0.2370, -0.0776, -0.0896,  0.2223,  0.0798,\n",
            "         -0.0851,  0.3316, -0.1590,  0.0077,  0.1416],\n",
            "        [ 0.1150,  0.0923, -0.2219,  0.0091,  0.1959,  0.2609,  1.0000,  0.4507,\n",
            "         -0.2434, -0.2414, -0.1413,  0.0180, -0.3997,  0.1192,  0.3319, -0.1269,\n",
            "         -0.0174, -0.3802,  0.0174,  0.1673, -0.2277,  0.0075, -0.1021,  0.0640,\n",
            "         -0.0811,  0.0028,  0.0782, -0.1636, -0.3980],\n",
            "        [-0.1163,  0.1019,  0.0075,  0.3165, -0.0614, -0.0074,  0.4507,  1.0000,\n",
            "          0.0831,  0.1591,  0.2299,  0.3402,  0.5665, -0.2321, -0.3093,  0.0085,\n",
            "          0.0213, -0.0362, -0.0910, -0.2102,  0.3677,  0.0338,  0.2941, -0.2081,\n",
            "         -0.1591,  0.0393,  0.2305,  0.0255,  0.0981],\n",
            "        [ 0.1684,  0.0989, -0.2522,  0.3969,  0.2063, -0.2051, -0.2434,  0.0831,\n",
            "          1.0000, -0.3928, -0.1029,  0.0012,  0.2104,  0.0440,  0.0496, -0.0538,\n",
            "          0.3836, -0.2044, -0.2181, -0.4328, -0.0416, -0.3445,  0.0820,  0.2815,\n",
            "         -0.2711,  0.5077,  0.1397, -0.2175, -0.1022],\n",
            "        [ 0.2176,  0.0227, -0.2192,  0.1564,  0.3535, -0.1473, -0.2414,  0.1591,\n",
            "         -0.3928,  1.0000, -0.4001, -0.0393,  0.0956,  0.0472,  0.1903, -0.2294,\n",
            "          0.3434, -0.2640, -0.3295, -0.4677, -0.0861, -0.2936,  0.2649,  0.1024,\n",
            "         -0.2432,  0.2699,  0.1050, -0.2493, -0.0576],\n",
            "        [-0.1158, -0.0972,  0.0067,  0.1414,  0.1769,  0.0416, -0.1413,  0.2299,\n",
            "         -0.1029, -0.4001,  1.0000,  0.1338, -0.2355,  0.0265,  0.0527, -0.0585,\n",
            "         -0.0844, -0.1915, -0.1832, -0.0146, -0.3032,  0.0932,  0.0905, -0.1172,\n",
            "         -0.3134,  0.2506,  0.0178, -0.2755,  0.0318],\n",
            "        [-0.0122, -0.0452,  0.0821, -0.1828, -0.2439,  0.1416,  0.0180,  0.3402,\n",
            "          0.0012, -0.0393,  0.1338,  1.0000,  0.1108,  0.3163,  0.1759,  0.0457,\n",
            "          0.0231,  0.2118,  0.2911,  0.0559, -0.3075, -0.2035, -0.4148,  0.2040,\n",
            "          0.4073, -0.2463, -0.1702,  0.0230, -0.1918],\n",
            "        [-0.2028, -0.1830,  0.2030, -0.2801,  0.1105,  0.0323, -0.3997,  0.5665,\n",
            "          0.2104,  0.0956, -0.2355,  0.1108,  1.0000, -0.0768,  0.0298,  0.2694,\n",
            "         -0.2381, -0.0658, -0.0564,  0.4438, -0.1701,  0.0479, -0.1080, -0.2074,\n",
            "         -0.0309, -0.3383,  0.0442, -0.1396, -0.1093],\n",
            "        [ 0.0607, -0.1661,  0.1401, -0.1929,  0.4636, -0.1316,  0.1192, -0.2321,\n",
            "          0.0440,  0.0472,  0.0265,  0.3163, -0.0768,  1.0000, -0.3588, -0.2290,\n",
            "          0.0851,  0.1192, -0.1490,  0.2452,  0.1840,  0.2418,  0.0111, -0.4734,\n",
            "         -0.3656, -0.0411,  0.4699, -0.1667, -0.0333],\n",
            "        [-0.1540,  0.0449, -0.0874,  0.1615, -0.0166, -0.1461,  0.3319, -0.3093,\n",
            "          0.0496,  0.1903,  0.0527,  0.1759,  0.0298, -0.3588,  1.0000,  0.0352,\n",
            "         -0.1572,  0.3699,  0.2536, -0.0335, -0.0087, -0.2310, -0.1157, -0.1544,\n",
            "         -0.1331, -0.1315,  0.1238,  0.1070, -0.0879],\n",
            "        [ 0.2272, -0.1039, -0.0448, -0.0987,  0.1446, -0.1199, -0.1269,  0.0085,\n",
            "         -0.0538, -0.2294, -0.0585,  0.0457,  0.2694, -0.2290,  0.0352,  1.0000,\n",
            "          0.0428, -0.0561,  0.1635, -0.0303,  0.0230,  0.0722, -0.0307,  0.0492,\n",
            "         -0.2604,  0.0254,  0.0837, -0.1254, -0.1773],\n",
            "        [-0.3550, -0.0252,  0.2057, -0.0811, -0.1876, -0.0501, -0.0174,  0.0213,\n",
            "          0.3836,  0.3434, -0.0844,  0.0231, -0.2381,  0.0851, -0.1572,  0.0428,\n",
            "          1.0000,  0.0840,  0.1897,  0.5058, -0.0386,  0.1490, -0.0323, -0.0115,\n",
            "          0.1272, -0.2706, -0.3638,  0.2802, -0.0363],\n",
            "        [-0.1833,  0.1550, -0.1316,  0.0447,  0.0709,  0.1959, -0.3802, -0.0362,\n",
            "         -0.2044, -0.2640, -0.1915,  0.2118, -0.0658,  0.1192,  0.3699, -0.0561,\n",
            "          0.0840,  1.0000, -0.2512, -0.2631, -0.0624,  0.1720,  0.2760, -0.3054,\n",
            "         -0.0105,  0.0238,  0.2129, -0.1855, -0.0418],\n",
            "        [-0.0852, -0.0032,  0.0123,  0.1484,  0.2731, -0.3045,  0.0174, -0.0910,\n",
            "         -0.2181, -0.3295, -0.1832,  0.2911, -0.0564, -0.1490,  0.2536,  0.1635,\n",
            "          0.1897, -0.2512,  1.0000, -0.0805, -0.1134,  0.2732,  0.6952, -0.2467,\n",
            "         -0.0936,  0.3870,  0.1348, -0.1902,  0.2546],\n",
            "        [ 0.0926,  0.2100, -0.2693,  0.3985, -0.0440, -0.2370,  0.1673, -0.2102,\n",
            "         -0.4328, -0.4677, -0.0146,  0.0559,  0.4438,  0.2452, -0.0335, -0.0303,\n",
            "          0.5058, -0.2631, -0.0805,  1.0000, -0.0899, -0.3888,  0.2735,  0.1678,\n",
            "          0.1576,  0.3598,  0.0854, -0.0369,  0.1724],\n",
            "        [-0.0616, -0.0429, -0.0273, -0.0725, -0.2199, -0.0776, -0.2277,  0.3677,\n",
            "         -0.0416, -0.0861, -0.3032, -0.3075, -0.1701,  0.1840, -0.0087,  0.0230,\n",
            "         -0.0386, -0.0624, -0.1134, -0.0899,  1.0000, -0.0727, -0.1402, -0.0879,\n",
            "          0.3580,  0.1179, -0.0637, -0.3100,  0.0135],\n",
            "        [ 0.1378,  0.0362, -0.1331,  0.2057, -0.1164, -0.0896,  0.0075,  0.0338,\n",
            "         -0.3445, -0.2936,  0.0932, -0.2035,  0.0479,  0.2418, -0.2310,  0.0722,\n",
            "          0.1490,  0.1720,  0.2732, -0.3888, -0.0727,  1.0000, -0.1049,  0.4627,\n",
            "         -0.0690,  0.0305, -0.1056,  0.0219, -0.2419],\n",
            "        [ 0.1608, -0.0531, -0.0426, -0.3113, -0.3005,  0.2223, -0.1021,  0.2941,\n",
            "          0.0820,  0.2649,  0.0905, -0.4148, -0.1080,  0.0111, -0.1157, -0.0307,\n",
            "         -0.0323,  0.2760,  0.6952,  0.2735, -0.1402, -0.1049,  1.0000,  0.0509,\n",
            "          0.1073, -0.4233,  0.0660,  0.0130, -0.3850],\n",
            "        [-0.2901,  0.0797, -0.0673, -0.1501,  0.1703,  0.0798,  0.0640, -0.2081,\n",
            "          0.2815,  0.1024, -0.1172,  0.2040, -0.2074, -0.4734, -0.1544,  0.0492,\n",
            "         -0.0115, -0.3054, -0.2467,  0.1678, -0.0879,  0.4627,  0.0509,  1.0000,\n",
            "         -0.0151, -0.2492,  0.6874, -0.3370, -0.0477],\n",
            "        [ 0.2188, -0.0655, -0.1102,  0.0106,  0.4186, -0.0851, -0.0811, -0.1591,\n",
            "         -0.2711, -0.2432, -0.3134,  0.4073, -0.0309, -0.3656, -0.1331, -0.2604,\n",
            "          0.1272, -0.0105, -0.0936,  0.1576,  0.3580, -0.0690,  0.1073, -0.0151,\n",
            "          1.0000,  0.3699,  0.2356, -0.2583, -0.1762],\n",
            "        [-0.2182, -0.0942,  0.2261, -0.4210, -0.2676,  0.3316,  0.0028,  0.0393,\n",
            "          0.5077,  0.2699,  0.2506, -0.2463, -0.3383, -0.0411, -0.1315,  0.0254,\n",
            "         -0.2706,  0.0238,  0.3870,  0.3598,  0.1179,  0.0305, -0.4233, -0.2492,\n",
            "          0.3699,  1.0000,  0.0850,  0.1074, -0.2275],\n",
            "        [ 0.0055,  0.0603,  0.0414, -0.0742, -0.3600, -0.1590,  0.0782,  0.2305,\n",
            "          0.1397,  0.1050,  0.0178, -0.1702,  0.0442,  0.4699,  0.1238,  0.0837,\n",
            "         -0.3638,  0.2129,  0.1348,  0.0854, -0.0637, -0.1056,  0.0660,  0.6874,\n",
            "          0.2356,  0.0850,  1.0000,  0.3666,  0.1895],\n",
            "        [ 0.0077,  0.0983, -0.1327, -0.2101,  0.0235,  0.0077, -0.1636,  0.0255,\n",
            "         -0.2175, -0.2493, -0.2755,  0.0230, -0.1396, -0.1667,  0.1070, -0.1254,\n",
            "          0.2802, -0.1855, -0.1902, -0.0369, -0.3100,  0.0219,  0.0130, -0.3370,\n",
            "         -0.2583,  0.1074,  0.3666,  1.0000, -0.0257],\n",
            "        [ 0.0617,  0.1446, -0.2765, -0.0999, -0.2315,  0.1416, -0.3980,  0.0981,\n",
            "         -0.1022, -0.0576,  0.0318, -0.1918, -0.1093, -0.0333, -0.0879, -0.1773,\n",
            "         -0.0363, -0.0418,  0.2546,  0.1724,  0.0135, -0.2419, -0.3850, -0.0477,\n",
            "         -0.1762, -0.2275,  0.1895, -0.0257,  1.0000]], dtype=torch.float64)\n",
            "tensor([[0.0345, 0.0345, 0.0345, 0.0345, 0.0345, 0.0345, 0.0345, 0.0345, 0.0345,\n",
            "         0.0345, 0.0345, 0.0345, 0.0345, 0.0343, 0.0344, 0.0345, 0.0344, 0.0345,\n",
            "         0.0344, 0.0345, 0.0345, 0.0344, 0.0343, 0.0345, 0.0345, 0.0344, 0.0345,\n",
            "         0.0345, 0.0345],\n",
            "        [0.0345, 0.0345, 0.0345, 0.0345, 0.0345, 0.0345, 0.0345, 0.0345, 0.0345,\n",
            "         0.0345, 0.0345, 0.0345, 0.0345, 0.0343, 0.0344, 0.0345, 0.0344, 0.0345,\n",
            "         0.0344, 0.0345, 0.0345, 0.0344, 0.0343, 0.0345, 0.0345, 0.0344, 0.0345,\n",
            "         0.0345, 0.0345],\n",
            "        [0.0345, 0.0345, 0.0345, 0.0345, 0.0345, 0.0345, 0.0345, 0.0345, 0.0345,\n",
            "         0.0345, 0.0345, 0.0345, 0.0345, 0.0343, 0.0344, 0.0345, 0.0344, 0.0345,\n",
            "         0.0344, 0.0345, 0.0345, 0.0344, 0.0343, 0.0345, 0.0345, 0.0344, 0.0345,\n",
            "         0.0345, 0.0345],\n",
            "        [0.0345, 0.0345, 0.0345, 0.0345, 0.0345, 0.0345, 0.0345, 0.0345, 0.0345,\n",
            "         0.0345, 0.0345, 0.0345, 0.0345, 0.0343, 0.0344, 0.0345, 0.0344, 0.0345,\n",
            "         0.0344, 0.0345, 0.0345, 0.0344, 0.0343, 0.0345, 0.0345, 0.0344, 0.0345,\n",
            "         0.0345, 0.0345],\n",
            "        [0.0345, 0.0345, 0.0345, 0.0345, 0.0345, 0.0345, 0.0345, 0.0345, 0.0345,\n",
            "         0.0345, 0.0345, 0.0345, 0.0345, 0.0343, 0.0344, 0.0345, 0.0344, 0.0345,\n",
            "         0.0344, 0.0345, 0.0345, 0.0344, 0.0343, 0.0345, 0.0345, 0.0344, 0.0345,\n",
            "         0.0345, 0.0345],\n",
            "        [0.0345, 0.0345, 0.0345, 0.0345, 0.0345, 0.0345, 0.0345, 0.0345, 0.0345,\n",
            "         0.0345, 0.0345, 0.0345, 0.0345, 0.0343, 0.0344, 0.0345, 0.0344, 0.0345,\n",
            "         0.0344, 0.0345, 0.0345, 0.0344, 0.0343, 0.0345, 0.0345, 0.0344, 0.0345,\n",
            "         0.0345, 0.0345],\n",
            "        [0.0345, 0.0345, 0.0345, 0.0345, 0.0345, 0.0345, 0.0345, 0.0345, 0.0345,\n",
            "         0.0345, 0.0345, 0.0345, 0.0345, 0.0349, 0.0344, 0.0345, 0.0344, 0.0345,\n",
            "         0.0344, 0.0345, 0.0345, 0.0344, 0.0343, 0.0345, 0.0345, 0.0344, 0.0345,\n",
            "         0.0345, 0.0345],\n",
            "        [0.0345, 0.0345, 0.0345, 0.0345, 0.0345, 0.0345, 0.0345, 0.0345, 0.0345,\n",
            "         0.0345, 0.0345, 0.0345, 0.0345, 0.0343, 0.0344, 0.0345, 0.0344, 0.0345,\n",
            "         0.0344, 0.0345, 0.0345, 0.0344, 0.0343, 0.0345, 0.0345, 0.0344, 0.0345,\n",
            "         0.0345, 0.0345],\n",
            "        [0.0345, 0.0345, 0.0345, 0.0345, 0.0345, 0.0345, 0.0345, 0.0345, 0.0345,\n",
            "         0.0345, 0.0345, 0.0345, 0.0345, 0.0343, 0.0344, 0.0346, 0.0344, 0.0345,\n",
            "         0.0344, 0.0345, 0.0345, 0.0344, 0.0343, 0.0345, 0.0345, 0.0344, 0.0345,\n",
            "         0.0345, 0.0345],\n",
            "        [0.0345, 0.0345, 0.0345, 0.0345, 0.0345, 0.0345, 0.0345, 0.0345, 0.0345,\n",
            "         0.0345, 0.0345, 0.0345, 0.0345, 0.0343, 0.0344, 0.0345, 0.0344, 0.0345,\n",
            "         0.0344, 0.0345, 0.0345, 0.0344, 0.0343, 0.0345, 0.0345, 0.0344, 0.0345,\n",
            "         0.0345, 0.0345],\n",
            "        [0.0345, 0.0345, 0.0345, 0.0345, 0.0345, 0.0345, 0.0345, 0.0345, 0.0345,\n",
            "         0.0345, 0.0345, 0.0345, 0.0345, 0.0343, 0.0344, 0.0345, 0.0344, 0.0345,\n",
            "         0.0344, 0.0345, 0.0345, 0.0344, 0.0343, 0.0345, 0.0345, 0.0344, 0.0345,\n",
            "         0.0345, 0.0345],\n",
            "        [0.0345, 0.0345, 0.0345, 0.0345, 0.0345, 0.0345, 0.0345, 0.0345, 0.0345,\n",
            "         0.0345, 0.0345, 0.0345, 0.0345, 0.0343, 0.0344, 0.0345, 0.0344, 0.0345,\n",
            "         0.0344, 0.0345, 0.0345, 0.0344, 0.0343, 0.0345, 0.0345, 0.0344, 0.0345,\n",
            "         0.0345, 0.0345],\n",
            "        [0.0345, 0.0345, 0.0345, 0.0345, 0.0345, 0.0345, 0.0345, 0.0345, 0.0345,\n",
            "         0.0345, 0.0345, 0.0345, 0.0345, 0.0343, 0.0344, 0.0345, 0.0344, 0.0345,\n",
            "         0.0344, 0.0345, 0.0345, 0.0344, 0.0343, 0.0345, 0.0345, 0.0344, 0.0345,\n",
            "         0.0345, 0.0345],\n",
            "        [0.0345, 0.0345, 0.0345, 0.0345, 0.0345, 0.0345, 0.0350, 0.0345, 0.0345,\n",
            "         0.0345, 0.0345, 0.0345, 0.0345, 0.0343, 0.0344, 0.0345, 0.0350, 0.0345,\n",
            "         0.0358, 0.0345, 0.0345, 0.0355, 0.0354, 0.0345, 0.0345, 0.0344, 0.0345,\n",
            "         0.0345, 0.0345],\n",
            "        [0.0345, 0.0345, 0.0345, 0.0345, 0.0345, 0.0345, 0.0345, 0.0345, 0.0345,\n",
            "         0.0345, 0.0345, 0.0345, 0.0345, 0.0343, 0.0344, 0.0345, 0.0344, 0.0345,\n",
            "         0.0355, 0.0345, 0.0345, 0.0344, 0.0343, 0.0345, 0.0345, 0.0344, 0.0345,\n",
            "         0.0345, 0.0345],\n",
            "        [0.0345, 0.0345, 0.0345, 0.0345, 0.0345, 0.0345, 0.0345, 0.0345, 0.0346,\n",
            "         0.0345, 0.0345, 0.0345, 0.0345, 0.0343, 0.0344, 0.0345, 0.0344, 0.0345,\n",
            "         0.0344, 0.0345, 0.0345, 0.0344, 0.0343, 0.0345, 0.0345, 0.0344, 0.0345,\n",
            "         0.0345, 0.0345],\n",
            "        [0.0345, 0.0345, 0.0345, 0.0345, 0.0345, 0.0345, 0.0345, 0.0345, 0.0345,\n",
            "         0.0345, 0.0345, 0.0345, 0.0345, 0.0348, 0.0344, 0.0345, 0.0344, 0.0345,\n",
            "         0.0352, 0.0345, 0.0345, 0.0344, 0.0346, 0.0345, 0.0345, 0.0344, 0.0345,\n",
            "         0.0345, 0.0345],\n",
            "        [0.0345, 0.0345, 0.0345, 0.0345, 0.0345, 0.0345, 0.0345, 0.0345, 0.0345,\n",
            "         0.0345, 0.0345, 0.0345, 0.0345, 0.0343, 0.0344, 0.0345, 0.0344, 0.0345,\n",
            "         0.0344, 0.0345, 0.0345, 0.0344, 0.0343, 0.0345, 0.0345, 0.0344, 0.0345,\n",
            "         0.0345, 0.0345],\n",
            "        [0.0345, 0.0345, 0.0345, 0.0345, 0.0345, 0.0345, 0.0345, 0.0345, 0.0345,\n",
            "         0.0345, 0.0345, 0.0345, 0.0345, 0.0358, 0.0356, 0.0345, 0.0353, 0.0345,\n",
            "         0.0344, 0.0345, 0.0345, 0.0344, 0.0343, 0.0345, 0.0345, 0.0344, 0.0345,\n",
            "         0.0345, 0.0345],\n",
            "        [0.0345, 0.0345, 0.0345, 0.0345, 0.0345, 0.0345, 0.0345, 0.0345, 0.0345,\n",
            "         0.0345, 0.0345, 0.0345, 0.0345, 0.0343, 0.0344, 0.0345, 0.0344, 0.0345,\n",
            "         0.0344, 0.0345, 0.0345, 0.0344, 0.0347, 0.0345, 0.0345, 0.0344, 0.0345,\n",
            "         0.0345, 0.0345],\n",
            "        [0.0345, 0.0345, 0.0345, 0.0345, 0.0345, 0.0345, 0.0345, 0.0345, 0.0345,\n",
            "         0.0345, 0.0345, 0.0345, 0.0345, 0.0343, 0.0344, 0.0345, 0.0344, 0.0345,\n",
            "         0.0344, 0.0345, 0.0345, 0.0344, 0.0343, 0.0345, 0.0345, 0.0344, 0.0345,\n",
            "         0.0345, 0.0345],\n",
            "        [0.0345, 0.0345, 0.0345, 0.0345, 0.0345, 0.0345, 0.0345, 0.0345, 0.0345,\n",
            "         0.0345, 0.0345, 0.0345, 0.0345, 0.0354, 0.0344, 0.0345, 0.0344, 0.0345,\n",
            "         0.0344, 0.0345, 0.0345, 0.0344, 0.0343, 0.0345, 0.0345, 0.0344, 0.0345,\n",
            "         0.0345, 0.0345],\n",
            "        [0.0345, 0.0345, 0.0345, 0.0345, 0.0345, 0.0345, 0.0345, 0.0345, 0.0345,\n",
            "         0.0345, 0.0345, 0.0345, 0.0345, 0.0354, 0.0344, 0.0345, 0.0347, 0.0345,\n",
            "         0.0344, 0.0348, 0.0345, 0.0344, 0.0343, 0.0345, 0.0353, 0.0360, 0.0345,\n",
            "         0.0345, 0.0345],\n",
            "        [0.0345, 0.0345, 0.0345, 0.0345, 0.0345, 0.0345, 0.0345, 0.0345, 0.0345,\n",
            "         0.0345, 0.0345, 0.0345, 0.0345, 0.0343, 0.0344, 0.0345, 0.0344, 0.0345,\n",
            "         0.0344, 0.0345, 0.0345, 0.0344, 0.0343, 0.0345, 0.0345, 0.0344, 0.0345,\n",
            "         0.0345, 0.0345],\n",
            "        [0.0345, 0.0345, 0.0345, 0.0345, 0.0345, 0.0345, 0.0345, 0.0345, 0.0345,\n",
            "         0.0345, 0.0345, 0.0345, 0.0345, 0.0343, 0.0344, 0.0345, 0.0344, 0.0345,\n",
            "         0.0344, 0.0345, 0.0345, 0.0344, 0.0352, 0.0345, 0.0345, 0.0344, 0.0345,\n",
            "         0.0345, 0.0345],\n",
            "        [0.0345, 0.0345, 0.0345, 0.0345, 0.0345, 0.0345, 0.0345, 0.0345, 0.0345,\n",
            "         0.0345, 0.0345, 0.0345, 0.0345, 0.0343, 0.0344, 0.0345, 0.0344, 0.0345,\n",
            "         0.0344, 0.0345, 0.0345, 0.0344, 0.0359, 0.0345, 0.0345, 0.0344, 0.0345,\n",
            "         0.0345, 0.0345],\n",
            "        [0.0345, 0.0345, 0.0345, 0.0345, 0.0345, 0.0345, 0.0345, 0.0345, 0.0345,\n",
            "         0.0345, 0.0345, 0.0345, 0.0345, 0.0343, 0.0344, 0.0345, 0.0344, 0.0345,\n",
            "         0.0344, 0.0345, 0.0345, 0.0344, 0.0343, 0.0345, 0.0345, 0.0344, 0.0345,\n",
            "         0.0345, 0.0345],\n",
            "        [0.0345, 0.0345, 0.0345, 0.0345, 0.0345, 0.0345, 0.0345, 0.0345, 0.0345,\n",
            "         0.0345, 0.0345, 0.0345, 0.0345, 0.0343, 0.0344, 0.0345, 0.0344, 0.0345,\n",
            "         0.0344, 0.0345, 0.0345, 0.0344, 0.0343, 0.0345, 0.0345, 0.0344, 0.0345,\n",
            "         0.0345, 0.0345],\n",
            "        [0.0345, 0.0345, 0.0345, 0.0345, 0.0345, 0.0345, 0.0345, 0.0345, 0.0345,\n",
            "         0.0345, 0.0345, 0.0345, 0.0345, 0.0343, 0.0344, 0.0345, 0.0344, 0.0345,\n",
            "         0.0344, 0.0345, 0.0345, 0.0344, 0.0343, 0.0345, 0.0345, 0.0344, 0.0345,\n",
            "         0.0345, 0.0345]], dtype=torch.float64)\n",
            "              precision    recall  f1-score   support\n",
            "\n",
            "       stick       0.59      0.59      0.59        17\n",
            "      avatar       0.59      0.59      0.59        17\n",
            "\n",
            "    accuracy                           0.59        34\n",
            "   macro avg       0.59      0.59      0.59        34\n",
            "weighted avg       0.59      0.59      0.59        34\n",
            "\n"
          ]
        },
        {
          "output_type": "display_data",
          "data": {
            "text/plain": [
              "<Figure size 432x288 with 1 Axes>"
            ],
            "image/png": "[encoded data removed]"
          },
          "metadata": {
            "needs_background": "light"
          }
        }
      ],
      "source": [
        "from sklearn.metrics import confusion_matrix, classification_report\n",
        "import seaborn as sns\n",
        "import matplotlib.pyplot as plt\n",
        "\n",
        "def test(save = True):\n",
        "  preds = []\n",
        "  lbls = []\n",
        "  for test_batch in train_dataloader:\n",
        "    with torch.no_grad():\n",
        "        #model.eval()\n",
        "        pred, embed = model(test_batch.x.float(), test_batch.edge_index, test_batch.batch, TRAIN_BATCH_SIZE, test_batch.pcm)\n",
        "    preds.append(torch.round(pred).tolist())\n",
        "    lbls.append(test_batch.y.tolist())\n",
        "\n",
        "  preds = [x for xs in preds for x in xs]\n",
        "  lbls = [x for xs in lbls for x in xs]\n",
        "\n",
        "  conf_mat = confusion_matrix(lbls, preds)\n",
        "  conf_mat = sns.heatmap(conf_mat, square=True, annot=True, cmap='Blues', fmt='d', \\\n",
        "                        cbar=False, xticklabels = [\"stick\", \"avatar\"], yticklabels = [\"stick\", \"avatar\"])\n",
        "  \n",
        "  if save:\n",
        "    conf_mat.figure.savefig(CURR_DIR + LOAD_MODEL_VERSION + \"/confusion_matrix.png\")\n",
        "\n",
        "  print(classification_report(lbls, preds, target_names=[\"stick\", \"avatar\"]))\n",
        "\n",
        "\n",
        "def test_gl(save = True):\n",
        "  preds = []\n",
        "  lbls = []\n",
        "  for test_batch in test_dataloader:\n",
        "    with torch.no_grad():\n",
        "        model.eval()\n",
        "        pred, embed, S, _, _ = model(test_batch.x.float(), test_batch.edge_index, test_batch.batch)\n",
        "    preds.append(torch.round(pred).tolist())\n",
        "    lbls.append(test_batch.y.tolist())\n",
        "\n",
        "  edges = model.extract_edges(S)\n",
        "  print(edges.shape)\n",
        "  preds = [x for xs in preds for x in xs]\n",
        "  lbls = [x for xs in lbls for x in xs]\n",
        "  indexes_non_soc = torch.tensor([i for i,val in enumerate(lbls) if val==0])\n",
        "  indexes_soc = torch.tensor([i for i,val in enumerate(lbls) if val==1])\n",
        "\n",
        "  temp = torch.reshape(test_batch.pcm, (TEST_BATCH_SIZE, 29, 29))\n",
        "  temp2 = torch.reshape(S, (TEST_BATCH_SIZE, 29, 29))\n",
        "\n",
        "  torch.save(torch.index_select(temp2, dim = 0, index = indexes_non_soc), CURR_DIR + LOAD_MODEL_VERSION + '/all_learned_non_soc.pt')\n",
        "  torch.save(torch.index_select(temp2, dim = 0, index = indexes_soc), CURR_DIR + LOAD_MODEL_VERSION + '/all_learned_soc.pt')\n",
        "\n",
        "  learned_non_soc = torch.mean(torch.index_select(temp2, dim = 0, index = indexes_non_soc), dim = 0)\n",
        "  learned_soc = torch.mean(torch.index_select(temp2, dim = 0, index = indexes_soc), dim = 0)\n",
        "\n",
        "  non_soc = torch.mean(torch.index_select(temp, dim = 0, index = indexes_non_soc), dim = 0)\n",
        "  soc = torch.mean(torch.index_select(temp, dim = 0, index = indexes_soc), dim = 0)\n",
        "\n",
        "  #temp_avg2 = torch.mean(temp2, dim = 0)\n",
        "  #temp_avg = torch.mean(temp, dim = 0)\n",
        "  gl_slice = 10\n",
        "  print(\"Partial correlation adjacency mat\")\n",
        "  plt.imshow(temp[gl_slice])\n",
        "  plt.show()\n",
        "\n",
        "  print(\"Learned adjacency mat\")\n",
        "  plt.imshow(temp2[gl_slice])\n",
        "  plt.show()\n",
        "\n",
        "  print(\"Average learned adjacency mat non soc\")\n",
        "  plt.imshow(learned_non_soc)\n",
        "  plt.savefig(CURR_DIR + LOAD_MODEL_VERSION + \"/Average learned adjacency mat non soc.png\")\n",
        "  plt.show()\n",
        "  torch.save(learned_non_soc, CURR_DIR + LOAD_MODEL_VERSION + '/learned_non_soc.pt') \n",
        "  \n",
        "  print(\"Average learned adjacency mat soc\")\n",
        "  plt.imshow(learned_soc)\n",
        "  plt.savefig(CURR_DIR + LOAD_MODEL_VERSION + \"/Average learned adjacency mat soc.png\")\n",
        "  plt.show()\n",
        "  torch.save(learned_soc, CURR_DIR + LOAD_MODEL_VERSION + '/learned_soc.pt') \n",
        "\n",
        "  print(\"Average Partial adjacency mat non soc\")\n",
        "  plt.imshow(non_soc)\n",
        "  plt.savefig(CURR_DIR + LOAD_MODEL_VERSION + \"/Average pearson adjacency mat non soc.png\")\n",
        "  plt.show()\n",
        "  \n",
        "  print(\"Average Partial adjacency mat soc\")\n",
        "  plt.imshow(soc)\n",
        "  plt.savefig(CURR_DIR + LOAD_MODEL_VERSION + \"/Average pearson adjacency mat soc.png\")\n",
        "  plt.show()\n",
        "  \n",
        "\n",
        "  print(preds[gl_slice])\n",
        "  print(lbls[gl_slice])\n",
        "  print(temp[gl_slice])\n",
        "  print(temp2[gl_slice])\n",
        "\n",
        "  conf_mat = confusion_matrix(lbls, preds)\n",
        "  conf_mat = sns.heatmap(conf_mat, square=True, annot=True, cmap='Blues', fmt='d', \\\n",
        "                        cbar=False, xticklabels = [\"stick\", \"avatar\"], yticklabels = [\"stick\", \"avatar\"])\n",
        "  \n",
        "  if save:\n",
        "    conf_mat.figure.savefig(CURR_DIR + LOAD_MODEL_VERSION + \"/confusion_matrix.png\")\n",
        "\n",
        "  print(classification_report(lbls, preds, target_names=[\"stick\", \"avatar\"]))\n",
        "\n",
        "test_gl(True)"
      ]
    },
    {
      "cell_type": "code",
      "execution_count": null,
      "metadata": {
        "colab": {
          "base_uri": "https://localhost:8080/",
          "height": 265
        },
        "id": "rUvJB3BYs39w",
        "outputId": "a17591a9-b251-4b96-fd1e-a82ab1c71d4e"
      },
      "outputs": [
        {
          "output_type": "display_data",
          "data": {
            "text/plain": [
              "<Figure size 432x288 with 1 Axes>"
            ],
            "image/png": "[encoded data removed]"
          },
          "metadata": {
            "needs_background": "light"
          }
        }
      ],
      "source": [
        "import matplotlib.pyplot as plt\n",
        "\n",
        "def plot_acc(ep, train_acc, val_acc, save = True):\n",
        "  plt.plot(ep, train_acc, label = 'train acc')\n",
        "  plt.plot(ep, val_acc, label = 'val acc')\n",
        "  #plt.plot(ep, val_acc, label = 'val acc')\n",
        "  plt.legend()\n",
        "  if save:\n",
        "    plt.savefig(saved_models_dir + \"/accuracy.png\")\n",
        "\n",
        "plot_acc(ep, train_acc, val_acc)"
      ]
    },
    {
      "cell_type": "code",
      "execution_count": null,
      "metadata": {
        "colab": {
          "base_uri": "https://localhost:8080/",
          "height": 265
        },
        "id": "CD3hRZcq_xVH",
        "outputId": "ccac33ff-971f-46c2-804d-dafe34b70022"
      },
      "outputs": [
        {
          "output_type": "display_data",
          "data": {
            "text/plain": [
              "<Figure size 432x288 with 1 Axes>"
            ],
            "image/png": "[encoded data removed]"
          },
          "metadata": {
            "needs_background": "light"
          }
        }
      ],
      "source": [
        "def plot_loss(ep, t_loss, v_loss, save = True):\n",
        "  plt.plot(ep, t_loss, label = 'train loss')\n",
        "  plt.plot(ep, v_loss, label = 'val loss')\n",
        "  #plt.plot(ep, val_acc, label = 'val acc')\n",
        "  plt.legend()\n",
        "  if save:\n",
        "    plt.savefig(saved_models_dir + \"/loss.png\")\n",
        "\n",
        "plot_loss(ep, train_losses, val_losses)"
      ]
    }
  ],
  "metadata": {
    "colab": {
      "collapsed_sections": [
        "2I6XRNVjqwhR",
        "9FWbISL_aKQV",
        "8Gmr9tuYQ9EZ",
        "BbTg191rSpXr",
        "jFO_bUZUF7IL"
      ],
      "provenance": []
    },
    "kernelspec": {
      "display_name": "Python 3",
      "name": "python3"
    },
    "language_info": {
      "name": "python"
    },
    "gpuClass": "standard",
    "widgets": {
      "application/vnd.jupyter.widget-state+json": {
        "5f7d6d9238564871a092bcdb3793111b": {
          "model_module": "@jupyter-widgets/controls",
          "model_name": "VBoxModel",
          "model_module_version": "1.5.0",
          "state": {
            "_dom_classes": [],
            "_model_module": "@jupyter-widgets/controls",
            "_model_module_version": "1.5.0",
            "_model_name": "VBoxModel",
            "_view_count": null,
            "_view_module": "@jupyter-widgets/controls",
            "_view_module_version": "1.5.0",
            "_view_name": "VBoxView",
            "box_style": "",
            "children": [
              "IPY_MODEL_efcbfa5d550c4b38999a4f6983b77e01",
              "IPY_MODEL_978497f6f1d0427a8df35aa37c459e0b"
            ],
            "layout": "IPY_MODEL_09c5d9fe86054950bf0a169f8b552b85"
          }
        },
        "efcbfa5d550c4b38999a4f6983b77e01": {
          "model_module": "@jupyter-widgets/controls",
          "model_name": "LabelModel",
          "model_module_version": "1.5.0",
          "state": {
            "_dom_classes": [],
            "_model_module": "@jupyter-widgets/controls",
            "_model_module_version": "1.5.0",
            "_model_name": "LabelModel",
            "_view_count": null,
            "_view_module": "@jupyter-widgets/controls",
            "_view_module_version": "1.5.0",
            "_view_name": "LabelView",
            "description": "",
            "description_tooltip": null,
            "layout": "IPY_MODEL_a27a720dea8c461d9aa978655338fb28",
            "placeholder": "​",
            "style": "IPY_MODEL_ec7cdd8f94634f22ac3f4665f4b5dc47",
            "value": "2.370 MB of 2.370 MB uploaded (0.000 MB deduped)\r"
          }
        },
        "978497f6f1d0427a8df35aa37c459e0b": {
          "model_module": "@jupyter-widgets/controls",
          "model_name": "FloatProgressModel",
          "model_module_version": "1.5.0",
          "state": {
            "_dom_classes": [],
            "_model_module": "@jupyter-widgets/controls",
            "_model_module_version": "1.5.0",
            "_model_name": "FloatProgressModel",
            "_view_count": null,
            "_view_module": "@jupyter-widgets/controls",
            "_view_module_version": "1.5.0",
            "_view_name": "ProgressView",
            "bar_style": "",
            "description": "",
            "description_tooltip": null,
            "layout": "IPY_MODEL_877509572b09450ba390d73c30436e8c",
            "max": 1,
            "min": 0,
            "orientation": "horizontal",
            "style": "IPY_MODEL_fd67c0e8b973479a8f69e949a0a543e1",
            "value": 1
          }
        },
        "09c5d9fe86054950bf0a169f8b552b85": {
          "model_module": "@jupyter-widgets/base",
          "model_name": "LayoutModel",
          "model_module_version": "1.2.0",
          "state": {
            "_model_module": "@jupyter-widgets/base",
            "_model_module_version": "1.2.0",
            "_model_name": "LayoutModel",
            "_view_count": null,
            "_view_module": "@jupyter-widgets/base",
            "_view_module_version": "1.2.0",
            "_view_name": "LayoutView",
            "align_content": null,
            "align_items": null,
            "align_self": null,
            "border": null,
            "bottom": null,
            "display": null,
            "flex": null,
            "flex_flow": null,
            "grid_area": null,
            "grid_auto_columns": null,
            "grid_auto_flow": null,
            "grid_auto_rows": null,
            "grid_column": null,
            "grid_gap": null,
            "grid_row": null,
            "grid_template_areas": null,
            "grid_template_columns": null,
            "grid_template_rows": null,
            "height": null,
            "justify_content": null,
            "justify_items": null,
            "left": null,
            "margin": null,
            "max_height": null,
            "max_width": null,
            "min_height": null,
            "min_width": null,
            "object_fit": null,
            "object_position": null,
            "order": null,
            "overflow": null,
            "overflow_x": null,
            "overflow_y": null,
            "padding": null,
            "right": null,
            "top": null,
            "visibility": null,
            "width": null
          }
        },
        "a27a720dea8c461d9aa978655338fb28": {
          "model_module": "@jupyter-widgets/base",
          "model_name": "LayoutModel",
          "model_module_version": "1.2.0",
          "state": {
            "_model_module": "@jupyter-widgets/base",
            "_model_module_version": "1.2.0",
            "_model_name": "LayoutModel",
            "_view_count": null,
            "_view_module": "@jupyter-widgets/base",
            "_view_module_version": "1.2.0",
            "_view_name": "LayoutView",
            "align_content": null,
            "align_items": null,
            "align_self": null,
            "border": null,
            "bottom": null,
            "display": null,
            "flex": null,
            "flex_flow": null,
            "grid_area": null,
            "grid_auto_columns": null,
            "grid_auto_flow": null,
            "grid_auto_rows": null,
            "grid_column": null,
            "grid_gap": null,
            "grid_row": null,
            "grid_template_areas": null,
            "grid_template_columns": null,
            "grid_template_rows": null,
            "height": null,
            "justify_content": null,
            "justify_items": null,
            "left": null,
            "margin": null,
            "max_height": null,
            "max_width": null,
            "min_height": null,
            "min_width": null,
            "object_fit": null,
            "object_position": null,
            "order": null,
            "overflow": null,
            "overflow_x": null,
            "overflow_y": null,
            "padding": null,
            "right": null,
            "top": null,
            "visibility": null,
            "width": null
          }
        },
        "ec7cdd8f94634f22ac3f4665f4b5dc47": {
          "model_module": "@jupyter-widgets/controls",
          "model_name": "DescriptionStyleModel",
          "model_module_version": "1.5.0",
          "state": {
            "_model_module": "@jupyter-widgets/controls",
            "_model_module_version": "1.5.0",
            "_model_name": "DescriptionStyleModel",
            "_view_count": null,
            "_view_module": "@jupyter-widgets/base",
            "_view_module_version": "1.2.0",
            "_view_name": "StyleView",
            "description_width": ""
          }
        },
        "877509572b09450ba390d73c30436e8c": {
          "model_module": "@jupyter-widgets/base",
          "model_name": "LayoutModel",
          "model_module_version": "1.2.0",
          "state": {
            "_model_module": "@jupyter-widgets/base",
            "_model_module_version": "1.2.0",
            "_model_name": "LayoutModel",
            "_view_count": null,
            "_view_module": "@jupyter-widgets/base",
            "_view_module_version": "1.2.0",
            "_view_name": "LayoutView",
            "align_content": null,
            "align_items": null,
            "align_self": null,
            "border": null,
            "bottom": null,
            "display": null,
            "flex": null,
            "flex_flow": null,
            "grid_area": null,
            "grid_auto_columns": null,
            "grid_auto_flow": null,
            "grid_auto_rows": null,
            "grid_column": null,
            "grid_gap": null,
            "grid_row": null,
            "grid_template_areas": null,
            "grid_template_columns": null,
            "grid_template_rows": null,
            "height": null,
            "justify_content": null,
            "justify_items": null,
            "left": null,
            "margin": null,
            "max_height": null,
            "max_width": null,
            "min_height": null,
            "min_width": null,
            "object_fit": null,
            "object_position": null,
            "order": null,
            "overflow": null,
            "overflow_x": null,
            "overflow_y": null,
            "padding": null,
            "right": null,
            "top": null,
            "visibility": null,
            "width": null
          }
        },
        "fd67c0e8b973479a8f69e949a0a543e1": {
          "model_module": "@jupyter-widgets/controls",
          "model_name": "ProgressStyleModel",
          "model_module_version": "1.5.0",
          "state": {
            "_model_module": "@jupyter-widgets/controls",
            "_model_module_version": "1.5.0",
            "_model_name": "ProgressStyleModel",
            "_view_count": null,
            "_view_module": "@jupyter-widgets/base",
            "_view_module_version": "1.2.0",
            "_view_name": "StyleView",
            "bar_color": null,
            "description_width": ""
          }
        }
      }
    }
  },
  "nbformat": 4,
  "nbformat_minor": 0
}