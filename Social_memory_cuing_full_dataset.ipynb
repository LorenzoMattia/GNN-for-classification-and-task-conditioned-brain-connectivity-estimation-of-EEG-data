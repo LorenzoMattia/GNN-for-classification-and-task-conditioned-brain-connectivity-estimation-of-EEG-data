{
  "nbformat": 4,
  "nbformat_minor": 0,
  "metadata": {
    "colab": {
      "provenance": [],
      "collapsed_sections": [
        "aYcKxhuX7Vcj"
      ]
    },
    "kernelspec": {
      "name": "python3",
      "display_name": "Python 3"
    },
    "language_info": {
      "name": "python"
    }
  },
  "cells": [
    {
      "cell_type": "code",
      "source": [
        "import scipy.io\n",
        "import os\n",
        "import numpy as np\n",
        "import pickle"
      ],
      "metadata": {
        "id": "joGSpAD1CHZs"
      },
      "execution_count": null,
      "outputs": []
    },
    {
      "cell_type": "code",
      "source": [
        "from google.colab import drive\n",
        "drive.mount('/content/drive')"
      ],
      "metadata": {
        "colab": {
          "base_uri": "https://localhost:8080/"
        },
        "id": "zWayO3jLYyj1",
        "outputId": "43b123c9-072c-4a46-fc84-448ffd42ed37"
      },
      "execution_count": null,
      "outputs": [
        {
          "output_type": "stream",
          "name": "stdout",
          "text": [
            "Drive already mounted at /content/drive; to attempt to forcibly remount, call drive.mount(\"/content/drive\", force_remount=True).\n"
          ]
        }
      ]
    },
    {
      "cell_type": "code",
      "execution_count": null,
      "metadata": {
        "id": "V-3gXs6i7xKD"
      },
      "outputs": [],
      "source": [
        "SUBJECTS_FOLDER = '/content/drive/MyDrive/Social memory cuing full dataset/derivatives/EEGPreprocessedDataTableStudy'\n",
        "#SUBJECTS_FOLDER = '/content/drive/MyDrive/Tirocinio/Datasets/Social memory cuing full dataset/derivatives/EEGPreprocessedDataTableStudy'#Vale\n",
        "SINGLE_SUBJECT = os.path.join(SUBJECTS_FOLDER, \"sub-03/ProcessedData/data_ica.mat\")\n",
        "SUBJECTS = [ name for name in os.listdir(SUBJECTS_FOLDER) if os.path.isdir(os.path.join(SUBJECTS_FOLDER, name)) ]\n",
        "DATA = \"ProcessedData/data_ica.mat\""
      ]
    },
    {
      "cell_type": "code",
      "source": [
        "SUBJECTS.sort()\n",
        "print(SUBJECTS)"
      ],
      "metadata": {
        "id": "EG-OYyHlOrxn",
        "colab": {
          "base_uri": "https://localhost:8080/"
        },
        "outputId": "e32976aa-325b-48bd-f786-79b78e23b6bb"
      },
      "execution_count": null,
      "outputs": [
        {
          "output_type": "stream",
          "name": "stdout",
          "text": [
            "['sub-01', 'sub-02', 'sub-03', 'sub-04', 'sub-05', 'sub-06', 'sub-07', 'sub-09', 'sub-10', 'sub-11', 'sub-12', 'sub-13', 'sub-14', 'sub-15', 'sub-16', 'sub-17', 'sub-18', 'sub-19', 'sub-20', 'sub-21', 'sub-22', 'sub-23', 'sub-24', 'sub-25', 'sub-26', 'sub-27', 'sub-28', 'sub-29', 'sub-30', 'sub-31', 'sub-32', 'sub-33', 'sub-34', 'sub-35', 'sub-36', 'sub-37', 'sub-38', 'sub-39', 'sub-40', 'sub-41', 'sub-43', 'sub-44', 'sub-45', 'sub-46', 'sub-48', 'sub-49', 'sub-50']\n"
          ]
        }
      ]
    },
    {
      "cell_type": "code",
      "source": [
        "#soggetti con meno trials\n",
        "print(SUBJECTS[1])  #196\n",
        "print(SUBJECTS[6])  #176\n",
        "print(SUBJECTS[34]) #171"
      ],
      "metadata": {
        "colab": {
          "base_uri": "https://localhost:8080/"
        },
        "id": "tu-M8NGJO7xv",
        "outputId": "82bd5a3c-e43a-4df3-8e0f-2f58e64c31d5"
      },
      "execution_count": null,
      "outputs": [
        {
          "output_type": "stream",
          "name": "stdout",
          "text": [
            "sub-02\n",
            "sub-07\n",
            "sub-36\n"
          ]
        }
      ]
    },
    {
      "cell_type": "markdown",
      "source": [
        "# Trials encoding window retrieval and save"
      ],
      "metadata": {
        "id": "XyOaW7nHJarf"
      }
    },
    {
      "cell_type": "code",
      "source": [
        "for i in range(0, len(SUBJECTS), 1):\n",
        "  print(i)\n",
        "  mat = scipy.io.loadmat(os.path.join(os.path.join(SUBJECTS_FOLDER, SUBJECTS[i]), DATA))['trial']\n",
        "  first =  np.expand_dims(mat[0, 0][:, 1750:2000], axis = 0)\n",
        "  if i != 0:\n",
        "    subjects_encoding = np.vstack([subjects_encoding, first])\n",
        "  else:\n",
        "    subjects_encoding = first\n",
        "  for j in range(1, np.shape(mat)[1], 1):\n",
        "    subjects_encoding = np.vstack([subjects_encoding, np.expand_dims(mat[0, j][:, 1750:2000], axis = 0)])\n",
        "\n",
        "print(np.shape(subjects_encoding))"
      ],
      "metadata": {
        "id": "qetAwfEzK3Mx"
      },
      "execution_count": null,
      "outputs": []
    },
    {
      "cell_type": "code",
      "source": [
        "#with open('/content/drive/MyDrive/subjects_encoding.pkl', 'wb') as f:\n",
        "with open('/content/drive/MyDrive/Tirocinio/Datasets/subjects_encoding.pkl', 'wb') as f: #Vale\n",
        "  pickle.dump(subjects_encoding, f)"
      ],
      "metadata": {
        "id": "Qquyxc2hSK2M"
      },
      "execution_count": null,
      "outputs": []
    },
    {
      "cell_type": "code",
      "source": [
        "with open('/content/drive/MyDrive/subjects_encoding.pkl', 'rb') as f:\n",
        "#with open('/content/drive/MyDrive/Tesi/data/subjects_encoding.pkl', 'rb') as f: \n",
        "#with open('/content/drive/MyDrive/Tirocinio/Datasets/subjects_encoding.pkl', 'rb') as f: #Vale\n",
        "  subjects_encoding = pickle.load(f)"
      ],
      "metadata": {
        "id": "YOc5vxVZcrxV"
      },
      "execution_count": null,
      "outputs": []
    },
    {
      "cell_type": "markdown",
      "source": [
        "# Trials info retrieval and save"
      ],
      "metadata": {
        "id": "gKZVX6Z2JiLd"
      }
    },
    {
      "cell_type": "code",
      "source": [
        "subjects = []\n",
        "\n",
        "for i in range(len(SUBJECTS)):\n",
        "  mat = scipy.io.loadmat(os.path.join(os.path.join(SUBJECTS_FOLDER, SUBJECTS[i]), DATA))\n",
        "  subjects.append(mat['trialinfo'])\n",
        "\n",
        "print(np.shape(subjects))"
      ],
      "metadata": {
        "id": "PNPtsZ-EZznO"
      },
      "execution_count": null,
      "outputs": []
    },
    {
      "cell_type": "markdown",
      "source": [
        "# Creazione Matrice Matlab"
      ],
      "metadata": {
        "id": "0FHY2z7ZbVfD"
      }
    },
    {
      "cell_type": "code",
      "source": [
        "print(SUBJECTS)"
      ],
      "metadata": {
        "id": "hkuB4a8CeiIa"
      },
      "execution_count": null,
      "outputs": []
    },
    {
      "cell_type": "code",
      "source": [
        "sub2trial2info = []\n",
        "\n",
        "for i in range(len(SUBJECTS)):\n",
        "  print(i)\n",
        "  trial2info = []\n",
        "  mat = scipy.io.loadmat(os.path.join(os.path.join(SUBJECTS_FOLDER, SUBJECTS[i]), DATA))['trialinfo']\n",
        "  for j in range(np.shape(mat)[0]):\n",
        "    trial2info.append([mat[j, 0], mat[j, 9]- 500, mat[j, 9]])\n",
        "\n",
        "  sub2trial2info.append(trial2info)"
      ],
      "metadata": {
        "id": "sb-5cNUlKrVq",
        "colab": {
          "base_uri": "https://localhost:8080/"
        },
        "outputId": "8c5e59ee-bb9f-487d-833a-18614099c236"
      },
      "execution_count": null,
      "outputs": [
        {
          "output_type": "stream",
          "name": "stdout",
          "text": [
            "0\n",
            "1\n",
            "2\n",
            "3\n",
            "4\n",
            "5\n",
            "6\n",
            "7\n",
            "8\n",
            "9\n",
            "10\n",
            "11\n",
            "12\n",
            "13\n",
            "14\n",
            "15\n",
            "16\n",
            "17\n",
            "18\n",
            "19\n",
            "20\n",
            "21\n",
            "22\n",
            "23\n",
            "24\n",
            "25\n",
            "26\n",
            "27\n",
            "28\n",
            "29\n",
            "30\n",
            "31\n",
            "32\n",
            "33\n",
            "34\n",
            "35\n",
            "36\n",
            "37\n",
            "38\n",
            "39\n",
            "40\n",
            "41\n",
            "42\n",
            "43\n",
            "44\n",
            "45\n",
            "46\n"
          ]
        }
      ]
    },
    {
      "cell_type": "code",
      "source": [
        "sub2trial2info = app "
      ],
      "metadata": {
        "id": "hU_pK2OmdzYE"
      },
      "execution_count": null,
      "outputs": []
    },
    {
      "cell_type": "code",
      "source": [
        "np.shape(app[0])"
      ],
      "metadata": {
        "colab": {
          "base_uri": "https://localhost:8080/"
        },
        "id": "2fXesYOhd15e",
        "outputId": "aa5be075-7f5c-4244-a644-15a4da4656cd"
      },
      "execution_count": null,
      "outputs": [
        {
          "output_type": "execute_result",
          "data": {
            "text/plain": [
              "(224, 3)"
            ]
          },
          "metadata": {},
          "execution_count": 20
        }
      ]
    },
    {
      "cell_type": "code",
      "source": [
        "app = sub2trial2info.copy()\n",
        "print(np.shape(sub2trial2info))\n",
        "sub2trial2info.pop(1)\n",
        "sub2trial2info.pop(5)\n",
        "sub2trial2info.pop(32)\n",
        "\n",
        "sub2trial2info = np.transpose(sub2trial2info, [1, 2, 0])\n",
        "print(np.shape(sub2trial2info))"
      ],
      "metadata": {
        "colab": {
          "base_uri": "https://localhost:8080/"
        },
        "id": "Tr3BRYr7ROO-",
        "outputId": "3687c254-1b3b-4d29-a141-98c244674ca1"
      },
      "execution_count": null,
      "outputs": [
        {
          "output_type": "stream",
          "name": "stdout",
          "text": [
            "(47,)\n",
            "(224, 3, 44)\n"
          ]
        },
        {
          "output_type": "stream",
          "name": "stderr",
          "text": [
            "/usr/local/lib/python3.7/dist-packages/numpy/core/fromnumeric.py:1970: VisibleDeprecationWarning: Creating an ndarray from ragged nested sequences (which is a list-or-tuple of lists-or-tuples-or ndarrays with different lengths or shapes) is deprecated. If you meant to do this, you must specify 'dtype=object' when creating the ndarray.\n",
            "  result = asarray(a).shape\n"
          ]
        }
      ]
    },
    {
      "cell_type": "code",
      "source": [
        "#with open('/content/drive/MyDrive/trial2info2sub.pkl', 'wb') as f:\n",
        "with open('/content/drive/MyDrive/Tirocinio/Datasets/Ciao/subjects_encoding.pkl', 'wb') as f: #Vale\n",
        "  pickle.dump(sub2trial2info, f)"
      ],
      "metadata": {
        "id": "WjkmlLZ5SsZr"
      },
      "execution_count": null,
      "outputs": []
    },
    {
      "cell_type": "code",
      "source": [
        "with open('/content/drive/MyDrive/trial2info2sub.pkl', 'rb') as f:\n",
        "  sub2trial2info = pickle.load(f)"
      ],
      "metadata": {
        "id": "42PRiljnV-om"
      },
      "execution_count": null,
      "outputs": []
    },
    {
      "cell_type": "code",
      "source": [
        "from scipy.io import savemat\n",
        "#savemat('/content/drive/MyDrive/trial2info2sub.mat', {'vec':sub2trial2info})\n",
        "savemat('/content/drive/MyDrive/Tirocinio/Datasets/Ciao/trial2info2sub.mat', {'vec':sub2trial2info}) #Vale"
      ],
      "metadata": {
        "id": "kXIoIahtTh8u"
      },
      "execution_count": null,
      "outputs": []
    },
    {
      "cell_type": "code",
      "source": [
        "for i in range(len(sub2trial2info)):\n",
        "  print(len(sub2trial2info[i]))"
      ],
      "metadata": {
        "id": "6dzaL-P9OcAX"
      },
      "execution_count": null,
      "outputs": []
    },
    {
      "cell_type": "markdown",
      "source": [
        "# Prove"
      ],
      "metadata": {
        "id": "aYcKxhuX7Vcj"
      }
    },
    {
      "cell_type": "code",
      "source": [
        "7175 - (subjects[1][0, 12] - subjects[1][0, 7])  - 985"
      ],
      "metadata": {
        "colab": {
          "base_uri": "https://localhost:8080/"
        },
        "id": "NZUllWOsq_1T",
        "outputId": "24f5238b-4bde-4cc8-8e17-2523a58470c9"
      },
      "execution_count": null,
      "outputs": [
        {
          "output_type": "execute_result",
          "data": {
            "text/plain": [
              "-2"
            ]
          },
          "metadata": {},
          "execution_count": 54
        }
      ]
    },
    {
      "cell_type": "code",
      "source": [
        "np.shape(subjects[8])"
      ],
      "metadata": {
        "id": "5VKeYSpDj9Oz"
      },
      "execution_count": null,
      "outputs": []
    },
    {
      "cell_type": "code",
      "source": [
        "print(subjects[1][:, 13])"
      ],
      "metadata": {
        "colab": {
          "base_uri": "https://localhost:8080/"
        },
        "id": "sPt8Mq6mRj1f",
        "outputId": "19915870-9079-4fc4-c1f2-cb2d58f72cb2"
      },
      "execution_count": null,
      "outputs": [
        {
          "output_type": "stream",
          "name": "stdout",
          "text": [
            "[  76928   83007   89070   96270  103108  109745  115114  122021  128663\n",
            "  134663  140445  146451  152207  158501  164008  169814  176158  184433\n",
            "  190864  198895  204408  209619  215558  221350  227594  233901  239652\n",
            "  245358  256203  262114  267519  274863  281713  287444  293438  298777\n",
            "  304182  309607  314870  321019  327526  332400  338050  343957  349314\n",
            "  354776  360432  365726  370988  376257  381876  388088  394044  402370\n",
            "  407683  413901  427340  433600  439168  445181  450494  455592  460826\n",
            "  466931  472174  477475  483038  488562  493906  499426  504426  509632\n",
            "  515675  521274  526607  531663  537562  543043  548144  553425  559207\n",
            "  565275  570457  575588  586684  592756  599082  604894  610780  616636\n",
            "  623044  628343  633962  639642  645112  650112  656243  661530  666680\n",
            "  672793  678693  684062  689450  694580  700338  705636  711061  716869\n",
            "  722194  728663  733794  739105  953301  958255  963537  969169  974744\n",
            "  980375  985706  991025  997486 1002424 1007474 1012600 1018093 1023043\n",
            " 1028399 1033586 1039343 1044456 1049748 1054993 1060131 1065193 1070337\n",
            " 1075363 1080799 1085773 1091049 1096849 1105507 1110854 1116599 1121724\n",
            " 1126968 1132035 1137187 1142593 1147636 1152649 1157768 1163874 1169511\n",
            " 1175116 1180204 1185210 1190330 1195660 1200867 1206167 1211917 1217511\n",
            " 1222587 1228142 1233192 1238410 1243460 1248572 1259330 1264704 1269673\n",
            " 1275168 1280117 1285343 1291524 1296848 1302436 1308054 1313342 1318536\n",
            " 1323673 1328730 1333830 1338867 1343873 1349254 1354340 1359559 1364692\n",
            " 1369759 1374873 1380104 1385217 1390728 1396010 1401272 1408636 1414548\n",
            " 1420385 1425649 1430693 1436073 1441066 1446453 1453348 1458316 1464467\n",
            " 1469592 1475061 1480122 1485847 1490885 1496279 1501259 1506335 1511699\n",
            " 1517172 1522504 1527817 1533285 1539073 1544059 1549560 1554673]\n"
          ]
        }
      ]
    },
    {
      "cell_type": "code",
      "source": [
        "subjects[2][:, 14] - subjects[2][:, 13]"
      ],
      "metadata": {
        "id": "rHw6fc1holoc",
        "colab": {
          "base_uri": "https://localhost:8080/"
        },
        "outputId": "0cbe5537-795f-49a5-d0b2-8e8c1e358446"
      },
      "execution_count": null,
      "outputs": [
        {
          "output_type": "execute_result",
          "data": {
            "text/plain": [
              "array([ 504, 1387,  875,  812,  680,  980,  954,  706,  563,  870,  563,\n",
              "       1001, 1362,  850,  650,  707,  414, 1006, 1651,  417,  505, 1157,\n",
              "        881,  536,  608, 1143,  637,  819,  331,  844,  831,  957, 1863,\n",
              "        601,  837,  706, 1325, 1038,  564,  632,  950,  968,  774,  962,\n",
              "       2488,  780, 1237,  968,  843,  655,  837,  670,  957, 1657, 1150,\n",
              "        655, 1019, 1626,  643, 1275, 1107,  700,  627,  555, 1275,  618,\n",
              "       1125, 1068,  693,  888,  799,  676, 1032,  794,  768,  880,  700,\n",
              "        735, 1030,  894, 1624, 1851,  711,  237,  469, 1032,  626,  719,\n",
              "        663, 4193, 1150,  692,  499, 1062,  582,  924,  580, 1611, 1818,\n",
              "        767,  711,  851,  882,  599,  756,  775,  618, 1100,  451,  617,\n",
              "       1057,  588,  880,  486,  456,  555,  937,  706,  631,  511,  974,\n",
              "       1025,  988,  638, 1376,  850, 1636, 1556, 1119, 1394,  657,  794,\n",
              "       1274, 2313, 1733, 1731,  624,  599,  849,  913, 1681,  908, 1018,\n",
              "        480, 1213,  606,  442,  764, 1155,  551,  623, 1169,  561, 1420,\n",
              "       1875, 1337, 1800,  443,  529,  388,  850,  891, 1588,  506,  464,\n",
              "        804,  424,  425,  549,  618,  662, 1119,  651,  518, 1926,  417,\n",
              "       2099,  820,  850,  768,  387,  780, 1312,  718,  855,  392, 1274,\n",
              "        307,  913,  638,  943,  430,  512,  994,  893, 1200], dtype=int32)"
            ]
          },
          "metadata": {},
          "execution_count": 55
        }
      ]
    },
    {
      "cell_type": "code",
      "source": [
        "subjects[1][:, 14] - subjects[1][:, 13]"
      ],
      "metadata": {
        "id": "4s0bIDynjD8v",
        "colab": {
          "base_uri": "https://localhost:8080/"
        },
        "outputId": "9e5c6956-2b9c-47cb-a385-205daaee472e"
      },
      "execution_count": null,
      "outputs": [
        {
          "output_type": "execute_result",
          "data": {
            "text/plain": [
              "array([504, 506, 500, 499, 504, 500, 507, 505, 500, 501, 505, 500, 501,\n",
              "       506, 506, 499, 505, 499, 499, 500, 505, 508, 505, 507, 507, 507,\n",
              "       500, 500, 503, 505, 506, 500, 500, 500, 505, 499, 500, 499, 500,\n",
              "       500, 500, 507, 500, 500, 504, 500, 499, 500, 505, 500, 499, 507,\n",
              "       501, 500, 505, 500, 503, 507, 507, 501, 500, 501, 505, 501, 508,\n",
              "       507, 500, 501, 506, 505, 505, 505, 501, 501, 499, 500, 507, 500,\n",
              "       507, 506, 500, 501, 506, 500, 503, 501, 500, 499, 501, 508, 500,\n",
              "       507, 500, 501, 506, 500, 501, 501, 500, 507, 506, 505, 506, 501,\n",
              "       506, 502, 507, 505, 500, 505, 506, 506, 504, 500, 506, 500, 499,\n",
              "       499, 505, 499, 501, 500, 507, 499, 506, 505, 506, 501, 500, 505,\n",
              "       501, 500, 505, 500, 506, 505, 499, 506, 499, 506, 505, 508, 506,\n",
              "       506, 507, 502, 500, 506, 507, 506, 506, 500, 500, 502, 507, 508,\n",
              "       506, 506, 499, 506, 500, 500, 504, 500, 501, 507, 501, 501, 506,\n",
              "       506, 506, 505, 501, 506, 506, 501, 506, 506, 500, 507, 507, 506,\n",
              "       505, 501, 500, 500, 502, 502, 500, 507, 499, 506, 506, 507, 500,\n",
              "       507, 505, 501, 505, 505, 511, 499, 506, 500, 500, 505, 499, 499,\n",
              "       506, 508, 501, 506, 507, 501, 506, 499, 501, 498, 505, 506, 505,\n",
              "       506, 500, 506], dtype=int32)"
            ]
          },
          "metadata": {},
          "execution_count": 49
        }
      ]
    },
    {
      "cell_type": "markdown",
      "source": [
        "# Stats"
      ],
      "metadata": {
        "id": "AqZSrIyj7Yqr"
      }
    },
    {
      "cell_type": "code",
      "source": [
        "with open('/content/drive/MyDrive/subjects.pkl', 'wb') as f:\n",
        "  pickle.dump(subjects, f)"
      ],
      "metadata": {
        "id": "QLwuo8unec-g"
      },
      "execution_count": null,
      "outputs": []
    },
    {
      "cell_type": "code",
      "source": [
        "with open('/content/drive/MyDrive/subjects.pkl', 'rb') as f:\n",
        "#with open('/content/drive/MyDrive/Tesi/data/subjects.pkl', 'rb') as f:\n",
        "#with open('/content/drive/MyDrive/Tirocinio/Datasets/subjects_encoding.pkl', 'rb') as f:\n",
        "  subjects = pickle.load(f)"
      ],
      "metadata": {
        "id": "m1JSQvraelSk"
      },
      "execution_count": null,
      "outputs": []
    },
    {
      "cell_type": "code",
      "source": [
        "print(subjects)"
      ],
      "metadata": {
        "colab": {
          "base_uri": "https://localhost:8080/"
        },
        "id": "x2A6oFaUPR-x",
        "outputId": "b6018427-9d31-4a79-aa3c-d94954671f6b"
      },
      "execution_count": null,
      "outputs": [
        {
          "output_type": "stream",
          "name": "stdout",
          "text": [
            "[array([[      2,       3,       6, ...,   50308,       1,       1],\n",
            "       [      1,       2,       4, ...,   56084,       1,       1],\n",
            "       [      2,       3,       5, ...,   62484,       1,       1],\n",
            "       ...,\n",
            "       [      4,       8,       7, ..., 1334719,       1,       0],\n",
            "       [      4,       8,       8, ..., 1339563,       1,       1],\n",
            "       [      3,       6,       4, ..., 1344544,       1,       1]],\n",
            "      dtype=int32), array([[      4,       7,       5, ...,   77432,       1,       1],\n",
            "       [      3,       5,       1, ...,   83513,       1,       1],\n",
            "       [      3,       6,       4, ...,   89570,       1,       0],\n",
            "       ...,\n",
            "       [      1,       2,       3, ..., 1544565,       1,       1],\n",
            "       [      1,       1,       2, ..., 1550060,       1,       1],\n",
            "       [      1,       2,       4, ..., 1555179,       1,       1]],\n",
            "      dtype=int32), array([[      4,       8,       8, ...,  129048,       1,       1],\n",
            "       [      4,       7,       5, ...,  135856,       1,       1],\n",
            "       [      3,       6,       4, ...,  141393,       0,       1],\n",
            "       ...,\n",
            "       [      2,       4,       8, ..., 1413234,       1,       1],\n",
            "       [      1,       1,       2, ..., 1418839,       0,       0],\n",
            "       [      2,       3,       6, ..., 1425590,       1,       1]],\n",
            "      dtype=int32), array([[      4,       8,       8, ...,   47020,       1,       0],\n",
            "       [      4,       7,       5, ...,   52595,       0,       0],\n",
            "       [      3,       6,       4, ...,   58240,       1,       0],\n",
            "       ...,\n",
            "       [      1,       1,       1, ..., 1413991,       1,       0],\n",
            "       [      2,       4,       8, ..., 1419053,       0,       0],\n",
            "       [      2,       3,       5, ..., 1424085,       1,       0]],\n",
            "      dtype=int32), array([[      1,       1,       2, ...,  104495,       1,       1],\n",
            "       [      1,       2,       3, ...,  109920,       1,       0],\n",
            "       [      1,       2,       4, ...,  115196,       1,       0],\n",
            "       ...,\n",
            "       [      4,       7,       6, ..., 1367554,       1,       1],\n",
            "       [      4,       8,       7, ..., 1372524,       1,       1],\n",
            "       [      4,       8,       8, ..., 1377899,       1,       1]],\n",
            "      dtype=int32), array([[      1,       1,       1, ...,   38181,       1,       1],\n",
            "       [      2,       4,       7, ...,   44037,       1,       0],\n",
            "       [      2,       3,       6, ...,   51093,       1,       1],\n",
            "       ...,\n",
            "       [      4,       7,       6, ..., 1828747,       1,       1],\n",
            "       [      4,       7,       5, ..., 1835140,       1,       1],\n",
            "       [      3,       6,       4, ..., 1841478,       1,       1]],\n",
            "      dtype=int32), array([[      3,       5,       2, ...,  139157,       0,       0],\n",
            "       [      4,       8,       8, ...,  144544,       1,       1],\n",
            "       [      4,       7,       6, ...,  150276,       1,       0],\n",
            "       ...,\n",
            "       [      1,       2,       3, ..., 1467985,       0,       1],\n",
            "       [      2,       3,       6, ..., 1472692,       0,       0],\n",
            "       [      2,       4,       7, ..., 1477567,       1,       1]],\n",
            "      dtype=int32), array([[      2,       4,       8, ...,   89139,       1,       1],\n",
            "       [      2,       4,       7, ...,   94434,       1,       1],\n",
            "       [      1,       1,       1, ...,   99721,       1,       1],\n",
            "       ...,\n",
            "       [      4,       7,       6, ..., 1269288,       1,       0],\n",
            "       [      4,       8,       7, ..., 1274268,       1,       1],\n",
            "       [      4,       8,       7, ..., 1279019,       1,       0]],\n",
            "      dtype=int32), array([[      2,       3,       5, ...,   61331,       1,       1],\n",
            "       [      1,       1,       2, ...,   67663,       1,       0],\n",
            "       [      1,       1,       2, ...,   73488,       1,       1],\n",
            "       ...,\n",
            "       [      4,       8,       7, ..., 1904838,       1,       0],\n",
            "       [      3,       5,       2, ..., 1910020,       1,       0],\n",
            "       [      3,       6,       4, ..., 1915383,       1,       1]],\n",
            "      dtype=int32), array([[      3,       5,       1, ...,  165851,       1,       1],\n",
            "       [      3,       6,       3, ...,  170944,       1,       0],\n",
            "       [      4,       8,       8, ...,  176457,       1,       1],\n",
            "       ...,\n",
            "       [      1,       1,       2, ..., 1529931,       1,       0],\n",
            "       [      2,       4,       8, ..., 1534807,       1,       1],\n",
            "       [      2,       4,       8, ..., 1540406,       1,       1]],\n",
            "      dtype=int32), array([[      2,       4,       8, ...,   57886,       1,       1],\n",
            "       [      1,       2,       3, ...,   64154,       0,       0],\n",
            "       [      2,       3,       5, ...,   70117,       1,       1],\n",
            "       ...,\n",
            "       [      4,       8,       8, ..., 1384620,       1,       0],\n",
            "       [      3,       6,       4, ..., 1389684,       1,       1],\n",
            "       [      3,       6,       4, ..., 1394652,       1,       0]],\n",
            "      dtype=int32), array([[      4,       8,       7, ...,   93874,       1,       1],\n",
            "       [      3,       6,       3, ...,  100018,       1,       0],\n",
            "       [      3,       5,       2, ...,  105461,       1,       0],\n",
            "       ...,\n",
            "       [      2,       3,       5, ..., 1614564,       0,       0],\n",
            "       [      2,       3,       6, ..., 1619402,       1,       0],\n",
            "       [      2,       3,       6, ..., 1624482,       1,       0]],\n",
            "      dtype=int32), array([[      2,       3,       6, ...,   58764,       1,       1],\n",
            "       [      1,       1,       2, ...,   64270,       1,       0],\n",
            "       [      2,       3,       6, ...,   70245,       1,       0],\n",
            "       ...,\n",
            "       [      4,       7,       6, ..., 1450651,       1,       1],\n",
            "       [      4,       7,       5, ..., 1456172,       1,       0],\n",
            "       [      4,       7,       5, ..., 1461764,       1,       0]],\n",
            "      dtype=int32), array([[      1,       2,       4, ...,   77548,       1,       0],\n",
            "       [      1,       2,       3, ...,   83247,       0,       1],\n",
            "       [      1,       1,       1, ...,   88962,       1,       0],\n",
            "       ...,\n",
            "       [      4,       8,       8, ..., 1476539,       1,       1],\n",
            "       [      3,       5,       2, ..., 1481541,       1,       1],\n",
            "       [      3,       5,       2, ..., 1486878,       1,       0]],\n",
            "      dtype=int32), array([[      4,       7,       6, ...,  142497,       1,       0],\n",
            "       [      4,       7,       5, ...,  147823,       1,       1],\n",
            "       [      3,       5,       1, ...,  153234,       1,       0],\n",
            "       ...,\n",
            "       [      2,       4,       8, ..., 1744232,       1,       0],\n",
            "       [      2,       3,       6, ..., 1749546,       1,       1],\n",
            "       [      1,       1,       2, ..., 1754976,       1,       1]],\n",
            "      dtype=int32), array([[      1,       2,       4, ...,  111220,       1,       1],\n",
            "       [      1,       2,       4, ...,  116852,       1,       1],\n",
            "       [      2,       3,       5, ...,  123550,       1,       1],\n",
            "       ...,\n",
            "       [      3,       5,       1, ..., 1409220,       1,       1],\n",
            "       [      3,       6,       3, ..., 1414583,       1,       1],\n",
            "       [      4,       7,       6, ..., 1420739,       1,       1]],\n",
            "      dtype=int32), array([[      2,       3,       6, ...,  119630,       1,       0],\n",
            "       [      1,       2,       3, ...,  127063,       1,       1],\n",
            "       [      1,       2,       4, ...,  133812,       1,       1],\n",
            "       ...,\n",
            "       [      4,       8,       8, ..., 1626382,       1,       1],\n",
            "       [      3,       6,       4, ..., 1632330,       1,       1],\n",
            "       [      3,       6,       3, ..., 1637491,       1,       1]],\n",
            "      dtype=int32), array([[      3,       5,       1, ...,   90729,       1,       1],\n",
            "       [      3,       6,       4, ...,   96386,       1,       1],\n",
            "       [      4,       8,       7, ...,  102479,       1,       1],\n",
            "       ...,\n",
            "       [      2,       4,       7, ..., 1599457,       1,       1],\n",
            "       [      2,       4,       8, ..., 1604583,       1,       1],\n",
            "       [      2,       3,       5, ..., 1610226,       1,       1]],\n",
            "      dtype=int32), array([[      3,       6,       4, ...,  142993,       1,       1],\n",
            "       [      3,       5,       1, ...,  149631,       1,       1],\n",
            "       [      4,       8,       7, ...,  155470,       1,       0],\n",
            "       ...,\n",
            "       [      1,       1,       2, ..., 1617539,       1,       1],\n",
            "       [      1,       1,       1, ..., 1622653,       1,       1],\n",
            "       [      1,       2,       3, ..., 1627845,       1,       0]],\n",
            "      dtype=int32), array([[      2,       4,       7, ...,  142245,       1,       0],\n",
            "       [      1,       2,       3, ...,  147876,       1,       0],\n",
            "       [      2,       3,       6, ...,  153577,       1,       1],\n",
            "       ...,\n",
            "       [      4,       8,       8, ..., 1802919,       1,       0],\n",
            "       [      4,       7,       5, ..., 1808350,       1,       1],\n",
            "       [      3,       5,       1, ..., 1813500,       1,       1]],\n",
            "      dtype=int32), array([[      4,       7,       6, ...,   84801,       1,       1],\n",
            "       [      4,       7,       6, ...,   89888,       1,       1],\n",
            "       [      3,       5,       2, ...,   95113,       1,       1],\n",
            "       ...,\n",
            "       [      1,       1,       2, ..., 1446454,       1,       0],\n",
            "       [      1,       1,       2, ..., 1452080,       1,       1],\n",
            "       [      1,       1,       2, ..., 1457086,       0,       1]],\n",
            "      dtype=int32), array([[      1,       2,       3, ...,   88332,       0,       1],\n",
            "       [      1,       1,       1, ...,   93739,       1,       1],\n",
            "       [      1,       2,       4, ...,   99127,       1,       1],\n",
            "       ...,\n",
            "       [      3,       5,       2, ..., 1496523,       1,       1],\n",
            "       [      3,       5,       2, ..., 1501530,       1,       1],\n",
            "       [      3,       5,       1, ..., 1507080,       0,       0]],\n",
            "      dtype=int32), array([[      4,       8,       8, ...,   91229,       1,       1],\n",
            "       [      4,       7,       6, ...,   96411,       1,       1],\n",
            "       [      3,       5,       2, ...,  101578,       1,       1],\n",
            "       ...,\n",
            "       [      2,       3,       6, ..., 1368752,       1,       1],\n",
            "       [      2,       4,       8, ..., 1374020,       1,       1],\n",
            "       [      1,       2,       4, ..., 1379321,       1,       0]],\n",
            "      dtype=int32), array([[      3,       5,       2, ...,   97504,       1,       0],\n",
            "       [      4,       7,       6, ...,  104285,       1,       0],\n",
            "       [      4,       8,       8, ...,  109891,       1,       0],\n",
            "       ...,\n",
            "       [      1,       2,       4, ..., 1445387,       1,       1],\n",
            "       [      1,       1,       2, ..., 1450642,       1,       0],\n",
            "       [      2,       3,       6, ..., 1456442,       1,       1]],\n",
            "      dtype=int32), array([[      4,       7,       6, ...,   67100,       1,       1],\n",
            "       [      4,       7,       5, ...,   72519,       0,       1],\n",
            "       [      4,       8,       7, ...,   78806,       0,       1],\n",
            "       ...,\n",
            "       [      1,       2,       3, ..., 1719743,       1,       0],\n",
            "       [      2,       4,       7, ..., 1724986,       1,       1],\n",
            "       [      1,       1,       2, ..., 1732343,       1,       0]],\n",
            "      dtype=int32), array([[      2,       4,       8, ...,  100523,       0,       0],\n",
            "       [      1,       2,       3, ...,  106405,       1,       1],\n",
            "       [      1,       2,       3, ...,  112711,       1,       1],\n",
            "       ...,\n",
            "       [      3,       5,       1, ..., 1432046,       1,       1],\n",
            "       [      4,       8,       8, ..., 1437171,       1,       1],\n",
            "       [      3,       6,       3, ..., 1442827,       1,       1]],\n",
            "      dtype=int32), array([[      1,       2,       3, ...,   70721,       1,       1],\n",
            "       [      2,       3,       6, ...,   77016,       1,       0],\n",
            "       [      2,       4,       7, ...,   85333,       1,       1],\n",
            "       ...,\n",
            "       [      4,       7,       5, ..., 1433107,       1,       1],\n",
            "       [      3,       5,       2, ..., 1438111,       1,       1],\n",
            "       [      3,       5,       1, ..., 1442961,       1,       1]],\n",
            "      dtype=int32), array([[      1,       2,       3, ...,  106494,       1,       1],\n",
            "       [      2,       4,       8, ...,  113114,       1,       0],\n",
            "       [      2,       3,       5, ...,  118439,       1,       1],\n",
            "       ...,\n",
            "       [      3,       6,       3, ..., 1419607,       1,       1],\n",
            "       [      3,       5,       1, ..., 1424356,       1,       0],\n",
            "       [      4,       8,       8, ..., 1429624,       1,       0]],\n",
            "      dtype=int32), array([[      3,       6,       4, ...,   61453,       1,       1],\n",
            "       [      4,       8,       8, ...,   66866,       1,       0],\n",
            "       [      3,       6,       4, ...,   72046,       1,       0],\n",
            "       ...,\n",
            "       [      1,       2,       3, ..., 1484218,       1,       1],\n",
            "       [      1,       2,       4, ..., 1489119,       1,       1],\n",
            "       [      1,       2,       3, ..., 1493943,       1,       1]],\n",
            "      dtype=int32), array([[      4,       8,       7, ...,   76193,       1,       0],\n",
            "       [      3,       6,       4, ...,   81955,       1,       1],\n",
            "       [      3,       5,       1, ...,   87443,       1,       1],\n",
            "       ...,\n",
            "       [      1,       1,       2, ..., 1456221,       1,       1],\n",
            "       [      1,       2,       3, ..., 1462276,       1,       1],\n",
            "       [      1,       2,       3, ..., 1467371,       1,       1]],\n",
            "      dtype=int32), array([[      2,       4,       7, ...,  107070,       1,       1],\n",
            "       [      1,       1,       1, ...,  112321,       1,       1],\n",
            "       [      1,       1,       2, ...,  118677,       1,       0],\n",
            "       ...,\n",
            "       [      4,       8,       7, ..., 1487424,       1,       1],\n",
            "       [      4,       8,       7, ..., 1492610,       1,       1],\n",
            "       [      3,       5,       2, ..., 1497837,       1,       1]],\n",
            "      dtype=int32), array([[      2,       3,       6, ...,   77815,       1,       0],\n",
            "       [      1,       1,       1, ...,   83179,       1,       1],\n",
            "       [      2,       3,       5, ...,   88510,       1,       0],\n",
            "       ...,\n",
            "       [      4,       7,       6, ..., 1523438,       1,       0],\n",
            "       [      4,       7,       5, ..., 1528713,       1,       0],\n",
            "       [      3,       6,       3, ..., 1534151,       1,       1]],\n",
            "      dtype=int32), array([[      2,       4,       8, ...,   78538,       1,       1],\n",
            "       [      2,       4,       7, ...,   84114,       1,       1],\n",
            "       [      2,       3,       5, ...,   89656,       1,       0],\n",
            "       ...,\n",
            "       [      3,       5,       1, ..., 1484498,       1,       1],\n",
            "       [      3,       5,       2, ..., 1489552,       1,       1],\n",
            "       [      3,       6,       3, ..., 1495041,       0,       0]],\n",
            "      dtype=int32), array([[      4,       7,       5, ...,   70093,       1,       0],\n",
            "       [      4,       8,       8, ...,   75600,       1,       1],\n",
            "       [      3,       5,       1, ...,   80806,       1,       0],\n",
            "       ...,\n",
            "       [      2,       4,       7, ..., 1410503,       1,       0],\n",
            "       [      1,       1,       2, ..., 1416109,       1,       1],\n",
            "       [      1,       1,       2, ..., 1421584,       1,       1]],\n",
            "      dtype=int32), array([[      4,       8,       8, ...,   39249,       0,       0],\n",
            "       [      4,       8,       7, ...,   46694,       1,       0],\n",
            "       [      3,       6,       3, ...,   52367,       1,       0],\n",
            "       ...,\n",
            "       [      1,       2,       3, ..., 1458876,       1,       1],\n",
            "       [      2,       3,       6, ..., 1464664,       1,       1],\n",
            "       [      2,       3,       5, ..., 1470795,       0,       1]],\n",
            "      dtype=int32), array([[      2,       3,       5, ...,  100505,       1,       0],\n",
            "       [      1,       2,       3, ...,  107498,       1,       0],\n",
            "       [      1,       2,       4, ...,  115580,       0,       1],\n",
            "       ...,\n",
            "       [      4,       8,       8, ..., 1949729,       1,       1],\n",
            "       [      4,       7,       5, ..., 1955231,       1,       0],\n",
            "       [      4,       7,       6, ..., 1961001,       1,       1]],\n",
            "      dtype=int32), array([[      2,       4,       7, ...,   66533,       0,       1],\n",
            "       [      2,       4,       7, ...,   72346,       0,       1],\n",
            "       [      1,       1,       1, ...,   78364,       1,       1],\n",
            "       ...,\n",
            "       [      3,       5,       2, ..., 1377212,       1,       0],\n",
            "       [      3,       5,       2, ..., 1382399,       1,       1],\n",
            "       [      4,       8,       8, ..., 1387368,       1,       1]],\n",
            "      dtype=int32), array([[      1,       1,       1, ...,  159018,       1,       0],\n",
            "       [      1,       1,       1, ...,  164186,       1,       1],\n",
            "       [      2,       3,       5, ...,  169580,       0,       0],\n",
            "       ...,\n",
            "       [      4,       7,       6, ..., 1538910,       1,       1],\n",
            "       [      3,       5,       1, ..., 1544354,       1,       1],\n",
            "       [      3,       5,       1, ..., 1549228,       1,       0]],\n",
            "      dtype=int32), array([[      1,       1,       1, ...,   81972,       1,       1],\n",
            "       [      2,       4,       8, ...,   87072,       1,       1],\n",
            "       [      2,       4,       8, ...,   93247,       1,       1],\n",
            "       ...,\n",
            "       [      4,       7,       5, ..., 1532131,       1,       1],\n",
            "       [      3,       5,       2, ..., 1537145,       1,       1],\n",
            "       [      4,       7,       6, ..., 1542137,       1,       0]],\n",
            "      dtype=int32), array([[      3,       6,       3, ...,  139806,       1,       1],\n",
            "       [      4,       8,       8, ...,  145055,       1,       0],\n",
            "       [      3,       5,       2, ...,  150350,       0,       0],\n",
            "       ...,\n",
            "       [      2,       4,       7, ..., 1241053,       0,       1],\n",
            "       [      1,       1,       2, ..., 1247522,       0,       1],\n",
            "       [      2,       3,       5, ..., 1253153,       1,       1]],\n",
            "      dtype=int32), array([[      4,       8,       8, ...,   73518,       0,       1],\n",
            "       [      3,       5,       1, ...,   80262,       0,       0],\n",
            "       [      3,       5,       2, ...,   85994,       1,       1],\n",
            "       ...,\n",
            "       [      2,       4,       8, ..., 1459159,       1,       1],\n",
            "       [      2,       3,       6, ..., 1464470,       1,       1],\n",
            "       [      2,       4,       7, ..., 1470046,       1,       0]],\n",
            "      dtype=int32), array([[      1,       1,       1, ...,   70338,       1,       1],\n",
            "       [      1,       1,       2, ...,   75544,       1,       0],\n",
            "       [      2,       4,       8, ...,   81145,       1,       1],\n",
            "       ...,\n",
            "       [      4,       7,       6, ..., 1423942,       1,       0],\n",
            "       [      3,       6,       4, ..., 1429023,       1,       0],\n",
            "       [      3,       6,       4, ..., 1434029,       1,       1]],\n",
            "      dtype=int32), array([[      2,       4,       7, ...,   99699,       1,       0],\n",
            "       [      2,       4,       7, ...,  106193,       0,       1],\n",
            "       [      1,       1,       1, ...,  111556,       1,       1],\n",
            "       ...,\n",
            "       [      3,       6,       3, ..., 1466996,       1,       0],\n",
            "       [      4,       7,       5, ..., 1473470,       1,       1],\n",
            "       [      3,       6,       3, ..., 1479989,       1,       1]],\n",
            "      dtype=int32), array([[      4,       8,       8, ...,   87566,       1,       0],\n",
            "       [      4,       8,       8, ...,   93053,       1,       0],\n",
            "       [      4,       7,       5, ...,   98948,       1,       1],\n",
            "       ...,\n",
            "       [      2,       4,       8, ..., 1547188,       0,       1],\n",
            "       [      1,       1,       1, ..., 1552250,       1,       0],\n",
            "       [      1,       2,       4, ..., 1557513,       1,       1]],\n",
            "      dtype=int32), array([[      4,       7,       5, ...,  110741,       0,       0],\n",
            "       [      3,       5,       1, ...,  116202,       0,       1],\n",
            "       [      4,       8,       8, ...,  121351,       0,       1],\n",
            "       ...,\n",
            "       [      1,       2,       4, ..., 1432075,       1,       0],\n",
            "       [      1,       1,       2, ..., 1436737,       1,       0],\n",
            "       [      1,       1,       2, ..., 1441114,       0,       1]],\n",
            "      dtype=int32), array([[      3,       5,       1, ...,  103597,       1,       1],\n",
            "       [      3,       5,       2, ...,  109291,       1,       1],\n",
            "       [      3,       6,       3, ...,  115499,       1,       0],\n",
            "       ...,\n",
            "       [      1,       1,       1, ..., 1559164,       1,       1],\n",
            "       [      2,       3,       5, ..., 1564064,       1,       1],\n",
            "       [      2,       3,       6, ..., 1569121,       1,       1]],\n",
            "      dtype=int32), array([[      4,       7,       5, ...,   70305,       1,       0],\n",
            "       [      4,       7,       5, ...,   77237,       1,       1],\n",
            "       [      3,       5,       2, ...,   83936,       1,       0],\n",
            "       ...,\n",
            "       [      1,       2,       4, ..., 1592357,       1,       1],\n",
            "       [      1,       2,       4, ..., 1597301,       1,       1],\n",
            "       [      2,       4,       8, ..., 1602552,       1,       1]],\n",
            "      dtype=int32)]\n"
          ]
        }
      ]
    },
    {
      "cell_type": "code",
      "source": [
        "#trialinfo = mat['trialinfo']\n",
        "#trialinfo_shape = np.shape(mat['trialinfo'])\n",
        "\n",
        "sub2cond2trials = []\n",
        "for i in subjects:\n",
        "  #1 = Stick congruent, 2 = Stick incongruent, 3 = Avatar congruent, 4 = Avatar incongruent\n",
        "  cond2trials = {'1': [], '2': [], '3': [], '4': []}\n",
        "  for j in range(np.shape(i)[0]):  # iterating over trials\n",
        "    cond2trials[str(i[j,0])].append(j)\n",
        "  sub2cond2trials.append(cond2trials)\n",
        "\n",
        "print(len(sub2cond2trials))"
      ],
      "metadata": {
        "colab": {
          "base_uri": "https://localhost:8080/"
        },
        "id": "XVTwK5CJGwww",
        "outputId": "b045250c-a753-4929-8f78-4746ea569739"
      },
      "execution_count": null,
      "outputs": [
        {
          "output_type": "stream",
          "name": "stdout",
          "text": [
            "47\n"
          ]
        }
      ]
    },
    {
      "cell_type": "code",
      "source": [
        "def compute_reaction_time_stat(sub, trials):\n",
        "  reaction_times = []\n",
        "  for trial in trials:\n",
        "    try:\n",
        "      reaction_times.append(subjects[sub][trial+1, 7] - subjects[sub][trial, 12] - 1000)\n",
        "    except:\n",
        "      continue\n",
        "\n",
        "  return reaction_times"
      ],
      "metadata": {
        "id": "SQCFHRfPKc9Z"
      },
      "execution_count": null,
      "outputs": []
    },
    {
      "cell_type": "code",
      "source": [
        "#stats: 0 = reaction time mean; 1 = reaction time std; 2 = accuracy \n",
        "\n",
        "sub2cond2stats = []\n",
        "for i in range(len(sub2cond2trials)):\n",
        "  cond2stats = []\n",
        "  cond2trials = sub2cond2trials[i]\n",
        "  for j in range(len(cond2trials.keys())):  #condizioni per paziente\n",
        "    stats = []\n",
        "    reaction_time_loc = subjects[i][cond2trials[str(j+1)], 12] - subjects[i][cond2trials[str(j+1)], 11]\n",
        "    stats.append(np.mean(reaction_time_loc))\n",
        "    stats.append(np.std(reaction_time_loc))\n",
        "\n",
        "    #reaction_time_stat = subjects[i][[x+1 for x in cond2trials[str(j+1)]], 7] - subjects[i][cond2trials[str(j+1)], 14] - 1000\n",
        "    reaction_time_stat = compute_reaction_time_stat(i, cond2trials[str(j+1)])\n",
        "    stats.append(np.mean(reaction_time_stat))\n",
        "    stats.append(np.std(reaction_time_stat))\n",
        "\n",
        "    loc_accuracy = subjects[i][cond2trials[str(j+1)], 15]\n",
        "    stats.append(np.mean(loc_accuracy))\n",
        "    stats.append(np.std(loc_accuracy))\n",
        "\n",
        "    status_accuracy = subjects[i][cond2trials[str(j+1)], 16]\n",
        "    stats.append(np.mean(status_accuracy))\n",
        "    stats.append(np.std(status_accuracy))\n",
        "    cond2stats.append(stats)\n",
        "  sub2cond2stats.append(cond2stats)"
      ],
      "metadata": {
        "id": "5tJrkhuHMmAK"
      },
      "execution_count": null,
      "outputs": []
    },
    {
      "cell_type": "code",
      "source": [
        "print(subjects[0][0, 7])"
      ],
      "metadata": {
        "colab": {
          "base_uri": "https://localhost:8080/"
        },
        "id": "iSPhk50OOgLe",
        "outputId": "66a90aa8-6996-42a5-b35c-d4c68fce7251"
      },
      "execution_count": null,
      "outputs": [
        {
          "output_type": "stream",
          "name": "stdout",
          "text": [
            "45162\n"
          ]
        }
      ]
    },
    {
      "cell_type": "code",
      "source": [
        "print(sub2cond2stats[0][0])"
      ],
      "metadata": {
        "colab": {
          "base_uri": "https://localhost:8080/"
        },
        "id": "4YzGcC7BU2iN",
        "outputId": "55e7bb2e-8b5f-4f71-dd05-748987efbf78"
      },
      "execution_count": null,
      "outputs": [
        {
          "output_type": "stream",
          "name": "stdout",
          "text": [
            "[441.19642857142856, 98.64536402886735, 977.6964285714286, 1159.6605864223939, 0.8928571428571429, 0.30929478706587094, 0.6607142857142857, 0.47346691369867333]\n"
          ]
        }
      ]
    },
    {
      "cell_type": "markdown",
      "source": [
        "## Reaction Times compared to accuracies"
      ],
      "metadata": {
        "id": "xWsocwevwxTn"
      }
    },
    {
      "cell_type": "code",
      "source": [
        "soc_reaction_times_loc = []\n",
        "non_soc_reaction_times_loc = []\n",
        "\n",
        "soc_reaction_times_stat = []\n",
        "non_soc_reaction_times_stat = []\n",
        "sub2cond2stats = np.array(sub2cond2stats)\n",
        "\n",
        "for sub in range(len(sub2cond2stats)):\n",
        "  if sub == 1 or sub == 5 or sub == 32:\n",
        "    continue\n",
        "  for cond in range(0, 4, 2):\n",
        "    if cond == 0:\n",
        "      val = (sub2cond2stats[sub, cond, 0] + sub2cond2stats[sub, cond+1, 0])/2\n",
        "      soc_reaction_times_loc.append(val) #Social loc\n",
        "      val = (sub2cond2stats[sub, cond, 2] + sub2cond2stats[sub, cond+1, 2])/2\n",
        "      soc_reaction_times_stat.append(val) #Social stat\n",
        "    else:\n",
        "      val = (sub2cond2stats[sub, cond, 0] + sub2cond2stats[sub, cond+1, 0])/2\n",
        "      non_soc_reaction_times_loc.append(val) #Non social loc\n",
        "      val = (sub2cond2stats[sub, cond, 2] + sub2cond2stats[sub, cond+1, 2])/2\n",
        "      non_soc_reaction_times_stat.append(val) #Non social stat\n",
        "\n",
        "with open('/content/drive/MyDrive/soc_reaction_times_loc.pkl', 'wb') as f:\n",
        "  pickle.dump(np.array(soc_reaction_times_loc), f)\n",
        "\n",
        "with open('/content/drive/MyDrive/non_soc_reaction_times_loc.pkl', 'wb') as f:\n",
        "  pickle.dump(np.array(non_soc_reaction_times_loc), f)\n",
        "\n",
        "with open('/content/drive/MyDrive/soc_reaction_times_stat.pkl', 'wb') as f:\n",
        "  pickle.dump(np.array(soc_reaction_times_stat), f)\n",
        "\n",
        "with open('/content/drive/MyDrive/non_soc_reaction_times_stat.pkl', 'wb') as f:\n",
        "  pickle.dump(np.array(non_soc_reaction_times_stat), f)"
      ],
      "metadata": {
        "id": "XGk_fdXxioBT"
      },
      "execution_count": null,
      "outputs": []
    },
    {
      "cell_type": "code",
      "source": [
        "soc_acc_loc = []\n",
        "non_soc_acc_loc = []\n",
        "\n",
        "soc_acc_stat = []\n",
        "non_soc_acc_stat = []\n",
        "sub2cond2stats = np.array(sub2cond2stats)\n",
        "\n",
        "for sub in range(len(sub2cond2stats)):\n",
        "  if sub == 1 or sub == 5 or sub == 32:\n",
        "    continue\n",
        "  for cond in range(0, 4, 2):\n",
        "    if cond == 0:\n",
        "      val = (sub2cond2stats[sub, cond, 4] + sub2cond2stats[sub, cond+1, 0])/2\n",
        "      soc_acc_loc.append(val) #Social loc\n",
        "      val = (sub2cond2stats[sub, cond, 6] + sub2cond2stats[sub, cond+1, 2])/2\n",
        "      soc_acc_stat.append(val) #Social stat\n",
        "    else:\n",
        "      val = (sub2cond2stats[sub, cond, 4] + sub2cond2stats[sub, cond+1, 0])/2\n",
        "      non_soc_acc_loc.append(val) #Non social loc\n",
        "      val = (sub2cond2stats[sub, cond, 6] + sub2cond2stats[sub, cond+1, 2])/2\n",
        "      non_soc_acc_stat.append(val) #Non social stat\n",
        "\n",
        "with open('/content/drive/MyDrive/soc_acc_loc.pkl', 'wb') as f:\n",
        "  pickle.dump(np.array(soc_acc_loc), f)\n",
        "\n",
        "with open('/content/drive/MyDrive/non_soc_acc_loc.pkl', 'wb') as f:\n",
        "  pickle.dump(np.array(non_soc_acc_loc), f)\n",
        "\n",
        "with open('/content/drive/MyDrive/soc_acc_stat.pkl', 'wb') as f:\n",
        "  pickle.dump(np.array(soc_acc_stat), f)\n",
        "\n",
        "with open('/content/drive/MyDrive/non_soc_acc_stat.pkl', 'wb') as f:\n",
        "  pickle.dump(np.array(non_soc_acc_stat), f)"
      ],
      "metadata": {
        "id": "3ma4pCkMPtuG"
      },
      "execution_count": null,
      "outputs": []
    },
    {
      "cell_type": "code",
      "source": [
        "reaction_time_loc = np.array(soc_reaction_times_loc) - np.array(non_soc_reaction_times_loc)\n",
        "reaction_time_status =  np.array(soc_reaction_times_stat) -  np.array(non_soc_reaction_times_stat)"
      ],
      "metadata": {
        "id": "S6G5vJLO35Wm"
      },
      "execution_count": null,
      "outputs": []
    },
    {
      "cell_type": "code",
      "source": [
        "accuracies = np.array([85.3,76.5,70.5,79.4,82.3,94.1,94.1,94.1,94.1,85.3,82.3,85.3,82.3,76.5, 91.1, 73.5,88.2,\\\n",
        " 88.2,88.2,82.3,82.3,88.2,85.3,82.3,94.1,97.0,70.5,76.5,82.3,79.4,82.3,97.0,79.4,85.3,\\\n",
        " 82.3,82.3,67.6,91.1,85.3,82.3,88.2,97.0,79.4,76.5])"
      ],
      "metadata": {
        "id": "rriBIMxLnd6h"
      },
      "execution_count": null,
      "outputs": []
    },
    {
      "cell_type": "code",
      "source": [
        "print(accuracies[0])\n",
        "print(soc_reaction_times_loc[0])"
      ],
      "metadata": {
        "colab": {
          "base_uri": "https://localhost:8080/"
        },
        "id": "7Looksj2sCq_",
        "outputId": "396eb0f8-443b-43f9-da92-7e70ff47d62b"
      },
      "execution_count": null,
      "outputs": [
        {
          "output_type": "stream",
          "name": "stdout",
          "text": [
            "85.3\n",
            "442.4821428571429\n"
          ]
        }
      ]
    },
    {
      "cell_type": "code",
      "source": [
        "import matplotlib.pyplot as plt\n",
        "\n",
        "#soc_reaction_times_loc_norm = ((soc_reaction_times_loc - min(soc_reaction_times_loc))/(max(soc_reaction_times_loc) - min(soc_reaction_times_loc)))*100\n",
        "\n",
        "labels = range(44)\n",
        "x = np.arange(len(labels))  # the label locations\n",
        "width = 0.35  # the width of the bars\n",
        "\n",
        "fig, ax = plt.subplots()\n",
        "rects1 = ax.bar(x - width/2, soc_reaction_times_loc, width, label='soc_reaction_times_loc')\n",
        "rects2 = ax.bar(x + width/2, accuracies, width, label='accuracies')\n",
        "\n",
        "ax.set_xticks(x, labels)\n",
        "\n",
        "plt.show()"
      ],
      "metadata": {
        "id": "0vwhF_fruRU8"
      },
      "execution_count": null,
      "outputs": []
    },
    {
      "cell_type": "code",
      "source": [
        "import matplotlib.pyplot as plt\n",
        "\n",
        "#soc_reaction_times_loc = ((soc_reaction_times_loc - min(soc_reaction_times_loc))/(max(soc_reaction_times_loc) - min(soc_reaction_times_loc)))*100\n",
        "\n",
        "plt.figure(figsize=[10,8])\n",
        "plt.bar(range(44), abs(soc_reaction_times_loc/accuracies), label='soc_reaction_times_loc')\n",
        "#plt.bar(range(44), accuracies, label='accuracies')\n",
        "plt.legend(loc='upper left')\n",
        "plt.show()"
      ],
      "metadata": {
        "colab": {
          "base_uri": "https://localhost:8080/",
          "height": 483
        },
        "id": "IDyZF5WvpJxO",
        "outputId": "5002062a-f607-42af-8930-d1eb789e1c6c"
      },
      "execution_count": null,
      "outputs": [
        {
          "output_type": "display_data",
          "data": {
            "text/plain": [
              "<Figure size 720x576 with 1 Axes>"
            ],
            "image/png": "[encoded data removed]"
          },
          "metadata": {
            "needs_background": "light"
          }
        }
      ]
    },
    {
      "cell_type": "code",
      "source": [
        "plt.figure(figsize=[10,8])\n",
        "plt.bar(range(44), abs(non_soc_reaction_times_loc/accuracies), label='non_soc_reaction_times_loc')\n",
        "#plt.bar(range(44), accuracies, label='accuracies')\n",
        "plt.legend(loc='upper right')\n",
        "plt.show()"
      ],
      "metadata": {
        "colab": {
          "base_uri": "https://localhost:8080/",
          "height": 483
        },
        "id": "xH6lBPTywqf9",
        "outputId": "2cc23696-707d-4b29-b5c5-4a6be6b6f449"
      },
      "execution_count": null,
      "outputs": [
        {
          "output_type": "display_data",
          "data": {
            "text/plain": [
              "<Figure size 720x576 with 1 Axes>"
            ],
            "image/png": "[encoded data removed]"
          },
          "metadata": {
            "needs_background": "light"
          }
        }
      ]
    },
    {
      "cell_type": "code",
      "source": [
        "plt.figure(figsize=[10,8])\n",
        "plt.bar(range(44), abs(soc_reaction_times_stat/accuracies), label='soc_reaction_times_stat')\n",
        "#plt.bar(range(44), accuracies, label='accuracies')\n",
        "plt.legend(loc='upper right')\n",
        "plt.show()"
      ],
      "metadata": {
        "colab": {
          "base_uri": "https://localhost:8080/",
          "height": 483
        },
        "id": "yBD3AGTSw2L2",
        "outputId": "977d5c89-1068-4a8a-f998-e0ab5d6df163"
      },
      "execution_count": null,
      "outputs": [
        {
          "output_type": "display_data",
          "data": {
            "text/plain": [
              "<Figure size 720x576 with 1 Axes>"
            ],
            "image/png": "[encoded data removed]"
          },
          "metadata": {
            "needs_background": "light"
          }
        }
      ]
    },
    {
      "cell_type": "code",
      "source": [
        "plt.figure(figsize=[10,8])\n",
        "plt.bar(range(44), abs(non_soc_reaction_times_stat/accuracies), label='non_soc_reaction_times_stat')\n",
        "#plt.bar(range(44), accuracies, label='accuracies')\n",
        "plt.legend(loc='upper right')\n",
        "plt.show()"
      ],
      "metadata": {
        "colab": {
          "base_uri": "https://localhost:8080/",
          "height": 483
        },
        "id": "9ZHFTK9hw2yS",
        "outputId": "b5830968-8f40-4ee3-d95c-60edc6a26cae"
      },
      "execution_count": null,
      "outputs": [
        {
          "output_type": "display_data",
          "data": {
            "text/plain": [
              "<Figure size 720x576 with 1 Axes>"
            ],
            "image/png": "[encoded data removed]"
          },
          "metadata": {
            "needs_background": "light"
          }
        }
      ]
    },
    {
      "cell_type": "code",
      "source": [
        "from scipy import stats\n",
        "\n",
        "print(stats.ttest_ind(soc_reaction_times_loc, accuracies))\n",
        "print(stats.ttest_ind(non_soc_reaction_times_loc, accuracies))\n",
        "print(stats.ttest_ind(soc_reaction_times_stat, accuracies))\n",
        "print(stats.ttest_ind(non_soc_reaction_times_stat, accuracies))"
      ],
      "metadata": {
        "colab": {
          "base_uri": "https://localhost:8080/"
        },
        "id": "kCKQ_rbyzWXv",
        "outputId": "eadd37e5-5a70-43b6-e9eb-6339716c802f"
      },
      "execution_count": null,
      "outputs": [
        {
          "output_type": "stream",
          "name": "stdout",
          "text": [
            "Ttest_indResult(statistic=17.735282716345605, pvalue=1.7956522866839518e-30)\n",
            "Ttest_indResult(statistic=15.09123427052152, pvalue=6.788240852746967e-26)\n",
            "Ttest_indResult(statistic=13.474122819219806, pvalue=6.610066193053599e-23)\n",
            "Ttest_indResult(statistic=13.211458151633206, pvalue=2.0828751603342384e-22)\n"
          ]
        }
      ]
    },
    {
      "cell_type": "code",
      "source": [
        "from scipy.stats import pearsonr\n",
        "\n",
        "corr, _ = pearsonr(soc_reaction_times_loc, accuracies)\n",
        "print('Pearsons correlation: %.3f' % corr)\n",
        "corr, _ = pearsonr(non_soc_reaction_times_loc, accuracies)\n",
        "print('Pearsons correlation: %.3f' % corr)\n",
        "corr, _ = pearsonr(soc_reaction_times_stat, accuracies)\n",
        "print('Pearsons correlation: %.3f' % corr)\n",
        "corr, _ = pearsonr(non_soc_reaction_times_stat, accuracies)\n",
        "print('Pearsons correlation: %.3f' % corr)"
      ],
      "metadata": {
        "colab": {
          "base_uri": "https://localhost:8080/"
        },
        "id": "gmLkcaWh1wRD",
        "outputId": "79e185a5-f1f6-4297-ad7f-75da01593c5f"
      },
      "execution_count": null,
      "outputs": [
        {
          "output_type": "stream",
          "name": "stdout",
          "text": [
            "Pearsons correlation: 0.018\n",
            "Pearsons correlation: 0.096\n",
            "Pearsons correlation: 0.220\n",
            "Pearsons correlation: -0.235\n"
          ]
        }
      ]
    },
    {
      "cell_type": "code",
      "source": [
        "corr, _ = pearsonr(reaction_time_loc, accuracies)\n",
        "print('Pearsons correlation: %.3f' % corr)\n",
        "corr, _ = pearsonr(reaction_time_status, accuracies)\n",
        "print('Pearsons correlation: %.3f' % corr)"
      ],
      "metadata": {
        "colab": {
          "base_uri": "https://localhost:8080/"
        },
        "id": "7aXKpX7c4gLT",
        "outputId": "3598ee05-2521-46d8-8c7b-b9b49f227a33"
      },
      "execution_count": null,
      "outputs": [
        {
          "output_type": "stream",
          "name": "stdout",
          "text": [
            "Pearsons correlation: -0.116\n",
            "Pearsons correlation: 0.266\n"
          ]
        }
      ]
    },
    {
      "cell_type": "code",
      "source": [
        "from scipy.stats import spearmanr\n",
        "\n",
        "corr, _ = spearmanr(soc_reaction_times_loc, accuracies)\n",
        "print('Pearsons correlation: %.3f' % corr)\n",
        "corr, _ = spearmanr(non_soc_reaction_times_loc, accuracies)\n",
        "print('Pearsons correlation: %.3f' % corr)\n",
        "corr, _ = spearmanr(soc_reaction_times_stat, accuracies)\n",
        "print('Pearsons correlation: %.3f' % corr)\n",
        "corr, _ = spearmanr(non_soc_reaction_times_stat, accuracies)\n",
        "print('Pearsons correlation: %.3f' % corr)"
      ],
      "metadata": {
        "colab": {
          "base_uri": "https://localhost:8080/"
        },
        "id": "oM9zXri02QaD",
        "outputId": "f73d9a3d-65bf-41c3-dd2c-7dad34a380b5"
      },
      "execution_count": null,
      "outputs": [
        {
          "output_type": "stream",
          "name": "stdout",
          "text": [
            "Pearsons correlation: -0.027\n",
            "Pearsons correlation: -0.015\n",
            "Pearsons correlation: 0.152\n",
            "Pearsons correlation: -0.238\n"
          ]
        }
      ]
    },
    {
      "cell_type": "markdown",
      "source": [
        "## Stats Plots"
      ],
      "metadata": {
        "id": "iZQiJIQYw3oH"
      }
    },
    {
      "cell_type": "code",
      "source": [
        "cond2time = []\n",
        "for i in range(4):\n",
        "  cond2time.append(np.mean(np.array(sub2cond2stats)[:, i, 0]))"
      ],
      "metadata": {
        "id": "avjcYAekgYw6"
      },
      "execution_count": null,
      "outputs": []
    },
    {
      "cell_type": "code",
      "source": [
        "print(cond2time)"
      ],
      "metadata": {
        "colab": {
          "base_uri": "https://localhost:8080/"
        },
        "id": "zYbnzq-9vce_",
        "outputId": "7e12b836-cb53-4b50-f08c-68012e5fd309"
      },
      "execution_count": null,
      "outputs": [
        {
          "output_type": "stream",
          "name": "stdout",
          "text": [
            "[603.8859999904391, 600.0185477729327, 622.7419199594732, 639.1009520829607]\n"
          ]
        }
      ]
    },
    {
      "cell_type": "code",
      "source": [
        "import matplotlib.pyplot as plt\n",
        "\n",
        "plt.boxplot(np.array(sub2cond2stats)[:, :, 6], notch=None, vert=None, patch_artist=None, widths=None)\n",
        "plt.xticks([1, 2, 3, 4], ['SC', 'SI', 'AC', 'AI'])"
      ],
      "metadata": {
        "colab": {
          "base_uri": "https://localhost:8080/",
          "height": 352
        },
        "id": "psGKUy7iYl_F",
        "outputId": "bd4e47c5-8ba0-4c0e-9d04-d1cd128f31f7"
      },
      "execution_count": null,
      "outputs": [
        {
          "output_type": "execute_result",
          "data": {
            "text/plain": [
              "([<matplotlib.axis.XTick at 0x7f868bacae90>,\n",
              "  <matplotlib.axis.XTick at 0x7f868bacac50>,\n",
              "  <matplotlib.axis.XTick at 0x7f868ba1df10>,\n",
              "  <matplotlib.axis.XTick at 0x7f868ba2a550>],\n",
              " [Text(0, 0, 'SC'), Text(0, 0, 'SI'), Text(0, 0, 'AC'), Text(0, 0, 'AI')])"
            ]
          },
          "metadata": {},
          "execution_count": 85
        },
        {
          "output_type": "display_data",
          "data": {
            "text/plain": [
              "<Figure size 432x288 with 1 Axes>"
            ],
            "image/png": "[encoded data removed]"
          },
          "metadata": {
            "needs_background": "light"
          }
        }
      ]
    },
    {
      "cell_type": "code",
      "source": [
        "import seaborn as sns\n",
        "import pandas as pd\n",
        "\n",
        "tips = sns.load_dataset(\"tips\")\n",
        "\n",
        "condIdx2str = {0: 'stick cong', 1: 'stick inco', \\\n",
        "               2: 'avatar cong', 3: 'avatar inco'}\n",
        "\n",
        "df = pd.DataFrame()\n",
        "for sub_idx in range(len(sub2cond2stats)):\n",
        "    for cond_idx in range(len(sub2cond2stats[sub_idx])):\n",
        "        cond = list(sub2cond2stats[sub_idx][cond_idx])\n",
        "        cond.insert(0, condIdx2str[cond_idx])\n",
        "        df = df.append(pd.Series(cond), ignore_index=True)\n",
        "\n",
        "df = df.rename(columns={0:'condition', 1:'time_location_mean', 2:'time_location_std', \\\n",
        "                           3:'time_status_mean', 4:'time_status_std', \\\n",
        "                           5:'accuracy_location_mean', 6:'accuracy_location_std', \\\n",
        "                           7:'accuracy_status_mean', 8:'accuracy_status_std'})\n"
      ],
      "metadata": {
        "id": "_pCtP90DXLT2"
      },
      "execution_count": null,
      "outputs": []
    },
    {
      "cell_type": "code",
      "source": [
        "df.head()"
      ],
      "metadata": {
        "colab": {
          "base_uri": "https://localhost:8080/",
          "height": 206
        },
        "id": "1h9KykeYcxVS",
        "outputId": "4a715b9d-6e23-4571-b891-bcdcf65c84d8"
      },
      "execution_count": null,
      "outputs": [
        {
          "output_type": "execute_result",
          "data": {
            "text/plain": [
              "     condition  time_location_mean  time_location_std  time_status_mean  \\\n",
              "0   stick cong          441.196429          98.645364        977.696429   \n",
              "1   stick inco          443.767857          83.814845       3220.267857   \n",
              "2  avatar cong          413.053571          86.832026        523.727273   \n",
              "3  avatar inco          375.660714          72.354355        646.625000   \n",
              "4   stick cong          436.732143         180.728041        913.218182   \n",
              "\n",
              "   time_status_std  accuracy_location_mean  accuracy_location_std  \\\n",
              "0      1159.660586                0.892857               0.309295   \n",
              "1     19011.766269                0.946429               0.225170   \n",
              "2       119.259908                0.928571               0.257539   \n",
              "3       594.781850                0.982143               0.132432   \n",
              "4       508.794393                0.946429               0.225170   \n",
              "\n",
              "   accuracy_status_mean  accuracy_status_std  \n",
              "0              0.660714             0.473467  \n",
              "1              0.785714             0.410326  \n",
              "2              0.678571             0.467025  \n",
              "3              0.571429             0.494872  \n",
              "4              0.571429             0.494872  "
            ],
            "text/html": [
              "\n",
              "  <div id=\"df-5fefe56b-99d6-4d22-9ae5-803ad88670bc\">\n",
              "    <div class=\"colab-df-container\">\n",
              "      <div>\n",
              "<style scoped>\n",
              "    .dataframe tbody tr th:only-of-type {\n",
              "        vertical-align: middle;\n",
              "    }\n",
              "\n",
              "    .dataframe tbody tr th {\n",
              "        vertical-align: top;\n",
              "    }\n",
              "\n",
              "    .dataframe thead th {\n",
              "        text-align: right;\n",
              "    }\n",
              "</style>\n",
              "<table border=\"1\" class=\"dataframe\">\n",
              "  <thead>\n",
              "    <tr style=\"text-align: right;\">\n",
              "      <th></th>\n",
              "      <th>condition</th>\n",
              "      <th>time_location_mean</th>\n",
              "      <th>time_location_std</th>\n",
              "      <th>time_status_mean</th>\n",
              "      <th>time_status_std</th>\n",
              "      <th>accuracy_location_mean</th>\n",
              "      <th>accuracy_location_std</th>\n",
              "      <th>accuracy_status_mean</th>\n",
              "      <th>accuracy_status_std</th>\n",
              "    </tr>\n",
              "  </thead>\n",
              "  <tbody>\n",
              "    <tr>\n",
              "      <th>0</th>\n",
              "      <td>stick cong</td>\n",
              "      <td>441.196429</td>\n",
              "      <td>98.645364</td>\n",
              "      <td>977.696429</td>\n",
              "      <td>1159.660586</td>\n",
              "      <td>0.892857</td>\n",
              "      <td>0.309295</td>\n",
              "      <td>0.660714</td>\n",
              "      <td>0.473467</td>\n",
              "    </tr>\n",
              "    <tr>\n",
              "      <th>1</th>\n",
              "      <td>stick inco</td>\n",
              "      <td>443.767857</td>\n",
              "      <td>83.814845</td>\n",
              "      <td>3220.267857</td>\n",
              "      <td>19011.766269</td>\n",
              "      <td>0.946429</td>\n",
              "      <td>0.225170</td>\n",
              "      <td>0.785714</td>\n",
              "      <td>0.410326</td>\n",
              "    </tr>\n",
              "    <tr>\n",
              "      <th>2</th>\n",
              "      <td>avatar cong</td>\n",
              "      <td>413.053571</td>\n",
              "      <td>86.832026</td>\n",
              "      <td>523.727273</td>\n",
              "      <td>119.259908</td>\n",
              "      <td>0.928571</td>\n",
              "      <td>0.257539</td>\n",
              "      <td>0.678571</td>\n",
              "      <td>0.467025</td>\n",
              "    </tr>\n",
              "    <tr>\n",
              "      <th>3</th>\n",
              "      <td>avatar inco</td>\n",
              "      <td>375.660714</td>\n",
              "      <td>72.354355</td>\n",
              "      <td>646.625000</td>\n",
              "      <td>594.781850</td>\n",
              "      <td>0.982143</td>\n",
              "      <td>0.132432</td>\n",
              "      <td>0.571429</td>\n",
              "      <td>0.494872</td>\n",
              "    </tr>\n",
              "    <tr>\n",
              "      <th>4</th>\n",
              "      <td>stick cong</td>\n",
              "      <td>436.732143</td>\n",
              "      <td>180.728041</td>\n",
              "      <td>913.218182</td>\n",
              "      <td>508.794393</td>\n",
              "      <td>0.946429</td>\n",
              "      <td>0.225170</td>\n",
              "      <td>0.571429</td>\n",
              "      <td>0.494872</td>\n",
              "    </tr>\n",
              "  </tbody>\n",
              "</table>\n",
              "</div>\n",
              "      <button class=\"colab-df-convert\" onclick=\"convertToInteractive('df-5fefe56b-99d6-4d22-9ae5-803ad88670bc')\"\n",
              "              title=\"Convert this dataframe to an interactive table.\"\n",
              "              style=\"display:none;\">\n",
              "        \n",
              "  <svg xmlns=\"http://www.w3.org/2000/svg\" height=\"24px\"viewBox=\"0 0 24 24\"\n",
              "       width=\"24px\">\n",
              "    <path d=\"M0 0h24v24H0V0z\" fill=\"none\"/>\n",
              "    <path d=\"M18.56 5.44l.94 2.06.94-2.06 2.06-.94-2.06-.94-.94-2.06-.94 2.06-2.06.94zm-11 1L8.5 8.5l.94-2.06 2.06-.94-2.06-.94L8.5 2.5l-.94 2.06-2.06.94zm10 10l.94 2.06.94-2.06 2.06-.94-2.06-.94-.94-2.06-.94 2.06-2.06.94z\"/><path d=\"M17.41 7.96l-1.37-1.37c-.4-.4-.92-.59-1.43-.59-.52 0-1.04.2-1.43.59L10.3 9.45l-7.72 7.72c-.78.78-.78 2.05 0 2.83L4 21.41c.39.39.9.59 1.41.59.51 0 1.02-.2 1.41-.59l7.78-7.78 2.81-2.81c.8-.78.8-2.07 0-2.86zM5.41 20L4 18.59l7.72-7.72 1.47 1.35L5.41 20z\"/>\n",
              "  </svg>\n",
              "      </button>\n",
              "      \n",
              "  <style>\n",
              "    .colab-df-container {\n",
              "      display:flex;\n",
              "      flex-wrap:wrap;\n",
              "      gap: 12px;\n",
              "    }\n",
              "\n",
              "    .colab-df-convert {\n",
              "      background-color: #E8F0FE;\n",
              "      border: none;\n",
              "      border-radius: 50%;\n",
              "      cursor: pointer;\n",
              "      display: none;\n",
              "      fill: #1967D2;\n",
              "      height: 32px;\n",
              "      padding: 0 0 0 0;\n",
              "      width: 32px;\n",
              "    }\n",
              "\n",
              "    .colab-df-convert:hover {\n",
              "      background-color: #E2EBFA;\n",
              "      box-shadow: 0px 1px 2px rgba(60, 64, 67, 0.3), 0px 1px 3px 1px rgba(60, 64, 67, 0.15);\n",
              "      fill: #174EA6;\n",
              "    }\n",
              "\n",
              "    [theme=dark] .colab-df-convert {\n",
              "      background-color: #3B4455;\n",
              "      fill: #D2E3FC;\n",
              "    }\n",
              "\n",
              "    [theme=dark] .colab-df-convert:hover {\n",
              "      background-color: #434B5C;\n",
              "      box-shadow: 0px 1px 3px 1px rgba(0, 0, 0, 0.15);\n",
              "      filter: drop-shadow(0px 1px 2px rgba(0, 0, 0, 0.3));\n",
              "      fill: #FFFFFF;\n",
              "    }\n",
              "  </style>\n",
              "\n",
              "      <script>\n",
              "        const buttonEl =\n",
              "          document.querySelector('#df-5fefe56b-99d6-4d22-9ae5-803ad88670bc button.colab-df-convert');\n",
              "        buttonEl.style.display =\n",
              "          google.colab.kernel.accessAllowed ? 'block' : 'none';\n",
              "\n",
              "        async function convertToInteractive(key) {\n",
              "          const element = document.querySelector('#df-5fefe56b-99d6-4d22-9ae5-803ad88670bc');\n",
              "          const dataTable =\n",
              "            await google.colab.kernel.invokeFunction('convertToInteractive',\n",
              "                                                     [key], {});\n",
              "          if (!dataTable) return;\n",
              "\n",
              "          const docLinkHtml = 'Like what you see? Visit the ' +\n",
              "            '<a target=\"_blank\" href=https://colab.research.google.com/notebooks/data_table.ipynb>data table notebook</a>'\n",
              "            + ' to learn more about interactive tables.';\n",
              "          element.innerHTML = '';\n",
              "          dataTable['output_type'] = 'display_data';\n",
              "          await google.colab.output.renderOutput(dataTable, element);\n",
              "          const docLink = document.createElement('div');\n",
              "          docLink.innerHTML = docLinkHtml;\n",
              "          element.appendChild(docLink);\n",
              "        }\n",
              "      </script>\n",
              "    </div>\n",
              "  </div>\n",
              "  "
            ]
          },
          "metadata": {},
          "execution_count": 151
        }
      ]
    },
    {
      "cell_type": "code",
      "source": [
        "stat_to_display = 'accuracy_status_mean'"
      ],
      "metadata": {
        "id": "eDNk7P_znwiC"
      },
      "execution_count": null,
      "outputs": []
    },
    {
      "cell_type": "code",
      "source": [
        "ax = sns.stripplot(x='condition', y=stat_to_display, data=df, jitter=0.08)"
      ],
      "metadata": {
        "colab": {
          "base_uri": "https://localhost:8080/",
          "height": 279
        },
        "id": "EekLHKKzhjUz",
        "outputId": "2d410269-99c9-4b6b-d8e8-ff526ca5b087"
      },
      "execution_count": null,
      "outputs": [
        {
          "output_type": "display_data",
          "data": {
            "text/plain": [
              "<Figure size 432x288 with 1 Axes>"
            ],
            "image/png": "[encoded data removed]"
          },
          "metadata": {
            "needs_background": "light"
          }
        }
      ]
    },
    {
      "cell_type": "code",
      "source": [
        "ax = sns.boxplot(y=\"condition\", x=stat_to_display, data=df)\n",
        "ax = sns.stripplot(y='condition', x=stat_to_display, data=df, color='.3')"
      ],
      "metadata": {
        "colab": {
          "base_uri": "https://localhost:8080/",
          "height": 280
        },
        "id": "IUhRHDLVlEZ4",
        "outputId": "8db2cbd3-cc53-401f-8bc3-bd167eb29537"
      },
      "execution_count": null,
      "outputs": [
        {
          "output_type": "display_data",
          "data": {
            "text/plain": [
              "<Figure size 432x288 with 1 Axes>"
            ],
            "image/png": "[encoded data removed]"
          },
          "metadata": {
            "needs_background": "light"
          }
        }
      ]
    },
    {
      "cell_type": "code",
      "source": [
        "ax = sns.violinplot(x=stat_to_display, y=\"condition\", data=df,\n",
        "                    inner=None, color=\".8\")\n",
        "ax = sns.stripplot(x=stat_to_display, y=\"condition\", data=df)"
      ],
      "metadata": {
        "colab": {
          "base_uri": "https://localhost:8080/",
          "height": 280
        },
        "id": "SvGUGvsgmJGP",
        "outputId": "96192a36-311b-493f-bcd0-613901c5aff6"
      },
      "execution_count": null,
      "outputs": [
        {
          "output_type": "display_data",
          "data": {
            "text/plain": [
              "<Figure size 432x288 with 1 Axes>"
            ],
            "image/png": "[encoded data removed]"
          },
          "metadata": {
            "needs_background": "light"
          }
        }
      ]
    },
    {
      "cell_type": "code",
      "source": [
        "#cond: 0 = stick congruent; 1 = stick incongruent\n",
        "#      2 = avatar congruent; 3 = avatar incongruent\n",
        "\n",
        "#stats: 0 = reaction time mean loc; 1 = reaction time std loc;\n",
        "#       2 = reaction time mean stat; 3 = reaction time std stat;\n",
        "#       4 = accuracy location mean; 5 = accuracy location std; \n",
        "#       6 = accuracy status mean; 7 = accuracy status std;"
      ],
      "metadata": {
        "id": "7eNIBKHGZwEk"
      },
      "execution_count": null,
      "outputs": []
    },
    {
      "cell_type": "code",
      "source": [
        "val = np.array(sub2cond2stats)[:, 1, 0]\n",
        "plt.scatter(val, np.arange(len(subjects)))\n",
        "plt.show()"
      ],
      "metadata": {
        "colab": {
          "base_uri": "https://localhost:8080/",
          "height": 265
        },
        "id": "vUGS1oM2Oapq",
        "outputId": "f9ac222d-574d-4e02-ec8d-e4736518b254"
      },
      "execution_count": null,
      "outputs": [
        {
          "output_type": "display_data",
          "data": {
            "text/plain": [
              "<Figure size 432x288 with 1 Axes>"
            ],
            "image/png": "[encoded data removed]"
          },
          "metadata": {
            "needs_background": "light"
          }
        }
      ]
    },
    {
      "cell_type": "code",
      "source": [
        "#cond, stats\n",
        "val = np.array(sub2cond2stats)[:, 3, 6]\n",
        "\n",
        "plt.figure(figsize=[10,8])\n",
        "n, bins, patches = plt.hist(x=val, bins=20, color='#0504aa',alpha=0.7, rwidth=0.85)\n",
        "plt.grid(axis='y', alpha=0.75)\n",
        "plt.xlabel('Value',fontsize=15)\n",
        "plt.ylabel('Frequency',fontsize=15)\n",
        "plt.xticks(fontsize=15)\n",
        "plt.yticks(fontsize=15)\n",
        "plt.ylabel('Frequency',fontsize=15)\n",
        "#plt.title('Normal Distribution Histogram',fontsize=15)\n",
        "plt.show()"
      ],
      "metadata": {
        "colab": {
          "base_uri": "https://localhost:8080/",
          "height": 507
        },
        "id": "DkKVpSTrtRqL",
        "outputId": "b0e9c409-2b4a-4b48-8346-d81f80e283a7"
      },
      "execution_count": null,
      "outputs": [
        {
          "output_type": "display_data",
          "data": {
            "text/plain": [
              "<Figure size 720x576 with 1 Axes>"
            ],
            "image/png": "[encoded data removed]"
          },
          "metadata": {
            "needs_background": "light"
          }
        }
      ]
    },
    {
      "cell_type": "code",
      "source": [
        "import scipy.stats as stats\n",
        "\n",
        "fvalue, pvalue = stats.f_oneway(np.array(sub2cond2stats)[:, 0, 0], np.array(sub2cond2stats)[:, 1, 0]\\\n",
        "                                , np.array(sub2cond2stats)[:, 2, 0], np.array(sub2cond2stats)[:, 3, 0])\n",
        "print(fvalue, pvalue)"
      ],
      "metadata": {
        "colab": {
          "base_uri": "https://localhost:8080/"
        },
        "id": "4HNMyfIpLMGg",
        "outputId": "5d4e45b0-7cdb-4b5c-8a97-aa412a56de14"
      },
      "execution_count": null,
      "outputs": [
        {
          "output_type": "stream",
          "name": "stdout",
          "text": [
            "0.3142775789099056 0.8150467256132878\n"
          ]
        }
      ]
    },
    {
      "cell_type": "code",
      "source": [
        "reaction_time = mat['trialinfo'][:, 14] - mat['trialinfo'][:, 13] #status response time - status question\n",
        "print(np.mean(reaction_time))\n",
        "print(np.std(reaction_time))"
      ],
      "metadata": {
        "colab": {
          "base_uri": "https://localhost:8080/"
        },
        "id": "hC9p4_a3A1K-",
        "outputId": "54753f2b-c243-4681-d115-0a8784301349"
      },
      "execution_count": null,
      "outputs": [
        {
          "output_type": "stream",
          "name": "stdout",
          "text": [
            "595.2410714285714\n",
            "211.65868099775446\n"
          ]
        }
      ]
    },
    {
      "cell_type": "code",
      "source": [
        "loc_accuracy = mat['trialinfo'][:, 15] \n",
        "print(np.mean(loc_accuracy))\n",
        "print(np.std(loc_accuracy))"
      ],
      "metadata": {
        "colab": {
          "base_uri": "https://localhost:8080/"
        },
        "id": "4Ef_dw0cC_dQ",
        "outputId": "de9b16de-778b-4e01-c02d-27917821899c"
      },
      "execution_count": null,
      "outputs": [
        {
          "output_type": "stream",
          "name": "stdout",
          "text": [
            "0.9375\n",
            "0.24206145913796356\n"
          ]
        }
      ]
    },
    {
      "cell_type": "code",
      "source": [
        "status_accuracy = mat['trialinfo'][:, 16]\n",
        "print(np.mean(status_accuracy))\n",
        "print(np.std(status_accuracy))"
      ],
      "metadata": {
        "colab": {
          "base_uri": "https://localhost:8080/"
        },
        "id": "gdYSiQ70DGWe",
        "outputId": "669a2986-2e6c-498d-dd19-95415779cdd1"
      },
      "execution_count": null,
      "outputs": [
        {
          "output_type": "stream",
          "name": "stdout",
          "text": [
            "0.6741071428571429\n",
            "0.46870748106481347\n"
          ]
        }
      ]
    },
    {
      "cell_type": "code",
      "source": [
        "stats = [\"reaction_time_avg\", \"reaction_time_std\", \"loc_acc_avg\", \"loc_acc_std\",\\\n",
        "         \"status_acc_avg\", \"status_acc_std\"]\n",
        "subs = [[], [], [], [], [], []]\n",
        "\n",
        "stats2subs1 = dict(zip(stats, subs))\n",
        "stats2subs2 = dict(zip(stats, subs))\n",
        "stats2subs3 = dict(zip(stats, subs))\n",
        "stats2subs4 = dict(zip(stats, subs))\n",
        "\n",
        "cond2stats2sub = {'1': stats2subs1, \"2\": stats2subs2,  \n",
        "                  \"3\": stats2subs3, \"4\": stats2subs4}"
      ],
      "metadata": {
        "id": "CeHLCyDYR0SB"
      },
      "execution_count": null,
      "outputs": []
    }
  ]
}