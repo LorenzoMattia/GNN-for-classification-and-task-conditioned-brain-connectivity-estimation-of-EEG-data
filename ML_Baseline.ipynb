{
  "cells": [
    {
      "cell_type": "markdown",
      "metadata": {
        "id": "uCL_kEI5MaBQ"
      },
      "source": [
        "#**Drive mount**"
      ]
    },
    {
      "cell_type": "code",
      "execution_count": null,
      "metadata": {
        "colab": {
          "base_uri": "https://localhost:8080/"
        },
        "id": "VPcE5wbH8VwQ",
        "outputId": "dc28cbf5-3d7c-4647-dfb3-f92a175a340c"
      },
      "outputs": [
        {
          "output_type": "stream",
          "name": "stdout",
          "text": [
            "Mounted at /content/drive\n"
          ]
        }
      ],
      "source": [
        "from google.colab import drive\n",
        "import shutil\n",
        "drive.mount('/content/drive')"
      ]
    },
    {
      "cell_type": "code",
      "execution_count": null,
      "metadata": {
        "id": "A8np-oJYrXe2"
      },
      "outputs": [],
      "source": [
        "import numpy as np\n",
        "import scipy.io\n",
        "import pandas as pd\n",
        "import os\n",
        "import random\n",
        "import cv2\n",
        "from google.colab.patches import cv2_imshow\n",
        "import skimage\n",
        "import matplotlib.pyplot as plt\n",
        "import itertools\n",
        "import torch\n",
        "from torchvision.transforms import transforms\n",
        "from torch.utils.data import Dataset, DataLoader\n",
        "import torchvision.models as models\n",
        "from torch import nn\n",
        "from torch.nn import functional as F\n",
        "import torch.optim as optim\n",
        "from torch.optim.lr_scheduler import StepLR\n",
        "from torch.nn import Linear, ReLU, CrossEntropyLoss, Sequential, Conv2d, MaxPool2d, Module, Softmax, BatchNorm2d, Dropout\n",
        "from scipy import signal\n",
        "import matplotlib.pyplot as plt\n",
        "from sklearn import svm\n",
        "from sklearn.ensemble import RandomForestClassifier, GradientBoostingClassifier\n",
        "from sklearn import metrics\n",
        "import xgboost as xgb"
      ]
    },
    {
      "cell_type": "markdown",
      "metadata": {
        "id": "X_h5Hd-amVD2"
      },
      "source": [
        "##**Normalizzazione**"
      ]
    },
    {
      "cell_type": "code",
      "execution_count": null,
      "metadata": {
        "id": "vJncOOfxmVD4"
      },
      "outputs": [],
      "source": [
        "def _normalize_trial(trial):\n",
        "  trial_avg = np.mean(trial)\n",
        "  trial_std = np.std(trial)\n",
        "\n",
        "  trial = (trial - trial_avg)/trial_std\n",
        "  return trial"
      ]
    },
    {
      "cell_type": "markdown",
      "source": [
        "# **Splitting, Flatten and ML_Classification**"
      ],
      "metadata": {
        "id": "j6G9sdpWFW0p"
      }
    },
    {
      "cell_type": "code",
      "source": [
        "from sklearn.model_selection import train_test_split\n",
        "\n",
        "def split_subjs(trials, labels):\n",
        "    if labels[0] == 0 and labels[112] == 1:\n",
        "      #print('Sub Dispari')\n",
        "      NONSOCIAL_RANGE = range(0,112)\n",
        "      SOCIAL_RANGE = range(112,224)\n",
        "      TRAIN_RANGE_S = range(0,79)\n",
        "      TRAIN_RANGE_NONS = range(112,191)\n",
        "      TEST_RANGE_S = range(79,101)\n",
        "      TEST_RANGE_NONS = range(191,213)\n",
        "      VAL_RANGE_S = range(101,112)\n",
        "      VAL_RANGE_NONS = range(213,224)\n",
        "\n",
        "\n",
        "      nonsoc_trials = []\n",
        "      for nonsoc in NONSOCIAL_RANGE:\n",
        "        nonsoc_trials.append(trials[nonsoc])\n",
        "      seed = 42\n",
        "      random.seed(seed)\n",
        "      random.shuffle(nonsoc_trials)\n",
        "\n",
        "      soc_trials = []\n",
        "      for soc in SOCIAL_RANGE:\n",
        "        soc_trials.append(trials[soc])\n",
        "      seed = 42\n",
        "      random.seed(seed)\n",
        "      random.shuffle(soc_trials)\n",
        "\n",
        "      trials = nonsoc_trials + soc_trials\n",
        "\n",
        "      train_data = []\n",
        "      train_labels = []\n",
        "      for tns in TRAIN_RANGE_NONS:\n",
        "        train_data.append(trials[tns])\n",
        "        train_labels.append(labels[tns])\n",
        "      for ts in TRAIN_RANGE_S:\n",
        "        train_data.append(trials[ts])\n",
        "        train_labels.append(labels[ts])\n",
        "\n",
        "      test_data = []\n",
        "      test_labels = []\n",
        "      for tens in TEST_RANGE_NONS:\n",
        "        test_data.append(trials[tens])\n",
        "        test_labels.append(labels[tens])\n",
        "      for tes in TEST_RANGE_S:\n",
        "        test_data.append(trials[tes])\n",
        "        test_labels.append(labels[tes])\n",
        "\n",
        "      val_data = []\n",
        "      val_labels = []\n",
        "      for vns in VAL_RANGE_NONS:\n",
        "        val_data.append(trials[vns])\n",
        "        val_labels.append(labels[vns])\n",
        "      for vs in VAL_RANGE_S:\n",
        "        val_data.append(trials[vs])\n",
        "        val_labels.append(labels[vs])\n",
        "\n",
        "    # ----- PARI ---------\n",
        "\n",
        "    if labels[0] == 1 and labels[112] == 0:\n",
        "      #print('Sub Pari')\n",
        "      SOCIAL_RANGE = range(0,112)\n",
        "      NONSOCIAL_RANGE = range(112,224)\n",
        "\n",
        "      TRAIN_RANGE_S = range(0,79)\n",
        "      TRAIN_RANGE_NONS = range(112,191)\n",
        "\n",
        "      TEST_RANGE_S = range(79,101)\n",
        "      TEST_RANGE_NONS = range(191,213)\n",
        "\n",
        "      VAL_RANGE_S = range(101,112)\n",
        "      VAL_RANGE_NONS = range(213,224)\n",
        "\n",
        "\n",
        "      soc_trials = []\n",
        "      for soc in SOCIAL_RANGE:\n",
        "        soc_trials.append(trials[soc])\n",
        "      seed = 42\n",
        "      random.seed(seed)\n",
        "      random.shuffle(soc_trials)\n",
        "\n",
        "      nonsoc_trials = []\n",
        "      for nonsoc in NONSOCIAL_RANGE:\n",
        "        nonsoc_trials.append(trials[nonsoc])\n",
        "      seed = 42\n",
        "      random.seed(seed)\n",
        "      random.shuffle(nonsoc_trials)\n",
        "\n",
        "      trials = soc_trials + nonsoc_trials\n",
        "\n",
        "      train_data = []\n",
        "      train_labels = []\n",
        "\n",
        "      for ts in TRAIN_RANGE_S:\n",
        "        train_data.append(trials[ts])\n",
        "        train_labels.append(labels[ts])\n",
        "      for tns in TRAIN_RANGE_NONS:\n",
        "        train_data.append(trials[tns])\n",
        "        train_labels.append(labels[tns])\n",
        "\n",
        "      test_data = []\n",
        "      test_labels = []\n",
        "\n",
        "\n",
        "      for tes in TEST_RANGE_S:\n",
        "        test_data.append(trials[tes])\n",
        "        test_labels.append(labels[tes])\n",
        "      for tens in TEST_RANGE_NONS:\n",
        "        test_data.append(trials[tens])\n",
        "        test_labels.append(labels[tens])\n",
        "\n",
        "      val_data = []\n",
        "      val_labels = []\n",
        "\n",
        "\n",
        "      for vs in VAL_RANGE_S:\n",
        "        val_data.append(trials[vs])\n",
        "        val_labels.append(labels[vs])\n",
        "      for vns in VAL_RANGE_NONS:\n",
        "        val_data.append(trials[vns])\n",
        "        val_labels.append(labels[vns])\n",
        "\n",
        "    #print(f'Train Data Shape: ', np.shape(train_data))\n",
        "    #print(f'Test Data Shape: ', np.shape(test_data))\n",
        "    #print(f'Val Data Shape: ', np.shape(val_data))\n",
        "\n",
        "    return train_data,train_labels, test_data, test_labels, val_data, val_labels"
      ],
      "metadata": {
        "id": "wADm7wwbBS5E"
      },
      "execution_count": null,
      "outputs": []
    },
    {
      "cell_type": "markdown",
      "source": [
        "**Flatten per ML_Classifiers**\n",
        "\n",
        "\n"
      ],
      "metadata": {
        "id": "tkZ99tARx_vI"
      }
    },
    {
      "cell_type": "code",
      "source": [
        "def flatten(train_data, test_data, val_data):\n",
        "\n",
        "    train_data = np.array(train_data)\n",
        "    test_data = np.array(test_data)\n",
        "    val_data = np.array(val_data)\n",
        "\n",
        "    train_loop = range(0,158)\n",
        "    test_loop = range(0,44)\n",
        "    val_loop = range(0,22)\n",
        "\n",
        "    #print(f'TRAIN PRIMA: ', np.shape(train_data))\n",
        "    #print(f'TEST PRIMA: ', np.shape(test_data))\n",
        "    #print(f'VAL PRIMA: ', np.shape(val_data))\n",
        "\n",
        "    train_data_flatt = []\n",
        "    test_data_flat = []\n",
        "    test_data_flatt = []\n",
        "    val_data_flatt = []\n",
        "    \n",
        "\n",
        "    for t in train_loop:\n",
        "      train_data_flatt.append(train_data[t].flatten())\n",
        "\n",
        "    for te in test_loop:\n",
        "      test_data_flat.append(test_data[te].flatten())\n",
        "\n",
        "    for v in val_loop:\n",
        "      val_data_flatt.append(val_data[v].flatten())\n",
        "\n",
        "    test_data_flatt = test_data_flat + val_data_flatt\n",
        "\n",
        "\n",
        "    #print(f'TRAIN DOPO: ', np.shape(train_data_flatt))\n",
        "    #print(f'TEST DOPO: ', np.shape(test_data_flatt))\n",
        "    #print(f'VAL DOPO: ', np.shape(val_data_flatt))\n",
        "\n",
        "    return train_data_flatt, test_data_flatt, val_data_flatt\n",
        "\n"
      ],
      "metadata": {
        "id": "x_V0hwqFx-_l"
      },
      "execution_count": null,
      "outputs": []
    },
    {
      "cell_type": "code",
      "source": [
        "def ml_classification(train_data_flatt, train_labels, test_data_flatt):\n",
        "    # --SVM--\n",
        "    #Create a svm Classifier\n",
        "    svm_clf = svm.SVC(kernel='linear') # Linear Kernel\n",
        "\n",
        "    #Train the model using the training sets\n",
        "    svm_clf.fit(train_data_flatt, train_labels)\n",
        "\n",
        "    #Predict the response for test dataset\n",
        "    y_pred_svm = svm_clf.predict(test_data_flatt)\n",
        "\n",
        "    #SVM RBF\n",
        "    svm_clf = svm.SVC(kernel='rbf') # RBF Kernel\n",
        "\n",
        "    #Train the model using the training sets\n",
        "    svm_clf.fit(train_data_flatt, train_labels)\n",
        "\n",
        "    #Predict the response for test dataset\n",
        "    y_pred_svm_rbf = svm_clf.predict(test_data_flatt)\n",
        "\n",
        "    # --RandomForest--\n",
        "\n",
        "    rf_clf = RandomForestClassifier()\n",
        "\n",
        "    rf_clf.fit(train_data_flatt, train_labels)\n",
        "\n",
        "    y_pred_rf = rf_clf.predict(test_data_flatt)\n",
        "\n",
        "\n",
        "    print('SVM of ' + s + ': ', metrics.accuracy_score(test_labels, y_pred_svm))\n",
        "    print('SVM rbf of ' + s + ': ', metrics.accuracy_score(test_labels, y_pred_svm_rbf))\n",
        "    print('RandomForest of ' + s + ': ', metrics.accuracy_score(test_labels, y_pred_rf))\n",
        "    print('---------------------------------------------------------------')\n",
        "\n",
        "    return metrics.accuracy_score(test_labels, y_pred_svm), metrics.accuracy_score(test_labels, y_pred_svm_rbf), metrics.accuracy_score(test_labels, y_pred_rf)"
      ],
      "metadata": {
        "id": "2fGb30fArSxw"
      },
      "execution_count": null,
      "outputs": []
    },
    {
      "cell_type": "markdown",
      "source": [
        "#**All Subjs**"
      ],
      "metadata": {
        "id": "BAJXm9KpFfps"
      }
    },
    {
      "cell_type": "code",
      "execution_count": null,
      "metadata": {
        "id": "KhLUp9uslm0q"
      },
      "outputs": [],
      "source": [
        "SUBJECTS_FOLDER = '/content/drive/MyDrive/Social memory cuing full dataset/derivatives/EEGPreprocessedDataTableStudy'\n",
        "SINGLE_SUBJECT = os.path.join(SUBJECTS_FOLDER, \"sub-10/ProcessedData/data_ica.mat\")\n",
        "SUBJECTS = [ name for name in os.listdir(SUBJECTS_FOLDER) if os.path.isdir(os.path.join(SUBJECTS_FOLDER, name)) ]\n",
        "SUBJECTS.sort()\n",
        "DATA = \"ProcessedData/data_ica.mat\""
      ]
    },
    {
      "cell_type": "code",
      "source": [
        "NUM_CHANNELS = 29\n",
        "NUM_TRIAL = 224\n",
        "TRIAL_RANGE = range(0, 224)\n",
        "cueing_fase = range(1250,1750)\n",
        "\n",
        "svm_acc_sum, svm_rbf_acc_sum, rf_acc_sum = 0, 0, 0\n",
        "svm_accs, svm_rbf_accs, rf_accs = [], [], []\n",
        "\n",
        "for s in SUBJECTS:\n",
        "  if s == 'sub-02' or s == 'sub-07' or s == 'sub-36':\n",
        "    continue\n",
        "  else:\n",
        "    curr_subj = (SUBJECTS_FOLDER + '/' + s + \"/ProcessedData/data_ica.mat\")\n",
        "    mat = scipy.io.loadmat(curr_subj)\n",
        "    trial = mat['trial']\n",
        "    trialinfo = mat['trialinfo']\n",
        "    trial = np.transpose(np.squeeze(trial))\n",
        "    trials = []\n",
        "    labels = []\n",
        "    trials_norm = []\n",
        "    for i, t in enumerate(trial):\n",
        "      trials.append(t[ :NUM_CHANNELS, cueing_fase])\n",
        "      labels.append(trialinfo[i, 5]-1)\n",
        "\n",
        "    trials = list(signal.decimate(np.transpose(trials, [0, 2, 1]), 4, axis = 1))\n",
        "\n",
        "    #for tr in TRIAL_RANGE:\n",
        "      #trials_norm.append(_normalize_trial(trials[tr]))\n",
        "\n",
        "    train_data, train_labels, test_data, test_labels, val_data, val_labels = split_subjs(trials, labels)\n",
        "    test_labels = test_labels + val_labels\n",
        "\n",
        "    train_data_flatt, test_data_flatt, val_data_flatt = flatten(train_data, test_data, val_data)\n",
        "    svm_acc, svm_rbf_acc, rf_acc = ml_classification(train_data_flatt, train_labels, test_data_flatt)\n",
        "    svm_acc_sum += svm_acc\n",
        "    svm_rbf_acc_sum += svm_rbf_acc\n",
        "    rf_acc_sum += rf_acc\n",
        "\n",
        "    svm_accs.append(svm_acc)\n",
        "    svm_rbf_accs.append(svm_rbf_acc)\n",
        "    rf_accs.append(rf_acc)\n",
        "\n",
        "print(\"Avg svm accuracy: \" + str(svm_acc_sum/44))\n",
        "print(\"RF accuracy: \" + str(rf_acc_sum/44))\n",
        "print(\"Avg rbf svm accuracy: \" + str(svm_rbf_acc_sum/44))"
      ],
      "metadata": {
        "id": "I0F2aecQCh5U",
        "colab": {
          "base_uri": "https://localhost:8080/"
        },
        "outputId": "08bae116-0832-4d5c-aa30-7b8b671ea423"
      },
      "execution_count": null,
      "outputs": [
        {
          "output_type": "stream",
          "name": "stdout",
          "text": [
            "SVM of sub-01:  0.5454545454545454\n",
            "SVM rbf of sub-01:  0.5757575757575758\n",
            "RandomForest of sub-01:  0.6060606060606061\n",
            "---------------------------------------------------------------\n",
            "SVM of sub-03:  0.5454545454545454\n",
            "SVM rbf of sub-03:  0.5606060606060606\n",
            "RandomForest of sub-03:  0.5606060606060606\n",
            "---------------------------------------------------------------\n",
            "SVM of sub-04:  0.6666666666666666\n",
            "SVM rbf of sub-04:  0.7424242424242424\n",
            "RandomForest of sub-04:  0.7272727272727273\n",
            "---------------------------------------------------------------\n",
            "SVM of sub-05:  0.6060606060606061\n",
            "SVM rbf of sub-05:  0.696969696969697\n",
            "RandomForest of sub-05:  0.7878787878787878\n",
            "---------------------------------------------------------------\n",
            "SVM of sub-06:  0.45454545454545453\n",
            "SVM rbf of sub-06:  0.7878787878787878\n",
            "RandomForest of sub-06:  0.803030303030303\n",
            "---------------------------------------------------------------\n",
            "SVM of sub-09:  0.6212121212121212\n",
            "SVM rbf of sub-09:  0.6515151515151515\n",
            "RandomForest of sub-09:  0.6212121212121212\n",
            "---------------------------------------------------------------\n",
            "SVM of sub-10:  0.6666666666666666\n",
            "SVM rbf of sub-10:  0.7878787878787878\n",
            "RandomForest of sub-10:  0.803030303030303\n",
            "---------------------------------------------------------------\n",
            "SVM of sub-11:  0.5606060606060606\n",
            "SVM rbf of sub-11:  0.6363636363636364\n",
            "RandomForest of sub-11:  0.6212121212121212\n",
            "---------------------------------------------------------------\n",
            "SVM of sub-12:  0.5757575757575758\n",
            "SVM rbf of sub-12:  0.7575757575757576\n",
            "RandomForest of sub-12:  0.7424242424242424\n",
            "---------------------------------------------------------------\n",
            "SVM of sub-13:  0.5606060606060606\n",
            "SVM rbf of sub-13:  0.696969696969697\n",
            "RandomForest of sub-13:  0.6666666666666666\n",
            "---------------------------------------------------------------\n",
            "SVM of sub-14:  0.7121212121212122\n",
            "SVM rbf of sub-14:  0.6818181818181818\n",
            "RandomForest of sub-14:  0.7121212121212122\n",
            "---------------------------------------------------------------\n",
            "SVM of sub-15:  0.6515151515151515\n",
            "SVM rbf of sub-15:  0.6818181818181818\n",
            "RandomForest of sub-15:  0.7121212121212122\n",
            "---------------------------------------------------------------\n",
            "SVM of sub-16:  0.6212121212121212\n",
            "SVM rbf of sub-16:  0.5454545454545454\n",
            "RandomForest of sub-16:  0.6515151515151515\n",
            "---------------------------------------------------------------\n",
            "SVM of sub-17:  0.5757575757575758\n",
            "SVM rbf of sub-17:  0.6212121212121212\n",
            "RandomForest of sub-17:  0.6666666666666666\n",
            "---------------------------------------------------------------\n",
            "SVM of sub-18:  0.5606060606060606\n",
            "SVM rbf of sub-18:  0.48484848484848486\n",
            "RandomForest of sub-18:  0.6515151515151515\n",
            "---------------------------------------------------------------\n",
            "SVM of sub-19:  0.6666666666666666\n",
            "SVM rbf of sub-19:  0.7121212121212122\n",
            "RandomForest of sub-19:  0.7272727272727273\n",
            "---------------------------------------------------------------\n",
            "SVM of sub-20:  0.5\n",
            "SVM rbf of sub-20:  0.5303030303030303\n",
            "RandomForest of sub-20:  0.8333333333333334\n",
            "---------------------------------------------------------------\n",
            "SVM of sub-21:  0.7878787878787878\n",
            "SVM rbf of sub-21:  0.7424242424242424\n",
            "RandomForest of sub-21:  0.6666666666666666\n",
            "---------------------------------------------------------------\n",
            "SVM of sub-22:  0.5\n",
            "SVM rbf of sub-22:  0.6666666666666666\n",
            "RandomForest of sub-22:  0.7121212121212122\n",
            "---------------------------------------------------------------\n",
            "SVM of sub-23:  0.6363636363636364\n",
            "SVM rbf of sub-23:  0.6212121212121212\n",
            "RandomForest of sub-23:  0.6666666666666666\n",
            "---------------------------------------------------------------\n",
            "SVM of sub-24:  0.6060606060606061\n",
            "SVM rbf of sub-24:  0.5\n",
            "RandomForest of sub-24:  0.7272727272727273\n",
            "---------------------------------------------------------------\n",
            "SVM of sub-25:  0.5909090909090909\n",
            "SVM rbf of sub-25:  0.6363636363636364\n",
            "RandomForest of sub-25:  0.5909090909090909\n",
            "---------------------------------------------------------------\n",
            "SVM of sub-26:  0.5606060606060606\n",
            "SVM rbf of sub-26:  0.5303030303030303\n",
            "RandomForest of sub-26:  0.5606060606060606\n",
            "---------------------------------------------------------------\n",
            "SVM of sub-27:  0.5303030303030303\n",
            "SVM rbf of sub-27:  0.696969696969697\n",
            "RandomForest of sub-27:  0.696969696969697\n",
            "---------------------------------------------------------------\n",
            "SVM of sub-28:  0.48484848484848486\n",
            "SVM rbf of sub-28:  0.6818181818181818\n",
            "RandomForest of sub-28:  0.8181818181818182\n",
            "---------------------------------------------------------------\n",
            "SVM of sub-29:  0.5757575757575758\n",
            "SVM rbf of sub-29:  0.5757575757575758\n",
            "RandomForest of sub-29:  0.5909090909090909\n",
            "---------------------------------------------------------------\n",
            "SVM of sub-30:  0.7272727272727273\n",
            "SVM rbf of sub-30:  0.6818181818181818\n",
            "RandomForest of sub-30:  0.6818181818181818\n",
            "---------------------------------------------------------------\n",
            "SVM of sub-31:  0.5757575757575758\n",
            "SVM rbf of sub-31:  0.6515151515151515\n",
            "RandomForest of sub-31:  0.696969696969697\n",
            "---------------------------------------------------------------\n",
            "SVM of sub-32:  0.6060606060606061\n",
            "SVM rbf of sub-32:  0.6515151515151515\n",
            "RandomForest of sub-32:  0.6818181818181818\n",
            "---------------------------------------------------------------\n",
            "SVM of sub-33:  0.6212121212121212\n",
            "SVM rbf of sub-33:  0.5757575757575758\n",
            "RandomForest of sub-33:  0.5909090909090909\n",
            "---------------------------------------------------------------\n",
            "SVM of sub-34:  0.6818181818181818\n",
            "SVM rbf of sub-34:  0.5454545454545454\n",
            "RandomForest of sub-34:  0.5909090909090909\n",
            "---------------------------------------------------------------\n",
            "SVM of sub-35:  0.6515151515151515\n",
            "SVM rbf of sub-35:  0.803030303030303\n",
            "RandomForest of sub-35:  0.7727272727272727\n",
            "---------------------------------------------------------------\n",
            "SVM of sub-37:  0.5454545454545454\n",
            "SVM rbf of sub-37:  0.6818181818181818\n",
            "RandomForest of sub-37:  0.6515151515151515\n",
            "---------------------------------------------------------------\n",
            "SVM of sub-38:  0.6818181818181818\n",
            "SVM rbf of sub-38:  0.6363636363636364\n",
            "RandomForest of sub-38:  0.5606060606060606\n",
            "---------------------------------------------------------------\n",
            "SVM of sub-39:  0.5757575757575758\n",
            "SVM rbf of sub-39:  0.6666666666666666\n",
            "RandomForest of sub-39:  0.6363636363636364\n",
            "---------------------------------------------------------------\n",
            "SVM of sub-40:  0.5757575757575758\n",
            "SVM rbf of sub-40:  0.5909090909090909\n",
            "RandomForest of sub-40:  0.6060606060606061\n",
            "---------------------------------------------------------------\n",
            "SVM of sub-41:  0.5151515151515151\n",
            "SVM rbf of sub-41:  0.5606060606060606\n",
            "RandomForest of sub-41:  0.5303030303030303\n",
            "---------------------------------------------------------------\n",
            "SVM of sub-43:  0.6363636363636364\n",
            "SVM rbf of sub-43:  0.7424242424242424\n",
            "RandomForest of sub-43:  0.7424242424242424\n",
            "---------------------------------------------------------------\n",
            "SVM of sub-44:  0.48484848484848486\n",
            "SVM rbf of sub-44:  0.5909090909090909\n",
            "RandomForest of sub-44:  0.6666666666666666\n",
            "---------------------------------------------------------------\n",
            "SVM of sub-45:  0.5\n",
            "SVM rbf of sub-45:  0.5151515151515151\n",
            "RandomForest of sub-45:  0.6212121212121212\n",
            "---------------------------------------------------------------\n",
            "SVM of sub-46:  0.7121212121212122\n",
            "SVM rbf of sub-46:  0.6515151515151515\n",
            "RandomForest of sub-46:  0.7121212121212122\n",
            "---------------------------------------------------------------\n",
            "SVM of sub-48:  0.6515151515151515\n",
            "SVM rbf of sub-48:  0.6515151515151515\n",
            "RandomForest of sub-48:  0.6363636363636364\n",
            "---------------------------------------------------------------\n",
            "SVM of sub-49:  0.5303030303030303\n",
            "SVM rbf of sub-49:  0.5454545454545454\n",
            "RandomForest of sub-49:  0.5303030303030303\n",
            "---------------------------------------------------------------\n",
            "SVM of sub-50:  0.6060606060606061\n",
            "SVM rbf of sub-50:  0.5303030303030303\n",
            "RandomForest of sub-50:  0.6666666666666666\n",
            "---------------------------------------------------------------\n",
            "Avg svm accuracy: 0.5964187327823691\n",
            "RF svm accuracy: 0.6704545454545454\n"
          ]
        }
      ]
    },
    {
      "cell_type": "code",
      "source": [
        "import matplotlib.pyplot as plt\n",
        "import math \n",
        "fig, ax = plt.subplots()\n",
        "fig.set_size_inches(10, 7)\n",
        "ax.bar(['Graph-SAGE', 'GCN', 'GIN', 'SVM linear', 'Random Forest'], [0.843, 0.836, 0.821, 0.814, 0.786])\n",
        "ax.set_ylim([0.75, 0.85])\n",
        "ax.set_ylabel(\"Accuracy\")\n",
        "plt.show()"
      ],
      "metadata": {
        "id": "BkE2FVg5UGnW"
      },
      "execution_count": null,
      "outputs": []
    },
    {
      "cell_type": "code",
      "source": [
        "import matplotlib.pyplot as plt\n",
        "fig, ax = plt.subplots()\n",
        "#fig.set_size_inches(10, 7)\n",
        "ax.set_ylim([0.60, 0.85])\n",
        "#ax.bar(['Graph-SAGE', 'GCN', 'GCN*'], [0.846, 0.836, 0.781]) #pearson\n",
        "ax.bar(['SVM linear', 'SVM rbf', 'Random Forest'], [0.814, 0.674, 0.786]) #raw\n",
        "#ax.bar(['SVM linear', 'SVM rbf', 'Random Forest'], [0.70, 0.63, 0.647]) #plv = [0.70, 0.63, 0.647]\n",
        "#ax.set_title(\"ML methods accuracies given PLV based features\")\n",
        "ax.set_ylabel(\"Accuracy\")\n",
        "plt.show()"
      ],
      "metadata": {
        "colab": {
          "base_uri": "https://localhost:8080/",
          "height": 269
        },
        "id": "or4qzYROC1TY",
        "outputId": "650792be-e930-4ec9-ae89-1e086225dc4b"
      },
      "execution_count": null,
      "outputs": [
        {
          "output_type": "display_data",
          "data": {
            "text/plain": [
              "<Figure size 432x288 with 1 Axes>"
            ],
            "image/png": "[encoded data removed]"
          },
          "metadata": {
            "needs_background": "light"
          }
        }
      ]
    },
    {
      "cell_type": "code",
      "source": [
        "import matplotlib.pyplot as plt\n",
        "import numpy as np\n",
        "\n",
        "\n",
        "labels = ['SVM linear', 'SVM rbf', 'Random Forest']\n",
        "raw = [0.596, 0.639, 0.67]\n",
        "pearson = [0.814, 0.674, 0.786]\n",
        "plv = [0.70, 0.63, 0.647]\n",
        "\n",
        "x = np.arange(len(labels))  # the label locations\n",
        "width = 0.27  # the width of the bars\n",
        "\n",
        "fig, ax = plt.subplots()\n",
        "fig.set_size_inches(10, 7)\n",
        "rects1 = ax.bar(x, raw, width, label='Raw signals')\n",
        "rects2 = ax.bar(x + width, pearson, width, label='Pearson features')\n",
        "rects3 = ax.bar(x - width, plv, width, label='PLV features')\n",
        "\n",
        "# Add some text for labels, title and custom x-axis tick labels, etc.\n",
        "ax.set_ylabel('Accuracy')\n",
        "#ax.set_title('ML methods accuracies comparison PLV-Pearson features')\n",
        "ax.set_xticks(x)\n",
        "ax.set_ylim(0.45, 0.85)\n",
        "ax.set_xticklabels(labels)\n",
        "ax.legend()\n",
        "\n",
        "#fig.tight_layout()\n",
        "\n",
        "plt.show()"
      ],
      "metadata": {
        "colab": {
          "base_uri": "https://localhost:8080/",
          "height": 432
        },
        "id": "0BBix-45GXGf",
        "outputId": "55cd4c2d-bd83-410c-a7e0-9767f2885c23"
      },
      "execution_count": null,
      "outputs": [
        {
          "output_type": "display_data",
          "data": {
            "text/plain": [
              "<Figure size 720x504 with 1 Axes>"
            ],
            "image/png": "[encoded data removed]"
          },
          "metadata": {
            "needs_background": "light"
          }
        }
      ]
    }
  ],
  "metadata": {
    "colab": {
      "provenance": []
    },
    "kernelspec": {
      "display_name": "Python 3",
      "name": "python3"
    },
    "language_info": {
      "name": "python"
    }
  },
  "nbformat": 4,
  "nbformat_minor": 0
}